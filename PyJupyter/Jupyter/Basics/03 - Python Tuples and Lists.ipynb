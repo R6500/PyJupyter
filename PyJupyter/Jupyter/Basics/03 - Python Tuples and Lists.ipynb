{
 "cells": [
  {
   "cell_type": "markdown",
   "metadata": {},
   "source": [
    "# <img style=\"float: right;\"  src=\"images/jp.png\" width=\"200\">\n",
    "\n",
    "# Python Tuples and Lists\n",
    "\n",
    "Version 1.0 (12/4/2019)  \n",
    "License information is at the end of the document\n",
    "\n",
    "---\n",
    "\n",
    "This document describes the **Tuples** and **Lists**, two generic **sequence** objects. \n",
    "\n",
    "Feel free to **modify them** to experiment with the code.\n",
    "\n",
    "There is also a [Sandbox](#sandbox) at the end of this document so that you can test your own code whatever it is.  "
   ]
  },
  {
   "cell_type": "markdown",
   "metadata": {},
   "source": [
    "## Sequences\n",
    "\n",
    "**Sequences** are **Python objects** that contain ordered objects sequenced by non negative numbers.\n",
    "\n",
    "We have seen some examples of sequences like **strings**, **bytes** or **bytearrays**. In all of them you can access an object by its position in the set."
   ]
  },
  {
   "cell_type": "code",
   "execution_count": null,
   "metadata": {},
   "outputs": [],
   "source": [
    "a = 'This is a string'\n",
    "print('a[3] =',a[3])"
   ]
  },
  {
   "cell_type": "code",
   "execution_count": null,
   "metadata": {},
   "outputs": [],
   "source": [
    "a = b'This is a bytes object'\n",
    "print('a[6] =',a[6])"
   ]
  },
  {
   "cell_type": "markdown",
   "metadata": {},
   "source": [
    "In the case of the **bytearray** as it is **mutable** you can also change its content by its position."
   ]
  },
  {
   "cell_type": "code",
   "execution_count": null,
   "metadata": {},
   "outputs": [],
   "source": [
    "a = bytearray(b'This is a bytearray object')\n",
    "print('a[10] =',a[10])\n",
    "a[10] = 66\n",
    "print(a)\n",
    "print('a[10] =',a[10])"
   ]
  },
  {
   "cell_type": "markdown",
   "metadata": {},
   "source": [
    "## Tuples\n",
    "\n",
    "A **tuple** is an **immutable** ordered set that can contain any **Python** object. You typically use the `( )` delimiters to define **tuples**."
   ]
  },
  {
   "cell_type": "code",
   "execution_count": null,
   "metadata": {},
   "outputs": [],
   "source": [
    "a = (1,7.4,'Text')\n",
    "print(a[0])\n",
    "print(a[1])\n",
    "print(a[2])"
   ]
  },
  {
   "cell_type": "markdown",
   "metadata": {},
   "source": [
    "As tuples are **immutable** you cannot change its contents."
   ]
  },
  {
   "cell_type": "code",
   "execution_count": null,
   "metadata": {},
   "outputs": [],
   "source": [
    "a[0] = 2"
   ]
  },
  {
   "cell_type": "markdown",
   "metadata": {},
   "source": [
    "As with other **sequences** you can use the `+` operator to concatenate **tupes**. This just generates new objects.  \n",
    "You can also multiply `*` by an integer to repeat the contents."
   ]
  },
  {
   "cell_type": "code",
   "execution_count": null,
   "metadata": {},
   "outputs": [],
   "source": [
    "a = (1,9.6,7)\n",
    "b = ('Text',4)\n",
    "print(a+b)\n",
    "print(a*4)"
   ]
  },
  {
   "cell_type": "markdown",
   "metadata": {},
   "source": [
    "**Tuples** can contain any object, so they can also contain other **Tuples**. Also, as all **sequences** they admit the **len** function to know how many objects it contain."
   ]
  },
  {
   "cell_type": "code",
   "execution_count": null,
   "metadata": {},
   "outputs": [],
   "source": [
    "a = ((1,2,3),4,(5,6))\n",
    "print(len(a))\n",
    "print(a[2])\n",
    "print(a[2][1])"
   ]
  },
  {
   "cell_type": "markdown",
   "metadata": {},
   "source": [
    "## List\n",
    "\n",
    "A **list** is a **mutable** ordered set that can contain any **Python** object. You typically use the `[ ]` delimiters to define **lists**. Note that **lists** are just like **tuples** but **mutables**.\n",
    "\n",
    "As they are mutable, you can change its contents."
   ]
  },
  {
   "cell_type": "code",
   "execution_count": null,
   "metadata": {},
   "outputs": [],
   "source": [
    "a = [[1,2,3],4,[5,6]]\n",
    "print(len(a))\n",
    "print(a[2])\n",
    "\n",
    "a[2] = 'Text'\n",
    "a[0][0] = 20\n",
    "print(a)"
   ]
  },
  {
   "cell_type": "markdown",
   "metadata": {},
   "source": [
    "**Lists**  and **Tuples** can contain any object so you can mix them.\n",
    "\n",
    "Note that you cannot change **Tuples**, but tuples just contain **references** to other objects, so you can change those objects if they are mutable. See that in the example below, you are not changing a **tuple** but a **list**."
   ]
  },
  {
   "cell_type": "code",
   "execution_count": null,
   "metadata": {},
   "outputs": [],
   "source": [
    "a = [1,(2,3,[4,5,6])]\n",
    "a[1][2][0] = 7\n",
    "print(a)"
   ]
  },
  {
   "cell_type": "markdown",
   "metadata": {},
   "source": [
    "Off course, you cannot change a **tuple** contained in a **list**"
   ]
  },
  {
   "cell_type": "code",
   "execution_count": null,
   "metadata": {},
   "outputs": [],
   "source": [
    "a[1][0] = 10"
   ]
  },
  {
   "cell_type": "markdown",
   "metadata": {},
   "source": [
    "<a id='sandbox'></a>\n",
    "\n",
    "## Sandbox\n",
    "\n",
    "This last section of this document is a sandbox, you can write any code you please in the box below and see what it does when you execute the **run** command."
   ]
  },
  {
   "cell_type": "code",
   "execution_count": null,
   "metadata": {},
   "outputs": [],
   "source": [
    "# Sandbox code"
   ]
  },
  {
   "cell_type": "markdown",
   "metadata": {},
   "source": [
    "## Document license\n",
    "\n",
    "Copyright  ©  Vicente Jiménez (2019)  \n",
    "This work is licensed under a Creative Common Attribution-ShareAlike 4.0 International license.   \n",
    "This license is available at http://creativecommons.org/licenses/by-sa/4.0/\n",
    "\n",
    "<img  src=\"images/cc_sa.png\" width=\"200\">"
   ]
  },
  {
   "cell_type": "code",
   "execution_count": null,
   "metadata": {},
   "outputs": [],
   "source": []
  }
 ],
 "metadata": {
  "kernelspec": {
   "display_name": "Python 3",
   "language": "python",
   "name": "python3"
  },
  "language_info": {
   "codemirror_mode": {
    "name": "ipython",
    "version": 3
   },
   "file_extension": ".py",
   "mimetype": "text/x-python",
   "name": "python",
   "nbconvert_exporter": "python",
   "pygments_lexer": "ipython3",
   "version": "3.7.1"
  }
 },
 "nbformat": 4,
 "nbformat_minor": 2
}
