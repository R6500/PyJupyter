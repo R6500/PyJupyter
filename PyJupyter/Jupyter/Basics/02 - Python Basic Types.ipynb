{
 "cells": [
  {
   "cell_type": "markdown",
   "metadata": {},
   "source": [
    "# <img style=\"float: right;\"  src=\"images/jp.png\" width=\"200\">\n",
    "\n",
    "# Python Basic Types\n",
    "\n",
    "Version 1.0 (12/4/2019)  \n",
    "License information is at the end of the document\n",
    "\n",
    "---\n",
    "\n",
    "This document describes the basic python data types:\n",
    "\n",
    "* integers\n",
    "* float numbers\n",
    "* strings and rawStrings\n",
    "\n",
    "This document contain several **code cells** execute them as you find them when reading the document.   \n",
    "Feel free to **modify them** to experiment with the code.\n",
    "\n",
    "There is also a [Sandbox](#sandbox) at the end of this document so that you can test your own code whatever it is.  "
   ]
  },
  {
   "cell_type": "markdown",
   "metadata": {},
   "source": [
    "## Python Comments\n",
    "\n",
    "Before dealing with **types** it is important to explain that **Comments** in **Python** start with the `#` symbol and end at the end of the line.  \n",
    "In the code examples below you will find a lot of comments."
   ]
  },
  {
   "cell_type": "markdown",
   "metadata": {},
   "source": [
    "## Python Objects\n",
    "\n",
    "Python is an **object** oriented languaje. Python **variables** just point to objects. There are two kind of objects:\n",
    "\n",
    "* immutable objects\n",
    "* mutable objects\n",
    "\n",
    "**Immutable objects** are objects that cannot be modified. Most of objects described in this document are **immutable**. **Mutable** objects are objects that can be modified. This has important consequences in **Python coding** as we will see later.\n",
    "\n",
    "In python you use the `=` sign to assign one object to a variable. The variable has no type in itself, only the object has a datatype."
   ]
  },
  {
   "cell_type": "code",
   "execution_count": null,
   "metadata": {},
   "outputs": [],
   "source": [
    "a = 1            # Create an 'a' variable and assign the '1' integer object to it\n",
    "print(a)         # Show the contents of the variable 'a'\n",
    "print(type(a))   # Show the type associated to the contents of the variable 'a'"
   ]
  },
  {
   "cell_type": "code",
   "execution_count": null,
   "metadata": {},
   "outputs": [],
   "source": [
    "a = 4.5          # We associate now the 'a' variable to a floating point object\n",
    "                 # As the '1' object is not pointed to any variable, it dissapears from memory\n",
    "    \n",
    "print(a)         # Show the contents of the variable 'a'\n",
    "print(type(a))   # Show the type associated to the contents of the variable 'a'   "
   ]
  },
  {
   "cell_type": "markdown",
   "metadata": {},
   "source": [
    "It is very important to remember that, in Python, **variables point to objects**. They are **links**, they don't contain anything. And they don't have any particular **type**. This is commonly associated to [Duck Typing](https://en.wikipedia.org/wiki/Duck_typing):\n",
    "\n",
    "$\\qquad \\text{\"If it walks like a duck and it quacks like a duck, then it must be a duck\"}$"
   ]
  },
  {
   "cell_type": "markdown",
   "metadata": {},
   "source": [
    "## Integer Objects\n",
    "\n",
    "Integer objects are objects that represent integer numbers like 1, 4 or 7689.  \n",
    "You don't need to define the number of bits of the integer number, **Python** assigns the number of needed bits so you can always represent integer numbers as bigs as you please.\n",
    "\n",
    "The following code cell, don't need to understand it now, computes factorials from $1!$ to $30!$ as you can see, you never get an [overflow](https://en.wikipedia.org/wiki/Integer_overflow)."
   ]
  },
  {
   "cell_type": "code",
   "execution_count": null,
   "metadata": {},
   "outputs": [],
   "source": [
    "# Factorials example\n",
    "fact = 1                      # Set fact to 1\n",
    "for i in range(1,31):         # Loop trough all numbers from 1 to 30\n",
    "    fact = fact*i             # Compute factorial\n",
    "    print(str(i)+'! =',fact)  # Show factorial "
   ]
  },
  {
   "cell_type": "markdown",
   "metadata": {},
   "source": [
    "You can use the normal integer operators in Python:"
   ]
  },
  {
   "cell_type": "code",
   "execution_count": null,
   "metadata": {},
   "outputs": [],
   "source": [
    "print('1 + 2 =',1+2)   # Add\n",
    "print('4 - 2 =',4-2)   # Substract\n",
    "print('5 * 4 =',5*4)   # Multiplication\n",
    "print('8 / 2 =',8/2)   # Division"
   ]
  },
  {
   "cell_type": "markdown",
   "metadata": {},
   "source": [
    "In **Python 2.x** the division of two integers always return an integer discarding the remainder. In **Python 3.x**, we get the true division. That means that the division of two integer can be a non integer type.  \n",
    "If you want the integer division you need to use the special `//` operator.  \n",
    "Also you can use the modulo `%` operator to get the remainder."
   ]
  },
  {
   "cell_type": "code",
   "execution_count": null,
   "metadata": {},
   "outputs": [],
   "source": [
    "print('7 / 3 =',7/3)     # True division\n",
    "print('7 // 3 =',7//3)   # Integer division\n",
    "print('7 % 3 =',7%3)     # Remainder"
   ]
  },
  {
   "cell_type": "markdown",
   "metadata": {},
   "source": [
    "## Float Objects\n",
    "\n",
    "Float numbers are usually coded on the [IEEE-754](https://en.wikipedia.org/wiki/IEEE_754) double precision standard. They represent numbers with a mantisa and an exponent. Due to representation limitations, they are all rational numbers as they shall have a finite number of digits.\n",
    "\n",
    "There is support for [rational numbers](https://docs.python.org/2/library/fractions.html) in Python but not with the standard data types."
   ]
  },
  {
   "cell_type": "code",
   "execution_count": null,
   "metadata": {},
   "outputs": [],
   "source": [
    "a = 7.45         # Set a value\n",
    "print(a)         # Show the contents of the variable 'a'\n",
    "print(type(a))   # Show the type associated to the contents of the variable 'a'  "
   ]
  },
  {
   "cell_type": "markdown",
   "metadata": {},
   "source": [
    "You can use the normal operations in Pythons just like with integer numbers:"
   ]
  },
  {
   "cell_type": "code",
   "execution_count": null,
   "metadata": {},
   "outputs": [],
   "source": [
    "print('1.5 + 2.3 =',1.5+2.3)   # Add\n",
    "print('4.5 - 1.2 =',4.5-1.2)   # Substract\n",
    "print('5.7 * 4.1 =',5.7*4.1)   # Multiplication\n",
    "print('8.8 / 2.2 =',8.8/2.2)   # Division"
   ]
  },
  {
   "cell_type": "markdown",
   "metadata": {},
   "source": [
    "Observe that, although the last division gives an integer number, Python still generates a **float class type**. Operations that use one **float** always return a **float** execept for cases that always return integers.\n",
    "\n",
    "You can use libraries like [math](https://docs.python.org/3/library/math.html) or [numpy](https://www.numpy.org/) to manipulate float numbers."
   ]
  },
  {
   "cell_type": "code",
   "execution_count": null,
   "metadata": {},
   "outputs": [],
   "source": [
    "import numpy as np   # Import the numpy module\n",
    "import math          # Import the math module  \n",
    "\n",
    "print(np.exp(1))     # Calculate e^1\n",
    "print(math.exp(1))   # Calculate e^1\n",
    "\n",
    "print(np.sqrt(2))    # Calculate the square root of 2\n",
    "print(math.sqrt(2))  # Calculate the square root of 2\n",
    "\n",
    "a = math.sqrt(2)     # Store the square root of 2\n",
    "print(math.floor(a)) # Calculate its floor\n",
    "print(math.ceil(a))  # Calculate its ceil"
   ]
  },
  {
   "cell_type": "markdown",
   "metadata": {},
   "source": [
    "As you can see we can use the **numpy** and **math** modules to do the same things. It is quite usual in **Python** to have many ways to skin a cat."
   ]
  },
  {
   "cell_type": "markdown",
   "metadata": {},
   "source": [
    "## Boolean Objects\n",
    "\n",
    "Boolean objects can be used to define [boolean values](https://en.wikipedia.org/wiki/Boolean_data_type)."
   ]
  },
  {
   "cell_type": "code",
   "execution_count": null,
   "metadata": {},
   "outputs": [],
   "source": [
    "a = True\n",
    "print(a)\n",
    "print(type(a))\n",
    "a = False\n",
    "print(a)\n",
    "print(type(a))"
   ]
  },
  {
   "cell_type": "markdown",
   "metadata": {},
   "source": [
    "Boolean objects are a subset of the integer objects **True** and **False** are just numbers.\n",
    "\n",
    "* **False** is just the integer 0\n",
    "* **True** is just the integer 1\n",
    "\n",
    "You can operate on booleans but the result is not boolean when using arithmetic operators."
   ]
  },
  {
   "cell_type": "code",
   "execution_count": null,
   "metadata": {},
   "outputs": [],
   "source": [
    "a = True\n",
    "print(a)\n",
    "print(a+1)\n",
    "print(type(a+1))"
   ]
  },
  {
   "cell_type": "code",
   "execution_count": null,
   "metadata": {},
   "outputs": [],
   "source": [
    "a = False\n",
    "print(a)\n",
    "print(a+1)\n",
    "print(type(a+1))"
   ]
  },
  {
   "cell_type": "markdown",
   "metadata": {},
   "source": [
    "Normal boolean operators use full english words like **and** and **or**."
   ]
  },
  {
   "cell_type": "code",
   "execution_count": null,
   "metadata": {},
   "outputs": [],
   "source": [
    "a = True\n",
    "b = False\n",
    "print(a and b)\n",
    "print(a or b)"
   ]
  },
  {
   "cell_type": "markdown",
   "metadata": {},
   "source": [
    "In **Python** every object evaluates to **True** or **False**. Empty objects, objects with zero lenght or objects with a value of zero evaluate to **False**. Every other object evaluates to **True**.\n",
    "\n",
    "Also, boolean operators don't always return **boolean values**.  \n",
    "For instance, the boolean **and** operator just returns the first element that evaluates to **False** or the last element if both evaluate to **True**.    \n",
    "Note that the `'Text'` object is a **String** object that is [described later](#string) in this document, also the `b''` object is a **Bytes** object that is also [described later](#bytes) so you probably want to continue the document until you read about those object before continuing with the boolean operators examples."
   ]
  },
  {
   "cell_type": "code",
   "execution_count": null,
   "metadata": {
    "scrolled": true
   },
   "outputs": [],
   "source": [
    "print('True and 1 =',True and 1)\n",
    "print('1 and True =',1 and True)\n",
    "print(\"True and 'Text' =\",True and 'Text')\n",
    "print('True and 0 =',True and 0)\n",
    "print(\"True and b'' =\",True and b'')\n",
    "print(\"False and b'' =\",False and b'')\n",
    "print(\"b'' and False =\",b'' and False)"
   ]
  },
  {
   "cell_type": "markdown",
   "metadata": {},
   "source": [
    "In a similar way, the **or** operator just returns the first element that evaluates to **True** of the last element if both evaluate to false."
   ]
  },
  {
   "cell_type": "code",
   "execution_count": null,
   "metadata": {},
   "outputs": [],
   "source": [
    "print('True or 1 =',True or 1)\n",
    "print('1 or True =',1 or True)\n",
    "print(\"'Text' or True =\",'Text' or True)\n",
    "print('True or 0 =',True or 0)\n",
    "print(\"b'' or True =\",b'' or True)\n",
    "print(\"False or b'' =\",False or b'')\n",
    "print(\"b'' or False =\",b'' or False)"
   ]
  },
  {
   "cell_type": "markdown",
   "metadata": {},
   "source": [
    "So, in the end, the **and** and **or** operators always return one of its arguments whatever object it is.\n",
    "\n",
    "If you find this complicated, just play with the code cells using your own contents."
   ]
  },
  {
   "cell_type": "markdown",
   "metadata": {},
   "source": [
    "<a id='string'></a>\n",
    "\n",
    "## String Objects\n",
    "\n",
    "String objects contain text. In **Python 3** normal string texts are **unicode** so they can contain any character available in **unicode**.\n",
    "\n",
    "Strings can also include [escape sequences](https://docs.python.org/2.0/ref/strings.html) starting with `\\`. In fact, you can use escape sequences to include **unicode** caracters.\n",
    "\n",
    "Strings can be delimited with `\"` or `'` caracters. You just need to end with the same caracter you started with. For instance if your string contains `'` caracters, it is wise to use `\"` as delimiters. "
   ]
  },
  {
   "cell_type": "code",
   "execution_count": null,
   "metadata": {},
   "outputs": [],
   "source": [
    "print('This is a text string and contains \"')\n",
    "print(\"This is also a text string and contains '\")\n",
    "print('This string contains escape caracters \\\\ \\t \\'')\n",
    "print('This string contains a chinese caracter \\u2E86')"
   ]
  },
  {
   "cell_type": "markdown",
   "metadata": {},
   "source": [
    "The **len** function gives the number of caracters of a string. Note that, due to unicode, the string length does not need to match the used space in Bytes."
   ]
  },
  {
   "cell_type": "code",
   "execution_count": null,
   "metadata": {},
   "outputs": [],
   "source": [
    "a = 'chinese \\u2E86'  # Use a to point to a string\n",
    "print(a)              # Show the string\n",
    "print(len(a))         # Show the string lenght\n",
    "print(type(a))        # Type is always str"
   ]
  },
  {
   "cell_type": "markdown",
   "metadata": {},
   "source": [
    "Yo can get the elements of one string by using the `[]` operator."
   ]
  },
  {
   "cell_type": "code",
   "execution_count": null,
   "metadata": {},
   "outputs": [],
   "source": [
    "print(a[0])   # Show caracter in position 0\n",
    "print(a[8])   # Show caracter in position 1"
   ]
  },
  {
   "cell_type": "markdown",
   "metadata": {},
   "source": [
    "Srings are **immutable** so you cannot change its contents. Trying to do that generates an **exception**."
   ]
  },
  {
   "cell_type": "code",
   "execution_count": null,
   "metadata": {},
   "outputs": [],
   "source": [
    "a[0] = 'C'"
   ]
  },
  {
   "cell_type": "markdown",
   "metadata": {},
   "source": [
    "You can concatenate strings by using the `+` operator. Note that, as the strings are **immutable** this generates a new object, it does not modify the previous objects.\n",
    "\n",
    "You can also use the `*` operator to replicate the string contents."
   ]
  },
  {
   "cell_type": "code",
   "execution_count": null,
   "metadata": {},
   "outputs": [],
   "source": [
    "a = 'First '    # Use a to point to a string\n",
    "b = 'Second'    # Use b to point to another string\n",
    "print(a+b)      # Show a+b\n",
    "print(a*4)      # Show a*4"
   ]
  },
  {
   "cell_type": "markdown",
   "metadata": {},
   "source": [
    "### Raw Strings\n",
    "\n",
    "Raw strings are just like normal strings but they cannot include escape sequences. They are usefull if you want to include a lot of `\\` caracters. \n",
    "\n",
    "In fact they are not new class types. They are another way to write down string literals. So the object you obtain is just a **string**."
   ]
  },
  {
   "cell_type": "code",
   "execution_count": null,
   "metadata": {},
   "outputs": [],
   "source": [
    "a = r'This is a \\Raw String\\.'   # Define a raw string literal\n",
    "print(a)                         # Show it\n",
    "print(type(a))                   # See that it is just a normal string"
   ]
  },
  {
   "cell_type": "markdown",
   "metadata": {},
   "source": [
    "### Str function\n",
    "\n",
    "You can apply the **str()** function to any object to obtain a string with a representation of the object content."
   ]
  },
  {
   "cell_type": "code",
   "execution_count": null,
   "metadata": {},
   "outputs": [],
   "source": [
    "a = str(45)\n",
    "print(a)\n",
    "print(type(a))"
   ]
  },
  {
   "cell_type": "markdown",
   "metadata": {},
   "source": [
    "It can be usefull to generate complex strings."
   ]
  },
  {
   "cell_type": "code",
   "execution_count": null,
   "metadata": {},
   "outputs": [],
   "source": [
    "x = 17\n",
    "print('x content is '+str(x))"
   ]
  },
  {
   "cell_type": "markdown",
   "metadata": {},
   "source": [
    "<a id='bytes'></a>\n",
    "\n",
    "## Bytes Objects\n",
    "\n",
    "A **bytes** object is an **string** of bytes. Codes below 128 are represented by the ASCII code.  \n",
    "As in the case of **strings** they are **immutable**."
   ]
  },
  {
   "cell_type": "code",
   "execution_count": null,
   "metadata": {},
   "outputs": [],
   "source": [
    "a = b'This is a bytes object'   # Create a bytes object\n",
    "print(a)                        # Show it   \n",
    "print(type(a))                  # Show its type"
   ]
  },
  {
   "cell_type": "markdown",
   "metadata": {},
   "source": [
    "Remember that, in Python 3, strings natively support unicode caracters. You can **encode** a string to a standard unicode format like [utf-8](https://en.wikipedia.org/wiki/UTF-8). This will generate a **bytes** object.  "
   ]
  },
  {
   "cell_type": "code",
   "execution_count": null,
   "metadata": {},
   "outputs": [],
   "source": [
    "a = 'chinese \\u2E86'     # Use a to point to a string\n",
    "print(len(a))            # Show number of caracters in a\n",
    "d = a.encode('utf-8')    # Encode a in UTF-8 as a bytes object\n",
    "print(d)                 # Show the encoded byte sequence\n",
    "print(len(d))            # Show the encoded number of bytes"
   ]
  },
  {
   "cell_type": "markdown",
   "metadata": {},
   "source": [
    "Observe how, in the example below, the chinese caracter is encoded with 3 bytes in **utf-8** in particular to the sequence $E2h$, $BAh$, $86h$.\n",
    "\n",
    "Remember that, as the **bytes** type is **immutable** you cannot change its contents."
   ]
  },
  {
   "cell_type": "code",
   "execution_count": null,
   "metadata": {},
   "outputs": [],
   "source": [
    "d[0] = b'C'    # Try to change a bytes content"
   ]
  },
  {
   "cell_type": "markdown",
   "metadata": {},
   "source": [
    "## Bytearray Objects\n",
    "\n",
    "A **bytearray** object is just like a **bytes** object. The only difference is that it is **mutable** so you can change its contents."
   ]
  },
  {
   "cell_type": "code",
   "execution_count": null,
   "metadata": {},
   "outputs": [],
   "source": [
    "d = bytearray(a.encode('utf-8'))    # Encode a in UTF-8 as a bytearray object\n",
    "print(d)                            # Show the encoded byte sequence\n",
    "print(len(d))                       # Show the encoded number of bytes\n",
    "d[0] = 67                           # Capitalize first caracter\n",
    "print(d)                            # Show the encoded byte sequence"
   ]
  },
  {
   "cell_type": "markdown",
   "metadata": {},
   "source": [
    "## Mutability Warning\n",
    "\n",
    "Remember that variables in Python don't contain anything, they just point to objects. This has an important implication in **mutable objects** as you can see in the following code."
   ]
  },
  {
   "cell_type": "code",
   "execution_count": null,
   "metadata": {},
   "outputs": [],
   "source": [
    "a = bytearray('Hello'.encode('utf-8'))   # Encode 'Hello' in UTF-8 in a bytearray\n",
    "b = a                                    # b now also points to the bytearray\n",
    "print(b)                                 # Show b\n",
    "a[1]=117                                 # Modify the object pointed by a\n",
    "print(b)                                 # Show b"
   ]
  },
  {
   "cell_type": "markdown",
   "metadata": {},
   "source": [
    "See that, as both $a$ and $b$ point to the same mutable object, if you modify the object using the $a$ variable, the same modified object will be seen on $b$ variable. This can give some headaches to programmers of other languajes like $C$ where most variables store content not pointers to objects. If you come from $C$ it is best to think that all python variables are **pointers**.\n",
    "\n",
    "In some cases you can use the **copy()** method to create a copy of one object so that now, the objects pointed by $a$ and $b$ are independent."
   ]
  },
  {
   "cell_type": "code",
   "execution_count": null,
   "metadata": {},
   "outputs": [],
   "source": [
    "a = bytearray('Hello'.encode('utf-8'))   # Encode 'Hello' in UTF-8 in a bytearray\n",
    "b = a.copy()                             # b now points to a copy of a\n",
    "print('b =',b)                           # Show b\n",
    "a[1]=117                                 # Modify the object pointed by a\n",
    "print('b =',b)                           # Show b\n",
    "print('a =',a)                           # Show a"
   ]
  },
  {
   "cell_type": "markdown",
   "metadata": {},
   "source": [
    "## Space Recall\n",
    "\n",
    "As explained several times, **Python variables** just point to objects.  \n",
    "Python associates a **reference counter** to each object with the number of variables that point to it. If the counter reaches zero that means that nobody points to this objects and its memory space is returned to the memory pool.  "
   ]
  },
  {
   "cell_type": "code",
   "execution_count": null,
   "metadata": {},
   "outputs": [],
   "source": [
    "a = \"String object\"     # We create an object. String counter = 1\n",
    "b = a                   # b also points to a. String counter = 2\n",
    "a = 1                   # a no longer points to the object. String counter = 1\n",
    "\n",
    "b = 7.2                 # b no longer points to the object. String counter = 0\n",
    "                        # String object is removed from memory"
   ]
  },
  {
   "cell_type": "markdown",
   "metadata": {},
   "source": [
    "Sometimes the **reference counter** can fail when there are circular references. That's why **Python** usually uses an additional [garbage collector](https://en.wikipedia.org/wiki/Garbage_collection_(computer_science)) to detect unaccesible objects that don't have a zero reference counter."
   ]
  },
  {
   "cell_type": "markdown",
   "metadata": {},
   "source": [
    "<a id='sandbox'></a>\n",
    "\n",
    "## Sandbox\n",
    "\n",
    "This last section of this document is a sandbox, you can write any code you please in the box below and see what it does when you execute the **run** command."
   ]
  },
  {
   "cell_type": "code",
   "execution_count": null,
   "metadata": {},
   "outputs": [],
   "source": [
    "# Sandbox code"
   ]
  },
  {
   "cell_type": "markdown",
   "metadata": {},
   "source": [
    "## Document license\n",
    "\n",
    "Copyright  ©  Vicente Jiménez (2019)  \n",
    "This work is licensed under a Creative Common Attribution-ShareAlike 4.0 International license.   \n",
    "This license is available at http://creativecommons.org/licenses/by-sa/4.0/\n",
    "\n",
    "<img  src=\"images/cc_sa.png\" width=\"200\">"
   ]
  },
  {
   "cell_type": "code",
   "execution_count": null,
   "metadata": {},
   "outputs": [],
   "source": []
  }
 ],
 "metadata": {
  "kernelspec": {
   "display_name": "Python 3",
   "language": "python",
   "name": "python3"
  },
  "language_info": {
   "codemirror_mode": {
    "name": "ipython",
    "version": 3
   },
   "file_extension": ".py",
   "mimetype": "text/x-python",
   "name": "python",
   "nbconvert_exporter": "python",
   "pygments_lexer": "ipython3",
   "version": "3.7.1"
  }
 },
 "nbformat": 4,
 "nbformat_minor": 2
}
