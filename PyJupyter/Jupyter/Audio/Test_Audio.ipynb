{
 "cells": [
  {
   "cell_type": "markdown",
   "metadata": {
    "colab_type": "text",
    "id": "rUBnhxJktiVK"
   },
   "source": [
    "# <img style=\"float: right;\"  src=\"images/jp.png\" width=\"200\">\n",
    "\n",
    "# Test Audio\n",
    "\n",
    "We can play audio data using **Jupyter** \n",
    "\n",
    "In this example we will use three modules:\n",
    "\n",
    "* **numpy** to generate the audio data\n",
    "\n",
    "* **IPython.display** to play the audio data\n",
    "\n",
    "* **scipy.io.wavfile** to load a sound wav file\n",
    "\n",
    "First we need to import those modules"
   ]
  },
  {
   "cell_type": "code",
   "execution_count": 1,
   "metadata": {
    "colab": {
     "autoexec": {
      "startup": false,
      "wait_interval": 0
     }
    },
    "colab_type": "code",
    "id": "3CBgJXKvthaC"
   },
   "outputs": [],
   "source": [
    "# Needed imports\n",
    "import numpy as np\n",
    "from IPython.display import Audio\n",
    "from scipy.io import wavfile"
   ]
  },
  {
   "cell_type": "markdown",
   "metadata": {
    "colab_type": "text",
    "id": "YvnPYzA0vNNC"
   },
   "source": [
    "We will also load the [calc module](http://localhost:8888/edit/Code/calc.py) to display graphs this a non standard **Python** module that you can find in the [Code folder](http://localhost:8888/tree/Code)"
   ]
  },
  {
   "cell_type": "code",
   "execution_count": null,
   "metadata": {
    "colab": {
     "autoexec": {
      "startup": false,
      "wait_interval": 0
     },
     "base_uri": "https://localhost:8080/",
     "height": 36,
     "output_extras": [
      {
       "item_id": 1
      }
     ]
    },
    "colab_type": "code",
    "executionInfo": {
     "elapsed": 60,
     "status": "ok",
     "timestamp": 1521541182422,
     "user": {
      "displayName": "Vicente Jimenez",
      "photoUrl": "//lh4.googleusercontent.com/-l1GS4wWn-mI/AAAAAAAAAAI/AAAAAAAAAZE/i_NQ2m6L6rI/s50-c-k-no/photo.jpg",
      "userId": "104735520205871768811"
     },
     "user_tz": -60
    },
    "id": "QG7zu9LIvYNg",
    "outputId": "fbf748af-2f5c-4e53-9088-82e797dd6d5f"
   },
   "outputs": [],
   "source": [
    "#Import the module\n",
    "import calc\n",
    "\n",
    "# Erase output after import\n",
    "from IPython.display import clear_output\n",
    "clear_output()\n",
    "\n",
    "# Check loaded module\n",
    "try:\n",
    "    print('calc version: ',calc.version)\n",
    "except:\n",
    "    print('Error loading the calc module')"
   ]
  },
  {
   "cell_type": "markdown",
   "metadata": {
    "colab_type": "text",
    "id": "veKwDMWyuaFk"
   },
   "source": [
    "We can create the audio using code thanks to the **numpy** math facilities\n",
    "\n"
   ]
  },
  {
   "cell_type": "code",
   "execution_count": null,
   "metadata": {
    "colab": {
     "autoexec": {
      "startup": false,
      "wait_interval": 0
     }
    },
    "colab_type": "code",
    "id": "fE5F6pyWvvae"
   },
   "outputs": [],
   "source": [
    "# Create a sound\n",
    "framerate = 44100\n",
    "t = np.linspace(0,5,framerate*5)\n",
    "data = np.sin(2*np.pi*220*t) + np.sin(2*np.pi*224*t)"
   ]
  },
  {
   "cell_type": "markdown",
   "metadata": {
    "colab_type": "text",
    "id": "LdV39t-Cv18G"
   },
   "source": [
    "The **sound** can be shown using, for instance, the loaded **calc** module.\n",
    "\n",
    "It could also be shown using direct calls the **matplotlib** module"
   ]
  },
  {
   "cell_type": "code",
   "execution_count": null,
   "metadata": {
    "colab": {
     "autoexec": {
      "startup": false,
      "wait_interval": 0
     },
     "base_uri": "https://localhost:8080/",
     "height": 735,
     "output_extras": [
      {
       "item_id": 1
      },
      {
       "item_id": 2
      }
     ]
    },
    "colab_type": "code",
    "executionInfo": {
     "elapsed": 1438,
     "status": "ok",
     "timestamp": 1521541602432,
     "user": {
      "displayName": "Vicente Jimenez",
      "photoUrl": "//lh4.googleusercontent.com/-l1GS4wWn-mI/AAAAAAAAAAI/AAAAAAAAAZE/i_NQ2m6L6rI/s50-c-k-no/photo.jpg",
      "userId": "104735520205871768811"
     },
     "user_tz": -60
    },
    "id": "KDRbhYIbv_wA",
    "outputId": "564db0b5-1871-4e7c-c9d7-397d653faa0a"
   },
   "outputs": [],
   "source": [
    "# Indicate the calc module if we are inside colaboratory\n",
    "calc.setColaboratory(colaboratory)\n",
    "\n",
    "# Show waveform\n",
    "calc.plot11(t,data,\"Sound Waveform\",\"Time (s)\",\"Value\")\n",
    "\n",
    "# We can zoom the start of the waveform\n",
    "calc.plot11(t[0:10000],data[0:10000],\"Sound Waveform (Detail)\",\"Time (s)\",\"Value\")"
   ]
  },
  {
   "cell_type": "markdown",
   "metadata": {
    "colab_type": "text",
    "id": "HFm__uZHvq-Q"
   },
   "source": [
    "The following code plays the sound **data** in **mono**"
   ]
  },
  {
   "cell_type": "code",
   "execution_count": null,
   "metadata": {
    "colab": {
     "autoexec": {
      "startup": false,
      "wait_interval": 0
     },
     "base_uri": "https://localhost:8080/",
     "height": 61,
     "output_extras": [
      {
       "item_id": 1
      }
     ]
    },
    "colab_type": "code",
    "executionInfo": {
     "elapsed": 1404,
     "status": "ok",
     "timestamp": 1521538534738,
     "user": {
      "displayName": "Vicente Jimenez",
      "photoUrl": "//lh4.googleusercontent.com/-l1GS4wWn-mI/AAAAAAAAAAI/AAAAAAAAAZE/i_NQ2m6L6rI/s50-c-k-no/photo.jpg",
      "userId": "104735520205871768811"
     },
     "user_tz": -60
    },
    "id": "tB1s7xjOt2eI",
    "outputId": "eb36afe8-189b-4dc0-c92b-62cc2be99433"
   },
   "outputs": [],
   "source": [
    "# Generate a player for mono sound\n",
    "Audio(data,rate=framerate)"
   ]
  },
  {
   "cell_type": "markdown",
   "metadata": {
    "colab_type": "text",
    "id": "EIfR9MRW70ea"
   },
   "source": [
    "Sound can be played **automatically** after the cell code ends by using the **autoplay** parameter\n",
    "\n",
    "This is shown on the following example"
   ]
  },
  {
   "cell_type": "code",
   "execution_count": null,
   "metadata": {
    "colab": {
     "autoexec": {
      "startup": false,
      "wait_interval": 0
     },
     "base_uri": "https://localhost:8080/",
     "height": 61,
     "output_extras": [
      {
       "item_id": 1
      }
     ]
    },
    "colab_type": "code",
    "executionInfo": {
     "elapsed": 888,
     "status": "ok",
     "timestamp": 1521541618170,
     "user": {
      "displayName": "Vicente Jimenez",
      "photoUrl": "//lh4.googleusercontent.com/-l1GS4wWn-mI/AAAAAAAAAAI/AAAAAAAAAZE/i_NQ2m6L6rI/s50-c-k-no/photo.jpg",
      "userId": "104735520205871768811"
     },
     "user_tz": -60
    },
    "id": "V8VgnCyP78j-",
    "outputId": "251be8b7-4809-42ca-9627-05c29a5211f6"
   },
   "outputs": [],
   "source": [
    "# Take a 1s piece of the mono sound\n",
    "data2 = data[0:framerate]\n",
    "\n",
    "# Generate a player for mono sound\n",
    "Audio(data2,rate=framerate,autoplay=True)"
   ]
  },
  {
   "cell_type": "markdown",
   "metadata": {
    "colab_type": "text",
    "id": "x5OczKBbuxKk"
   },
   "source": [
    "Audio data can also be generated in **stereo**\n",
    "\n",
    "We will first generate and show the waveforms"
   ]
  },
  {
   "cell_type": "code",
   "execution_count": null,
   "metadata": {
    "colab": {
     "autoexec": {
      "startup": false,
      "wait_interval": 0
     },
     "base_uri": "https://localhost:8080/",
     "height": 376,
     "output_extras": [
      {
       "item_id": 1
      }
     ]
    },
    "colab_type": "code",
    "executionInfo": {
     "elapsed": 1008,
     "status": "ok",
     "timestamp": 1521539593990,
     "user": {
      "displayName": "Vicente Jimenez",
      "photoUrl": "//lh4.googleusercontent.com/-l1GS4wWn-mI/AAAAAAAAAAI/AAAAAAAAAZE/i_NQ2m6L6rI/s50-c-k-no/photo.jpg",
      "userId": "104735520205871768811"
     },
     "user_tz": -60
    },
    "id": "l77XkH5lxJ2U",
    "outputId": "c061f926-1302-4041-a6d7-1e4e01ace68a"
   },
   "outputs": [],
   "source": [
    "# Base sound\n",
    "def base(t):\n",
    "    return np.sin(2*np.pi*220*t)*np.exp(-t)\n",
    "    \n",
    "tLeft  = 4*(t/4 - np.fix(t/4))\n",
    "left   = base(tLeft)\n",
    "\n",
    "tRight = 4*((t+2)/4 - np.fix((t+2)/4))\n",
    "right  = base(tRight)\n",
    "\n",
    "# Show sound\n",
    "calc.plot1n(t,[left,right],\"Stereo sound\",\"Time(s)\",\"Values\",[\"Left\",\"Right\"])"
   ]
  },
  {
   "cell_type": "markdown",
   "metadata": {
    "colab_type": "text",
    "id": "qe_wDZD30wTm"
   },
   "source": [
    "Now we can play the sound data in **stereo**"
   ]
  },
  {
   "cell_type": "code",
   "execution_count": null,
   "metadata": {
    "colab": {
     "autoexec": {
      "startup": false,
      "wait_interval": 0
     },
     "base_uri": "https://localhost:8080/",
     "height": 61,
     "output_extras": [
      {
       "item_id": 1
      }
     ]
    },
    "colab_type": "code",
    "executionInfo": {
     "elapsed": 2452,
     "status": "ok",
     "timestamp": 1521539576294,
     "user": {
      "displayName": "Vicente Jimenez",
      "photoUrl": "//lh4.googleusercontent.com/-l1GS4wWn-mI/AAAAAAAAAAI/AAAAAAAAAZE/i_NQ2m6L6rI/s50-c-k-no/photo.jpg",
      "userId": "104735520205871768811"
     },
     "user_tz": -60
    },
    "id": "8WkMZsl0t9e2",
    "outputId": "89224570-aeef-481e-92c4-3d3e0bd8e5fa"
   },
   "outputs": [],
   "source": [
    "# Can also do stereo or more channels\n",
    "Audio([left, right],rate=framerate)"
   ]
  },
  {
   "cell_type": "markdown",
   "metadata": {
    "colab_type": "text",
    "id": "9DydTAkZ4yko"
   },
   "source": [
    "The sound data don't need to be generated from code, it can be loade from **wav** files\n",
    "\n",
    "In the case of **Jupyter notebooks** they can be in your computer\n",
    "\n",
    "In the case of **Colaboratory notebooks** they need to be available on internet\n",
    "\n",
    "One way to make a file available on internet is using **GitHub**"
   ]
  },
  {
   "cell_type": "code",
   "execution_count": null,
   "metadata": {
    "colab": {
     "autoexec": {
      "startup": false,
      "wait_interval": 0
     },
     "base_uri": "https://localhost:8080/",
     "height": 36,
     "output_extras": [
      {
       "item_id": 1
      }
     ]
    },
    "colab_type": "code",
    "executionInfo": {
     "elapsed": 64,
     "status": "ok",
     "timestamp": 1521542746584,
     "user": {
      "displayName": "Vicente Jimenez",
      "photoUrl": "//lh4.googleusercontent.com/-l1GS4wWn-mI/AAAAAAAAAAI/AAAAAAAAAZE/i_NQ2m6L6rI/s50-c-k-no/photo.jpg",
      "userId": "104735520205871768811"
     },
     "user_tz": -60
    },
    "id": "ZakVAhQL2d4i",
    "outputId": "23b2cbef-5ef4-4f2f-aab3-a2a750cec470"
   },
   "outputs": [],
   "source": [
    "if colaboratory:\n",
    "    # Load sound file from GitHub\n",
    "    !wget https://github.com/R6500/Python-bits/raw/master/Colaboratory/Sounds/Bicycle%20bell%203.wav\n",
    "  \n",
    "    # Erase output after import\n",
    "    from IPython.display import clear_output\n",
    "    clear_output()\n",
    "\n",
    "    print(\"Bicycle bell 3.wav loaded\")\n",
    "else:\n",
    "    print(\"We are not in colaboratory\")\n",
    "    print(\"The file shall already be in the computer\")"
   ]
  },
  {
   "cell_type": "markdown",
   "metadata": {
    "colab_type": "text",
    "id": "okKjdsfw5LE0"
   },
   "source": [
    "Once the file is saved in the **virtual machine**, it can be read on a numpy array and decoded as sound information"
   ]
  },
  {
   "cell_type": "code",
   "execution_count": null,
   "metadata": {
    "colab": {
     "autoexec": {
      "startup": false,
      "wait_interval": 0
     },
     "base_uri": "https://localhost:8080/",
     "height": 92,
     "output_extras": [
      {
       "item_id": 1
      },
      {
       "item_id": 2
      }
     ]
    },
    "colab_type": "code",
    "executionInfo": {
     "elapsed": 514,
     "status": "ok",
     "timestamp": 1521540843600,
     "user": {
      "displayName": "Vicente Jimenez",
      "photoUrl": "//lh4.googleusercontent.com/-l1GS4wWn-mI/AAAAAAAAAAI/AAAAAAAAAZE/i_NQ2m6L6rI/s50-c-k-no/photo.jpg",
      "userId": "104735520205871768811"
     },
     "user_tz": -60
    },
    "id": "Uc0p6d7I2nw-",
    "outputId": "c7f22dcf-5487-4bf9-d61c-ccae0d72fe01"
   },
   "outputs": [],
   "source": [
    "# Load the file on an object\n",
    "data = wavfile.read('Bicycle bell 3.wav')\n",
    "\n",
    "# Separete the object elements\n",
    "framerate = data[0]\n",
    "sounddata = data[1]\n",
    "time      = np.arange(0,len(sounddata))/framerate\n",
    "\n",
    "# Show information about the object\n",
    "print('Sample rate:',framerate,'Hz')\n",
    "print('Total time:',len(sounddata)/framerate,'s')"
   ]
  },
  {
   "cell_type": "markdown",
   "metadata": {
    "colab_type": "text",
    "id": "PouF1phP5xBs"
   },
   "source": [
    "The loaded sound data can be shown on a graph, if needed"
   ]
  },
  {
   "cell_type": "code",
   "execution_count": null,
   "metadata": {
    "colab": {
     "autoexec": {
      "startup": false,
      "wait_interval": 0
     },
     "base_uri": "https://localhost:8080/",
     "height": 376,
     "output_extras": [
      {
       "item_id": 1
      }
     ]
    },
    "colab_type": "code",
    "executionInfo": {
     "elapsed": 880,
     "status": "ok",
     "timestamp": 1521541250230,
     "user": {
      "displayName": "Vicente Jimenez",
      "photoUrl": "//lh4.googleusercontent.com/-l1GS4wWn-mI/AAAAAAAAAAI/AAAAAAAAAZE/i_NQ2m6L6rI/s50-c-k-no/photo.jpg",
      "userId": "104735520205871768811"
     },
     "user_tz": -60
    },
    "id": "mJr7MDls3RIe",
    "outputId": "85621844-a970-4135-b897-8ae4ca4722fc"
   },
   "outputs": [],
   "source": [
    "# Show the sound data\n",
    "calc.plot11(time,sounddata,\"Sound data loaded from wav file\",\"Time (s)\",\"Values\")"
   ]
  },
  {
   "cell_type": "markdown",
   "metadata": {
    "colab_type": "text",
    "id": "kX_WZ5s4547M"
   },
   "source": [
    "And, of course, it can be played"
   ]
  },
  {
   "cell_type": "code",
   "execution_count": null,
   "metadata": {
    "colab": {
     "autoexec": {
      "startup": false,
      "wait_interval": 0
     },
     "base_uri": "https://localhost:8080/",
     "height": 61,
     "output_extras": [
      {
       "item_id": 1
      }
     ]
    },
    "colab_type": "code",
    "executionInfo": {
     "elapsed": 3834,
     "status": "ok",
     "timestamp": 1521540935332,
     "user": {
      "displayName": "Vicente Jimenez",
      "photoUrl": "//lh4.googleusercontent.com/-l1GS4wWn-mI/AAAAAAAAAAI/AAAAAAAAAZE/i_NQ2m6L6rI/s50-c-k-no/photo.jpg",
      "userId": "104735520205871768811"
     },
     "user_tz": -60
    },
    "id": "pD5y4Ewe575C",
    "outputId": "f282220d-fa99-4f9a-fea3-250c63ba0286"
   },
   "outputs": [],
   "source": [
    "# Generate a player for mono sound\n",
    "Audio(sounddata,rate=framerate)"
   ]
  },
  {
   "cell_type": "markdown",
   "metadata": {},
   "source": [
    "## Document license\n",
    "\n",
    "Copyright  ©  Vicente Jiménez (2019)  \n",
    "This work is licensed under a Creative Common Attribution-ShareAlike 4.0 International license.   \n",
    "This license is available at http://creativecommons.org/licenses/by-sa/4.0/\n",
    "\n",
    "<img  src=\"images/cc_sa.png\" width=\"200\">"
   ]
  },
  {
   "cell_type": "code",
   "execution_count": null,
   "metadata": {},
   "outputs": [],
   "source": []
  }
 ],
 "metadata": {
  "colab": {
   "collapsed_sections": [],
   "default_view": {},
   "name": "Test Audio.ipynb",
   "provenance": [],
   "version": "0.3.2",
   "views": {}
  },
  "kernelspec": {
   "display_name": "Python 3",
   "language": "python",
   "name": "python3"
  },
  "language_info": {
   "codemirror_mode": {
    "name": "ipython",
    "version": 3
   },
   "file_extension": ".py",
   "mimetype": "text/x-python",
   "name": "python",
   "nbconvert_exporter": "python",
   "pygments_lexer": "ipython3",
   "version": "3.7.1"
  }
 },
 "nbformat": 4,
 "nbformat_minor": 1
}
