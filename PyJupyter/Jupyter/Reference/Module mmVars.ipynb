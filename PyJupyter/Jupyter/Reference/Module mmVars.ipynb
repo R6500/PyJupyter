{
 "cells": [
  {
   "cell_type": "markdown",
   "metadata": {
    "colab_type": "text",
    "id": "BaJqDyxOrKlc"
   },
   "source": [
    "# <img style=\"float: right;\"  src=\"images/jp.png\" width=\"200\">\n",
    "\n",
    "# Module mmVars\n",
    "\n",
    "This document describes the [mmVars module](http://localhost:8888/edit/Code/mmVars.py)\n",
    "\n",
    "Version 1.1 (12/4/2019)  \n",
    "License information is at the end of the document\n",
    "\n",
    "---\n",
    "\n",
    "The module defines random variables bounded by **minimum** and **maximum** values. Using those variables you can find the minimum and maximum of some functions that use those variables.\n",
    "\n",
    "For some functions, the minimum and maximum is not so easy to find from the limits of its variables. In those cases this module provides bounds to the maximum and mimimum values.\n",
    "\n",
    "For any generic function that uses the random variables the module also provides the **montecarlo** method that obtains the distribution of the function values from which a rough estimate of maximum and minimum values can also be obtained.\n",
    "\n",
    "You can find [this module](http://localhost:8888/edit/Code/mmVars.py) on the [Code folder](http://localhost:8888/tree/Code)"
   ]
  },
  {
   "cell_type": "markdown",
   "metadata": {
    "colab_type": "text",
    "id": "p9IHhi0Ksb3n"
   },
   "source": [
    "## Importing the module\n",
    "\n",
    "The following code imports the **mmVars** module.\n",
    "\n",
    "It also loads and imports the **calc** module that is used for graphics and the **numpy** module."
   ]
  },
  {
   "cell_type": "code",
   "execution_count": null,
   "metadata": {
    "colab": {
     "autoexec": {
      "startup": false,
      "wait_interval": 0
     },
     "base_uri": "https://localhost:8080/",
     "height": 55
    },
    "colab_type": "code",
    "executionInfo": {
     "elapsed": 48,
     "status": "ok",
     "timestamp": 1521308803542,
     "user": {
      "displayName": "Vicente Jimenez",
      "photoUrl": "//lh4.googleusercontent.com/-l1GS4wWn-mI/AAAAAAAAAAI/AAAAAAAAAZE/i_NQ2m6L6rI/s50-c-k-no/photo.jpg",
      "userId": "104735520205871768811"
     },
     "user_tz": -60
    },
    "id": "BNkHFi6krH_R",
    "outputId": "894d976a-c77a-4723-b542-3ca651e386fd"
   },
   "outputs": [],
   "source": [
    "# Import all needed modules\n",
    "import numpy as np  \n",
    "import mmVars as mm\n",
    "import calc\n",
    "\n",
    "# Check loaded modules\n",
    "try:\n",
    "    print('mmVars version: ',mm.version)\n",
    "    print('calc version: ',calc.version)\n",
    "except:\n",
    "    print('Error loading modules')\n",
    "    raise"
   ]
  },
  {
   "cell_type": "markdown",
   "metadata": {
    "colab_type": "text",
    "id": "BpMlL9IstbnL"
   },
   "source": [
    "## mmVar Class\n",
    "\n",
    "The **mmVar** class is the main element on the mmVars module.\n",
    "\n",
    "It defines an object associated to **minimum** and **maximum** values.\n",
    "\n",
    "You can define a new mmVar object using different constructors. Assuming that the module is imported as **mm**, the generic constructor is:\n",
    "\n",
    ">`var = mm.mmVar(a,b=None,typ=None,tol=None,s=None,ns=0)`\n",
    "\n",
    "The constructor is complex because it admits several modes.\n",
    "\n",
    "For instance, you can use the following code to define a variable with values between **min** and **max**:\n",
    "\n",
    ">`var = mm.mmVar(min,max)`\n",
    "\n",
    "The module automatically detects wich is maximum and minimum, so the following code is equivalent:\n",
    "\n",
    ">`var = mm.mmVar(max,min)`\n",
    "\n",
    "You can also define a **typical** value for the variable that must be between the maximum and minimum values:\n",
    "\n",
    ">`var = mm.mmVar(max,min,typ)`\n",
    "\n",
    "The variable can also be defined by a **central value** and a **tolerance**:\n",
    "\n",
    ">`var = mm.mmVar(central,tol)`\n",
    "\n",
    "In this case it defines:\n",
    "\n",
    ">$max = central \\cdot (1+tol)$\n",
    "\n",
    ">$min = central \\cdot (1-tol)$\n",
    "\n",
    ">$typ = central$\n",
    "\n",
    "If you only provide one parameter, it will define a constant:\n",
    "\n",
    ">`var = mm.mmVar(value)`\n",
    "\n",
    "So that:\n",
    "\n",
    ">$max = min = typ = value$\n",
    "\n",
    "We can define two possible **probability distributions** to be used in later **montecarlo** methods. By default the distribution is [uniform](https://en.wikipedia.org/wiki/Uniform_distribution_(continuous)), that means that all possible values between the maximum and minimum are equally probable.\n",
    "\n",
    "You can define a [normal](https://en.wikipedia.org/wiki/Normal_distribution) distribtion if, in any of the above constructor methods, a parameter **ns** is used, like in:\n",
    "\n",
    ">`var = mm.mmVar(min,max,ns=3)`\n",
    "\n",
    "The **ns** paramenter defines the number of [standard deviations](https://en.wikipedia.org/wiki/Standard_deviation) $\\sigma$ between the central and the maximum or minimum values. For instance, ns value of 3 means that any value of the variable has a 99,7% chance to be in the region between the defined maximum and the minimum values. Note that a normal distribution has **no bounds**, so random values can be outside of the region defined by the maximum and minimum values.\n",
    "\n",
    "If you don't define a **typical** value for a variable defined with a **normal distribution**, the typical value will be set equal to the center value:\n",
    "\n",
    ">$typ_{normal}=\\frac{max+min}{2}$\n",
    "\n",
    "In **uniform** distribution variables the typical value can be left **undefined**.\n",
    "\n",
    "In the case of **normal** distributions you can also define the $\\sigma$ value using the **s** parameter of the constructor. That way, the following constructor:\n",
    "\n",
    ">`var = mmVars.(10,s=1)`\n",
    "\n",
    "Will define a **normal** variable with $\\sigma=1$. By default the limits are defined at $3\\sigma$ so the **maximum** of the variable will be 13 and the **minimum** will be 7. If you want, you can define the $\\sigma$ and the **ns** at the same time, so:\n",
    "\n",
    ">`var = mmVars.(10,s=1,ns=2)`\n",
    "\n",
    "Will define a **normal** variable with $\\sigma=1$, **maximum** will be 12 and **minimum** will be 8 because we have defined they to be at a $2\\sigma$ distance from the certer value.\n",
    "\n",
    "\n",
    "Let's see some **constructor** examples. The limits of each variable is shown as **(max:typ:min)**\n",
    "\n",
    "As the code cell is interactive you can try to add your own examples:"
   ]
  },
  {
   "cell_type": "code",
   "execution_count": null,
   "metadata": {
    "colab": {
     "autoexec": {
      "startup": false,
      "wait_interval": 0
     },
     "base_uri": "https://localhost:8080/",
     "height": 281
    },
    "colab_type": "code",
    "executionInfo": {
     "elapsed": 506,
     "status": "ok",
     "timestamp": 1521308809204,
     "user": {
      "displayName": "Vicente Jimenez",
      "photoUrl": "//lh4.googleusercontent.com/-l1GS4wWn-mI/AAAAAAAAAAI/AAAAAAAAAZE/i_NQ2m6L6rI/s50-c-k-no/photo.jpg",
      "userId": "104735520205871768811"
     },
     "user_tz": -60
    },
    "id": "8XGkz5Xk8ALE",
    "outputId": "fce0a2e9-8c27-48a4-f09e-262b46c1820e"
   },
   "outputs": [],
   "source": [
    "# Helper function for the examples\n",
    "# You are not supposed to directly access the ns value although it works\n",
    "def showVar(text,x):\n",
    "    if x.ns == 0:\n",
    "        print(text,' ',x,' Uniform')\n",
    "    else:    \n",
    "        print(text,' ',x,' Normal ns =',x.ns\n",
    "              ,', s =',(x.maximum()-x.minimum())/(2*x.ns))\n",
    "\n",
    "# Constructor examples\n",
    "print('Uniform variables')\n",
    "showVar('mmVar(1,3)',mm.mmVar(1,3))\n",
    "showVar('mmVar(1,3,2)',mm.mmVar(1,3,2))\n",
    "showVar('mmVar(10,tol=0.1)',mm.mmVar(10,tol=0.1))\n",
    "print()\n",
    "print('Normal variables')\n",
    "showVar('mmVar(1,3,ns=3)',mm.mmVar(1,3,ns=3))\n",
    "showVar('mmVar(10,s=1)',mm.mmVar(10,s=1))\n",
    "showVar('mmVar(10,s=1,ns=2)',mm.mmVar(10,s=1,ns=2))\n",
    "showVar('mmVar(10,tol=0.1,s=1)',mm.mmVar(10,tol=0.1,s=1))\n",
    "print()\n",
    "print('You should not define the limits, s and ns')\n",
    "print('If you give too much information, ns takes precedence over s')\n",
    "showVar('mmVar(10,tol=0.1,s=1,ns=2)',mm.mmVar(10,tol=0.1,s=1,ns=2))"
   ]
  },
  {
   "cell_type": "markdown",
   "metadata": {
    "colab_type": "text",
    "id": "KXpOCYSZ7zGN"
   },
   "source": [
    "Let's see two examples of generating variables and the code that shows the distributions. Don't worry about the **doMontecarlo** , **histogram** and **generic** functions for now, they will be described later."
   ]
  },
  {
   "cell_type": "code",
   "execution_count": null,
   "metadata": {
    "colab": {
     "autoexec": {
      "startup": false,
      "wait_interval": 0
     },
     "base_uri": "https://localhost:8080/",
     "height": 376
    },
    "colab_type": "code",
    "executionInfo": {
     "elapsed": 632,
     "status": "ok",
     "timestamp": 1521308812036,
     "user": {
      "displayName": "Vicente Jimenez",
      "photoUrl": "//lh4.googleusercontent.com/-l1GS4wWn-mI/AAAAAAAAAAI/AAAAAAAAAZE/i_NQ2m6L6rI/s50-c-k-no/photo.jpg",
      "userId": "104735520205871768811"
     },
     "user_tz": -60
    },
    "id": "9Robnk4jyELm",
    "outputId": "603a68e8-8b9d-405a-ebfc-80142fecd483"
   },
   "outputs": [],
   "source": [
    "# Define an uniform variable between 2 and 10\n",
    "a = mm.mmVar(2,10)\n",
    "\n",
    "# Calculate and draw the histogram\n",
    "vRes,vData = mm.doMontecarlo(10000,lambda x:x,a)\n",
    "calc.plotHist(vRes,50,\"'a' variable histogram\",\"Values\",\"Frequency\")\n",
    "a.generic()"
   ]
  },
  {
   "cell_type": "code",
   "execution_count": null,
   "metadata": {
    "colab": {
     "autoexec": {
      "startup": false,
      "wait_interval": 0
     },
     "base_uri": "https://localhost:8080/",
     "height": 376
    },
    "colab_type": "code",
    "executionInfo": {
     "elapsed": 714,
     "status": "ok",
     "timestamp": 1521308814476,
     "user": {
      "displayName": "Vicente Jimenez",
      "photoUrl": "//lh4.googleusercontent.com/-l1GS4wWn-mI/AAAAAAAAAAI/AAAAAAAAAZE/i_NQ2m6L6rI/s50-c-k-no/photo.jpg",
      "userId": "104735520205871768811"
     },
     "user_tz": -60
    },
    "id": "7X_ys5pbzNFR",
    "outputId": "73dde9e4-01b0-449e-b8b1-91e22dea1f61"
   },
   "outputs": [],
   "source": [
    "# Define a norma variable with central value 10 and tolerance of 10% (3 sigmas)\n",
    "b = mm.mmVar(10,tol=0.1,ns=3)\n",
    "\n",
    "# Calculate and draw the histogram\n",
    "vRes,vData = mm.doMontecarlo(10000,lambda x:x,b)\n",
    "calc.plotHist(vRes,50,\"'b' variable histogram\",\"Values\",\"Frequency\")\n",
    "b.generic()"
   ]
  },
  {
   "cell_type": "markdown",
   "metadata": {
    "colab_type": "text",
    "id": "RZTH2gb4_9D7"
   },
   "source": [
    "Observe that, there are some cases that are outside of the $3\\sigma$ range that is, in this case, between 9 and 11."
   ]
  },
  {
   "cell_type": "markdown",
   "metadata": {
    "colab_type": "text",
    "id": "_yfMWbNHzt32"
   },
   "source": [
    "## Getting information about a mmVar object\n",
    "\n",
    "You can get information about a variable defined as **mmVar** object using the following three methods:\n",
    "\n",
    ">* var.maximum()\n",
    "\n",
    ">* var.minimum()\n",
    "\n",
    ">* var.typical()\n",
    "\n",
    "There is no member function to obtain the **ns** or the $\\sigma$ values. As you have created the variables, you already need to know. You could say the same about **maximum**, **minimum** and **typical** values, but those values, as we will see later, will be propagated when operating with **mmVar** objects whereas **normal** parameters are discarded.\n",
    "\n",
    "If you **print** a **mmVar** object you will use the **str** method that generates a strings with the following format:\n",
    "\n",
    ">`(max:typ:min)`\n",
    "\n",
    "The code below shows how to access to the variable contents"
   ]
  },
  {
   "cell_type": "code",
   "execution_count": null,
   "metadata": {
    "colab": {
     "autoexec": {
      "startup": false,
      "wait_interval": 0
     },
     "base_uri": "https://localhost:8080/",
     "height": 187
    },
    "colab_type": "code",
    "executionInfo": {
     "elapsed": 492,
     "status": "ok",
     "timestamp": 1521308817170,
     "user": {
      "displayName": "Vicente Jimenez",
      "photoUrl": "//lh4.googleusercontent.com/-l1GS4wWn-mI/AAAAAAAAAAI/AAAAAAAAAZE/i_NQ2m6L6rI/s50-c-k-no/photo.jpg",
      "userId": "104735520205871768811"
     },
     "user_tz": -60
    },
    "id": "pZJptXx_0Hs0",
    "outputId": "86c33d5c-fa6c-4934-bfc9-5afe241e15c1"
   },
   "outputs": [],
   "source": [
    "# Variable 'a' information\n",
    "\n",
    "print(\"Printing a: \",a)\n",
    "print(\"a maximum: \",a.maximum())\n",
    "print(\"a minimum: \",a.minimum())\n",
    "print(\"a typical: \",a.typical())\n",
    "\n",
    "print()\n",
    "  \n",
    "# Variable 'b' information\n",
    "\n",
    "print(\"Printing b: \",b)\n",
    "print(\"b maximum: \",b.maximum())\n",
    "print(\"b minimum: \",b.minimum())\n",
    "print(\"b typical: \",b.typical())\n"
   ]
  },
  {
   "cell_type": "markdown",
   "metadata": {
    "colab_type": "text",
    "id": "PGK0uany6o6U"
   },
   "source": [
    "## Freeze to typical\n",
    "\n",
    "You can freeze the value of a **mmVar** object to its typical value using the **setTypical()** method. If the typical value is **undefined** you will get an exception.\n",
    "\n",
    ">`var.setTypical()`\n",
    "\n",
    "Once you have **frozen** the variable, it will behave as a constant value. The above method also returns the typical frozen value of the variable.\n",
    "\n",
    "If you want to revert to the normal **unfrozen** variable you can use the **generic()** method:\n",
    "\n",
    ">`var.generic()`\n",
    "\n",
    "There are two mmVars module functions that ease the freeze and unfreeze of several variables at the same time. Assuming you imported the module as **mm** you can set severa variables to the typical value using the **setTypical** function:\n",
    "\n",
    ">`mm.setTypical(var1,var,var3,...)`\n",
    "\n",
    "This function also returns a tuple with the typical values of the variables\n",
    "\n",
    "If you want to return several variables to the default state you can use the **generic** function. This one don't return anything\n",
    "\n",
    ">`mm.generic(var1,var,var3,...)`\n",
    "\n",
    "The following code shows the frozen variable operation"
   ]
  },
  {
   "cell_type": "code",
   "execution_count": null,
   "metadata": {
    "colab": {
     "autoexec": {
      "startup": false,
      "wait_interval": 0
     },
     "base_uri": "https://localhost:8080/",
     "height": 413
    },
    "colab_type": "code",
    "executionInfo": {
     "elapsed": 506,
     "status": "ok",
     "timestamp": 1521308821736,
     "user": {
      "displayName": "Vicente Jimenez",
      "photoUrl": "//lh4.googleusercontent.com/-l1GS4wWn-mI/AAAAAAAAAAI/AAAAAAAAAZE/i_NQ2m6L6rI/s50-c-k-no/photo.jpg",
      "userId": "104735520205871768811"
     },
     "user_tz": -60
    },
    "id": "AyErtikC7eqU",
    "outputId": "ccd007dd-07e0-42a9-c7ec-b9a4cf85b233"
   },
   "outputs": [],
   "source": [
    "print('Current variable b: ',b)\n",
    "\n",
    "value = b.setTypical()  \n",
    "print('Freezing b to typical value ',value)\n",
    "\n",
    "print('Current variable b: ',b)\n",
    "\n",
    "print('Unfreezing to generic')\n",
    "b.generic()\n",
    "\n",
    "print('Current variable b: ',b)\n",
    "\n",
    "print()\n",
    "print(\"Trying to set typical on 'a' generates an exception\")\n",
    "try:\n",
    "    a.setTypical()\n",
    "except:\n",
    "    pass\n",
    "  \n",
    "print(\"New variable 'c' uniform with a non centered typical value\")\n",
    "c = mm.mmVar(-2,7,5)\n",
    "print('Variable c: ',c)\n",
    "\n",
    "print()\n",
    "print('Freeze to typical b and c variables at once')\n",
    "t=mm.setTypical(b,c)\n",
    "\n",
    "print('Current b: ',b,' Current c: ',c)\n",
    "print('Tuple returned: ',t)\n",
    "\n",
    "print()\n",
    "print('Set to generic both variables at once')\n",
    "mm.generic(b,c)\n",
    "print('Current b: ',b,' Current c: ',c)\n"
   ]
  },
  {
   "cell_type": "markdown",
   "metadata": {
    "colab_type": "text",
    "id": "TdsZaQ8vEB3p"
   },
   "source": [
    "## Montecarlo : Freeze to random\n",
    "\n",
    "You can also freeze one variable to have a **random** value between the **maximum** and the **minimum** one. The random value will have the selected distribution for the variable **uniform** or **normal**. \n",
    "\n",
    "Use the **montecarlo** method to freeze the variable to a random value. The [montecarlo](https://en.wikipedia.org/wiki/Monte_Carlo_method) name comes from gambling and is also the name given to the use of random numbers to solve, for instance, optimization problems.\n",
    "\n",
    ">`var.montecarlo()`\n",
    "\n",
    "As in the **setTypical** method, this method returns the random value set on the variable.\n",
    "\n",
    "Remember that the **normal** distribuion is really **unbound** so values outside the maximum to minimum range can be generated if you use this distribution.\n",
    "\n",
    "Once you have frozen the variable, it will behave as a constant value.  \n",
    "\n",
    "The following code shows the **montecarlo** method"
   ]
  },
  {
   "cell_type": "code",
   "execution_count": null,
   "metadata": {
    "colab": {
     "autoexec": {
      "startup": false,
      "wait_interval": 0
     },
     "base_uri": "https://localhost:8080/",
     "height": 319
    },
    "colab_type": "code",
    "executionInfo": {
     "elapsed": 506,
     "status": "ok",
     "timestamp": 1521308824726,
     "user": {
      "displayName": "Vicente Jimenez",
      "photoUrl": "//lh4.googleusercontent.com/-l1GS4wWn-mI/AAAAAAAAAAI/AAAAAAAAAZE/i_NQ2m6L6rI/s50-c-k-no/photo.jpg",
      "userId": "104735520205871768811"
     },
     "user_tz": -60
    },
    "id": "EKDUevXKGIQh",
    "outputId": "12f2ef95-1444-477f-a880-6d224fca7601"
   },
   "outputs": [],
   "source": [
    "a.generic() # Added for re-runs of this cell\n",
    "print(\"Uniform variable a: \",a)\n",
    "\n",
    "a.montecarlo()\n",
    "print(\"Now it's frezed to value \",a)\n",
    "print(\"Still the same value \",a)\n",
    "\n",
    "print()\n",
    "print('New montecarlo calls generate new values')\n",
    "print()\n",
    "for i in range(10):\n",
    "    print(\"    Montecarlo instance #\",i+1,\" : \",a.montecarlo())\n",
    "\n"
   ]
  },
  {
   "cell_type": "markdown",
   "metadata": {
    "colab_type": "text",
    "id": "IAdLcNnxHr_U"
   },
   "source": [
    "## Optimization with doMontecarlo\n",
    "\n",
    "The montecarlo method is usual in **optimization** problems.\n",
    "\n",
    "Let's say you have a function that depends on several variables and you want to know the **range of values** the function can generate. One way to solve the problem is to give as input values to the function random values inside their valid ranges. Each time the funcion is evaluated with different random values is called a **run**\n",
    "\n",
    "The function **doMontecarlo** perfoms **n** runs:\n",
    "\n",
    ">`vRes,vData = doMontecarlo(n,func,*vars)`\n",
    "\n",
    "Where:\n",
    "\n",
    ">**func** is a function that depends on several variables\n",
    "\n",
    ">**n** is the number of evaluations of the function with different random values\n",
    "\n",
    ">**\\*vars** is the list of variables (can be **mmVar** objects) that are arguments of the function **func**\n",
    "\n",
    "The function returns two sorted lists:\n",
    "\n",
    ">**vRes** is a list of the n values obtained evaluating the function **func**\n",
    "\n",
    ">**vData** is a list of n elements, one for each montecarlo run, that are also lists of two elements:\n",
    "\n",
    ">>The value obtained evaluating **func** (same as in vRes)\n",
    "\n",
    ">>A tuple with the **func** arguments for this value\n",
    "\n",
    "As indicated the two returned lists are ordered. The first element corresponds to the run that has given the lowest return value from **func** and the last element is the one that has given the highest return value.\n",
    "\n",
    "Using the **vData** return list you can not only see the maximum and minimum values of the set of runs, but also you can see the arguments used on **func** for those values.\n"
   ]
  },
  {
   "cell_type": "markdown",
   "metadata": {
    "colab_type": "text",
    "id": "-7tCgd1II6BC"
   },
   "source": [
    "##Montecarlo Histogram\n",
    "\n",
    "One way to represent the information returned by the **doMontecarlo** function is to plot an [histogram](https://en.wikipedia.org/wiki/Histogram) of the **vRes** vector.\n",
    "\n",
    "In order to draw an histogram from a vector of values, we divide the range of values contained in the vector in a **$n_{Bins}$** number of bins. For instance, if the range of values on the vector is between 0 an 10 and we use 10 bins, the first bin will include values between 0 and 1, the second between 1 and 2, and son on...\n",
    "\n",
    "Then we include each value in the vector to the bin where it belongs. Afterwars we represent the bins in a **bar chart** using, for each bar, a height equal to the number of elements in the bin.\n",
    "\n",
    "The **plotHist** function in the **calc** module plots a vector histogram using the **matplotlib** module.\n",
    "\n",
    ">>`calc.plotHist(vRes,n,Title,x_label,y_label)`\n",
    "\n",
    "Where:\n",
    "\n",
    ">**vRes** is the vector to represent as an histogram\n",
    "\n",
    ">**n** is the number of bins\n",
    "\n",
    ">**Title** is the plot tittle string\n",
    "\n",
    ">**x_label** is the label string on x axis\n",
    "\n",
    ">**y_label** is the label string on y axis\n",
    "\n",
    "Everything is easier with an **example**, so here it is:"
   ]
  },
  {
   "cell_type": "markdown",
   "metadata": {
    "colab_type": "text",
    "id": "tl7NGeKDNjIG"
   },
   "source": [
    "## Optimization example\n",
    "\n",
    "You have a series connection of a supply **$V_{DD}$** a resistor **$R$** and a LED diode with forward voltage **$V_D$**. The current on the diode will be:\n",
    "\n",
    ">$I_{LED}=\\frac{V_{DD}-V_D}{R}$\n",
    "\n",
    "Suppose that the supply $V_{DD}$ can have any uniform value between 4.5V and 5V,the voltage on the LED $V_D$ is normal centered arround 1.5V with $3\\sigma$ up to 1.4V and 1.6V and the resistor is $470\\Omega$ nominal with a 5% tolerance defined as $2\\sigma$\n",
    "\n",
    "The following code shows, in an **histogram**, the expected distribution range of the current on the LED\n",
    "\n",
    "The code also shows, using the **vData** vector, the **maximum** and **minimum** values of the LED current together with the values of $V_{DD}$, $V_D$ and $R$ related to them."
   ]
  },
  {
   "cell_type": "code",
   "execution_count": null,
   "metadata": {
    "colab": {
     "autoexec": {
      "startup": false,
      "wait_interval": 0
     },
     "base_uri": "https://localhost:8080/",
     "height": 584
    },
    "colab_type": "code",
    "executionInfo": {
     "elapsed": 966,
     "status": "ok",
     "timestamp": 1521308829514,
     "user": {
      "displayName": "Vicente Jimenez",
      "photoUrl": "//lh4.googleusercontent.com/-l1GS4wWn-mI/AAAAAAAAAAI/AAAAAAAAAZE/i_NQ2m6L6rI/s50-c-k-no/photo.jpg",
      "userId": "104735520205871768811"
     },
     "user_tz": -60
    },
    "id": "jKyuLu58Naag",
    "outputId": "cc9bf2ce-f8bf-4e75-d960-1be88c10d6dd"
   },
   "outputs": [],
   "source": [
    "# Random variables\n",
    "vdd  = mm.mmVar(4.5,5)\n",
    "vled = mm.mmVar(1.4,1.6,ns=3)\n",
    "R    = mm.mmVar(470,tol=0.05,ns=3)\n",
    "\n",
    "# Current as function of parameters\n",
    "def current(vsup,vd,r):\n",
    "    return 1000*(vsup-vd)/r  # In mA\n",
    "\n",
    "# Montecarlo simulation with 10000 runs\n",
    "vRes,vData = mm.doMontecarlo(10000,current,vdd,vled,R)\n",
    "\n",
    "# Current histogram\n",
    "calc.plotHist(vRes,50,\"LED current histogram\",\"Curent (mA)\",\"Frequency\")\n",
    "\n",
    "# Show limits\n",
    "print()\n",
    "print('Maximum current is ',vRes[-1],\" mA when\")\n",
    "print('\\tVdd is ',vData[-1][1][0],' V')\n",
    "print('\\tVled is ',vData[-1][1][1],' V')\n",
    "print('\\tR is ',vData[-1][1][2],' Ohm')\n",
    "print()\n",
    "print('Minimum current is ',vRes[0],\" mA when\")\n",
    "print('\\tVdd is ',vData[0][1][0],' V')\n",
    "print('\\tVled is ',vData[0][1][1],' V')\n",
    "print('\\tR is ',vData[0][1][2],' Ohm')\n",
    "print()"
   ]
  },
  {
   "cell_type": "markdown",
   "metadata": {
    "colab_type": "text",
    "id": "nCmDnkh4Qwtd"
   },
   "source": [
    "This is simple case, you could expect that the maximum current will take place when the supply is **5V**, the led voltage is **1.4V** and the resistor is minimum at a 5% below $470\\Omega$ (that equals $446.5\\Omega$). Maximum LED current will be, in this case:\n",
    "\n",
    ">$I_{LED\\:max}=\\frac{V_{DD\\:max}-V_{D\\:min}}{R_{min}}=\\frac{5V-1.4V}{446.5}=8.06\\:mA$\n",
    "\n",
    "\n",
    "You can see that the obtained results are not too far from the expected values. The solution not only shows the **maximum** and **minimum** of the current but also the probability **distribution** using an **histogram**."
   ]
  },
  {
   "cell_type": "markdown",
   "metadata": {
    "colab_type": "text",
    "id": "aU0GUu6VMMha"
   },
   "source": [
    "## Cumulative function\n",
    "\n",
    "By integrating the information on the **vRes** vector we can obtain the [cumulative distribution function](https://en.wikipedia.org/wiki/Cumulative_distribution_function) of the LED current. The **cumulative** function of the **mmVars** module gives, for each value of the input vector **v**, the number of vector elements that smaller or equal than this value divided by the total number of elements in the vector.\n",
    "\n",
    ">$f_{Cumulative}(x)=\\frac{elements \\: less \\: than \\: x}{total \\: number \\: of \\: elements}$\n",
    "\n",
    "The **cumulative** function takes a **sorted v1** vector and returns an equal sized **v2** vector\n",
    "\n",
    ">`v2 = cumulative(v1)`\n",
    "\n",
    "As input vector is sorted, vector **v2** is just a sequence:\n",
    "\n",
    ">$\\frac{1}{n} \\quad \\frac{2}{n} \\quad \\frac{3}{n} \\quad \\frac{4}{n} \\quad ... \\quad \\frac{n}{n} $\n",
    "\n",
    "The following **code** shows the cumulative function associated to the **LED current** in the example"
   ]
  },
  {
   "cell_type": "code",
   "execution_count": null,
   "metadata": {
    "colab": {
     "autoexec": {
      "startup": false,
      "wait_interval": 0
     },
     "base_uri": "https://localhost:8080/",
     "height": 376
    },
    "colab_type": "code",
    "executionInfo": {
     "elapsed": 566,
     "status": "ok",
     "timestamp": 1521308833010,
     "user": {
      "displayName": "Vicente Jimenez",
      "photoUrl": "//lh4.googleusercontent.com/-l1GS4wWn-mI/AAAAAAAAAAI/AAAAAAAAAZE/i_NQ2m6L6rI/s50-c-k-no/photo.jpg",
      "userId": "104735520205871768811"
     },
     "user_tz": -60
    },
    "id": "B5u5kmQgL02T",
    "outputId": "655a58b4-d85e-44e2-ba27-d84a8a7513f7"
   },
   "outputs": [],
   "source": [
    "# Cumulative funcion\n",
    "cf = mm.cumulative(vRes)\n",
    "calc.plot11(vRes,cf,\"Cumulative function\",\"Current (mA)\",\"Probability\")"
   ]
  },
  {
   "cell_type": "markdown",
   "metadata": {
    "colab_type": "text",
    "id": "RBEIW2jGQF8T"
   },
   "source": [
    "## Probability for a range of values\n",
    "\n",
    "Given a **cumulative function**, the probability of having a value between $X_{min}$ and $X_{max}$ is:\n",
    "\n",
    ">$prob=f_{Cumulative}(X_{max})-f_{Cumulative}(X_{min})$\n",
    "\n",
    "The **prob** function of the **mmVars** module just does that:\n",
    "\n",
    ">`prob(vRes,a,b)`\n",
    "\n",
    "It returns the probability that a random value from the vector **vRes** is between **a** and **b**. The **prob** function gets the maximum and minimum from the a and b vales so that *prob(vRes,a,b)* and *prob(vRes,b,a)* give the same result.\n",
    "\n",
    "The following **code** use the **prob** function to calculate the probability to have a LED current between two given values."
   ]
  },
  {
   "cell_type": "code",
   "execution_count": null,
   "metadata": {
    "colab": {
     "autoexec": {
      "startup": false,
      "wait_interval": 0
     },
     "base_uri": "https://localhost:8080/",
     "height": 36
    },
    "colab_type": "code",
    "executionInfo": {
     "elapsed": 534,
     "status": "ok",
     "timestamp": 1521308836040,
     "user": {
      "displayName": "Vicente Jimenez",
      "photoUrl": "//lh4.googleusercontent.com/-l1GS4wWn-mI/AAAAAAAAAAI/AAAAAAAAAZE/i_NQ2m6L6rI/s50-c-k-no/photo.jpg",
      "userId": "104735520205871768811"
     },
     "user_tz": -60
    },
    "id": "Z-AeLrN2QJwr",
    "outputId": "af2b4c9d-084c-4e0e-de91-880da58613f6"
   },
   "outputs": [],
   "source": [
    "# Prob\n",
    "p = mm.prob(vRes,6.25,7.5)\n",
    "print('Probability of LED current to be between 6.25 mA and 7.5 mA is ',100*p,'%')"
   ]
  },
  {
   "cell_type": "markdown",
   "metadata": {
    "colab_type": "text",
    "id": "O8MyGBWaU4Tq"
   },
   "source": [
    "## Operating with mmVar objects\n",
    "\n",
    "Using the **montecarlo** methods you can obtain an approximation of the **maximum** and **minimum** values of a function that has parameters defined as **mmVar** objects. This, however, does not guarantee obtaining the **real** maximum and minimum values. In the previous LED example, for instance, the montecarlo method does not give exactly the expected 8.06 mA value.\n",
    "\n",
    "You can operate with **mmVar** objects using the standard **+**, **-**, ***** and **/** operators as seen on the following **example**"
   ]
  },
  {
   "cell_type": "code",
   "execution_count": null,
   "metadata": {
    "colab": {
     "autoexec": {
      "startup": false,
      "wait_interval": 0
     },
     "base_uri": "https://localhost:8080/",
     "height": 168
    },
    "colab_type": "code",
    "executionInfo": {
     "elapsed": 518,
     "status": "ok",
     "timestamp": 1521308839038,
     "user": {
      "displayName": "Vicente Jimenez",
      "photoUrl": "//lh4.googleusercontent.com/-l1GS4wWn-mI/AAAAAAAAAAI/AAAAAAAAAZE/i_NQ2m6L6rI/s50-c-k-no/photo.jpg",
      "userId": "104735520205871768811"
     },
     "user_tz": -60
    },
    "id": "QFse2YKmYm1M",
    "outputId": "d6b7fc6d-43de-4fbf-909e-55f0428bb130"
   },
   "outputs": [],
   "source": [
    "# Two mmVar objects\n",
    "a = mm.mmVar(1,5,2)\n",
    "b = mm.mmVar(10,20,15)\n",
    "print('a = ',a)\n",
    "print('b = ',b)\n",
    "\n",
    "# Some operations\n",
    "print()\n",
    "print('a + b = ',a+b)\n",
    "print('a - b = ',a-b)\n",
    "print('a * b = ',a*b)\n",
    "print('a / b = ',a/b)\n",
    "print('-a = ',-a)"
   ]
  },
  {
   "cell_type": "markdown",
   "metadata": {
    "colab_type": "text",
    "id": "oY1OGW-sZS9J"
   },
   "source": [
    "When you generate a new **mmVar** object by making some operations with other **mVar** objects, you get the proper **maximum** and **minimum** limits, but new objects will always get the default **uniform** distribution. \n",
    "\n",
    "That means that normal distribution information is lost when operating on **mmVar** objects. Note that, after operating on objects, the distribution of the result **won't be really uniform**. In fact, due to the [Central Limit Theorem](https://en.wikipedia.org/wiki/Central_limit_theorem), adding several random variables tend to yield a normal distribution regardless of the distribution of the original variables. The problem is more complex when doing other operations different of just adding. The **mmVars** module is not capable to deduce how the **probability function** changes after operating on **mmVar** objects.\n",
    "\n",
    "You can also operate mixing **mmVar** objects and constat values:"
   ]
  },
  {
   "cell_type": "code",
   "execution_count": null,
   "metadata": {
    "colab": {
     "autoexec": {
      "startup": false,
      "wait_interval": 0
     },
     "base_uri": "https://localhost:8080/",
     "height": 130
    },
    "colab_type": "code",
    "executionInfo": {
     "elapsed": 764,
     "status": "ok",
     "timestamp": 1521308841672,
     "user": {
      "displayName": "Vicente Jimenez",
      "photoUrl": "//lh4.googleusercontent.com/-l1GS4wWn-mI/AAAAAAAAAAI/AAAAAAAAAZE/i_NQ2m6L6rI/s50-c-k-no/photo.jpg",
      "userId": "104735520205871768811"
     },
     "user_tz": -60
    },
    "id": "XjKs6MH7aXpc",
    "outputId": "ed28128b-ba46-4c94-f370-d90ca4564d18"
   },
   "outputs": [],
   "source": [
    "print('a = ',a)\n",
    "print('b = ',b)\n",
    "print()\n",
    "print('2 * a = ',2*a)\n",
    "print('10 / b = ',10/b)\n",
    "print('a + 4 = ',a+4)"
   ]
  },
  {
   "cell_type": "markdown",
   "metadata": {
    "colab_type": "text",
    "id": "uKnD_6-vak--"
   },
   "source": [
    "Trying to divide by a **mmVar** object that includes **zero** in the range will generate an exception as it includes $\\infty$ in the range."
   ]
  },
  {
   "cell_type": "code",
   "execution_count": null,
   "metadata": {
    "colab": {
     "autoexec": {
      "startup": false,
      "wait_interval": 0
     },
     "base_uri": "https://localhost:8080/",
     "height": 149
    },
    "colab_type": "code",
    "executionInfo": {
     "elapsed": 514,
     "status": "ok",
     "timestamp": 1521308844144,
     "user": {
      "displayName": "Vicente Jimenez",
      "photoUrl": "//lh4.googleusercontent.com/-l1GS4wWn-mI/AAAAAAAAAAI/AAAAAAAAAZE/i_NQ2m6L6rI/s50-c-k-no/photo.jpg",
      "userId": "104735520205871768811"
     },
     "user_tz": -60
    },
    "id": "SC_Jtmfmaw47",
    "outputId": "e9b26b07-0d6a-4688-ef26-c44d11062593"
   },
   "outputs": [],
   "source": [
    "c = mm.mmVar(1,-1,0)\n",
    "\n",
    "print('c = ',c)\n",
    "\n",
    "print(\"Tryin to execute print('1/c = ',1/c)\")\n",
    "\n",
    "try:\n",
    "    print('1/c = ',1/c)\n",
    "except:\n",
    "    pass"
   ]
  },
  {
   "cell_type": "markdown",
   "metadata": {
    "colab_type": "text",
    "id": "v10TkCxnbjPo"
   },
   "source": [
    "The **mmVar** module also includes the following functions:\n",
    "\n",
    ">|||\n",
    ">|---|---|\n",
    ">|**sq(x)** &nbsp; &nbsp; | Square of a value (Don't work with negatives)|\n",
    ">|**sqrt(x)** &nbsp; &nbsp; | Square root of a value|\n",
    ">|**exp(x)** &nbsp; &nbsp; | Exponential function|\n",
    ">|**log(x)** &nbsp; &nbsp; | Natural logarithm (Don't work with negatives)|\n",
    ">|**ipow(x,e)** &nbsp; &nbsp; | x^e with constant positive integer e|\n",
    ">|**sin(x)** &nbsp; &nbsp; | Sine function|\n",
    ">|**cos(x)** &nbsp; &nbsp; | Cosine function|\n",
    "\n",
    "Functions **sqrt(x)** and **log(x)** only work on positive numbers (zero is also not valid for **log(x)**). If you try to use them on negative numbers, an exception will be generated.\n",
    "\n",
    "If you use any of the above functions with float or integer values you will get the normal expected functions. If you use them with **mmVar** objects, you will get the proper **max** and **min** limits. The **typical** value will be calculated just making the operation on the typical value. As commented before, any information on the **probability function** will be lost.\n",
    "\n",
    "The following **example** shows some cases:"
   ]
  },
  {
   "cell_type": "code",
   "execution_count": null,
   "metadata": {
    "colab": {
     "autoexec": {
      "startup": false,
      "wait_interval": 0
     },
     "base_uri": "https://localhost:8080/",
     "height": 772
    },
    "colab_type": "code",
    "executionInfo": {
     "elapsed": 540,
     "status": "ok",
     "timestamp": 1521308846632,
     "user": {
      "displayName": "Vicente Jimenez",
      "photoUrl": "//lh4.googleusercontent.com/-l1GS4wWn-mI/AAAAAAAAAAI/AAAAAAAAAZE/i_NQ2m6L6rI/s50-c-k-no/photo.jpg",
      "userId": "104735520205871768811"
     },
     "user_tz": -60
    },
    "id": "TZrPhcaKdJ2Z",
    "outputId": "94e322a6-90bf-4b72-b23c-53456bd76dad"
   },
   "outputs": [],
   "source": [
    "d = mm.mmVar(2,-3,-1)\n",
    "\n",
    "print('a = ',a)\n",
    "print('b = ',b)\n",
    "print('c = ',c)\n",
    "print('d = ',d)\n",
    "\n",
    "print()\n",
    "\n",
    "print('sq(d) = ',mm.sq(d))\n",
    "print('sqrt(b) = ',mm.sqrt(b))\n",
    "print('exp(a) = ',mm.exp(a))\n",
    "print('log(b) = ',mm.log(b))\n",
    "print('exp(log(b)) = ',mm.exp(mm.log(b))) # This should yield 'b'\n",
    "print('ipow(d,3) = ',mm.ipow(d,3))\n",
    "print('sin(a) = ',mm.sin(a))\n",
    "print('cos(c) = ',mm.cos(c))\n",
    "\n",
    "print()\n",
    "print('Exceptions on out of range values')\n",
    "\n",
    "try:\n",
    "    x = mm.sqrt(c)\n",
    "except:\n",
    "    pass\n",
    "  \n",
    "try:\n",
    "    x = mm.log(c)\n",
    "except:\n",
    "    pass  \n",
    " \n",
    "try:\n",
    "    x = mm.ipow(a,1.5)\n",
    "except:\n",
    "    pass\n",
    "\n",
    "print('Operation on normal numbers:')\n",
    "\n",
    "print()\n",
    "\n",
    "print('sq(3) = ',mm.sq(3))\n",
    "print('sqrt(64) = ',mm.sqrt(64))\n",
    "print('exp(1) = ',mm.exp(1))\n",
    "print('log(10) = ',mm.log(10))\n",
    "print('exp(log(8)) = ',mm.exp(mm.log(8))) # This should yield 8\n",
    "print('ipow(2,3) = ',mm.ipow(2,3))\n",
    "print('sin(2) = ',mm.sin(2))\n",
    "print('cos(0) = ',mm.cos(0))"
   ]
  },
  {
   "cell_type": "markdown",
   "metadata": {
    "colab_type": "text",
    "id": "Ww3f8MXFVoX6"
   },
   "source": [
    "## Independence and Individuality\n",
    "\n",
    "There is a problem when operating on **mmVar** objects.\n",
    "\n",
    "When you operate on two **mmVar** objects, the code assumes independence between the objects. That is, it is assumed that each object can have any value in the range defined by the **minimum** and **maximum** limits.\n",
    "\n",
    "An example can give some light on the subject:"
   ]
  },
  {
   "cell_type": "code",
   "execution_count": null,
   "metadata": {
    "colab": {
     "autoexec": {
      "startup": false,
      "wait_interval": 0
     },
     "base_uri": "https://localhost:8080/",
     "height": 149
    },
    "colab_type": "code",
    "executionInfo": {
     "elapsed": 496,
     "status": "ok",
     "timestamp": 1521308850398,
     "user": {
      "displayName": "Vicente Jimenez",
      "photoUrl": "//lh4.googleusercontent.com/-l1GS4wWn-mI/AAAAAAAAAAI/AAAAAAAAAZE/i_NQ2m6L6rI/s50-c-k-no/photo.jpg",
      "userId": "104735520205871768811"
     },
     "user_tz": -60
    },
    "id": "VWq08-MscYP5",
    "outputId": "b8528fc3-970d-43a4-b9b8-1cd0c745e295"
   },
   "outputs": [],
   "source": [
    "a = mm.mmVar(4,-1,2)\n",
    "\n",
    "print('a = ',a)\n",
    "\n",
    "print()\n",
    "\n",
    "print('a*a = ',a*a)\n",
    "print('sq(a) = ',mm.sq(a))\n",
    "\n",
    "print()\n",
    "\n",
    "b = mm.mmVar(6,1,3)\n",
    "\n",
    "print('b = ',b)\n",
    "print('b/b = ',b/b)"
   ]
  },
  {
   "cell_type": "markdown",
   "metadata": {
    "colab_type": "text",
    "id": "Isqqs1nadEjr"
   },
   "source": [
    "You know that **a\\*a** should be equal to **sq(a)**. You can see that this is true for the **typical** value where you get the expected **2\\*2 = 4** value and the **maximum** value where you get the expected **4\\*4 = 16 ** value.\n",
    "\n",
    "You can also see that the **sq()** formula gives the proper **maximum** and **minumum** values whereas **a\\*a** gives a wrong **minimum** value.\n",
    "\n",
    "When calculating a product **a\\*b**, the **mmVars** module determines the range of the **a** value and the range of the **b** value and assumes that both variables **a** and **b** are independent of each other. So, having one value on **a** does not affect the value we can get on **b**.\n",
    "\n",
    "The same procedure happens when calculating **a\\*a**. The **mmVars** module consider both instances of **a** as **generic** and **independent** of each other. \n",
    "\n",
    "Note that the **maximum** limit on **a\\*a** is right. This is because, in this case, for the **maximum**, having or not independence between the variables makes no difference.\n",
    "\n",
    "The **independence** problem also explains why **b/b** in the example is also completely **wrong** and don't give the expected **1** result.\n",
    "\n",
    "You can think that **mmVars** should know better. The problem is that when you operate on two variables, the origin of those variables are lost. \n",
    "\n",
    "You cannot expect to have problems only when you operate a variable with itself. You can also have problems whenever you use a variable **two or more times** in the same expression:"
   ]
  },
  {
   "cell_type": "code",
   "execution_count": null,
   "metadata": {
    "colab": {
     "autoexec": {
      "startup": false,
      "wait_interval": 0
     },
     "base_uri": "https://localhost:8080/",
     "height": 422
    },
    "colab_type": "code",
    "executionInfo": {
     "elapsed": 552,
     "status": "ok",
     "timestamp": 1521308853348,
     "user": {
      "displayName": "Vicente Jimenez",
      "photoUrl": "//lh4.googleusercontent.com/-l1GS4wWn-mI/AAAAAAAAAAI/AAAAAAAAAZE/i_NQ2m6L6rI/s50-c-k-no/photo.jpg",
      "userId": "104735520205871768811"
     },
     "user_tz": -60
    },
    "id": "lSzPM9rGfHkT",
    "outputId": "5f76f349-cdd6-4921-a4f9-e0264ed16d02"
   },
   "outputs": [],
   "source": [
    "a = mm.mmVar(4,-1,2)\n",
    "\n",
    "print('a = ',a)\n",
    "print('a / ( a + 2 ) = ',a*a)\n",
    "\n",
    "print()\n",
    "\n",
    "# Show the curve\n",
    "x = np.arange(a.minimum(),a.maximum(),0.01)\n",
    "y = x / (x + 2)\n",
    "calc.plot11(x,y,\"\",\"x\",\"x / ( x + 2 )\")"
   ]
  },
  {
   "cell_type": "markdown",
   "metadata": {
    "colab_type": "text",
    "id": "NmQHNN12iYz7"
   },
   "source": [
    "As you can see from the **curve**, both the **maximum** and the **minumum** calculated values are **wrong**.\n",
    "\n",
    "This is because in both cases, independence of the **x** on both sides of the fraction yields a maximum or minimum value of the expression that uses diferent limits for **x**.\n",
    "\n",
    ">$f_{max}=\\frac{x_{max}}{x_{min}+2}$ &nbsp; &nbsp; &nbsp; &nbsp; &nbsp; &nbsp; $f_{min}=\\frac{x_{min}}{x_{max}+2}$\n",
    "\n",
    "In this particula case, as the function is [monotonically increasing](https://en.wikipedia.org/wiki/Monotonic_function), the maximum and minimum values can be calculated as:\n",
    "\n",
    ">$f_{max}=\\frac{x_{max}}{x_{max}+2}$ &nbsp; &nbsp; &nbsp; &nbsp; &nbsp; &nbsp; $f_{min}=\\frac{x_{min}}{x_{min}+2}$\n",
    "\n",
    "For an x range between **4** and **-1** the limits are **0.66** and **-1** just as the curve shows.\n",
    "\n",
    "There is no easy generic way to solve this problem when the function depends on several variables. If it **existed** a good solution, some complex [maxima and minima problems](https://en.wikipedia.org/wiki/Maxima_and_minima) will be easily solved.\n",
    "\n",
    "In any case, assuming independence always gives a **bounding limit** for the function results. For instance, in the example, you are guaranteed that the funcion will be bound between the computed **16** and **-4** values although the real limits are more restrictive.\n",
    "\n",
    "The **mmVar** object **individual** method eases detecting more than use of a **mmVar** object in a expression. It marks the object as individual so that an **exception** is raised when you try to use the object **twice** as you can see in the **example**:"
   ]
  },
  {
   "cell_type": "code",
   "execution_count": null,
   "metadata": {
    "colab": {
     "autoexec": {
      "startup": false,
      "wait_interval": 0
     },
     "base_uri": "https://localhost:8080/",
     "height": 206
    },
    "colab_type": "code",
    "executionInfo": {
     "elapsed": 502,
     "status": "ok",
     "timestamp": 1521308856580,
     "user": {
      "displayName": "Vicente Jimenez",
      "photoUrl": "//lh4.googleusercontent.com/-l1GS4wWn-mI/AAAAAAAAAAI/AAAAAAAAAZE/i_NQ2m6L6rI/s50-c-k-no/photo.jpg",
      "userId": "104735520205871768811"
     },
     "user_tz": -60
    },
    "id": "Xje57aBBkwcH",
    "outputId": "34b93af7-116f-4632-e936-fcef8fafc17e"
   },
   "outputs": [],
   "source": [
    "a = mm.mmVar(4,-1,2)\n",
    "\n",
    "print('a = ',a)\n",
    "\n",
    "print()\n",
    "print('Try to calculate a*a')\n",
    "\n",
    "a.individual()\n",
    "\n",
    "try:\n",
    "    print('a*a = ',a*a)\n",
    "except:\n",
    "    pass\n",
    "  \n",
    "print('But calculating sq(a) is ok')\n",
    "\n",
    "a.individual()\n",
    "print('sq(a) = ',mm.sq(a))"
   ]
  },
  {
   "cell_type": "markdown",
   "metadata": {
    "colab_type": "text",
    "id": "3qL2R_TPlNPZ"
   },
   "source": [
    "If you have several variables to mark as **individual** you can use the **individual** function for that. Assuming the **mVars** module is loaded as **mm**, you can use:\n",
    "\n",
    ">`mm.generic(var1,var,var3,...)`\n",
    "\n",
    "You shold call the **individual** method or function before the use of the variable on every new expression as the **mmVars** module cannont know if two uses of one variable belong to one or more than one expressions. In fact you can always break **one** complex calculation using temporal variables and **several** expression calculations.\n",
    "\n",
    "As you can see, the **individual** function is one in the collection of functions that determine how a **mmVar** behaves:\n",
    "\n",
    ">|||\n",
    ">|---|---|\n",
    ">|`mm.generic(var1,var,var3,...)`| &nbsp; &nbsp; Makes the vars generic and always independent (default after creating the variable)|\n",
    ">|`mm.individual(var1,var,var3,...)`| &nbsp; &nbsp; Makes the vars individual so they use cannot be repeated|\n",
    ">|`mm.typical(var1,var,var3,...)`| &nbsp; &nbsp; Makes the vars equal to their typical values|\n",
    ">|`mm.montecarlo(var1,var,var3,...)`| &nbsp; &nbsp; Makes the vars equal to a random value inside their range|\n"
   ]
  },
  {
   "cell_type": "markdown",
   "metadata": {
    "colab_type": "text",
    "id": "dEw07Na9VXw2"
   },
   "source": [
    "## Practical mmVar operation example\n",
    "\n",
    "As a practical example we wil use the same formula from the **LED current** used above.\n"
   ]
  },
  {
   "cell_type": "code",
   "execution_count": null,
   "metadata": {
    "colab": {
     "autoexec": {
      "startup": false,
      "wait_interval": 0
     },
     "base_uri": "https://localhost:8080/",
     "height": 36
    },
    "colab_type": "code",
    "executionInfo": {
     "elapsed": 538,
     "status": "ok",
     "timestamp": 1521308874052,
     "user": {
      "displayName": "Vicente Jimenez",
      "photoUrl": "//lh4.googleusercontent.com/-l1GS4wWn-mI/AAAAAAAAAAI/AAAAAAAAAZE/i_NQ2m6L6rI/s50-c-k-no/photo.jpg",
      "userId": "104735520205871768811"
     },
     "user_tz": -60
    },
    "id": "ZpB2hpKQVlKn",
    "outputId": "bcb46665-bf4c-4a27-f423-a924a33475f8"
   },
   "outputs": [],
   "source": [
    "# This code is repeated to ease the interpretation\n",
    "\n",
    "vdd  = mm.mmVar(4.5,5)\n",
    "vled = mm.mmVar(1.4,1.6,ns=3)\n",
    "R    = mm.mmVar(470,tol=0.05,ns=3)\n",
    "\n",
    "def current(vsup,vd,r):\n",
    "    return 1000*(vsup-vd)/r  # In mA\n",
    "\n",
    "# Now the new code ################################\n",
    "\n",
    "# Guartee only one use of each variable\n",
    "mm.individual(vdd,vled,R) \n",
    "\n",
    "# Calculate of the LED current using the save function as in montecarlo\n",
    "iled = current(vdd,vled,R)\n",
    "\n",
    "# Show the LED current mmVar object\n",
    "print(\"Iled [mA] = \",iled)"
   ]
  },
  {
   "cell_type": "markdown",
   "metadata": {
    "colab_type": "text",
    "id": "kzV8aJ9bWYPi"
   },
   "source": [
    "Note that the program calculates the minumum and maximum values of the LED current that are what we expect to be. That is:\n",
    "\n",
    ">$I_{LED\\:max}=\\frac{V_{DD\\:max}-V_{D\\:min}}{R_{min}}=\\frac{5V-1.4V}{446.5}=8.06\\:mA$\n",
    "\n",
    "<BR>\n",
    "\n",
    ">$I_{LED\\:min}=\\frac{V_{DD\\:min}-V_{D\\:max}}{R_{max}}=\\frac{4.5V-1.6V}{493.5}=5.87\\:mA$\n",
    "\n",
    "Those values are more exact that the ones obtained using the **montecarlo** method. And they also require less computations.\n",
    "\n",
    "Observe that the method works because no variable is used more than **once** on the calculations. If a variable was used more than once on the expression this method will yield, at best, a **bouning limit** for the real result. For expressions that use the variables more than once, in general, it is best to use other optimization methods like the **montecarlo** one.\n"
   ]
  },
  {
   "cell_type": "markdown",
   "metadata": {
    "colab_type": "text",
    "id": "i7Hge_sroLoT"
   },
   "source": [
    "## Best procedure for optimization\n",
    "\n",
    "Suppose that you have an **optimization** problem where you want to know, the range of values of a function that depends on several input parameters bounded by **maximum** and **minimum** values.\n",
    " \n",
    ">$f(x_1,x_2,x_3,...,x_n)$  &nbsp; &nbsp; with &nbsp; &nbsp; $x_{i\\:min} \\leq x_i \\leq x_{i\\:max}$\n",
    "\n",
    "\n",
    "Which is the best method to use?\n",
    "\n",
    "It depends. \n",
    "\n",
    "For functions that **can** be written so that each variable is used only **once**:\n",
    "\n",
    ">* You can operate the function on **mmVar** objects to obtain the limits of the function. Note that this don't give any information about the **probability** of having each possible function value.\n",
    "\n",
    "For functions that **cannot** be written so that each variable is used only **once**:\n",
    "\n",
    ">* You can operate on **mmVar** objects to obtain the a **bound** limit of the function values. The **bound** limit is not guaranteed to be near the real limits, it only guarantees:\n",
    "\n",
    ">>>$boudn_{min} \\leq func_{min}$ &nbsp; &nbsp; and &nbsp; &nbsp; $func_{max} \\leq bound_{max}$\n",
    "\n",
    ">* You can use the **montecarlo** method to obtain a rough estimation of the function output range of values. Note that you cannot guarantee that you get the real limits. In general:\n",
    "\n",
    ">>>$func_{min} \\leq montecarlo_{min}$ &nbsp; &nbsp; and &nbsp; &nbsp; $montecarlo_{max} \\leq func_{max}$\n",
    "\n",
    ">>But you can get quite close using a high enough number of montecarlo runs\n",
    "\n",
    "For **any** function, you can use the **montecarlo** method to obtain:\n",
    "\n",
    ">* The **histogram** of the function possible results\n",
    "\n",
    ">* The **cumulative** curve of the function possible results\n",
    "\n",
    ">* The **probability** of having the function results between a given **maximum** and **minimum** value\n",
    "\n",
    "Note that the **montecarlo** method uses information about the **probability** of the function input variables. So, using the proper definitions for the input variables, as **uniform** or **normal**, and the proper **$\\sigma$** value in the normal case, you can get a good information of the **probility** of having any function result.\n"
   ]
  },
  {
   "cell_type": "markdown",
   "metadata": {
    "colab_type": "text",
    "id": "O4bScisdKe7f"
   },
   "source": [
    "<BR><BR><BR><BR><BR><BR>\n",
    "\n",
    "## Document information\n",
    "\n",
    "Copyright © Vicente Jiménez (2018-2019)\n",
    "\n",
    "This work is licensed under a [Creative Common Attribution-ShareAlike 4.0 International license](http://creativecommons.org/licenses/by-sa/4.0/). \n",
    "\n",
    "The **mmVars.py** code is licensed under the [MIT License](https://opensource.org/licenses/MIT).\n",
    "\n",
    "You can find the module [here](https://github.com/R6500/Python-bits/tree/master/Modules)\n",
    "\n",
    "<img  src=\"images/cc_sa.png\" width=\"200\">"
   ]
  },
  {
   "cell_type": "code",
   "execution_count": null,
   "metadata": {},
   "outputs": [],
   "source": []
  }
 ],
 "metadata": {
  "colab": {
   "collapsed_sections": [],
   "default_view": {},
   "name": "Module mmVars.ipynb",
   "provenance": [],
   "version": "0.3.2",
   "views": {}
  },
  "kernelspec": {
   "display_name": "Python 3",
   "language": "python",
   "name": "python3"
  },
  "language_info": {
   "codemirror_mode": {
    "name": "ipython",
    "version": 3
   },
   "file_extension": ".py",
   "mimetype": "text/x-python",
   "name": "python",
   "nbconvert_exporter": "python",
   "pygments_lexer": "ipython3",
   "version": "3.7.1"
  }
 },
 "nbformat": 4,
 "nbformat_minor": 1
}
