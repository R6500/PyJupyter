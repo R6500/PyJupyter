{
 "cells": [
  {
   "cell_type": "markdown",
   "metadata": {
    "colab_type": "text",
    "id": "uQFtfP1lKmUN"
   },
   "source": [
    "# <img style=\"float: right;\"  src=\"images/jp.png\" width=\"200\">\n",
    "\n",
    "# Module calc\n",
    "\n",
    "Version 1.1 (12/4/2019)    \n",
    "License information is at the end of the document\n",
    "\n",
    "---\n",
    "\n",
    "This document describes the [calc module](http://localhost:8888/edit/Code/calc.py)\n",
    "\n",
    "The module defines several miscelaneous functions that assist on Python programs.\n",
    "\n",
    "You can find [this module](http://localhost:8888/edit/Code/calc.py) on the [Code folder](http://localhost:8888/tree/Code)\n"
   ]
  },
  {
   "cell_type": "markdown",
   "metadata": {
    "colab_type": "text",
    "id": "xpDTnLeGMGzd"
   },
   "source": [
    "## Importing the module\n",
    "\n",
    "In order to use the module,you need to **load** and **import** it. \n",
    "\n",
    "We will also import the **numpy** module."
   ]
  },
  {
   "cell_type": "code",
   "execution_count": null,
   "metadata": {
    "colab": {
     "autoexec": {
      "startup": false,
      "wait_interval": 0
     },
     "base_uri": "https://localhost:8080/",
     "height": 35
    },
    "colab_type": "code",
    "executionInfo": {
     "elapsed": 30,
     "status": "ok",
     "timestamp": 1523809401990,
     "user": {
      "displayName": "Vicente Jimenez",
      "photoUrl": "//lh4.googleusercontent.com/-l1GS4wWn-mI/AAAAAAAAAAI/AAAAAAAAAZE/i_NQ2m6L6rI/s50-c-k-no/photo.jpg",
      "userId": "104735520205871768811"
     },
     "user_tz": -120
    },
    "id": "YnT2QpBNMNDd",
    "outputId": "ee39a234-2bf0-4ad2-cc15-311d78ca7213"
   },
   "outputs": [],
   "source": [
    "#Import all needed modules\n",
    "import numpy as np  \n",
    "import calc\n",
    "\n",
    "# Check calc loading\n",
    "try:\n",
    "    print('calc version: ',calc.version)\n",
    "except:\n",
    "    print('Error loading the calc module')"
   ]
  },
  {
   "cell_type": "markdown",
   "metadata": {
    "colab_type": "text",
    "id": "xGxRK96POtVs"
   },
   "source": [
    "## Curve drawing functions\n",
    "\n",
    "The following set of functions ease drawing curves.\n",
    "\n",
    "The plot functions just issue calls to the [**matplotlib**](https://matplotlib.org/) functions so you don't need to use this module at all. I only created it for myself to ease my own plotting work so it is not evident that it will better for you to use this module instead of direct **matplotlib** calls. "
   ]
  },
  {
   "cell_type": "markdown",
   "metadata": {
    "colab_type": "text",
    "id": "Y_mq6Nc_Qn-c"
   },
   "source": [
    "### plot11\n",
    "\n",
    "The **plot11** function plots a **vector** against another.\n",
    "\n",
    "The vectors can be **lists** or **numpy arrays** but must be equal size.\n",
    "\n",
    "The format of the **plot11** function is:\n",
    "\n",
    ">`plot11(x,y,title=\"\",xt=\"\",yt=\"\",logx=False,logy=False,grid=True,hook=None)`\n",
    "\n",
    "The required parameters are:\n",
    "\n",
    ">**x** &nbsp; Vector with x values\n",
    "\n",
    ">**y** &nbsp; Vector with y values\n",
    "\n",
    "The optional parameters are:\n",
    "\n",
    ">**title** &nbsp; Title for the plot (defaults to none)\n",
    "\n",
    ">**xt** &nbsp; Label for the x axis (defaults to none)\n",
    "\n",
    ">**yt** &nbsp; Label for the y axis (defaults to none)\n",
    "\n",
    ">**logx** &nbsp; Indicates if logarithmic scale shall be used for the x axis (defaults to False)\n",
    "\n",
    ">**logy** &nbsp; Indicates if logarithmic scale shall be used for the y axis (defaults to False)\n",
    "\n",
    ">**grid** &nbsp; Indicates if a grid shall be shown (defaults to True)\n",
    "\n",
    ">**hook** &nbsp; Gives a function to execute before showing the graph (defaults to None)\n",
    "\n",
    "The function does not return anything\n",
    "\n",
    "The following **code** shows some **plot11** examples:"
   ]
  },
  {
   "cell_type": "code",
   "execution_count": null,
   "metadata": {
    "colab": {
     "autoexec": {
      "startup": false,
      "wait_interval": 0
     },
     "base_uri": "https://localhost:8080/",
     "height": 754
    },
    "colab_type": "code",
    "executionInfo": {
     "elapsed": 1120,
     "status": "ok",
     "timestamp": 1521109910523,
     "user": {
      "displayName": "Vicente Jimenez",
      "photoUrl": "//lh4.googleusercontent.com/-l1GS4wWn-mI/AAAAAAAAAAI/AAAAAAAAAZE/i_NQ2m6L6rI/s50-c-k-no/photo.jpg",
      "userId": "104735520205871768811"
     },
     "user_tz": -60
    },
    "id": "nqMsTv44QsFE",
    "outputId": "82077dfc-504b-4053-c497-a0364f6e961a"
   },
   "outputs": [],
   "source": [
    "# Data of a sine function\n",
    "x = np.arange(0,2*np.pi,0.01)\n",
    "y = np.sin(x)\n",
    "\n",
    "# Plot sine function without grid\n",
    "calc.plot11(x,y,'Sine function','Angle (rad)','Value',grid=False)\n",
    "\n",
    "print()\n",
    "\n",
    "# Data of an exponential function using log y scale\n",
    "# We should use log spacing but it is just an example\n",
    "x = np.arange(0,10,0.01)\n",
    "y = np.exp(x)\n",
    "\n",
    "# Plot exp function with grid\n",
    "calc.plot11(x,y,'Exp function','x value','exp(x)',logy=True)"
   ]
  },
  {
   "cell_type": "markdown",
   "metadata": {
    "colab_type": "text",
    "id": "FyYE9CcLRIDz"
   },
   "source": [
    "### plot1n\n",
    "\n",
    "The **plot1n** function plots a **vector** against **several** vectors.\n",
    "\n",
    "All vectors can be **lists** or **numpy arrays** but must be equal size.\n",
    "\n",
    "The format of the **plot1n** function is:\n",
    "\n",
    ">`plot1n(x,ylist,title=\"\",xt=\"\",yt=\"\",labels=[],location='best',logx=False,logy=False,grid=True,hook=None)`\n",
    "\n",
    "The required parameters are:\n",
    "\n",
    ">**x** &nbsp; Vector with x values\n",
    "\n",
    ">**ylist** &nbsp; List of vectors with y values\n",
    "\n",
    "The optional parameters are:\n",
    "\n",
    ">**title** &nbsp; Title for the plot (defaults to none)\n",
    "\n",
    ">**xt** &nbsp; Label for the x axis (defaults to none)\n",
    "\n",
    ">**yt** &nbsp; Label for the y axis (defaults to none)\n",
    "\n",
    ">**labels** &nbsp; List of labels for each curve (defaults to no labels)\n",
    "\n",
    ">**location** &nbsp; Location of the labels as described below (defaults to best)\n",
    "\n",
    ">**logx** &nbsp; Indicates if logarithmic scale shall be used for the x axis (defaults to False)\n",
    "\n",
    ">**logy** &nbsp; Indicates if logarithmic scale shall be used for the y axis (defaults to False)\n",
    "\n",
    ">**grid** &nbsp; Indicates if a grid shall be shown (defaults to True)\n",
    "\n",
    ">**hook** &nbsp; Gives a function to execute before showing the graph (defaults to None)\n",
    "\n",
    "Location is directly sent to **matplotlib**, possible values are: 'best', 'upper right', 'upper left', 'lower left', 'lower right', 'right','center left', 'center right', 'lower center', 'upper center' and 'center'\n",
    "\n",
    "The function does not return anything\n",
    "\n",
    "The following **code** shows a **plot1n** example:"
   ]
  },
  {
   "cell_type": "code",
   "execution_count": null,
   "metadata": {
    "colab": {
     "autoexec": {
      "startup": false,
      "wait_interval": 0
     },
     "base_uri": "https://localhost:8080/",
     "height": 376
    },
    "colab_type": "code",
    "executionInfo": {
     "elapsed": 908,
     "status": "ok",
     "timestamp": 1521109914866,
     "user": {
      "displayName": "Vicente Jimenez",
      "photoUrl": "//lh4.googleusercontent.com/-l1GS4wWn-mI/AAAAAAAAAAI/AAAAAAAAAZE/i_NQ2m6L6rI/s50-c-k-no/photo.jpg",
      "userId": "104735520205871768811"
     },
     "user_tz": -60
    },
    "id": "gyXo_S5JRMAX",
    "outputId": "b34ac449-de13-4ec1-8161-7148c70b89c6"
   },
   "outputs": [],
   "source": [
    "# Data of a sine and cosine functions\n",
    "x  = np.arange(0,2*np.pi,0.01)\n",
    "ys = np.sin(x)\n",
    "yc = np.cos(x)\n",
    "\n",
    "# Plot sine and cosine functions (with grid this time)\n",
    "calc.plot1n(x,[ys,yc],'Sine and Cosine functions'\n",
    "             ,'Angle (rad)','Value',labels=['Sine','Cosine'])"
   ]
  },
  {
   "cell_type": "markdown",
   "metadata": {
    "colab_type": "text",
    "id": "q46mxsy1SGdv"
   },
   "source": [
    "### plotnn\n",
    "\n",
    "The **plotnn** function plots pairs of **several** vectors against **several** vectors.\n",
    "\n",
    "All vectors can be **lists** or **numpy arrays** but must be equal size on each pair.\n",
    "\n",
    "The format of the **plotnn** function is:\n",
    "\n",
    ">`plotnn(xlist,ylist,title=\"\",xt=\"\",yt=\"\",labels=[],location='best',logx=False,logy=False,grid=True,hook=None)`\n",
    "\n",
    "The required parameters are:\n",
    "\n",
    ">**xlist** &nbsp; List of vectors with x values\n",
    "\n",
    ">**ylist** &nbsp; List of vectors with y values\n",
    "\n",
    "The optional parameters are:\n",
    "\n",
    ">**title** &nbsp; Title for the plot (defaults to none)\n",
    "\n",
    ">**xt** &nbsp; Label for the x axis (defaults to none)\n",
    "\n",
    ">**yt** &nbsp; Label for the y axis (defaults to none)\n",
    "\n",
    ">**labels** &nbsp; List of labels for each curve (defaults to no labels)\n",
    "\n",
    ">**location** &nbsp; Location of the labels as described below (defaults to best)\n",
    "\n",
    ">**logx** &nbsp; Indicates if logarithmic scale shall be used for the x axis (defaults to False)\n",
    "\n",
    ">**logy** &nbsp; Indicates if logarithmic scale shall be used for the y axis (defaults to False)\n",
    "\n",
    ">**grid** &nbsp; Indicates if a grid shall be shown (defaults to True)\n",
    "\n",
    ">**hook** &nbsp; Gives a function to execute before showing the graph (defaults to None)\n",
    "\n",
    "Location is directly sent to **matplotlib**, possible values are: 'best', 'upper right', 'upper left', 'lower left', 'lower right', 'right','center left', 'center right', 'lower center', 'upper center' and 'center'\n",
    "\n",
    "The function does not return anything\n",
    "\n",
    "The **plotnn** is useful when you want to show curves that have different x points. As this function is the most generic of the **plot11**, **plot1n** and **plotnn** family, it can be used as substitute of the other functions.\n",
    "\n",
    "The following **code** shows a **plotnn** example:"
   ]
  },
  {
   "cell_type": "code",
   "execution_count": null,
   "metadata": {
    "colab": {
     "autoexec": {
      "startup": false,
      "wait_interval": 0
     },
     "base_uri": "https://localhost:8080/",
     "height": 376
    },
    "colab_type": "code",
    "executionInfo": {
     "elapsed": 1020,
     "status": "ok",
     "timestamp": 1521109918772,
     "user": {
      "displayName": "Vicente Jimenez",
      "photoUrl": "//lh4.googleusercontent.com/-l1GS4wWn-mI/AAAAAAAAAAI/AAAAAAAAAZE/i_NQ2m6L6rI/s50-c-k-no/photo.jpg",
      "userId": "104735520205871768811"
     },
     "user_tz": -60
    },
    "id": "1D1G4ijDSJ0t",
    "outputId": "c002f966-6171-49fc-9d54-18c17ca6379f"
   },
   "outputs": [],
   "source": [
    "# Data of two sine functions with different x values\n",
    "x1 = np.arange(-2*np.pi,2*np.pi,0.01)\n",
    "y1 = 2*np.sin(x1)\n",
    "x2 = np.arange(-6*np.pi,6*np.pi,0.02)\n",
    "y2 = np.sin(2*x2)\n",
    "\n",
    "# Plot of the functions\n",
    "calc.plotnn([x1,x2],[y1,y2],'Two Sine functions'\n",
    "             ,'Angle (rad)','Value',labels=['F1','F2'])"
   ]
  },
  {
   "cell_type": "markdown",
   "metadata": {
    "colab_type": "text",
    "id": "BeVOK5IoUBjv"
   },
   "source": [
    "### plotHist\n",
    "\n",
    "The **plotHist** function plots the **histogram** of the values of a vector.\n",
    "\n",
    "The format of the **plotHist** function is:\n",
    "\n",
    ">`plotHist(v,bins=10,title=\"\",xt=\"\",yt=\"\",grid=True)`\n",
    "\n",
    "The required parameter is:\n",
    "\n",
    ">**v** &nbsp; Input vector\n",
    "\n",
    "The optional parameters are:\n",
    "\n",
    ">**bins** &nbsp; Number of bins for the histogram (defaults to 10)\n",
    "\n",
    ">**title** &nbsp; Title for the plot (defaults to none)\n",
    "\n",
    ">**xt** &nbsp; Label for the x axis (defaults to none)\n",
    "\n",
    ">**yt** &nbsp; Label for the y axis (defaults to none)\n",
    "\n",
    ">**grid** &nbsp; Indicates if a grid shall be shown (defaults to True)\n",
    "\n",
    "The function does not return anything\n",
    "\n",
    "The following **code** shows a **plotHist** example:"
   ]
  },
  {
   "cell_type": "code",
   "execution_count": null,
   "metadata": {
    "colab": {
     "autoexec": {
      "startup": false,
      "wait_interval": 0
     },
     "base_uri": "https://localhost:8080/",
     "height": 376
    },
    "colab_type": "code",
    "executionInfo": {
     "elapsed": 758,
     "status": "ok",
     "timestamp": 1523175624688,
     "user": {
      "displayName": "Vicente Jimenez",
      "photoUrl": "//lh4.googleusercontent.com/-l1GS4wWn-mI/AAAAAAAAAAI/AAAAAAAAAZE/i_NQ2m6L6rI/s50-c-k-no/photo.jpg",
      "userId": "104735520205871768811"
     },
     "user_tz": -120
    },
    "id": "Nj0f5SUWUHpj",
    "outputId": "23834d6a-32aa-4877-e65e-653d152d59f3"
   },
   "outputs": [],
   "source": [
    "# Input vector\n",
    "v = [1,2,3,4,5,6,7,2,3,4,2,2,2,4,5,6,7,7]\n",
    "\n",
    "# Histogram with 7 bins\n",
    "calc.plotHist(v,7,\"Sample Histogram\",\"Vector values\",\"Frequency\")"
   ]
  },
  {
   "cell_type": "markdown",
   "metadata": {
    "colab_type": "text",
    "id": "xpSwYef4K38c"
   },
   "source": [
    "## Plot functions using string arguments\n",
    "\n",
    "The **plot11**, **plot1n**, **plotnn** and **plotHist** functions can also take string arguments.\n",
    "\n",
    "If a string is provided instead of a vector, the string will be **evaluated** as a variable name to obtain the associated vector.\n",
    "\n",
    "Also, if the $x$ axis is provided as strings and non $xt$ label is provided, it will be generated from the name of the first element in the $x$ axis.\n",
    "\n",
    "The same procedure applies for the $y$ axis in the **plot11** function.\n",
    "\n",
    "In the **plot1n** and **plotnn** functions, if the **labels** parameter is not provided, it will be generated from the names of the variables in the $y$ axis if they are provided as strings.\n",
    "\n",
    "In the **plotHist** function, if the **v** vector is provided as a string and no $yt$ label is provided, it will default to 'Frequency'\n",
    "\n",
    "You can mix vectors and strings in the same axis except for the $y$ axis when a string is provided for the firt element and no labels are provided.\n",
    "\n",
    "Note that the functionalities that depend on the Python **eval** function have associated security riscs if the evaluated string is provided by malicious people.\n",
    "\n",
    "You can see some examples of using **strings** for plot functions below:"
   ]
  },
  {
   "cell_type": "code",
   "execution_count": null,
   "metadata": {
    "colab": {
     "autoexec": {
      "startup": false,
      "wait_interval": 0
     },
     "base_uri": "https://localhost:8080/",
     "height": 361
    },
    "colab_type": "code",
    "executionInfo": {
     "elapsed": 686,
     "status": "ok",
     "timestamp": 1523175687666,
     "user": {
      "displayName": "Vicente Jimenez",
      "photoUrl": "//lh4.googleusercontent.com/-l1GS4wWn-mI/AAAAAAAAAAI/AAAAAAAAAZE/i_NQ2m6L6rI/s50-c-k-no/photo.jpg",
      "userId": "104735520205871768811"
     },
     "user_tz": -120
    },
    "id": "1abdWtQWMDxO",
    "outputId": "d4956ff8-582f-4370-e065-c881fc2dcdbc"
   },
   "outputs": [],
   "source": [
    "# plot11 example\n",
    "x = np.arange(-2,2.1,0.1)\n",
    "y = x**2\n",
    "calc.plot11('x','y')\n",
    "# The above call is equivalent to the following commented call\n",
    "# calc.plot11(x,y,xt='x',yt='y')"
   ]
  },
  {
   "cell_type": "code",
   "execution_count": null,
   "metadata": {
    "colab": {
     "autoexec": {
      "startup": false,
      "wait_interval": 0
     },
     "base_uri": "https://localhost:8080/",
     "height": 705
    },
    "colab_type": "code",
    "executionInfo": {
     "elapsed": 1028,
     "status": "ok",
     "timestamp": 1523106637462,
     "user": {
      "displayName": "Vicente Jimenez",
      "photoUrl": "//lh4.googleusercontent.com/-l1GS4wWn-mI/AAAAAAAAAAI/AAAAAAAAAZE/i_NQ2m6L6rI/s50-c-k-no/photo.jpg",
      "userId": "104735520205871768811"
     },
     "user_tz": -120
    },
    "id": "VnolrYPRMLtE",
    "outputId": "b83b433c-727f-4208-eff0-2860999c331d"
   },
   "outputs": [],
   "source": [
    "# plot1n example\n",
    "x = np.arange(-2,2.1,0.1)\n",
    "y = x**2\n",
    "y2 = x**3\n",
    "calc.plot1n('x',['y','y2'])\n",
    "# The above call is equivalent to the following commented call\n",
    "# calc.plot1n(x,[y,y2],xt='x',labels=['y','y2'])"
   ]
  },
  {
   "cell_type": "code",
   "execution_count": null,
   "metadata": {
    "colab": {
     "autoexec": {
      "startup": false,
      "wait_interval": 0
     },
     "base_uri": "https://localhost:8080/",
     "height": 361
    },
    "colab_type": "code",
    "executionInfo": {
     "elapsed": 778,
     "status": "ok",
     "timestamp": 1523106686598,
     "user": {
      "displayName": "Vicente Jimenez",
      "photoUrl": "//lh4.googleusercontent.com/-l1GS4wWn-mI/AAAAAAAAAAI/AAAAAAAAAZE/i_NQ2m6L6rI/s50-c-k-no/photo.jpg",
      "userId": "104735520205871768811"
     },
     "user_tz": -120
    },
    "id": "y6-zob4FMOJG",
    "outputId": "2ae3eac5-301d-4968-d01b-fc572a39e0af"
   },
   "outputs": [],
   "source": [
    "# plotnn example\n",
    "x = np.arange(-2,2.1,0.1)\n",
    "y = x**2\n",
    "y2 = x**3\n",
    "x2 = np.arange(0,2.1,0.1)\n",
    "y3 = x2**4\n",
    "calc.plotnn(['x','x','x2'],['y','y2','y3'])\n",
    "# The above call is equivalent to the following commented call\n",
    "# calc.plotnn([x,x,x2],[y,y2,y3],xt='x',labels=['y','y2','y3'])"
   ]
  },
  {
   "cell_type": "code",
   "execution_count": null,
   "metadata": {
    "colab": {
     "autoexec": {
      "startup": false,
      "wait_interval": 0
     },
     "base_uri": "https://localhost:8080/",
     "height": 361
    },
    "colab_type": "code",
    "executionInfo": {
     "elapsed": 870,
     "status": "ok",
     "timestamp": 1523175941600,
     "user": {
      "displayName": "Vicente Jimenez",
      "photoUrl": "//lh4.googleusercontent.com/-l1GS4wWn-mI/AAAAAAAAAAI/AAAAAAAAAZE/i_NQ2m6L6rI/s50-c-k-no/photo.jpg",
      "userId": "104735520205871768811"
     },
     "user_tz": -120
    },
    "id": "Kno5pGKQVjcg",
    "outputId": "e99054b1-c276-4691-fbb5-46b8b7651176"
   },
   "outputs": [],
   "source": [
    "# plotHist example\n",
    "Vector = [1,2,3,4,5,6,7,2,3,4,2,2,2,4,5,6,7,7]\n",
    "calc.plotHist('Vector',7)"
   ]
  },
  {
   "cell_type": "markdown",
   "metadata": {
    "colab_type": "text",
    "id": "Ad_FHv7bUgsr"
   },
   "source": [
    "## Differential equations functions\n",
    "\n",
    "The differential equations functions ease solving the [initial state problem](https://en.wikipedia.org/wiki/Initial_value_problem) that is needed to be solved frequently in engineering.\n",
    "\n",
    "In one dimensions it means solving the differential equation\n",
    "\n",
    "$\\qquad \\frac{dx}{dt} = f(x,t)$\n",
    "\n",
    "When the value of $x$ at $t=0$ is known.\n",
    "\n",
    "$\\qquad x(t=0) = x_0$\n",
    "\n",
    "The problem can be extrapolated to a system with several differential equations if we define $x$ as a vector:\n",
    "\n",
    "$\\qquad \\frac{d\\vec{x}}{dt} = \\vec{f}(\\vec{x},t) \\quad$ with $\\quad \\vec{x}(t=0) = \\vec{x_0}$\n",
    "\n",
    "It can also be extrapolated to higher order differential equations separating the different derivatives. For instance:\n",
    "\n",
    "$\\qquad \\frac{d^2x}{dt^2} = f(x,t) \\quad$ with $\\quad x(t=0) = x_0 \\quad \\frac{dx}{dt}(t=0)=dx_0$\n",
    "\n",
    "Can be solved as:\n",
    "\n",
    "$\\qquad \\frac{dx_2}{dt} = f(x,t)  \\quad$ with $\\quad x_2(t=0)=dx_0$\n",
    "\n",
    "$\\qquad \\frac{dx}{dt} = x_2 \\quad$ with $\\quad x(t=0)=x_0$\n",
    "\n",
    "In vector format:\n",
    "\n",
    "$\\qquad \\frac{d}{dt}\\begin{bmatrix}x_2\\\\x\\end{bmatrix}=\\begin{bmatrix}f(x,t)\\\\x_2\\end{bmatrix}\\quad$\n",
    "with $\\quad \\begin{bmatrix}x_2\\\\x\\end{bmatrix}_{t=0} = \\begin{bmatrix}dx_0\\\\x_0\\end{bmatrix}$\n",
    "\n",
    "The **initial value problem** is solved converting the differential equation in integral equations:\n",
    "\n",
    "$\\qquad \\vec{x}(t)=\\vec{x}_0+\\int_0^t\\vec{f}(x,\\xi) \\: d\\xi$\n",
    "\n",
    "In the **calc** module, the integral can be calculated, numerically, using the [Euler](https://en.wikipedia.org/wiki/Euler_method) approximation or the 4th order [Runge-Kuttta](https://en.wikipedia.org/wiki/Runge%E2%80%93Kutta_methods) approximation.\n",
    "\n",
    "In both cases we divide the time in steps of size $\\Delta t$ and we calculate $\\vec{x}$ at each time step by approximating the value of the integral from the previous value. \n",
    "\n",
    "Using the **Euler** method we use the value  of the function $\\vec{f}(x,t)$ as constant during each time step interval so:\n",
    "\n",
    "$\\qquad \\vec{x}(t+\\Delta t) = \\vec{x}(t) + \\vec{f}(x,t) \\cdot \\Delta t$\n",
    "\n",
    "As the **Euler** method only takes information at the stat of each time interval,it accumulates errors that accumulate at each time step. The **Runge-Kutta** method also accumulates errors, but they are much reduced compared with the **Euler** approximation.\n"
   ]
  },
  {
   "cell_type": "markdown",
   "metadata": {
    "colab_type": "text",
    "id": "AmjL57VEfBbC"
   },
   "source": [
    "### euler\n",
    "\n",
    "This function calculates $\\vec{x}(t+\\Delta t)$ from the value of $\\vec{x}(t)$ using the **Euler** approximation.\n",
    "\n",
    "The function prototype is:\n",
    "\n",
    ">`euler(x, t, f, h)`\n",
    "\n",
    "Where:\n",
    "\n",
    ">**x** &nbsp; Is a value or a **numpy** vector of values\n",
    "\n",
    ">**t** &nbsp; Is a time at the start of the interval\n",
    "\n",
    ">**f** &nbsp; Is the function $\\vec{f}(\\vec{x},t)$\n",
    "\n",
    ">**h** &nbsp; Is the time step $\\Delta t$\n",
    "\n",
    "The function returns the next value $\\vec{x}$ at the end of the time step\n",
    "\n",
    "The argument **f** for the **euler** function is the fuction $\\vec{f}(\\vec{x},t)$. So, its prototype is:\n",
    "\n",
    ">`f(x,t)`\n",
    "\n",
    "Where $t$ is the time at the start of the interval and $x$ is a number for the unidimensional case of a numpy  vector in other cases. The $f$ function shall return a value with the same dimension as $x$\n",
    "\n",
    "An **example** of the **euler** method function follows:"
   ]
  },
  {
   "cell_type": "code",
   "execution_count": null,
   "metadata": {
    "colab": {
     "autoexec": {
      "startup": false,
      "wait_interval": 0
     },
     "base_uri": "https://localhost:8080/",
     "height": 376
    },
    "colab_type": "code",
    "executionInfo": {
     "elapsed": 759,
     "status": "ok",
     "timestamp": 1521109932862,
     "user": {
      "displayName": "Vicente Jimenez",
      "photoUrl": "//lh4.googleusercontent.com/-l1GS4wWn-mI/AAAAAAAAAAI/AAAAAAAAAZE/i_NQ2m6L6rI/s50-c-k-no/photo.jpg",
      "userId": "104735520205871768811"
     },
     "user_tz": -60
    },
    "id": "O1FbHU61lxOo",
    "outputId": "c2014810-b9d4-4433-ae26-5f0d53b127fc"
   },
   "outputs": [],
   "source": [
    "# Exponential RC discharge\n",
    "# We have a resistor R in parallel with a capacitor C\n",
    "# We also know the voltage in C at t=0\n",
    "# We want to know the time evolution of the capacitor voltage\n",
    "\n",
    "# For the capacitor\n",
    "# d Vc / dt = Ic\n",
    "\n",
    "# Circuit values\n",
    "C = 1e-6 # F\n",
    "R = 1000 # Ohm\n",
    "\n",
    "# End time for the simulation\n",
    "\n",
    "Tend = 10e-3 # s\n",
    "\n",
    "# Time step\n",
    "h = 1e-6 # s\n",
    "\n",
    "# State variable initial value\n",
    "vc = 10 # Volt\n",
    "\n",
    "# Function f\n",
    "def f_vc(vc,t):\n",
    "    # In fact it don't depend on time\n",
    "    ic = -vc/R\n",
    "    return ic/C\n",
    "  \n",
    "# Output time and vc vector\n",
    "time_v = []\n",
    "vc_v   = []\n",
    "\n",
    "# Start time\n",
    "t = 0\n",
    "\n",
    "# Solve at each time step\n",
    "while t < Tend:\n",
    "    # Store current state\n",
    "    time_v.append(t)\n",
    "    vc_v.append(vc) \n",
    "    \n",
    "    # Update vc value\n",
    "    vc = calc.euler(vc,t,f_vc,h)\n",
    "    \n",
    "    # Update time\n",
    "    t = t + h \n",
    "    \n",
    "# Show the result\n",
    "time_v = 1000*np.array(time_v) # in ms instead of seconds\n",
    "calc.plot11(time_v,vc_v,'RC discharge','time (ms)','Voltage (V)')"
   ]
  },
  {
   "cell_type": "markdown",
   "metadata": {
    "colab_type": "text",
    "id": "1o3tTKcmpvkD"
   },
   "source": [
    "### rk4\n",
    "\n",
    "This function calculates $\\vec{x}(t+\\Delta t)$ from the value of $\\vec{x}(t)$ using the 4th order **Runge-Kutta** approximation.\n",
    "\n",
    "The function prototype is similar to the one for the euler case:\n",
    "\n",
    ">`rk4(x, t, f, h)`\n",
    "\n",
    "Where:\n",
    "\n",
    ">**x** &nbsp; Is a value or a **numpy** vector of values\n",
    "\n",
    ">**t** &nbsp; Is a time at the start of the interval\n",
    "\n",
    ">**f** &nbsp; Is the function $\\vec{f}(\\vec{x},t)$\n",
    "\n",
    ">**h** &nbsp; Is the time step $\\Delta t$\n",
    "\n",
    "The function returns the next value $\\vec{x}$ at the end of the time step\n",
    "\n",
    "The argument **f** function has a prototype:\n",
    "\n",
    ">`f(x,t)`\n",
    "\n",
    "Where $t$ is the time at the start of the interval and $x$ is a number for the unidimensional case of a numpy  vector in other cases. The $f$ function shall return a value with the same dimension as $x$\n",
    "\n",
    "An **example** of the **rk4** function, compared with the **euler** one follows:"
   ]
  },
  {
   "cell_type": "code",
   "execution_count": null,
   "metadata": {
    "colab": {
     "autoexec": {
      "startup": false,
      "wait_interval": 0
     },
     "base_uri": "https://localhost:8080/",
     "height": 376
    },
    "colab_type": "code",
    "executionInfo": {
     "elapsed": 603,
     "status": "ok",
     "timestamp": 1521109936624,
     "user": {
      "displayName": "Vicente Jimenez",
      "photoUrl": "//lh4.googleusercontent.com/-l1GS4wWn-mI/AAAAAAAAAAI/AAAAAAAAAZE/i_NQ2m6L6rI/s50-c-k-no/photo.jpg",
      "userId": "104735520205871768811"
     },
     "user_tz": -60
    },
    "id": "OPNFa3pMqMok",
    "outputId": "66ecd052-c67f-49c8-d2ae-4b756b6289e1"
   },
   "outputs": [],
   "source": [
    "# Exponential RC discharge\n",
    "# We have a resistor R in parallel with a capacitor C\n",
    "# We also know the voltage in C at t=0\n",
    "# We want to know the time evolution of the capacitor voltage\n",
    "\n",
    "# For the capacitor\n",
    "# d Vc / dt = Ic\n",
    "\n",
    "# Circuit values\n",
    "C = 1e-6 # F\n",
    "R = 1000 # Ohm\n",
    "\n",
    "# End time for the simulation\n",
    "\n",
    "Tend = 4e-3 # s\n",
    "\n",
    "# We use a big time step to see the method differences\n",
    "h = 5e-4 # s\n",
    "\n",
    "# State variable initial value \n",
    "vc0  = 10  # Volt\n",
    "\n",
    "vc_e = vc0 # Euler\n",
    "vc_r = vc0 # Runge-Kutta\n",
    "\n",
    "# Function f\n",
    "def f_vc(vc,t):\n",
    "    # In fact it doesn't depend on time\n",
    "    ic = -vc/R\n",
    "    return ic/C\n",
    "  \n",
    "# Output time and vc vector\n",
    "time_v = []\n",
    "vc_v_e = []  # Euler\n",
    "vc_v_r = []  # Runge-Kutta\n",
    "\n",
    "# Start time\n",
    "t = 0\n",
    "\n",
    "# Solve at each time step using both methods\n",
    "while t < Tend:\n",
    "    # Store current state\n",
    "    time_v.append(t)\n",
    "    vc_v_e.append(vc_e) \n",
    "    vc_v_r.append(vc_r)\n",
    "    \n",
    "    # Update vc value using euler\n",
    "    vc_e = calc.euler(vc_e,t,f_vc,h)\n",
    "    \n",
    "    # Update vc value using ek4\n",
    "    vc_r = calc.rk4(vc_r,t,f_vc,h)\n",
    "    \n",
    "    # Update time\n",
    "    t = t + h \n",
    "    \n",
    "# Convert time no numpy array\n",
    "time_v = np.array(time_v)\n",
    "    \n",
    "# Calculate the teoretical result\n",
    "vc_ideal = vc0*np.exp(-time_v/(R*C))\n",
    "    \n",
    "# Show the result\n",
    "time_v = 1000*time_v # in ms instead of seconds\n",
    "calc.plot1n(time_v,[vc_ideal,vc_v_e,vc_v_r]\n",
    "            ,'RC discharge'\n",
    "            ,'time (ms)','Voltage (V)'\n",
    "            ,['Ideal','Euler','Runge-Kutta 4'])"
   ]
  },
  {
   "cell_type": "markdown",
   "metadata": {
    "colab_type": "text",
    "id": "LgA3IMRIsKU-"
   },
   "source": [
    "You can see that the **Runge-Kutta** solution is superposed to the **ideal** solution.\n",
    "\n",
    "The **Euler** solution is much worse.\n",
    "\n",
    "Reducing the time step $\\Delta t$ you can make the simulation as precise as needed even with the **Euler** method. The adventage of the **Runge-Kutta** method is that it don't need time steps as smalls as in the **Euler** method to get the same error."
   ]
  },
  {
   "cell_type": "markdown",
   "metadata": {
    "colab_type": "text",
    "id": "jgS7HTsotPtN"
   },
   "source": [
    "## Geometric functions\n",
    "\n",
    "Those functions aid in geometric related calculations\n",
    "\n",
    "In the current **calc** module only one function is implemented"
   ]
  },
  {
   "cell_type": "markdown",
   "metadata": {
    "colab_type": "text",
    "id": "cEmfDRgstgYx"
   },
   "source": [
    "### normalizeLine\n",
    "\n",
    "Obtains the parameters of a two dimension line that passes through two given points. The obtained parameters are $A$ and $B$ so that the line equation is:\n",
    "\n",
    "$\\qquad y = A \\cdot x + B$\n",
    "\n",
    "Function prototype:\n",
    "\n",
    ">`A,B = normalizeLine(x1,y1,x2,y2)`\n",
    "\n",
    "As you can see it returns a tuple with the A and B values\n",
    "\n",
    "An **example** follows:"
   ]
  },
  {
   "cell_type": "code",
   "execution_count": null,
   "metadata": {
    "colab": {
     "autoexec": {
      "startup": false,
      "wait_interval": 0
     },
     "base_uri": "https://localhost:8080/",
     "height": 361
    },
    "colab_type": "code",
    "executionInfo": {
     "elapsed": 535,
     "status": "ok",
     "timestamp": 1521109941800,
     "user": {
      "displayName": "Vicente Jimenez",
      "photoUrl": "//lh4.googleusercontent.com/-l1GS4wWn-mI/AAAAAAAAAAI/AAAAAAAAAZE/i_NQ2m6L6rI/s50-c-k-no/photo.jpg",
      "userId": "104735520205871768811"
     },
     "user_tz": -60
    },
    "id": "UHvWW_l_uO8_",
    "outputId": "e15bd6d9-ddbc-4971-9a17-c6de0f151e00"
   },
   "outputs": [],
   "source": [
    "# Obtain a line from two given points\n",
    "\n",
    "x1 = 1 \n",
    "y1 =1\n",
    "\n",
    "x2 = 2\n",
    "y2 = 3\n",
    "\n",
    "A,B = calc.normalizeLine(x1,y1,x2,y2)\n",
    "\n",
    "# Draw the line\n",
    "x = np.arange(0,3,0.01)\n",
    "y = A*x+B\n",
    "calc.plot11(x,y,\"\",\"x\",\"y\")"
   ]
  },
  {
   "cell_type": "markdown",
   "metadata": {
    "colab_type": "text",
    "id": "BG_1djHbLEv-"
   },
   "source": [
    "## Printing functions\n",
    "\n",
    "The printing functions ease writing some text information\n",
    "\n",
    "They all use the module **f2s** or **f2sci** functions that provides especial formatting for the numbers.\n",
    "\n"
   ]
  },
  {
   "cell_type": "markdown",
   "metadata": {
    "colab_type": "text",
    "id": "uJCK_oWlFfAa"
   },
   "source": [
    "### f2s\n",
    "Converts a **floating** point value in a string using **special formatting**\n",
    "\n",
    ">`f2s(v,nd=None)`\n",
    "\n",
    "Parameters:\n",
    "\n",
    ">**v** &nbsp; Number to convert to string\n",
    "\n",
    ">**nd** &nbsp; Optional number of **significant** decimals\n",
    "\n",
    "By default the function shows the numbers with 2 decimal digits for numbers with absolute value greater or equal to 1000 and with 3 decimal digits for every other case.\n",
    "\n",
    "Using the optional parameter **nd** you can set another value for the number of decimal digits.\n",
    "\n",
    "The function also shows at most one zero decimal digit on the right\n",
    "\n",
    "The function is easier to understand using some **examples**:"
   ]
  },
  {
   "cell_type": "code",
   "execution_count": null,
   "metadata": {
    "colab": {
     "autoexec": {
      "startup": false,
      "wait_interval": 0
     },
     "base_uri": "https://localhost:8080/",
     "height": 489
    },
    "colab_type": "code",
    "executionInfo": {
     "elapsed": 484,
     "status": "ok",
     "timestamp": 1521109945390,
     "user": {
      "displayName": "Vicente Jimenez",
      "photoUrl": "//lh4.googleusercontent.com/-l1GS4wWn-mI/AAAAAAAAAAI/AAAAAAAAAZE/i_NQ2m6L6rI/s50-c-k-no/photo.jpg",
      "userId": "104735520205871768811"
     },
     "user_tz": -60
    },
    "id": "DooBeHnZHEqU",
    "outputId": "964d40bf-6c26-4dcc-8127-2efe415386c0"
   },
   "outputs": [],
   "source": [
    "print('Numbers with more precision than 3 significat digits')\n",
    "print()\n",
    "print(calc.f2s(1000.123456),' for ',1000.123456)  \n",
    "print(calc.f2s(100.123456),' for ',100.123456)\n",
    "print(calc.f2s(10.123456),' for ',10.123456)\n",
    "print(calc.f2s(1.123456),' for ',1.123456)\n",
    "print(calc.f2s(0.123456),' for ',0.123456)\n",
    "print(calc.f2s(0.0123456),' for ',0.0123456)\n",
    "print(calc.f2s(0.00123456),' for ',0.00123456)\n",
    "print(calc.f2s(0.000123456),' for ',0.000123456)\n",
    "print(calc.f2s(0.0000123456),' for ',0.0000123456)\n",
    "print()\n",
    "\n",
    "print('Number with less precision than 3 significant digits')\n",
    "print()\n",
    "print(calc.f2s(1000),' for ',1000)\n",
    "print(calc.f2s(1),' for ',1)\n",
    "print(calc.f2s(0.001),' for ',0.001)\n",
    "print()\n",
    "\n",
    "print(\"f2s don't use exponential notation\")\n",
    "print(calc.f2s(1.23456e-8),' for ',1.23456e-8)\n",
    "print()\n",
    "\n",
    "print('Custom number of 4 decimals')\n",
    "print(calc.f2s(1.123456,4),' for ',1.123456)\n",
    "print(calc.f2s(0.000123456,4),' for ',0.000123456)\n",
    "print()"
   ]
  },
  {
   "cell_type": "markdown",
   "metadata": {
    "colab_type": "text",
    "id": "PACauuEqVCx8"
   },
   "source": [
    "### f2sci\n",
    "Converts a **floating** point value in a string using **sci notation**\n",
    "\n",
    "The **sci** notation always uses exponents with numbers that are multiples of 3\n",
    "\n",
    ">`f2sci(v,unit='',nd=3,prefix=True)`\n",
    "\n",
    "Required parameter:\n",
    "\n",
    ">**v** &nbsp; Number to convert to string\n",
    "\n",
    "Optional parameters:\n",
    "\n",
    ">**unit** &nbsp; Unit of the magnitude (Defaults to none)\n",
    "\n",
    ">**nd** &nbsp; Optional number of **significant** decimals (Deafults to 3)\n",
    "\n",
    ">**prefix** &nbsp; Use standard prefixes for powers of 10 up to +/-18\n",
    "\n",
    "The function is easier to understand using some **examples**:"
   ]
  },
  {
   "cell_type": "code",
   "execution_count": null,
   "metadata": {
    "colab": {
     "autoexec": {
      "startup": false,
      "wait_interval": 0
     },
     "base_uri": "https://localhost:8080/",
     "height": 74
    },
    "colab_type": "code",
    "executionInfo": {
     "elapsed": 477,
     "status": "ok",
     "timestamp": 1521109952012,
     "user": {
      "displayName": "Vicente Jimenez",
      "photoUrl": "//lh4.googleusercontent.com/-l1GS4wWn-mI/AAAAAAAAAAI/AAAAAAAAAZE/i_NQ2m6L6rI/s50-c-k-no/photo.jpg",
      "userId": "104735520205871768811"
     },
     "user_tz": -60
    },
    "id": "RjZ_QJldVy6g",
    "outputId": "66e8dff0-325e-423d-951d-9217450b88a7"
   },
   "outputs": [],
   "source": [
    "print(calc.f2sci(12345.6789,'V'))\n",
    "print(calc.f2sci(12345.6789,'V',2),'with 2 significat digits')\n",
    "print(calc.f2sci(12345.67,'V',prefix=False),'without prefixes')"
   ]
  },
  {
   "cell_type": "markdown",
   "metadata": {
    "colab_type": "text",
    "id": "QfgRPExPFXT0"
   },
   "source": [
    "### printVar\n",
    "\n",
    "The ***printVar** function prints a variable together with its units\n",
    "\n",
    "The function prototype is:\n",
    "\n",
    ">`printVar(name,value,unit=\"\",sci=True,prefix=True)`\n",
    "\n",
    "Required parameters:\n",
    "\n",
    ">**name** &nbsp; Text to show as the variable name\n",
    "\n",
    ">**value** &nbsp; Value to show for the variable\n",
    "\n",
    "Optional parameters:\n",
    "\n",
    ">**unit** &nbsp; Units of the variable (Defaults to no units)\n",
    "\n",
    ">**sci** &nbsp; Use sci notation (Defaults to True)\n",
    "\n",
    ">**prefix** &nbsp; Use standard prefixes for powers of 10 up to +/-18 in **sci** notation (Defaults to True)\n",
    "\n",
    "Examples:"
   ]
  },
  {
   "cell_type": "code",
   "execution_count": null,
   "metadata": {
    "colab": {
     "autoexec": {
      "startup": false,
      "wait_interval": 0
     },
     "base_uri": "https://localhost:8080/",
     "height": 74
    },
    "colab_type": "code",
    "executionInfo": {
     "elapsed": 495,
     "status": "ok",
     "timestamp": 1521109968210,
     "user": {
      "displayName": "Vicente Jimenez",
      "photoUrl": "//lh4.googleusercontent.com/-l1GS4wWn-mI/AAAAAAAAAAI/AAAAAAAAAZE/i_NQ2m6L6rI/s50-c-k-no/photo.jpg",
      "userId": "104735520205871768811"
     },
     "user_tz": -60
    },
    "id": "M3yxEC-GKlSL",
    "outputId": "6497bd5c-0786-4ba3-e39c-86ac7fb40e82"
   },
   "outputs": [],
   "source": [
    "i = 0.0105 # A\n",
    "calc.printVar('Current',i,'A')\n",
    "calc.printVar('Current',i,'A',sci=False)\n",
    "calc.printVar('Current',i,'A',prefix=False)"
   ]
  },
  {
   "cell_type": "markdown",
   "metadata": {
    "colab_type": "text",
    "id": "qSAKT2uYOJX2"
   },
   "source": [
    "### printTitle\n",
    "\n",
    "Print a title line leaving one line after and before.\n",
    "\n",
    "The function prototype is:\n",
    "\n",
    ">`printTitle(title)`\n",
    "\n",
    "Where:\n",
    "\n",
    ">**title** &nbsp; &nbsp; Title to show\n",
    "\n",
    "Example:"
   ]
  },
  {
   "cell_type": "code",
   "execution_count": null,
   "metadata": {
    "colab": {
     "autoexec": {
      "startup": false,
      "wait_interval": 0
     },
     "base_uri": "https://localhost:8080/",
     "height": 92
    },
    "colab_type": "code",
    "executionInfo": {
     "elapsed": 498,
     "status": "ok",
     "timestamp": 1521109992905,
     "user": {
      "displayName": "Vicente Jimenez",
      "photoUrl": "//lh4.googleusercontent.com/-l1GS4wWn-mI/AAAAAAAAAAI/AAAAAAAAAZE/i_NQ2m6L6rI/s50-c-k-no/photo.jpg",
      "userId": "104735520205871768811"
     },
     "user_tz": -60
    },
    "id": "xOtq2kJLObzu",
    "outputId": "333f2e17-c041-4d41-8d81-39b79e116871"
   },
   "outputs": [],
   "source": [
    "calc.printTitle('This is a title')\n",
    "print('One line follows')"
   ]
  },
  {
   "cell_type": "markdown",
   "metadata": {
    "colab_type": "text",
    "id": "J7hA20EcTg7r"
   },
   "source": [
    "<BR><BR>\n",
    "\n",
    "## Document information\n",
    "\n",
    "Copyright © Vicente Jiménez (2018-2019)\n",
    "\n",
    "This work is licensed under a [Creative Common Attribution-ShareAlike 4.0 International license](http://creativecommons.org/licenses/by-sa/4.0/). \n",
    "\n",
    "The **calc.py** code is licensed under the [MIT License](https://opensource.org/licenses/MIT).\n",
    "\n",
    "You can find the module [here](https://github.com/R6500/Python-bits/tree/master/Modules)\n",
    "\n",
    "<img  src=\"images/cc_sa.png\" width=\"200\">"
   ]
  },
  {
   "cell_type": "code",
   "execution_count": null,
   "metadata": {},
   "outputs": [],
   "source": []
  }
 ],
 "metadata": {
  "colab": {
   "collapsed_sections": [],
   "default_view": {},
   "name": "Module calc.ipynb",
   "provenance": [],
   "version": "0.3.2",
   "views": {}
  },
  "kernelspec": {
   "display_name": "Python 3",
   "language": "python",
   "name": "python3"
  },
  "language_info": {
   "codemirror_mode": {
    "name": "ipython",
    "version": 3
   },
   "file_extension": ".py",
   "mimetype": "text/x-python",
   "name": "python",
   "nbconvert_exporter": "python",
   "pygments_lexer": "ipython3",
   "version": "3.7.1"
  }
 },
 "nbformat": 4,
 "nbformat_minor": 1
}
