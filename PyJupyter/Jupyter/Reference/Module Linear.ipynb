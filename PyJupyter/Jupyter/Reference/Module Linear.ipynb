{
 "cells": [
  {
   "cell_type": "markdown",
   "metadata": {
    "colab_type": "text",
    "id": "gH4MHCJWIF5o"
   },
   "source": [
    "# <img style=\"float: right;\"  src=\"images/jp.png\" width=\"200\">\n",
    "\n",
    "# Module Linear\n",
    "\n",
    "This document describes the [linear module](http://localhost:8888/edit/Code/linear.py) \n",
    "\n",
    "Version 1.1 (12/4/2019)  \n",
    "License information is at the end of the document\n",
    "\n",
    "---\n",
    "\n",
    "The main element of the linear module is the linear block **linblk** class. Objects in this class are defined by a polinomial quotient in the **_s_** domain.\n",
    "\n",
    "Using **linblk** objects it is possible to analize the behavior of linear systems.\n",
    "\n",
    "Although this class is the central element, the module also contains other functions that can be used separated from this class.\n",
    "\n",
    "You can find [this module](http://localhost:8888/edit/Code/linear.py) on the [Code folder](http://localhost:8888/tree/Code)"
   ]
  },
  {
   "cell_type": "markdown",
   "metadata": {
    "colab_type": "text",
    "id": "t3p2_34GI6bN"
   },
   "source": [
    "## Importing the module\n",
    "\n",
    "In order to use the module,you need to **load** and **import** it. \n",
    "\n",
    "The module **calc** is also loaded and imported because we will use the **plot11** function it contains.\n",
    "\n",
    "We will also import the **numpy** module."
   ]
  },
  {
   "cell_type": "code",
   "execution_count": null,
   "metadata": {
    "colab": {
     "autoexec": {
      "startup": false,
      "wait_interval": 0
     },
     "base_uri": "https://localhost:8080/",
     "height": 55
    },
    "colab_type": "code",
    "executionInfo": {
     "elapsed": 62,
     "status": "ok",
     "timestamp": 1521307425786,
     "user": {
      "displayName": "Vicente Jimenez",
      "photoUrl": "//lh4.googleusercontent.com/-l1GS4wWn-mI/AAAAAAAAAAI/AAAAAAAAAZE/i_NQ2m6L6rI/s50-c-k-no/photo.jpg",
      "userId": "104735520205871768811"
     },
     "user_tz": -60
    },
    "id": "mEjbCTqlICY7",
    "outputId": "d3b72210-09ae-4107-d246-3bb0a83a78c2"
   },
   "outputs": [],
   "source": [
    "# Import all needed modules\n",
    "import numpy as np  \n",
    "import linear as lin\n",
    "import calc\n",
    "\n",
    "# Check loaded modules\n",
    "try:\n",
    "    print('linear version: ',lin.version)\n",
    "    print('calc version: ',calc.version)\n",
    "except:\n",
    "    print('Error loading modules')\n",
    "    raise"
   ]
  },
  {
   "cell_type": "markdown",
   "metadata": {
    "colab_type": "text",
    "id": "lX3F8zPcJd-h"
   },
   "source": [
    "## help system\n",
    "\n",
    "The linear module includes an embedded help system\n",
    "You can invoque it using the **help()** function:\n",
    "\n",
    ">`help(topic)`\n",
    "\n",
    "Where the optional argument **topic** can be string about one topic in the module\n",
    "\n",
    "The help system for the module depends on a 'Linear_Help.dat' file that we don't usually load in Colaboratory. That makes the **help** command fail.\n",
    "\n",
    "In any case you can also use the usual help system in Python as shown in the **example** below:"
   ]
  },
  {
   "cell_type": "code",
   "execution_count": null,
   "metadata": {
    "colab": {
     "autoexec": {
      "startup": false,
      "wait_interval": 0
     },
     "base_uri": "https://localhost:8080/",
     "height": 545
    },
    "colab_type": "code",
    "executionInfo": {
     "elapsed": 508,
     "status": "ok",
     "timestamp": 1521219719004,
     "user": {
      "displayName": "Vicente Jimenez",
      "photoUrl": "//lh4.googleusercontent.com/-l1GS4wWn-mI/AAAAAAAAAAI/AAAAAAAAAZE/i_NQ2m6L6rI/s50-c-k-no/photo.jpg",
      "userId": "104735520205871768811"
     },
     "user_tz": -60
    },
    "id": "UsL2NWEKJ7o3",
    "outputId": "457b322f-6811-4c87-cd2f-5e228f1a83a2"
   },
   "outputs": [],
   "source": [
    "# Call the help system on the linear module\n",
    "lin.help()\n",
    "\n",
    "print()\n",
    "print('---------------------------------------------------')\n",
    "print()\n",
    "\n",
    "# Call the standard Python help system for the frange function\n",
    "help(lin.frange)"
   ]
  },
  {
   "cell_type": "markdown",
   "metadata": {
    "colab_type": "text",
    "id": "knqN9ayhMeM8"
   },
   "source": [
    "## Frequency helper functions\n",
    "\n",
    "Those functions help with some frequency related operations\n",
    "\n",
    "### frange\n",
    "\n",
    "This function generates a logarithmic range\n",
    "\n",
    ">`fv = frange(start,end,ndec,ppd)`\n",
    "\n",
    "Required parameters:\n",
    "\n",
    ">**start** Start value\n",
    "\n",
    ">**end** End value\n",
    "\n",
    ">**ndec** Number of decades\n",
    "\n",
    ">**ppd** Points per decade (defaults to 20)\n",
    "\n",
    "Either **end** or **ndec** must be provided   \n",
    "\n",
    "Returns an **fv** vector with the frequencies.\n",
    "\n",
    "Some **examples**:"
   ]
  },
  {
   "cell_type": "code",
   "execution_count": null,
   "metadata": {
    "colab": {
     "autoexec": {
      "startup": false,
      "wait_interval": 0
     },
     "base_uri": "https://localhost:8080/",
     "height": 517
    },
    "colab_type": "code",
    "executionInfo": {
     "elapsed": 737,
     "status": "ok",
     "timestamp": 1521225514651,
     "user": {
      "displayName": "Vicente Jimenez",
      "photoUrl": "//lh4.googleusercontent.com/-l1GS4wWn-mI/AAAAAAAAAAI/AAAAAAAAAZE/i_NQ2m6L6rI/s50-c-k-no/photo.jpg",
      "userId": "104735520205871768811"
     },
     "user_tz": -60
    },
    "id": "PT3lFSSLNCWR",
    "outputId": "16745411-04be-40a3-9dbc-7e6d2dfb134d"
   },
   "outputs": [],
   "source": [
    "# Range with default 20 ppd\n",
    "print('lin.frange(10,100)')\n",
    "fv = lin.frange(10,100)          \n",
    "print(fv)\n",
    "print()\n",
    "\n",
    "# Range with default 10 ppd\n",
    "print('lin.frange(10,100,ppd=10)')\n",
    "fv = lin.frange(10,100,ppd=10)          \n",
    "print(fv)\n",
    "print()\n",
    "\n",
    "# 1 decade from fstart with default 20 ppd\n",
    "print('lin.frange(10,ndec=1)')\n",
    "fv = lin.frange(10,ndec=1)          \n",
    "print(fv)\n",
    "print()\n",
    "\n",
    "# 1 decade from fstart with 10 ppd\n",
    "print('lin.frange(10,ndec=1,ppd=10)')\n",
    "fv = lin.frange(10,ndec=1,ppd=10)          \n",
    "print(fv)\n",
    "print()"
   ]
  },
  {
   "cell_type": "markdown",
   "metadata": {
    "colab_type": "text",
    "id": "r9wjpNPMOEBV"
   },
   "source": [
    "### f2w\n",
    "\n",
    "Convert from Hz to rad/s\n",
    "\n",
    ">`w = f2w(f)`\n",
    "\n",
    "### w2f\n",
    "\n",
    "Convert from Hz to rad/s\n",
    "\n",
    ">`f = w2f(w)`\n",
    "\n",
    "Examples:"
   ]
  },
  {
   "cell_type": "code",
   "execution_count": null,
   "metadata": {
    "colab": {
     "autoexec": {
      "startup": false,
      "wait_interval": 0
     },
     "base_uri": "https://localhost:8080/",
     "height": 55
    },
    "colab_type": "code",
    "executionInfo": {
     "elapsed": 549,
     "status": "ok",
     "timestamp": 1521219720857,
     "user": {
      "displayName": "Vicente Jimenez",
      "photoUrl": "//lh4.googleusercontent.com/-l1GS4wWn-mI/AAAAAAAAAAI/AAAAAAAAAZE/i_NQ2m6L6rI/s50-c-k-no/photo.jpg",
      "userId": "104735520205871768811"
     },
     "user_tz": -60
    },
    "id": "A7VMrpomOTUx",
    "outputId": "0ead1c7e-e6bc-4fe5-d9ef-239629f641da"
   },
   "outputs": [],
   "source": [
    "w = lin.f2w(1000)\n",
    "print ('w = ',w,'rad/s')\n",
    "f = lin.w2f(w)\n",
    "print ('f = ',f,'Hz')"
   ]
  },
  {
   "cell_type": "markdown",
   "metadata": {
    "colab_type": "text",
    "id": "ltg4Yqg2i24V"
   },
   "source": [
    "## Pole helper functions\n",
    "\n",
    "Those functions ease some calculations related to poles.\n",
    "\n",
    "The calculatios make no sense for real poles.\n",
    "\n",
    "<BR>\n",
    "  \n",
    "### damping\n",
    "\n",
    "Calculates the [**damping**](https://en.wikipedia.org/wiki/Damping_ratio) $\\zeta$ associated to a complex pole\n",
    "  \n",
    ">`damping(pole)`\n",
    "\n",
    "Returns the damping $\\zeta$ associated to a pole\n",
    "\n",
    "The results make no sense for real poles\n",
    "\n",
    "$\\qquad$ 0  Means **undamped** (Oscillations)\n",
    "\n",
    "$\\qquad$ < 1 Means **underdamped** (No oscillation)\n",
    "\n",
    "$\\qquad$ >1 Means critically damped (Just in the oscillation limit)\n",
    "\n",
    "<BR>\n",
    "  \n",
    "### q\n",
    "\n",
    "Calculates the $Q$ [quality factor](https://en.wikipedia.org/wiki/Q_factor) associated to a complex pole\n",
    "  \n",
    ">`q(pole)`\n",
    "\n",
    "Returns the Q factor associated to a single pole\n",
    "\n",
    "<BR>\n",
    "\n",
    "Examples:"
   ]
  },
  {
   "cell_type": "code",
   "execution_count": null,
   "metadata": {
    "colab": {
     "autoexec": {
      "startup": false,
      "wait_interval": 0
     },
     "base_uri": "https://localhost:8080/",
     "height": 68
    },
    "colab_type": "code",
    "executionInfo": {
     "elapsed": 2314,
     "status": "ok",
     "timestamp": 1521225526876,
     "user": {
      "displayName": "Vicente Jimenez",
      "photoUrl": "//lh4.googleusercontent.com/-l1GS4wWn-mI/AAAAAAAAAAI/AAAAAAAAAZE/i_NQ2m6L6rI/s50-c-k-no/photo.jpg",
      "userId": "104735520205871768811"
     },
     "user_tz": -60
    },
    "id": "x6Uf6ulanrXD",
    "outputId": "e109c4c4-5233-47b7-b8cd-c793531c78db"
   },
   "outputs": [],
   "source": [
    "# Pole to calculate\n",
    "pole = -0.2 + 1j\n",
    "print('Pole is ',pole)\n",
    "print('Damping is ',lin.damping(pole))\n",
    "print('Q is ',lin.q(pole))"
   ]
  },
  {
   "cell_type": "markdown",
   "metadata": {
    "colab_type": "text",
    "id": "Ymu1VJJ2vgFd"
   },
   "source": [
    "### poleZeroPolar\n",
    "\n",
    "Generates a list of two poles or zeros on the negative region of the **'s'** plane from their magnitude and angle\n",
    "\n",
    ">`poleZeroPolar(mag,angle)`\n",
    "\n",
    "Parameters:\n",
    "\n",
    ">**mag** is the magnitude of the poles or zeros (in rad/s)\n",
    "\n",
    ">**angle** is the angle respect to the real axis in degrees (0 to 90)\n",
    "\n",
    "Returns a list of two poles or zeros\n",
    "\n",
    "Example:"
   ]
  },
  {
   "cell_type": "code",
   "execution_count": null,
   "metadata": {
    "colab": {
     "autoexec": {
      "startup": false,
      "wait_interval": 0
     },
     "base_uri": "https://localhost:8080/",
     "height": 36
    },
    "colab_type": "code",
    "executionInfo": {
     "elapsed": 657,
     "status": "ok",
     "timestamp": 1521219723029,
     "user": {
      "displayName": "Vicente Jimenez",
      "photoUrl": "//lh4.googleusercontent.com/-l1GS4wWn-mI/AAAAAAAAAAI/AAAAAAAAAZE/i_NQ2m6L6rI/s50-c-k-no/photo.jpg",
      "userId": "104735520205871768811"
     },
     "user_tz": -60
    },
    "id": "zSp1emPjwHEJ",
    "outputId": "3c077304-40dc-4296-bcab-3c40533ece73"
   },
   "outputs": [],
   "source": [
    "print(lin.poleZeroPolar(1,80))"
   ]
  },
  {
   "cell_type": "markdown",
   "metadata": {
    "colab_type": "text",
    "id": "EiDS54huPujO"
   },
   "source": [
    "## Linear frequency plots\n",
    "\n",
    "Those functions draw frequency response plots using a linear vertical axis and a logarithmic frequency axis\n",
    "\n",
    "<BR>\n",
    "\n",
    "### showFreqMag\n",
    "\n",
    "Linear **magnitude** plot\n",
    "\n",
    ">`showFreqMag(f,mag,title='Magnitude Frequency Plot',ylabel='Magnitude')`\n",
    "\n",
    "Required parameters:\n",
    "\n",
    ">**f** Frequency vector (Hz)\n",
    "\n",
    ">**mag** Magnitude vector \n",
    "\n",
    "Optional parameters:   \n",
    "\n",
    ">**title** Plot title defaults to 'Magnitude Frequency Plot'\n",
    "\n",
    ">**ylabel** Y axis label defaults to 'Magnitude'\n",
    "\n",
    "The function does not return anything\n",
    "\n",
    "Example:"
   ]
  },
  {
   "cell_type": "code",
   "execution_count": null,
   "metadata": {
    "colab": {
     "autoexec": {
      "startup": false,
      "wait_interval": 0
     },
     "base_uri": "https://localhost:8080/",
     "height": 380
    },
    "colab_type": "code",
    "executionInfo": {
     "elapsed": 890,
     "status": "ok",
     "timestamp": 1521219725328,
     "user": {
      "displayName": "Vicente Jimenez",
      "photoUrl": "//lh4.googleusercontent.com/-l1GS4wWn-mI/AAAAAAAAAAI/AAAAAAAAAZE/i_NQ2m6L6rI/s50-c-k-no/photo.jpg",
      "userId": "104735520205871768811"
     },
     "user_tz": -60
    },
    "id": "oMDIJlXAPct4",
    "outputId": "7f636c88-0d45-415c-dded-10c4153cac3f"
   },
   "outputs": [],
   "source": [
    "# 1kHz Low pass response\n",
    "fv = lin.frange(10,10000)\n",
    "w0 = 6283 # rad/s\n",
    "h  = 1/((1+0j)+1j*(lin.f2w(fv)/w0))\n",
    "mag = np.abs(h)\n",
    "\n",
    "# Graph\n",
    "lin.showFreqMag(fv,mag,ylabel='Gain')"
   ]
  },
  {
   "cell_type": "markdown",
   "metadata": {
    "colab_type": "text",
    "id": "Ll4pvK9STBHl"
   },
   "source": [
    "### showFreqComplex\n",
    "\n",
    "Linear **magnitude** and **phase** plot\n",
    "\n",
    ">`showFreqComplex(f,vector,title='Magnitude/Phase Frequency Plot')`\n",
    "\n",
    "Required parameters:\n",
    "\n",
    ">**f** Frequency vector (Hz)\n",
    "\n",
    ">**vector** Complex vector\n",
    " \n",
    "Optional parameters:\n",
    "\n",
    ">**title** Plot title\n",
    "  \n",
    "The function don't return anything\n",
    "\n",
    "Example:"
   ]
  },
  {
   "cell_type": "code",
   "execution_count": null,
   "metadata": {
    "colab": {
     "autoexec": {
      "startup": false,
      "wait_interval": 0
     },
     "base_uri": "https://localhost:8080/",
     "height": 380
    },
    "colab_type": "code",
    "executionInfo": {
     "elapsed": 891,
     "status": "ok",
     "timestamp": 1521219727774,
     "user": {
      "displayName": "Vicente Jimenez",
      "photoUrl": "//lh4.googleusercontent.com/-l1GS4wWn-mI/AAAAAAAAAAI/AAAAAAAAAZE/i_NQ2m6L6rI/s50-c-k-no/photo.jpg",
      "userId": "104735520205871768811"
     },
     "user_tz": -60
    },
    "id": "lfwISz02XTEJ",
    "outputId": "151dcde5-4400-48fd-fc2b-e17681436b8d"
   },
   "outputs": [],
   "source": [
    "# Magnitude and Phase of a 1kHz lowpass\n",
    "lin.showFreqComplex(fv,h)"
   ]
  },
  {
   "cell_type": "markdown",
   "metadata": {
    "colab_type": "text",
    "id": "F4tzwQkrXgYt"
   },
   "source": [
    "## Bode functions\n",
    "\n",
    "Bode functions deal with **bode plots**\n",
    "\n",
    "In a bode plot the **phase** is shown in linear scale but the magnitude is shown in **logarithmic** scale using **dB** units. \n",
    "\n",
    "**dB** is an unit for **Gain**. When the gain is in voltage or current, the **dB** can be calculated:\n",
    "\n",
    "$\\qquad dB(x) = 20 \\cdot log_{10}(x)$\n",
    "\n",
    "<BR>\n",
    "  \n",
    "### dB\n",
    "\n",
    "The **dB** function calculates the **dB** value from a **voltage** or **current** gain\n",
    "\n",
    ">`dB(gain)`\n",
    "\n",
    "The function takes a linear **gain** and returns its value in **dB** units\n",
    "\n",
    "Example:"
   ]
  },
  {
   "cell_type": "code",
   "execution_count": null,
   "metadata": {
    "colab": {
     "autoexec": {
      "startup": false,
      "wait_interval": 0
     },
     "base_uri": "https://localhost:8080/",
     "height": 36
    },
    "colab_type": "code",
    "executionInfo": {
     "elapsed": 533,
     "status": "ok",
     "timestamp": 1521219728652,
     "user": {
      "displayName": "Vicente Jimenez",
      "photoUrl": "//lh4.googleusercontent.com/-l1GS4wWn-mI/AAAAAAAAAAI/AAAAAAAAAZE/i_NQ2m6L6rI/s50-c-k-no/photo.jpg",
      "userId": "104735520205871768811"
     },
     "user_tz": -60
    },
    "id": "NHo3-A1scHav",
    "outputId": "9bde5ac8-8f7e-49ab-fba7-dbcea515d7b7"
   },
   "outputs": [],
   "source": [
    "print('A Gain of 1000 equals',lin.dB(100),'dB')"
   ]
  },
  {
   "cell_type": "markdown",
   "metadata": {
    "colab_type": "text",
    "id": "rU6NMwCgcTch"
   },
   "source": [
    "### showBodeMag\n",
    "\n",
    "This function shows a **magnitude** bode plot\n",
    "\n",
    ">`showBodeMag(f,mag,title='Magnitude Bode Plot')`\n",
    "\n",
    "Required parameters:\n",
    "        \n",
    ">**f** Frequency vector (in Hz)\n",
    "\n",
    ">**mag** Magnitude vector (in dB)\n",
    "  \n",
    "Optional parameter:  \n",
    "\n",
    ">**title** Plot title\n",
    " \n",
    "The function does not return anything\n",
    "\n",
    "Example:"
   ]
  },
  {
   "cell_type": "code",
   "execution_count": null,
   "metadata": {
    "colab": {
     "autoexec": {
      "startup": false,
      "wait_interval": 0
     },
     "base_uri": "https://localhost:8080/",
     "height": 380
    },
    "colab_type": "code",
    "executionInfo": {
     "elapsed": 734,
     "status": "ok",
     "timestamp": 1521219729605,
     "user": {
      "displayName": "Vicente Jimenez",
      "photoUrl": "//lh4.googleusercontent.com/-l1GS4wWn-mI/AAAAAAAAAAI/AAAAAAAAAZE/i_NQ2m6L6rI/s50-c-k-no/photo.jpg",
      "userId": "104735520205871768811"
     },
     "user_tz": -60
    },
    "id": "rVh0WbR2cz-l",
    "outputId": "f4eb53a2-0a2b-4e19-9b90-d57758f76ffc"
   },
   "outputs": [],
   "source": [
    "# Magnitude Bode of a 1kHz low pass\n",
    "lin.showBodeMag(fv,lin.dB(mag))"
   ]
  },
  {
   "cell_type": "markdown",
   "metadata": {
    "colab_type": "text",
    "id": "Yfj49i98dP_W"
   },
   "source": [
    "### showBodePhase\n",
    "\n",
    "Show a bode phase plot. In fact, the phase is always in linear scale.\n",
    "\n",
    ">`showBodePhase(f,phase,title='Phase Bode Plot')`\n",
    "\n",
    "Required parameters:\n",
    "        \n",
    ">**f** Frequency vector (in Hz)\n",
    "\n",
    ">**phase** Phase vector (in degrees)\n",
    "  \n",
    "Optional parameter:  \n",
    "\n",
    ">**title** Plot title\n",
    " \n",
    "The function does not return anything\n",
    "\n",
    "Example:"
   ]
  },
  {
   "cell_type": "code",
   "execution_count": null,
   "metadata": {
    "colab": {
     "autoexec": {
      "startup": false,
      "wait_interval": 0
     },
     "base_uri": "https://localhost:8080/",
     "height": 380
    },
    "colab_type": "code",
    "executionInfo": {
     "elapsed": 839,
     "status": "ok",
     "timestamp": 1521219730754,
     "user": {
      "displayName": "Vicente Jimenez",
      "photoUrl": "//lh4.googleusercontent.com/-l1GS4wWn-mI/AAAAAAAAAAI/AAAAAAAAAZE/i_NQ2m6L6rI/s50-c-k-no/photo.jpg",
      "userId": "104735520205871768811"
     },
     "user_tz": -60
    },
    "id": "OSo6J6YjdmLq",
    "outputId": "df9841ed-958a-4f55-d33c-2a3cbd27f0ba"
   },
   "outputs": [],
   "source": [
    "# Phase Bode of a 1kHz low pass\n",
    "lin.showBodePhase(fv,np.angle(h,deg=True))"
   ]
  },
  {
   "cell_type": "markdown",
   "metadata": {
    "colab_type": "text",
    "id": "ltHUGwk6dxNS"
   },
   "source": [
    "### drawBodePlot\n",
    "\n",
    "Draws both the **magnitud** and **phase** bode plots\n",
    "\n",
    ">`drawBodePlot(f,mag,phase,title='Bode Plot')`\n",
    "\n",
    "Required parameters:\n",
    "\n",
    ">$f$ Frequency vector (Hz)  \n",
    ">**mag** Magnitude vector(dB)  \n",
    ">**phase** Phase vector (deg)  \n",
    "  \n",
    "Optional parameters:  \n",
    "\n",
    ">**title** Plot title\n",
    "\n",
    "The function does not return anything\n",
    "\n",
    "Example:"
   ]
  },
  {
   "cell_type": "code",
   "execution_count": null,
   "metadata": {
    "colab": {
     "autoexec": {
      "startup": false,
      "wait_interval": 0
     },
     "base_uri": "https://localhost:8080/",
     "height": 380
    },
    "colab_type": "code",
    "executionInfo": {
     "elapsed": 1131,
     "status": "ok",
     "timestamp": 1521219732218,
     "user": {
      "displayName": "Vicente Jimenez",
      "photoUrl": "//lh4.googleusercontent.com/-l1GS4wWn-mI/AAAAAAAAAAI/AAAAAAAAAZE/i_NQ2m6L6rI/s50-c-k-no/photo.jpg",
      "userId": "104735520205871768811"
     },
     "user_tz": -60
    },
    "id": "F4RPX8X8eJpb",
    "outputId": "f2546aad-a8a6-41ac-b3cb-b9ac240090e6"
   },
   "outputs": [],
   "source": [
    "# Full bode plot of a 1kHz lowpass filter\n",
    "lin.drawBodePlot(fv,lin.dB(mag),np.angle(h,deg=True))"
   ]
  },
  {
   "cell_type": "markdown",
   "metadata": {
    "colab_type": "text",
    "id": "gasQk6A9eSMq"
   },
   "source": [
    "### addBodePlot and showBodePlot\n",
    "\n",
    "This pair of functions enable to draw together several bode plots. The first function **addBodePlot** is executed for each curve to show. After the last one, we call the **showBodePlot** function to draw together all the curves.\n",
    "\n",
    "<BR>\n",
    "\n",
    "**addbodeplot** function\n",
    "\n",
    ">`addBodePlot(f,mag,phase,label='')`\n",
    "\n",
    "Required parameters:\n",
    "\n",
    ">**f** Frequency vector (Hz)\n",
    "        \n",
    ">**mag** Magnitude vector(dB)\n",
    "      \n",
    ">**phase** Phase vector (deg)\n",
    "  \n",
    "Optional parameters:  \n",
    "\n",
    ">**label** Label for the curve (Defaults to no label)\n",
    "\n",
    "<BR>\n",
    "\n",
    "**showBodePlot** function\n",
    "\n",
    ">`showBodePlot(title='Bode Plot',location='best')`\n",
    "\n",
    "Optional parameters:\n",
    "\n",
    ">**title** Title for the plot\n",
    "       \n",
    ">**location** Location for the labels (Defaults to 'best')\n",
    "\n",
    "None of the functions return anything\n",
    "\n",
    "Example:"
   ]
  },
  {
   "cell_type": "code",
   "execution_count": null,
   "metadata": {
    "colab": {
     "autoexec": {
      "startup": false,
      "wait_interval": 0
     },
     "base_uri": "https://localhost:8080/",
     "height": 380
    },
    "colab_type": "code",
    "executionInfo": {
     "elapsed": 1177,
     "status": "ok",
     "timestamp": 1521219733585,
     "user": {
      "displayName": "Vicente Jimenez",
      "photoUrl": "//lh4.googleusercontent.com/-l1GS4wWn-mI/AAAAAAAAAAI/AAAAAAAAAZE/i_NQ2m6L6rI/s50-c-k-no/photo.jpg",
      "userId": "104735520205871768811"
     },
     "user_tz": -60
    },
    "id": "zZUVekSPfRwB",
    "outputId": "472013c2-7424-4979-fa1c-38bccc842830"
   },
   "outputs": [],
   "source": [
    "# 1khz high pass response\n",
    "fv = lin.frange(10,10000)\n",
    "w0 = 6283 # rad/s\n",
    "swo = 1j*(lin.f2w(fv)/w0)\n",
    "h2  = swo/(1+swo)\n",
    "mag2 = np.abs(h2)\n",
    "\n",
    "# Show together low pass and high pass\n",
    "lin.addBodePlot(fv,lin.dB(mag),np.angle(h,deg=True),label='Low Pass')\n",
    "lin.addBodePlot(fv,lin.dB(mag2),np.angle(h2,deg=True),label='High Pass')\n",
    "lin.showBodePlot('High pass and Low pass')"
   ]
  },
  {
   "cell_type": "markdown",
   "metadata": {
    "colab_type": "text",
    "id": "FUqYZcPjfk2O"
   },
   "source": [
    "## s domain plot functions\n",
    "\n",
    "Those functions show the positions of poles and zeros in the complex **'s'** domain.\n",
    "\n",
    "<BR>\n",
    "  \n",
    "### drawPoleZeroPlot  \n",
    "\n",
    "This function takes a list of **poles** and a list of **zeros** and shows them in the **'s'** plane\n",
    "\n",
    ">`drawPoleZeroPlot(poles=[],zeros=[],title='Pole(x) & Zero(o)  plot',color='blue')`\n",
    "\n",
    "Parameters:\n",
    "\n",
    ">**poles** List of poles\n",
    "\n",
    ">**zeros** List of zeros\n",
    "\n",
    ">**title** Graph title (optional)\n",
    "       \n",
    ">**color** Color of symbols (optional)\n",
    "\n",
    "You can provide only the **poles** or the **zeros**. As **zeros** is the second parameter, if you have only **zeros** to show you need to provide an empty list for **poles** or use a named parameter for **zeros** like in:\n",
    "\n",
    ">`drawPoleZeroPlot(zeros=zerolist)`\n",
    "\n",
    "The function does not return anything.\n",
    "\n",
    "Example:"
   ]
  },
  {
   "cell_type": "code",
   "execution_count": null,
   "metadata": {
    "colab": {
     "autoexec": {
      "startup": false,
      "wait_interval": 0
     },
     "base_uri": "https://localhost:8080/",
     "height": 376
    },
    "colab_type": "code",
    "executionInfo": {
     "elapsed": 612,
     "status": "ok",
     "timestamp": 1521219734320,
     "user": {
      "displayName": "Vicente Jimenez",
      "photoUrl": "//lh4.googleusercontent.com/-l1GS4wWn-mI/AAAAAAAAAAI/AAAAAAAAAZE/i_NQ2m6L6rI/s50-c-k-no/photo.jpg",
      "userId": "104735520205871768811"
     },
     "user_tz": -60
    },
    "id": "DDWvTc20gxnK",
    "outputId": "daa000b7-45af-49ca-e7ab-1b59f46510eb"
   },
   "outputs": [],
   "source": [
    "# First set of poles and zeros\n",
    "poles1 = [-1+1j,-1-1j,-2]\n",
    "zeros1 = [1+1j,1-1j]\n",
    "lin.drawPoleZeroPlot(poles1,zeros1)"
   ]
  },
  {
   "cell_type": "markdown",
   "metadata": {
    "colab_type": "text",
    "id": "74TtSdmog5jN"
   },
   "source": [
    "### addPoleZeroPlot and showPoleZeroPlot\n",
    "\n",
    "This pair of functions enable to draw together several pole/zero plots. The first function **addPoleZeroPlot** is executed for set of **poles** and **zeros**. After the last one, we call the **showPoleZeroPlot** function to draw together all the **poles** and **zeros**.\n",
    "\n",
    "<BR>\n",
    "  \n",
    "**addPoleZeroPlot** function\n",
    "\n",
    ">`addPoleZeroPlot(poles=[],zeros=[],label=None,color='blue')`\n",
    "\n",
    "Parameters:\n",
    "\n",
    ">**poles** List of poles\n",
    "\n",
    ">**zeros** List of zeros       \n",
    "       \n",
    ">**label** Label (optional)\n",
    "       \n",
    ">**color** Color of symbols (defaults to 'blue')  \n",
    "\n",
    "<BR>\n",
    "  \n",
    "**showPoleZeroPlot** function  \n",
    "\n",
    ">`showPoleZeroPlot(title='Pole(x) / Zero(o)  plot',location='best')`\n",
    "\n",
    "Optional parameters:\n",
    "\n",
    ">**title** Title for the plot\n",
    "       \n",
    ">**location** Location for the legend\n",
    "\n",
    "None of the functions return anything. \n",
    "\n",
    "Example:"
   ]
  },
  {
   "cell_type": "code",
   "execution_count": null,
   "metadata": {
    "colab": {
     "autoexec": {
      "startup": false,
      "wait_interval": 0
     },
     "base_uri": "https://localhost:8080/",
     "height": 376
    },
    "colab_type": "code",
    "executionInfo": {
     "elapsed": 730,
     "status": "ok",
     "timestamp": 1521219735348,
     "user": {
      "displayName": "Vicente Jimenez",
      "photoUrl": "//lh4.googleusercontent.com/-l1GS4wWn-mI/AAAAAAAAAAI/AAAAAAAAAZE/i_NQ2m6L6rI/s50-c-k-no/photo.jpg",
      "userId": "104735520205871768811"
     },
     "user_tz": -60
    },
    "id": "BK19o_Qbiaha",
    "outputId": "50a8746f-5691-40c8-c2f6-6542db71e41b"
   },
   "outputs": [],
   "source": [
    "# Second set\n",
    "poles2 = [-0.5+1j,-0.5-1j,-1]\n",
    "zeros2 = [0.5+1j,0.5-1j]\n",
    "\n",
    "# Show two sets of poles and zeros\n",
    "lin.addPoleZeroPlot(poles1,zeros1,label='Set #1',color='blue')\n",
    "lin.addPoleZeroPlot(poles2,zeros2,label='Set #2',color='red')\n",
    "lin.showPoleZeroPlot()"
   ]
  },
  {
   "cell_type": "markdown",
   "metadata": {
    "colab_type": "text",
    "id": "fh_4JWGpoQ0A"
   },
   "source": [
    "<BR><BR>\n",
    "  \n",
    "## The linblk class\n",
    "\n",
    "The **linblk** class defines a **linear block** class that is the central element of the **linear** module\n",
    "\n",
    "It is basically a [**transfer function**](https://en.wikipedia.org/wiki/Transfer_function) in the [**Laplace**](https://en.wikipedia.org/wiki/Laplace_transform) **'s'** domain\n",
    "\n",
    "For linear systems the $H(s)$ **transfer function** can be written a the quotient of two polinomials in **'s'**\n",
    "\n",
    "\n",
    "$$H(s)=\\frac{a_0+a_1*s+a_2*s^2+...+a_n*s^n}{b_0+b_1*s+b_2*s^2+...+b_m*s^m}$$\n",
    "\n",
    "The basic **constructor** just gives the polinomials coefficients. Assuming that you have imported the module as **lin**, you use:\n",
    "\n",
    ">`object = lin.linblk(num=[1.0],den=[1.0])`\n",
    "\n",
    "Where **num** is the **numerator** and **den** is the denominator. Both are provided as lists\n",
    "\n",
    "$\\qquad num = [a_0,a_1,a_2,...a_n]$\n",
    "\n",
    "$\\qquad den = [b_0,b_1,b_2,...b_m]$\n",
    "\n",
    "The order **n** of the numerator does not need to be the same as the order **m** of the denominator.\n",
    "\n",
    "By default both the numerator and the denominator are $[1.0]$ that equals just $1$\n",
    "\n",
    "So, for instance:\n",
    "\n",
    ">`L1 = linblk()`\n",
    "\n",
    "Yields\n",
    "\n",
    "$\\qquad L_1(s)=1$\n",
    "\n",
    "Also you can provide just the **numerator** without any list:\n",
    "\n",
    ">`L2 = linblk(8)`\n",
    "\n",
    "This yields:\n",
    "\n",
    "$\\qquad L_2(s)=8$\n",
    "\n",
    "And, if we have **p1** as number\n",
    "\n",
    ">`L3 = linblk([1],[1,1/p1])`\n",
    "\n",
    "Yields\n",
    "\n",
    "$\\qquad L_3(s)=\\frac{1}{1+\\frac{s}{p1}}$\n",
    "\n",
    "If you **print** a **linblk** object you will get the numerator and denominator coefficients:\n",
    "\n",
    "$\\qquad [a_0,a_1,a_2,...a_n] / [b_0,b_1,b_2,...b_m]$\n",
    "\n",
    "An **example** of **linblk** block follows:\n"
   ]
  },
  {
   "cell_type": "code",
   "execution_count": null,
   "metadata": {
    "colab": {
     "autoexec": {
      "startup": false,
      "wait_interval": 0
     },
     "base_uri": "https://localhost:8080/",
     "height": 36
    },
    "colab_type": "code",
    "executionInfo": {
     "elapsed": 498,
     "status": "ok",
     "timestamp": 1521219736081,
     "user": {
      "displayName": "Vicente Jimenez",
      "photoUrl": "//lh4.googleusercontent.com/-l1GS4wWn-mI/AAAAAAAAAAI/AAAAAAAAAZE/i_NQ2m6L6rI/s50-c-k-no/photo.jpg",
      "userId": "104735520205871768811"
     },
     "user_tz": -60
    },
    "id": "1bPbCVMrTPob",
    "outputId": "008b24df-3253-4a8c-b5aa-ef48af9c91a5"
   },
   "outputs": [],
   "source": [
    "# Create a one real pole (at 1kHz) linear system\n",
    "wo = 2*np.pi*1000\n",
    "L1 = lin.linblk([1],[1,1/wo])\n",
    "\n",
    "# Show the system\n",
    "print(L1)"
   ]
  },
  {
   "cell_type": "markdown",
   "metadata": {
    "colab_type": "text",
    "id": "QueSDDQYuJYG"
   },
   "source": [
    "### linFromPZ\n",
    "\n",
    "This function creates a linear system from a list of **poles** and **zeros**\n",
    "\n",
    "The **poles** are the **zeros** of the denominator and the **zeros** are the **zeros** of the numerator.\n",
    "\n",
    "The function is normalized so, any **gain** needs to be also supplied. The final transfer function is:\n",
    "\n",
    "$$H(s)=gain \\: \\frac{(1-\\frac{s}{z1})(1-\\frac{s}{z2})...}{(1-\\frac{s}{p1})(1-\\frac{s}{p2})...}$$\n",
    "\n",
    "If you want to set the gain at a given **angular frequency** $\\omega_0$ you can indicate the **AC gain** and the **gain** will be calculated.\n",
    "\n",
    "$$gain = \\frac{gain_{AC}}{|H_{gain=1}(j\\omega_0)|}$$\n",
    "\n",
    "The above method works for all frequencies except infinity. If you want to set the **gain** value from the gain at infinity, it can be calculated as:\n",
    "\n",
    "$$gain = gain_\\infty \\frac{b_m}{a_n}$$\n",
    "\n",
    "Note that the above method will only work as intended if n and m are equal. If the numerator order **n** is bigger than the denominator order **m**, the gain at infinite will be always infinite. In a similar way, if the numerator order **n** is lower than the denominator order **m**, the gain at infinite will be always zero.\n",
    "\n",
    "The prototype for the function is:\n",
    "\n",
    ">`linFromPZ(poles=[],zeros=[],gain=1.0,wgain=0,ingain=None)`\n",
    "\n",
    "Where:\n",
    "\n",
    ">**poles** is a list of poles (Default to none)\n",
    "\n",
    ">**zeros** is a list of zeros (Default to none)\n",
    "\n",
    ">**gain** is the gain value (Defaults to 1)\n",
    "\n",
    ">**wgan** is the angular frequency $\\omega$ where **gain** is defined (Defaults to zero)\n",
    "\n",
    ">**ingain** if provided, sets the gain at infinite (Defaults to None)\n",
    "\n",
    "Note that, if se have a **zero** or a **pole** at zero frequency, the **gain** don't define the DC gain.  \n",
    "\n",
    "The function returns a new **linblk** object\n",
    "\n",
    "Some **examples** follow:"
   ]
  },
  {
   "cell_type": "code",
   "execution_count": null,
   "metadata": {
    "colab": {
     "autoexec": {
      "startup": false,
      "wait_interval": 0
     },
     "base_uri": "https://localhost:8080/",
     "height": 437
    },
    "colab_type": "code",
    "executionInfo": {
     "elapsed": 1477,
     "status": "ok",
     "timestamp": 1521219738010,
     "user": {
      "displayName": "Vicente Jimenez",
      "photoUrl": "//lh4.googleusercontent.com/-l1GS4wWn-mI/AAAAAAAAAAI/AAAAAAAAAZE/i_NQ2m6L6rI/s50-c-k-no/photo.jpg",
      "userId": "104735520205871768811"
     },
     "user_tz": -60
    },
    "id": "gcKglmzYfILK",
    "outputId": "4cb76816-6969-48a6-fcbc-0c83ef18d5e1"
   },
   "outputs": [],
   "source": [
    "# Two equal real poles at 1kHz\n",
    "p1 = -2*np.pi*1000\n",
    "p2 = -2*np.pi*1000\n",
    "\n",
    "# Low pass linear system with 1 DC gain\n",
    "L1 = lin.linFromPZ([p1,p2])\n",
    "\n",
    "# Low pass linear system with 1 gain at p1\n",
    "L2 = lin.linFromPZ([p1,p2],[0],wgain = p1)\n",
    "\n",
    "# High pass linear system with 1 gain at infinite\n",
    "L3 = lin.linFromPZ([p1,p2],[0,0],ingain=1)\n",
    "\n",
    "\n",
    "# Show the three systems\n",
    "print(L1)\n",
    "print(L2)\n",
    "print(L3)\n",
    "\n",
    "# Create a frequency range for bode plots\n",
    "f=lin.frange(10,100000)\n",
    "\n",
    "# Show the bode plot of the three systems\n",
    "L1.addBode(f,label='L1')\n",
    "L2.addBode(f,label='L2')\n",
    "L3.addBode(f,label='L3')\n",
    "lin.showBodePlot(location='lower right')"
   ]
  },
  {
   "cell_type": "markdown",
   "metadata": {
    "colab_type": "text",
    "id": "r9Jo0p7aSMEM"
   },
   "source": [
    "### clean\n",
    "\n",
    "Eliminates poles and zeros that **cancel** each other on a linear system **L**.\n",
    "\n",
    "A pole and a zero are considered equal and **cancelable** if their distance is lower than 1/ratio its magnitude.\n",
    "\n",
    "$$|p-z|<\\frac{|p|+|z|}{2 \\cdot ratio}$$\n",
    "\n",
    "The method call prototype is:\n",
    "\n",
    ">`L.clean(ratio=1000.0)`\n",
    "\n",
    "The method returns a **new** linear system, the original system is not changed.\n",
    "\n",
    "Where **ratio**, wich defaults to 1000, determines how close they need to be to cancel each other.\n",
    "\n",
    "Returns a new object\n",
    "\n",
    "Example:   "
   ]
  },
  {
   "cell_type": "code",
   "execution_count": null,
   "metadata": {
    "colab": {
     "autoexec": {
      "startup": false,
      "wait_interval": 0
     },
     "base_uri": "https://localhost:8080/",
     "height": 55
    },
    "colab_type": "code",
    "executionInfo": {
     "elapsed": 740,
     "status": "ok",
     "timestamp": 1521219738878,
     "user": {
      "displayName": "Vicente Jimenez",
      "photoUrl": "//lh4.googleusercontent.com/-l1GS4wWn-mI/AAAAAAAAAAI/AAAAAAAAAZE/i_NQ2m6L6rI/s50-c-k-no/photo.jpg",
      "userId": "104735520205871768811"
     },
     "user_tz": -60
    },
    "id": "LPBeONpPSLpD",
    "outputId": "54a1f933-76e7-4e6d-bc82-680da99e4dec"
   },
   "outputs": [],
   "source": [
    "# Define a system with a pole just at se same zero position\n",
    "L1 = lin.linFromPZ([-10],[-10])\n",
    "print('L1 =',L1)\n",
    "\n",
    "# Clean the poles and zeros\n",
    "L2=L1.clean()\n",
    "print('L2 =',L2)"
   ]
  },
  {
   "cell_type": "markdown",
   "metadata": {
    "colab_type": "text",
    "id": "1g0KiHTzyBUP"
   },
   "source": [
    "## linblk operator overload\n",
    "\n",
    "The **linblk** class overloads the operators +, -, * and /\n",
    "\n",
    "To simplify the coding of the module, all operators only work between **linblk** objects. To operate a constant value **v** with a linear block, just create a new **linblk** object as **linblk(v)**.\n",
    "\n",
    "All operations return a new **linblk** object and don't modify the original objects\n",
    "\n",
    "* The **add ( + )** operator creates one new object that is the sum of the transfer functions\n",
    "\n",
    "$\\qquad H(s)=H_1(s)+H_2(s)$\n",
    "\n",
    "* The **substract ( - )** operator creates one new object that is the substraction of the transfer functions\n",
    "\n",
    "$\\qquad H(s)=H_1(s)-H_2(s)$\n",
    "\n",
    "* The **unary sign change operator ( - )** just multiplies the transfer function with **-1**\n",
    "\n",
    "$\\qquad H(s)=-H_1(s)$\n",
    "\n",
    "* The **multiply ( * )** operator creates one new object that is the product of the two transfer functions (cascade connection)\n",
    "\n",
    "$\\qquad H(s)=H_1(s) \\cdot H_2(s)$\n",
    "\n",
    "* The **divide ( / )** operator creates one new object that is the division of the two transfer functions \n",
    "\n",
    "$\\qquad H(s)=H_1(s) / H_2(s)$\n",
    "\n",
    "Some examples:"
   ]
  },
  {
   "cell_type": "code",
   "execution_count": null,
   "metadata": {
    "colab": {
     "autoexec": {
      "startup": false,
      "wait_interval": 0
     },
     "base_uri": "https://localhost:8080/",
     "height": 206
    },
    "colab_type": "code",
    "executionInfo": {
     "elapsed": 553,
     "status": "ok",
     "timestamp": 1521219739704,
     "user": {
      "displayName": "Vicente Jimenez",
      "photoUrl": "//lh4.googleusercontent.com/-l1GS4wWn-mI/AAAAAAAAAAI/AAAAAAAAAZE/i_NQ2m6L6rI/s50-c-k-no/photo.jpg",
      "userId": "104735520205871768811"
     },
     "user_tz": -60
    },
    "id": "wkI3MoS40fbp",
    "outputId": "80a287dc-ad98-4377-a2bf-27f1b6ab4419"
   },
   "outputs": [],
   "source": [
    "# Two one pole systems\n",
    "L1 = lin.linFromPZ([-1])\n",
    "L2 = lin.linFromPZ([-2])\n",
    "print('L1 = ',L1)\n",
    "print('L2 = ',L2)\n",
    "print()\n",
    "\n",
    "# Some operations\n",
    "print('-L1 = ',-L1)\n",
    "print('L1 + L2 = ',L1+L2)\n",
    "print('L1 - L2 = ',L1+(-L2))\n",
    "print('L1 * L2 = ',L1*L2)\n",
    "print('L1 / L2 = ',L1/L2)\n",
    "\n",
    "# You cannot use mixed operations with numbers\n",
    "try:\n",
    "    print('L1 + 1 = ',L1+1)\n",
    "except:\n",
    "    print('Exception is generated on L1 + 1')\n",
    "  \n",
    "# You need to convert the numbers to linear blocks\n",
    "print('L1 + linblk(1) = ',L1+lin.linblk(1))"
   ]
  },
  {
   "cell_type": "markdown",
   "metadata": {
    "colab_type": "text",
    "id": "KYM0btn5uNou"
   },
   "source": [
    "## linblk member functions\n",
    "\n",
    "Now the member functions of the **linblk** class will be explained\n",
    "\n"
   ]
  },
  {
   "cell_type": "markdown",
   "metadata": {
    "colab_type": "text",
    "id": "FBpUiaBBND0g"
   },
   "source": [
    "### poles, zeros and printPZ\n",
    "\n",
    "The first two functions give the **poles** and **zeros** of a linear system **L**\n",
    "\n",
    ">`L.poles()`\n",
    "\n",
    ">`L.zeros()`\n",
    "\n",
    "The last function **prints** the **poles**, the **zeros** and the **gain** of the system. In this context the **gain** is defined as the quotient of the first numerator and denominator coefficients that are **not zero**.\n",
    "\n",
    ">`L.printPZ()`\n",
    "\n",
    "Example:"
   ]
  },
  {
   "cell_type": "code",
   "execution_count": null,
   "metadata": {
    "colab": {
     "autoexec": {
      "startup": false,
      "wait_interval": 0
     },
     "base_uri": "https://localhost:8080/",
     "height": 149
    },
    "colab_type": "code",
    "executionInfo": {
     "elapsed": 563,
     "status": "ok",
     "timestamp": 1521219740610,
     "user": {
      "displayName": "Vicente Jimenez",
      "photoUrl": "//lh4.googleusercontent.com/-l1GS4wWn-mI/AAAAAAAAAAI/AAAAAAAAAZE/i_NQ2m6L6rI/s50-c-k-no/photo.jpg",
      "userId": "104735520205871768811"
     },
     "user_tz": -60
    },
    "id": "4eHnSlTGNSMP",
    "outputId": "43d2fcf5-ef1d-4236-c361-c2e306c424f3"
   },
   "outputs": [],
   "source": [
    "L = lin.linFromPZ([1,2,3],[2])\n",
    "print('L =',L)\n",
    "print('Poles =',L.poles())\n",
    "print('Zeros =',L.zeros())\n",
    "print()\n",
    "\n",
    "L.printPZ()"
   ]
  },
  {
   "cell_type": "markdown",
   "metadata": {
    "colab_type": "text",
    "id": "x8vYSUujM-zl"
   },
   "source": [
    "### nf and pf\n",
    "\n",
    "The **nf** and **pf** methods create a new **linblk** from the negative or positive feedback of two linear systems\n",
    "\n",
    "![texto alternativo](https://raw.githubusercontent.com/R6500/Python-bits/master/Colaboratory/Artwork/linear%20feedback.jpg)\n",
    "\n",
    "The two systems can be generated:\n",
    "\n",
    ">`L1.nf(L2)` &nbsp; &nbsp; For **negative** feedback\n",
    "\n",
    ">`L1.pf(L2)` &nbsp; &nbsp; For **positive** feedback\n",
    "\n",
    "Example:"
   ]
  },
  {
   "cell_type": "code",
   "execution_count": null,
   "metadata": {
    "colab": {
     "autoexec": {
      "startup": false,
      "wait_interval": 0
     },
     "base_uri": "https://localhost:8080/",
     "height": 380
    },
    "colab_type": "code",
    "executionInfo": {
     "elapsed": 1566,
     "status": "ok",
     "timestamp": 1521219742810,
     "user": {
      "displayName": "Vicente Jimenez",
      "photoUrl": "//lh4.googleusercontent.com/-l1GS4wWn-mI/AAAAAAAAAAI/AAAAAAAAAZE/i_NQ2m6L6rI/s50-c-k-no/photo.jpg",
      "userId": "104735520205871768811"
     },
     "user_tz": -60
    },
    "id": "1216zYCm775R",
    "outputId": "9402e9d3-ac7f-45fe-f62b-130f502fd5b7"
   },
   "outputs": [],
   "source": [
    "# High gain amplifier with one pole at 2 Hz\n",
    "L1 = lin.linFromPZ([-2*2*np.pi],gain=10000)\n",
    "\n",
    "# Divide by 2 passive network\n",
    "L2 = lin.linblk(0.5)\n",
    "\n",
    "# Negative feedback system\n",
    "L3 = L1.nf(L2)\n",
    "\n",
    "# Create a frequency range for bode plots\n",
    "f=lin.frange(1,100000)\n",
    "\n",
    "# Show the systems\n",
    "L1.addBode(f,label='Open loop')\n",
    "L3.addBode(f,label='Closed loop')\n",
    "lin.showBodePlot(location='upper right')"
   ]
  },
  {
   "cell_type": "markdown",
   "metadata": {
    "colab_type": "text",
    "id": "jkrtf4Ug9cqT"
   },
   "source": [
    "### eval and weval\n",
    "\n",
    "Evaluate the response of a linear system **L** at one point of the **'s'** plane\n",
    "\n",
    "The fuction **eval** takes one complex position on the **'s'** plane\n",
    "\n",
    ">`L.eval(s)`\n",
    "\n",
    "The function **weval** takes one real value frequency $\\omega$ and computes **L** on the $j\\omega$ axis\n",
    "\n",
    ">`L.weval(w)`\n",
    "\n",
    "Examples:"
   ]
  },
  {
   "cell_type": "code",
   "execution_count": null,
   "metadata": {
    "colab": {
     "autoexec": {
      "startup": false,
      "wait_interval": 0
     },
     "base_uri": "https://localhost:8080/",
     "height": 130
    },
    "colab_type": "code",
    "executionInfo": {
     "elapsed": 817,
     "status": "ok",
     "timestamp": 1521219743766,
     "user": {
      "displayName": "Vicente Jimenez",
      "photoUrl": "//lh4.googleusercontent.com/-l1GS4wWn-mI/AAAAAAAAAAI/AAAAAAAAAZE/i_NQ2m6L6rI/s50-c-k-no/photo.jpg",
      "userId": "104735520205871768811"
     },
     "user_tz": -60
    },
    "id": "hQ55PTyg-RO7",
    "outputId": "bf10a755-8e9a-4112-b329-aecf0dc8174a"
   },
   "outputs": [],
   "source": [
    "# One real pole system\n",
    "L1 = lin.linFromPZ([-1])\n",
    "print('L1 = ',L1)\n",
    "\n",
    "# Evaluate near the pole\n",
    "print('L1.eval(-0.90) =',L1.eval(-0.99))\n",
    "\n",
    "# Response at an anagular frequency equal to the pole magnitude\n",
    "print('L1.weval(1) =',L1.weval(1))\n",
    "\n",
    "# Trying to evaluate just over the pole divides by zero\n",
    "# and genrates infinity\n",
    "\n",
    "print('L1.eval(-1) =',L1.eval(-1))"
   ]
  },
  {
   "cell_type": "markdown",
   "metadata": {
    "colab_type": "text",
    "id": "mL0V2D23LI3l"
   },
   "source": [
    "### freqR\n",
    "\n",
    "Calculates the response of a linear system **L**\n",
    "\n",
    ">`L.freqR(vf)`\n",
    "\n",
    "Where:\n",
    "\n",
    ">**vf** is a vector of frequencies to calculate (in Hz)\n",
    "\n",
    "The **method** returns a list with the **complex** values of the linear system **L** at the given frequencies\n",
    "\n",
    "Example:"
   ]
  },
  {
   "cell_type": "code",
   "execution_count": null,
   "metadata": {
    "colab": {
     "autoexec": {
      "startup": false,
      "wait_interval": 0
     },
     "base_uri": "https://localhost:8080/",
     "height": 74
    },
    "colab_type": "code",
    "executionInfo": {
     "elapsed": 536,
     "status": "ok",
     "timestamp": 1521219744675,
     "user": {
      "displayName": "Vicente Jimenez",
      "photoUrl": "//lh4.googleusercontent.com/-l1GS4wWn-mI/AAAAAAAAAAI/AAAAAAAAAZE/i_NQ2m6L6rI/s50-c-k-no/photo.jpg",
      "userId": "104735520205871768811"
     },
     "user_tz": -60
    },
    "id": "1PxkLqqGLpiK",
    "outputId": "710f4a85-629a-4f9a-d715-fe84c9be41e2"
   },
   "outputs": [],
   "source": [
    "# One real pole system\n",
    "L1 = lin.linFromPZ([-2*np.pi])\n",
    "print('L1 = ',L1)\n",
    "\n",
    "# Define frequencies to show (in Hz)\n",
    "fv = np.array([0.1,1,10])\n",
    "print('fv =',fv)\n",
    "\n",
    "# Bode plot\n",
    "rv = L1.freqR(fv)\n",
    "\n",
    "# Show result\n",
    "print('Result =',rv)"
   ]
  },
  {
   "cell_type": "markdown",
   "metadata": {
    "colab_type": "text",
    "id": "lXXNdCnr_mEp"
   },
   "source": [
    "### bode\n",
    "\n",
    "Calculates the response of a linear system **L**\n",
    "\n",
    ">`L.bode(vf)`\n",
    "\n",
    "Where:\n",
    "\n",
    ">**vf** is a vector of frequencies to show on the plot\n",
    "\n",
    "The **method** returns two values:\n",
    "\n",
    ">A vector of magnitudes (in dB)\n",
    "\n",
    ">A vector of phases (in degrees)\n",
    "\n",
    "Example:"
   ]
  },
  {
   "cell_type": "code",
   "execution_count": null,
   "metadata": {
    "colab": {
     "autoexec": {
      "startup": false,
      "wait_interval": 0
     },
     "base_uri": "https://localhost:8080/",
     "height": 92
    },
    "colab_type": "code",
    "executionInfo": {
     "elapsed": 508,
     "status": "ok",
     "timestamp": 1521219745460,
     "user": {
      "displayName": "Vicente Jimenez",
      "photoUrl": "//lh4.googleusercontent.com/-l1GS4wWn-mI/AAAAAAAAAAI/AAAAAAAAAZE/i_NQ2m6L6rI/s50-c-k-no/photo.jpg",
      "userId": "104735520205871768811"
     },
     "user_tz": -60
    },
    "id": "-cKcju0L_lVi",
    "outputId": "51332a73-0c0d-4a75-fc4a-121ec9d975b0"
   },
   "outputs": [],
   "source": [
    "# One real pole system\n",
    "L1 = lin.linFromPZ([-2*np.pi])\n",
    "print('L1 = ',L1)\n",
    "\n",
    "# Define frequencies to show (in Hz)\n",
    "fv = np.array([0.1,1,10])\n",
    "print('fv =',fv)\n",
    "\n",
    "# Bode plot\n",
    "mag, phase = L1.bode(fv)\n",
    "\n",
    "# Show vectors\n",
    "print('mag =',mag)\n",
    "print('phase =',phase)"
   ]
  },
  {
   "cell_type": "markdown",
   "metadata": {
    "colab_type": "text",
    "id": "B9MihoU3B2Pz"
   },
   "source": [
    "### showBode\n",
    "\n",
    "Draws the **bode plot** response of a linear system **L**\n",
    "\n",
    ">`L.showBode(vf=None,title='Bode Plot')`\n",
    "\n",
    "Where there are two **optional** parameters:\n",
    "\n",
    ">**vf** is a vector of frequencies to show on the plot\n",
    "\n",
    ">**title** is the title of the plot\n",
    "\n",
    "If the **fv** vector is not given, it is calculated from **one decade below** the minimum pole/zero to **one decade over** the maximum pole/zero that is not zero using the standard **PPD** in the **frange** function.\n",
    "\n",
    "Example:"
   ]
  },
  {
   "cell_type": "code",
   "execution_count": null,
   "metadata": {
    "colab": {
     "autoexec": {
      "startup": false,
      "wait_interval": 0
     },
     "base_uri": "https://localhost:8080/",
     "height": 743
    },
    "colab_type": "code",
    "executionInfo": {
     "elapsed": 1784,
     "status": "ok",
     "timestamp": 1521219747594,
     "user": {
      "displayName": "Vicente Jimenez",
      "photoUrl": "//lh4.googleusercontent.com/-l1GS4wWn-mI/AAAAAAAAAAI/AAAAAAAAAZE/i_NQ2m6L6rI/s50-c-k-no/photo.jpg",
      "userId": "104735520205871768811"
     },
     "user_tz": -60
    },
    "id": "oH-fE7yxB_Vg",
    "outputId": "0d9772e1-572c-408e-aba9-4e7297b94c30"
   },
   "outputs": [],
   "source": [
    "# One real pole system\n",
    "L1 = lin.linFromPZ([-2*np.pi])\n",
    "\n",
    "# Define frequencies to show (in Hz)\n",
    "fv = lin.frange(0.01,100)\n",
    "\n",
    "# Bode plot\n",
    "L1.showBode(fv)\n",
    "\n",
    "# If we don't define the frequencies they are calculated\n",
    "# from the pole and zero positions\n",
    "L1.showBode(title='Bode Plot with automatic frequency range')"
   ]
  },
  {
   "cell_type": "markdown",
   "metadata": {
    "colab_type": "text",
    "id": "gvhPUm4VL-YY"
   },
   "source": [
    "### addBode\n",
    "\n",
    "Adds the **bode plot** of a linear system *L* response\n",
    "\n",
    ">`L.addBode(vf=None,title='Bode Plot')`\n",
    "\n",
    "Where there are two **optional** parameters:\n",
    "\n",
    ">**vf** is a vector of frequencies to show on the plot\n",
    "\n",
    ">**lable** is the label for the plots (Defaults to none)\n",
    "\n",
    "After you call the last **addBlode** method, you need to call the **showBodePlot()** function to show all curves.\n",
    "\n",
    "If the **fv** vector is not given, it is calculated from **one decade below** the minimum pole/zero to **one decade over** the maximum pole/zero that is not zero using the standard **PPD* in the **frange** function.\n",
    "\n",
    "Example:"
   ]
  },
  {
   "cell_type": "code",
   "execution_count": null,
   "metadata": {
    "colab": {
     "autoexec": {
      "startup": false,
      "wait_interval": 0
     },
     "base_uri": "https://localhost:8080/",
     "height": 380
    },
    "colab_type": "code",
    "executionInfo": {
     "elapsed": 1793,
     "status": "ok",
     "timestamp": 1521219749487,
     "user": {
      "displayName": "Vicente Jimenez",
      "photoUrl": "//lh4.googleusercontent.com/-l1GS4wWn-mI/AAAAAAAAAAI/AAAAAAAAAZE/i_NQ2m6L6rI/s50-c-k-no/photo.jpg",
      "userId": "104735520205871768811"
     },
     "user_tz": -60
    },
    "id": "NpSsZtRqL9go",
    "outputId": "98533506-ec98-4a47-b21f-65aa938e2f06"
   },
   "outputs": [],
   "source": [
    "# Two poles at 1kHz\n",
    "p1,p2 = lin.poleZeroPolar(2*np.pi*1000,80)\n",
    "\n",
    "# Low pass linear system with 1 DC gain\n",
    "L1 = lin.linFromPZ([p1,p2])\n",
    "\n",
    "# Band pass linear system with 1 gain at p1\n",
    "L2 = lin.linFromPZ([p1,p2],[0],wgain = np.abs(p1))\n",
    "\n",
    "# High pass linear system with 1 gain at infinite\n",
    "L3 = lin.linFromPZ([p1,p2],[0,0],ingain=1)\n",
    "\n",
    "# Show the bode plot of the three systems using auto frequency range\n",
    "L1.addBode(label='Low pass')\n",
    "L2.addBode(label='Band pass')\n",
    "L3.addBode(label='High pass')\n",
    "lin.showBodePlot(location='upper right')"
   ]
  },
  {
   "cell_type": "markdown",
   "metadata": {
    "colab_type": "text",
    "id": "nVYZWpAxOz-9"
   },
   "source": [
    "### showPZplot\n",
    "\n",
    "Show the Pole-Zero plot of a linear system **L** in the **'s'** plane\n",
    "\n",
    ">`L.showPZplot(title='',color='blue',location='best')`\n",
    "\n",
    "Where the optional parameters are:\n",
    "\n",
    ">**title** is the plt title (Defaults to none)\n",
    "\n",
    ">**color** is the color of the symbols (Defaults to blue)\n",
    "\n",
    "Example:"
   ]
  },
  {
   "cell_type": "code",
   "execution_count": null,
   "metadata": {
    "colab": {
     "autoexec": {
      "startup": false,
      "wait_interval": 0
     },
     "base_uri": "https://localhost:8080/",
     "height": 376
    },
    "colab_type": "code",
    "executionInfo": {
     "elapsed": 583,
     "status": "ok",
     "timestamp": 1521219750198,
     "user": {
      "displayName": "Vicente Jimenez",
      "photoUrl": "//lh4.googleusercontent.com/-l1GS4wWn-mI/AAAAAAAAAAI/AAAAAAAAAZE/i_NQ2m6L6rI/s50-c-k-no/photo.jpg",
      "userId": "104735520205871768811"
     },
     "user_tz": -60
    },
    "id": "l9fljudAPW2q",
    "outputId": "ad794510-f71a-473f-c3be-9c7bdc8d3ed1"
   },
   "outputs": [],
   "source": [
    "# Execute the previous cell if needed\n",
    "# because we use its results\n",
    "\n",
    "L2.showPZplot(title='Poles (x) and Zeros (o) on bandpass L2')"
   ]
  },
  {
   "cell_type": "markdown",
   "metadata": {
    "colab_type": "text",
    "id": "RfRhXxonQq19"
   },
   "source": [
    "### addPZplot\n",
    "\n",
    "Add a Pole-Zero plot of a linear system **L** in the **'s'** plane\n",
    "\n",
    ">`L.addPZplot(label=None,color='blue'):`\n",
    "\n",
    "Where the optional parameters are:\n",
    "\n",
    ">**color** is the color of the symbols (Defaults to blue)\n",
    "\n",
    ">**label** is the label for this plot \n",
    "\n",
    "After you call the last **addBlode** method, you need to call the **showPoleZeroPlot()** function to show all curves.\n",
    "\n",
    "Example:"
   ]
  },
  {
   "cell_type": "code",
   "execution_count": null,
   "metadata": {
    "colab": {
     "autoexec": {
      "startup": false,
      "wait_interval": 0
     },
     "base_uri": "https://localhost:8080/",
     "height": 376
    },
    "colab_type": "code",
    "executionInfo": {
     "elapsed": 779,
     "status": "ok",
     "timestamp": 1521219751799,
     "user": {
      "displayName": "Vicente Jimenez",
      "photoUrl": "//lh4.googleusercontent.com/-l1GS4wWn-mI/AAAAAAAAAAI/AAAAAAAAAZE/i_NQ2m6L6rI/s50-c-k-no/photo.jpg",
      "userId": "104735520205871768811"
     },
     "user_tz": -60
    },
    "id": "83qN9CX4RE3w",
    "outputId": "5e459151-59f3-45ca-c105-174715197191"
   },
   "outputs": [],
   "source": [
    "# Three systems with different frequencies\n",
    "L1 = lin.linFromPZ(lin.poleZeroPolar(2*np.pi*1000,80))\n",
    "L2 = lin.linFromPZ(lin.poleZeroPolar(2*np.pi*1000,50))\n",
    "L3 = lin.linFromPZ(lin.poleZeroPolar(2*np.pi*1000,40))\n",
    "\n",
    "L1.addPZplot(label='L1')\n",
    "L2.addPZplot(label='L2',color='green')\n",
    "L3.addPZplot(label='L3',color='red')\n",
    "lin.showPoleZeroPlot(location='lower right')"
   ]
  },
  {
   "cell_type": "markdown",
   "metadata": {
    "colab_type": "text",
    "id": "h_P8jtiWUV0z"
   },
   "source": [
    "## 3D Plots\n",
    "\n",
    "The following function draw the response of a linear system for a region of the **'s'** plane"
   ]
  },
  {
   "cell_type": "markdown",
   "metadata": {
    "colab_type": "text",
    "id": "mqz8y2XkUjSn"
   },
   "source": [
    "### plotSplane\n",
    "\n",
    "Plots the magnitude, in dB, of the response of a linear system **L** inside the s plane\n",
    "\n",
    ">`L.plotSplane(zmax=100.0)`\n",
    "\n",
    "Where the optional parameter **zmax** indicates the maximum magnitude to show on the **Z** axis.\n",
    "\n",
    "Note that the frequency response as function of $\\omega$ is the curve along the **imaginary axis** (zero real values).\n",
    "        \n",
    "Example:"
   ]
  },
  {
   "cell_type": "code",
   "execution_count": null,
   "metadata": {
    "colab": {
     "autoexec": {
      "startup": false,
      "wait_interval": 0
     },
     "base_uri": "https://localhost:8080/",
     "height": 746
    },
    "colab_type": "code",
    "executionInfo": {
     "elapsed": 2632,
     "status": "ok",
     "timestamp": 1521220621426,
     "user": {
      "displayName": "Vicente Jimenez",
      "photoUrl": "//lh4.googleusercontent.com/-l1GS4wWn-mI/AAAAAAAAAAI/AAAAAAAAAZE/i_NQ2m6L6rI/s50-c-k-no/photo.jpg",
      "userId": "104735520205871768811"
     },
     "user_tz": -60
    },
    "id": "lfdjv7stVRAu",
    "outputId": "80a7bfd2-9dc2-44b5-9154-50d883040a23"
   },
   "outputs": [],
   "source": [
    "# Low pass linear system with 10 gain\n",
    "# Two poles at 1kHz\n",
    "p1,p2 = lin.poleZeroPolar(2*np.pi*1000,60)\n",
    "L = lin.linFromPZ([p1,p2],gain=10)\n",
    "\n",
    "# Show linear response in the s plane\n",
    "L.plotSplane()\n",
    "\n",
    "print('\\n\\n')\n",
    "\n",
    "# Note how the curve along the imaginary axis is the frequency response\n",
    "min,max = L.pzRange()\n",
    "w = np.linspace(2.0*np.imag(min),2.0*np.imag(max),500)\n",
    "resp = lin.dB((np.abs(L.eval(1j*w))))\n",
    "calc.setColaboratory(False)\n",
    "calc.plot11(w,resp,'Response along the jw axis','w (rad/s)','Response (dB)')"
   ]
  },
  {
   "cell_type": "markdown",
   "metadata": {
    "colab_type": "text",
    "id": "zRD-O9JZku0C"
   },
   "source": [
    "## Time response\n",
    "\n",
    "Using the [Fast Fourier Transform](https://en.wikipedia.org/wiki/Fast_Fourier_transform) from the **numpy** module it is possible to convert a signal in the **time domain** to the **frequency** domain. That enables us to obtain the response of a linear system against a particular signal."
   ]
  },
  {
   "cell_type": "markdown",
   "metadata": {
    "colab_type": "text",
    "id": "zh1JmoIHlfJE"
   },
   "source": [
    "### tResponse\n",
    "\n",
    "This function plots the time domain response of a linear system **L** against an arbitrary input signal.\n",
    "\n",
    ">`L.tResponse(vt,ts=None,fs=None)`\n",
    "\n",
    "Function parameters:\n",
    "\n",
    ">**vt** is a vector in the time domain with the signal that enters the linear block\n",
    "\n",
    ">**ts** is the sampling time of the input signal\n",
    "\n",
    ">**fs** is the sampling frequency of the input signal\n",
    "\n",
    "The sampling time **ts** or the sampling frequency **fs** shall be provided. If **none** is provided an exception will be raised. If **both** are provided, only **fs** wil be considered as both parameters provide the same information:\n",
    "\n",
    "$$f_s=\\frac{1}{t_s}$$\n",
    "\n",
    "Care must be taken to use this function:\n",
    "\n",
    "* Due to how the **fft** operates, the signal will be considered periodic. That means that it will considered as repeating forever in the time domain.\n",
    "\n",
    "\n",
    "* The **fft** optimized to work on vector whose size is a power of 2, like 512, 1024 and son on... Try, if possible, to use this kind of vectors to obtain the best results\n",
    "\n",
    "\n",
    "* The sample frequency $f_S$ determines the range of frequencies that can be explored. We can calculate the [Nyquist frequency](https://en.wikipedia.org/wiki/Nyquist_frequency) $f_N$ as:\n",
    "\n",
    "$$f_N=\\frac{f_S}{2}$$\n",
    "\n",
    "No frequency response can be obtained above $f_N$, so take that into account when generating the **vt** vector\n",
    "\n",
    "\n",
    "Examples:"
   ]
  },
  {
   "cell_type": "code",
   "execution_count": null,
   "metadata": {
    "colab": {
     "autoexec": {
      "startup": false,
      "wait_interval": 0
     },
     "base_uri": "https://localhost:8080/",
     "height": 376
    },
    "colab_type": "code",
    "executionInfo": {
     "elapsed": 656,
     "status": "ok",
     "timestamp": 1521307728512,
     "user": {
      "displayName": "Vicente Jimenez",
      "photoUrl": "//lh4.googleusercontent.com/-l1GS4wWn-mI/AAAAAAAAAAI/AAAAAAAAAZE/i_NQ2m6L6rI/s50-c-k-no/photo.jpg",
      "userId": "104735520205871768811"
     },
     "user_tz": -60
    },
    "id": "uVsJ15SSpdYs",
    "outputId": "8a9bc0bd-df69-4f1f-941f-0331d9008d5c"
   },
   "outputs": [],
   "source": [
    "# Low pass filter with poles at 1kHz\n",
    "p1,p2 = lin.poleZeroPolar(2*np.pi*1000,60)\n",
    "L = lin.linFromPZ([p1,p2])\n",
    "\n",
    "# Set vector parameters\n",
    "ns = 8192                    # Samples = 2^13\n",
    "tsample = 10e-6              # Sampling time of 10us\n",
    "\n",
    "# Time vector centered in zero\n",
    "time = tsample*np.arange(0,ns) - tsample*ns/2.0\n",
    "\n",
    "# Step signal\n",
    "vi = np.array( [0 if t<0 else 1 for t in time] )\n",
    "\n",
    "# Obtain response\n",
    "vo = L.tResponse(vi,ts=tsample)\n",
    "\n",
    "# Show input and output\n",
    "time_ms = time*1000\n",
    "calc.plot1n(time_ms,[vi,vo],'Step response','Time (ms)'\n",
    "            ,'Normalized step response'\n",
    "            ,['Input','Output'],location='lower right')"
   ]
  },
  {
   "cell_type": "markdown",
   "metadata": {
    "colab_type": "text",
    "id": "48nYtp-tsD2z"
   },
   "source": [
    "Observe that you have also a peak at the start, this is due to the fact that the **tResponse** function considers the input signal **periodic**.\n",
    "\n",
    "You can see only the center region if you please:"
   ]
  },
  {
   "cell_type": "code",
   "execution_count": null,
   "metadata": {
    "colab": {
     "autoexec": {
      "startup": false,
      "wait_interval": 0
     },
     "base_uri": "https://localhost:8080/",
     "height": 376
    },
    "colab_type": "code",
    "executionInfo": {
     "elapsed": 599,
     "status": "ok",
     "timestamp": 1521219756525,
     "user": {
      "displayName": "Vicente Jimenez",
      "photoUrl": "//lh4.googleusercontent.com/-l1GS4wWn-mI/AAAAAAAAAAI/AAAAAAAAAZE/i_NQ2m6L6rI/s50-c-k-no/photo.jpg",
      "userId": "104735520205871768811"
     },
     "user_tz": -60
    },
    "id": "Ox5Hjk5_sV6a",
    "outputId": "532ae6cc-d51b-49af-cb1e-653c12b0c8f1"
   },
   "outputs": [],
   "source": [
    "# Show center region\n",
    "time2_ms = time_ms[4000:4400]\n",
    "vi2 = vi[4000:4400]\n",
    "vo2 = vo[4000:4400]\n",
    "calc.plot1n(time2_ms,[vi2,vo2],'Step response','Time (ms)'\n",
    "            ,'Normalized step response'\n",
    "            ,['Input','Output'],location='lower right')"
   ]
  },
  {
   "cell_type": "markdown",
   "metadata": {
    "colab_type": "text",
    "id": "-21qtbEGtRtc"
   },
   "source": [
    "You can also see how the filter responds to an abrupt change of frequency in an input signal:"
   ]
  },
  {
   "cell_type": "code",
   "execution_count": null,
   "metadata": {
    "colab": {
     "autoexec": {
      "startup": false,
      "wait_interval": 0
     },
     "base_uri": "https://localhost:8080/",
     "height": 376
    },
    "colab_type": "code",
    "executionInfo": {
     "elapsed": 933,
     "status": "ok",
     "timestamp": 1521219757719,
     "user": {
      "displayName": "Vicente Jimenez",
      "photoUrl": "//lh4.googleusercontent.com/-l1GS4wWn-mI/AAAAAAAAAAI/AAAAAAAAAZE/i_NQ2m6L6rI/s50-c-k-no/photo.jpg",
      "userId": "104735520205871768811"
     },
     "user_tz": -60
    },
    "id": "nqZR0Ix5tcuU",
    "outputId": "f4d8bb95-951d-49e3-a1c8-14c7f2c90280"
   },
   "outputs": [],
   "source": [
    "# Signal to use\n",
    "w0 = 2.0*np.pi*1000.0  # 1kHz\n",
    "wi = np.array( [wo if t<0 else 2.0*w0 for t in time] )\n",
    "vi = np.sin(wi*time)\n",
    "\n",
    "# Obtain response\n",
    "vo = L.tResponse(vi,ts=tsample)\n",
    "\n",
    "# Show input and output\n",
    "time_ms = time*1000\n",
    "calc.plot1n(time_ms,[vi,vo],'Frequency change response','Time (ms)'\n",
    "            ,'Normalized response'\n",
    "            ,['Input','Output'],location='lower right')"
   ]
  },
  {
   "cell_type": "markdown",
   "metadata": {
    "colab_type": "text",
    "id": "ZDY2oYGyuOSN"
   },
   "source": [
    "We can, again, zoom on the center:"
   ]
  },
  {
   "cell_type": "code",
   "execution_count": null,
   "metadata": {
    "colab": {
     "autoexec": {
      "startup": false,
      "wait_interval": 0
     },
     "base_uri": "https://localhost:8080/",
     "height": 376
    },
    "colab_type": "code",
    "executionInfo": {
     "elapsed": 900,
     "status": "ok",
     "timestamp": 1521219758865,
     "user": {
      "displayName": "Vicente Jimenez",
      "photoUrl": "//lh4.googleusercontent.com/-l1GS4wWn-mI/AAAAAAAAAAI/AAAAAAAAAZE/i_NQ2m6L6rI/s50-c-k-no/photo.jpg",
      "userId": "104735520205871768811"
     },
     "user_tz": -60
    },
    "id": "t4cBRySZuTLR",
    "outputId": "518b23f5-066b-4530-ab63-a9719e7280ce"
   },
   "outputs": [],
   "source": [
    "# Show center region\n",
    "time2_ms = time_ms[3900:4300]\n",
    "vi2 = vi[3900:4300]\n",
    "vo2 = vo[3900:4300]\n",
    "calc.plot1n(time2_ms,[vi2,vo2],'Frequency change response','Time (ms)'\n",
    "            ,'Normalized response'\n",
    "            ,['Input','Output'],location='lower right')"
   ]
  },
  {
   "cell_type": "markdown",
   "metadata": {
    "colab_type": "text",
    "id": "imCzIwIOujJQ"
   },
   "source": [
    "Before t=0, the input signal is at the frequency of the two poles of the low pass filter. The output phase lags 90º (45º for each pole). The gain of the filter at this frequency is **one**. This can seem strange as we are at the pole's frequency, but, as the poles are quite near to the $j\\omega$ axis, there is some peaking next to the poles as can be seen in the **bode plot** in the following figure.\n",
    "\n",
    "After t=0, the input frequency doubles to $2kHz$. The amplitude drops to about 0.25 after some transition time. This turns out to be 12dB and is the same shown on the **bode plot**. The phase lags also to nearly 150º as can be seen both in the time domain and the bode plots."
   ]
  },
  {
   "cell_type": "code",
   "execution_count": null,
   "metadata": {
    "colab": {
     "autoexec": {
      "startup": false,
      "wait_interval": 0
     },
     "base_uri": "https://localhost:8080/",
     "height": 380
    },
    "colab_type": "code",
    "executionInfo": {
     "elapsed": 1230,
     "status": "ok",
     "timestamp": 1521307737150,
     "user": {
      "displayName": "Vicente Jimenez",
      "photoUrl": "//lh4.googleusercontent.com/-l1GS4wWn-mI/AAAAAAAAAAI/AAAAAAAAAZE/i_NQ2m6L6rI/s50-c-k-no/photo.jpg",
      "userId": "104735520205871768811"
     },
     "user_tz": -60
    },
    "id": "-1Hc81jhvOXc",
    "outputId": "e70645e7-ed3f-4510-9e74-0e41842e8650"
   },
   "outputs": [],
   "source": [
    "# Show the bode plot one octave above and below the pole's frequency\n",
    "fv = lin.frange(500.0,2000.0,ppd=1000)\n",
    "L.showBode(fv)"
   ]
  },
  {
   "cell_type": "markdown",
   "metadata": {
    "colab_type": "text",
    "id": "ZTfcbL_442BW"
   },
   "source": [
    "<BR><BR>\n",
    "\n",
    "## Document information\n",
    "\n",
    "Copyright © Vicente Jiménez (2018-19)\n",
    "\n",
    "This work is licensed under a [Creative Common Attribution-ShareAlike 4.0 International license](http://creativecommons.org/licenses/by-sa/4.0/). \n",
    "\n",
    "The **linear.py** code is licensed under the [MIT License](https://opensource.org/licenses/MIT).\n",
    "\n",
    "You can find the module [here](https://github.com/R6500/Python-bits/tree/master/Modules)\n",
    "\n",
    "<img  src=\"images/cc_sa.png\" width=\"200\">"
   ]
  },
  {
   "cell_type": "code",
   "execution_count": null,
   "metadata": {},
   "outputs": [],
   "source": []
  }
 ],
 "metadata": {
  "colab": {
   "collapsed_sections": [],
   "default_view": {},
   "name": "Module linear.ipynb",
   "provenance": [],
   "version": "0.3.2",
   "views": {}
  },
  "kernelspec": {
   "display_name": "Python 3",
   "language": "python",
   "name": "python3"
  },
  "language_info": {
   "codemirror_mode": {
    "name": "ipython",
    "version": 3
   },
   "file_extension": ".py",
   "mimetype": "text/x-python",
   "name": "python",
   "nbconvert_exporter": "python",
   "pygments_lexer": "ipython3",
   "version": "3.7.1"
  }
 },
 "nbformat": 4,
 "nbformat_minor": 1
}
