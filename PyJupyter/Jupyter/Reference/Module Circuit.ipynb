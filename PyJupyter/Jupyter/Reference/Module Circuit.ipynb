{
 "cells": [
  {
   "cell_type": "markdown",
   "metadata": {
    "colab_type": "text",
    "id": "fFmu-xtYRIvY"
   },
   "source": [
    "# <img style=\"float: right;\"  src=\"images/jp.png\" width=\"200\">\n",
    "\n",
    "# Module Circuit\n",
    "\n",
    "This document describes the [circuit module](http://localhost:8888/edit/Code/circuit.py) that can be used to solve electronica circuits.\n",
    "\n",
    "The main element in the module is the **circuit class**\n",
    "\n",
    "The module relies on [sympy](http://www.sympy.org) to perform the calculations.\n",
    "\n",
    "You can find [this module](http://localhost:8888/edit/Code/circuit.py) on the [Code folder](http://localhost:8888/tree/Code)"
   ]
  },
  {
   "cell_type": "markdown",
   "metadata": {
    "colab_type": "text",
    "id": "AD-pETh7SAKW"
   },
   "source": [
    "# Importing the module\n",
    "\n",
    "In order to use the module,you need to **import** it. \n",
    "\n",
    "The following code imports the **circuit** module.\n",
    "\n",
    "We will also load the **linear** module because we need later to draw bode plots."
   ]
  },
  {
   "cell_type": "code",
   "execution_count": null,
   "metadata": {
    "colab": {
     "base_uri": "https://localhost:8080/",
     "height": 54
    },
    "colab_type": "code",
    "id": "0xKEnx3XSONG",
    "outputId": "d3faeb0f-1a01-4b52-f803-2014013331cf"
   },
   "outputs": [],
   "source": [
    "# Import the modules\n",
    "import circuit\n",
    "import linear as lin\n",
    "\n",
    "# Check loaded modules\n",
    "try:\n",
    "    print('circuit version: ',circuit.version)\n",
    "    print('linear version:  ',lin.version)\n",
    "except:\n",
    "    print('Error loading module')\n",
    "    raise"
   ]
  },
  {
   "cell_type": "markdown",
   "metadata": {
    "colab_type": "text",
    "id": "y79px-FNRxWm"
   },
   "source": [
    "## The Circuit Class\n",
    "\n",
    "The circuit class defines a circuit\n",
    "\n",
    "To create an instance of the class, assuming you use the normal import, just use:\n",
    "\n",
    ">`object = circuit.circuit()`\n",
    "\n",
    "The circuits are defined by a set of **nodes** you can name the nodes as you want using strings or numbers. Although the usual way is to use numbers.\n",
    "\n",
    "Every circuit, however, must have a node with named **0**. Not having this node in a circuit generates an exception."
   ]
  },
  {
   "cell_type": "markdown",
   "metadata": {
    "colab_type": "text",
    "id": "aumcy8_NS282"
   },
   "source": [
    "## Adding components to a circuit\n",
    "\n",
    "Components can be added using the **add\\*** member functions\n",
    "\n",
    "`object.addR(self,name,node1,node2,value=None)`\n",
    "\n",
    ">Add a resistor to the circuit between **node1** and **node2**.  \n",
    ">You can optionally provide a numeric value, in ohm, for the resistor.\n",
    "\n",
    "`object.addC(self,name,node1,node2,value=None)`\n",
    "\n",
    ">Add a capacitor to the circuit between **node1** and **node2**.  \n",
    ">You can optionally provide a numeric value, in Farad, for the capacitor.\n",
    "\n",
    "`object.addL(self,name,node1,node2,value=None)`\n",
    "\n",
    ">Add an inductor to the circuit between **node1** and **node2**.  \n",
    ">You can optionally provide a numeric value, in Henry, for the inductor.\n",
    "\n",
    "`object.addV(self,name,node1,node2,value=None)`\n",
    "\n",
    ">Add a voltage source to the circuit between **node1** (+) and **node2** (-).  \n",
    ">You can optionally provide a numeric value, in Volt, for the source.\n",
    "\n",
    "`object.addI(self,name,node1,node2,value=None)`\n",
    "\n",
    ">Add a current source to the circuit between **node1** (+) and **node2** (-).  \n",
    ">The current is defined to go from **node2** (-) to **node1** (+)  \n",
    ">You can optionally provide a numeric value, in Volt, for the source.\n",
    "\n",
    "`object.addVM(self,name,node1,node2)`\n",
    "\n",
    ">Add a voltage measurement component between **node1** (+) and **node2** (-)  \n",
    ">This component just measures a voltage and doesn't change the circuit operation.  \n",
    ">It can be used to give its voltage in the circuit solution.  \n",
    ">This component can also be used to control a controlled source.\n",
    "\n",
    "`object.addIM(self,name,node1,node2)`\n",
    "\n",
    ">Add a current measurement component between **node1** (+) and **node2** (-)  \n",
    ">This component just measures a current and doesn't change the circuit operation.  \n",
    ">The two nodes are short circuited by this component.  \n",
    ">The component can be used to give its currents in the circuit solution.  \n",
    ">This component can also be used to control a controlled source.\n",
    "\n",
    "`object.addCVS(self,name,node1,node2,cont,value=None)`\n",
    "\n",
    ">Add a controlled voltage source between **node1** (+) and **node2** (-)  \n",
    ">Voltage is proportional to the a voltage or current measurement  \n",
    ">The proportionality constant is defined by **name**  \n",
    ">**cont** is the name of a previously defined voltage or current measurement component  \n",
    "\n",
    "`object.addCIS(self,name,node1,node2,cont,value=None)`\n",
    "\n",
    ">Add a controlled current source between **node1** (+) and **node2** (-)  \n",
    ">The current is defined to go from **node2** (-) to **node1** (+)  \n",
    ">Current is proportional to the a voltage or current measurement  \n",
    ">The proportionality constant is defined by **name**  \n",
    ">**cont** is the name of a previously defined voltage or current measurement component \n",
    "\n",
    "All the above methods return a **sympy** symbol associated to the added component that is generated from the name provided.\n",
    "\n",
    "In the case of the voltage sources, independent (addV) or controlled (addCVS), the current going out of the source is also associated to a symbol, but this one is not returned by the functions."
   ]
  },
  {
   "cell_type": "markdown",
   "metadata": {
    "colab_type": "text",
    "id": "YSfugy30d1cI"
   },
   "source": [
    "## Circuit symbol names\n",
    "\n",
    "Every component you include in a circuit adds a **symbol name**\n",
    "\n",
    "For instance, adding a resistor with:\n",
    "\n",
    ">`object.addR('R1',1,0,1000)`\n",
    "\n",
    "Adds the name **'R1'** to the listo of symbols of the circuit. As explained before, those symbols are returned by the **add\\*** methods.\n",
    "\n",
    "Aside from the names or each component you add, the module adds other additional symbols:\n",
    "<BR>\n",
    "\n",
    "* Every voltage source gets a symbol associated to its current going from terminal (-) to (+)\n",
    "\n",
    ">The simbol name is the same name of the source with a **i** prefix. For instance:\n",
    "\n",
    ">`object.addV('Vs',1,0,1)`\n",
    "\n",
    ">Adds the **Vs** and the **iVs** symbols\n",
    "\n",
    ">This also applies to controlled voltage sources\n",
    "\n",
    "<BR>\n",
    "\n",
    "* Every node that is not ground **0** gets a symbol for its voltage\n",
    "\n",
    ">The simbol name is the same name of the node with a **v** prefix. For instance:\n",
    "\n",
    ">`object.addR('R1',1,2,1000)`\n",
    "\n",
    ">Adds the **R1**, **v1** and **v2** symbols\n",
    "\n",
    "<BR>\n",
    "  \n",
    "The circuit solution always includes the names of the components associated to the voltage and current **measurement** components.\n",
    "\n",
    "\n",
    "Other symbols can also be found in the circuit solutions as you will always get as many solution symbols as independent variables are in the circuit.\n",
    "\n",
    "All symbols for the circuit can be obtained from the **symbols** member of the class as will be explained later."
   ]
  },
  {
   "cell_type": "markdown",
   "metadata": {
    "colab_type": "text",
    "id": "pLbgsHwuXjP4"
   },
   "source": [
    "## Solving a circuit\n",
    "\n",
    "A circuit can be solved using the **solve** method\n",
    "\n",
    ">`object.solve()`\n",
    "\n",
    "This function retuns the circuit solution as a **dictionary** that uses the **symbol names** as keys. This dictionary is also available as the object member **solution**\n",
    "\n",
    ">`object.solution`\n",
    "\n",
    "Once you have solved a circuit, the object associated to it also holds the particular solution in the **particular** member. This particular solution is obtained by subtituting all component **symbols** by their defined **values**.\n",
    "\n",
    ">`object.particular`\n"
   ]
  },
  {
   "cell_type": "markdown",
   "metadata": {
    "colab_type": "text",
    "id": "Toal7O6gQfu8"
   },
   "source": [
    "## Additional circuit elements\n",
    "\n",
    "The **circuit** object has some additional member elements a part from **solution** and **particular** that can come handy in some calculations\n",
    "\n",
    "<BR>\n",
    "\n",
    "`object.sSolution`\n",
    "\n",
    "**Dictionary** of circuit solutions using sympy **symbols** for keys instead of **names**\n",
    "\n",
    "<BR>\n",
    "\n",
    "`object.symbol`\n",
    "\n",
    "**Dictionary** of all **sympy** circuit symbols using **names** for keys\n",
    "\n",
    "<BR>\n",
    "\n",
    "`object.equations`\n",
    "\n",
    "**List** of all **equations** used to solve the circuit\n",
    "\n",
    "<BR>\n",
    "\n",
    "`object.unknowns`\n",
    "\n",
    "**List** of all **unknowns** sympy symbols for which we solve the circuit\n",
    "\n",
    "<BR><BR>\n",
    "There are other member elements that are not normaly useful to access from outside the module internal operations\n",
    "  \n",
    "<BR>\n",
    "\n",
    "`object.components`\n",
    "\n",
    "List of components in the circuit. Each component is defined as a **dictionary**\n",
    "\n",
    "<BR>\n",
    "\n",
    "`object.meas`\n",
    "\n",
    "**Dictionary** of voltage and current measurement components using **names** for keys\n",
    "\n",
    "<BR>\n",
    "\n",
    "`object.subsDic`\n",
    "\n",
    "Substitution **dictionary** for component **values** using **symbols** for keys\n",
    "\n",
    "<BR>\n",
    "\n",
    "`object.name`\n",
    "\n",
    "Symbol **dictionary** with all **names** that can become unknowns using **symbols** for keys"
   ]
  },
  {
   "cell_type": "markdown",
   "metadata": {
    "colab_type": "text",
    "id": "sMInrPaJBVg6"
   },
   "source": [
    "## Evaluation helper functions\n",
    "\n",
    "The **circuit** module includes three helper functions to evaluate a **sympy** expression for several values of one of its symbols.\n",
    "\n",
    "The **expr2func** function generates a python function from a **sympy** expression\n",
    "\n",
    ">`expr2func(expr,sym1,sym2,...)`\n",
    "\n",
    "Parameters:\n",
    "\n",
    ">**expre** is the expression to convert\n",
    "\n",
    ">**sym1,sym2,...** is a list of symbols to convert to function parameters\n",
    "\n",
    "**Example** of usage:"
   ]
  },
  {
   "cell_type": "code",
   "execution_count": null,
   "metadata": {
    "colab": {
     "base_uri": "https://localhost:8080/",
     "height": 35
    },
    "colab_type": "code",
    "id": "fnVfnl1VENfi",
    "outputId": "b2919749-e2d0-45f8-f3a4-fec5c6e48eee"
   },
   "outputs": [],
   "source": [
    "import sympy\n",
    "x,y = sympy.symbols('x,y')\n",
    "expr = 2*x*y\n",
    "f = circuit.expr2func(expr,x,y)\n",
    "print('f(2,4) =',f(2,4))"
   ]
  },
  {
   "cell_type": "markdown",
   "metadata": {
    "colab_type": "text",
    "id": "TxX0ME_9EDzM"
   },
   "source": [
    "The **evalList** functions evaluates a **sympy** expression in a set of values\n",
    "\n",
    ">`evalList(expr,var,set)`\n",
    "\n",
    "Parameters:\n",
    "\n",
    ">**expr** is the expression to evaluate\n",
    "\n",
    ">**var** is the sympy symbol to substituye for a set of values\n",
    "\n",
    ">**set** is an iterable set of values\n",
    "\n",
    "The function returns a **numpy** array\n",
    "\n",
    "One of the uses of the evaluation is to calculate the frequency response of a circuit, the **evalFrequs** enables us to evaluate one **sympy** expression for several frequency **f** values.\n",
    "\n",
    ">`evalFreqs(expr,set)`\n",
    "\n",
    "Parameters:\n",
    "\n",
    ">**expr** is the expression to evaluate\n",
    "\n",
    ">**set** is an iterable set of frequencies (in Hz)\n",
    "\n",
    "The function returns a **numpy** array of complex numbers that evaluates the using the following assignment for the **s** symbol\n",
    "\n",
    "$\\qquad s = j \\: 2\\pi f$\n",
    "\n",
    "for each frequency of the **set** iterable.\n",
    "\n",
    "The function is specially usefull for bode plots using the **linear** module:\n",
    "\n",
    "> `f_vector = linear.frange(f_start,f_end)`  \n",
    "> `res = evalFreqs(expr,f_vector)`  \n",
    "> `linear.drawBodeFromComplex(f_vector,res)`"
   ]
  },
  {
   "cell_type": "markdown",
   "metadata": {
    "colab_type": "text",
    "id": "Bc1E0yZ_zkms"
   },
   "source": [
    "## $\\LaTeX$ support\n",
    "\n",
    "The module supports **latex** for the equations generated by the code when working inside the **Jupyter** environment.\n",
    "\n",
    "It doesn't work, however, in colaboratory.\n",
    "\n",
    "Latex is disabled by default, to enable latex suppor execute the module **setLatex** function:\n",
    "\n",
    ">`setLatex(flag=True)`\n",
    "\n",
    "Where **flag** indicates if we want to enable Latex (defaults to True)\n",
    "\n",
    "Once enabled, you can use the show command to show equations in latex:\n",
    "\n",
    ">`show(expr)`\n",
    "\n",
    "If **latex** is not enabled, **show** just uses a normal print\n"
   ]
  },
  {
   "cell_type": "markdown",
   "metadata": {
    "colab_type": "text",
    "id": "tZ-VBqGqj-RI"
   },
   "source": [
    "## The verbose option\n",
    "\n",
    "By default the module does not write anything on the standard output.\n",
    "\n",
    "You can, however, set the module to be verbose on its operation.\n",
    "\n",
    "The **setVerbose()** function controls the information given on standard output\n",
    "\n",
    ">`setVerbose(flag)`\n",
    "\n",
    "Where **flag** activates output text when **True** and deactivates it when **False**\n",
    "\n",
    "By default, flag is **True**, so **setVerbose()** without arguments activate text output."
   ]
  },
  {
   "cell_type": "markdown",
   "metadata": {
    "colab_type": "text",
    "id": "-uPwiyIuhRF6"
   },
   "source": [
    "# Examples\n",
    "\n",
    "The following section shows some circuit examples"
   ]
  },
  {
   "cell_type": "markdown",
   "metadata": {
    "colab_type": "text",
    "id": "_5au-T7Oi5Rw"
   },
   "source": [
    "## First simple DC circuit\n",
    "\n",
    "The following circuit includes one voltage source, one current source and two resistors.\n",
    "\n",
    "The output voltage **Vo** will be defined with a voltage measurement component.\n",
    "\n",
    "![Circuit 01](images/circuit/MC_01.png)\n",
    "\n",
    "The following code describes the circuit.\n",
    "\n",
    "We will use the **verbose** option that gives information about the module actions."
   ]
  },
  {
   "cell_type": "code",
   "execution_count": null,
   "metadata": {
    "colab": {
     "base_uri": "https://localhost:8080/",
     "height": 146
    },
    "colab_type": "code",
    "id": "rg-1Oo_fQ_0s",
    "outputId": "7a3c676e-1fae-4abd-935a-41a2eb8a7099"
   },
   "outputs": [],
   "source": [
    "# Set verbose option\n",
    "circuit.setVerbose()\n",
    "\n",
    "# Circuit 1 definiton\n",
    "c1 = circuit.circuit()\n",
    "c1.addV('Vs',1,0,5)\n",
    "c1.addR('R1',1,2,1000)\n",
    "c1.addR('R2',2,0,1000)\n",
    "c1.addI('Is',2,0,0.01)\n",
    "c1.addVM('Vo',2,0)"
   ]
  },
  {
   "cell_type": "markdown",
   "metadata": {
    "colab_type": "text",
    "id": "U56rwa71jhx2"
   },
   "source": [
    "Now we can solve the circuit:"
   ]
  },
  {
   "cell_type": "code",
   "execution_count": null,
   "metadata": {
    "colab": {
     "base_uri": "https://localhost:8080/",
     "height": 479
    },
    "colab_type": "code",
    "id": "vbWqWc3YgUgo",
    "outputId": "d007273e-c906-4b9c-8029-bca585e6a5e7"
   },
   "outputs": [],
   "source": [
    "c1.solve()"
   ]
  },
  {
   "cell_type": "markdown",
   "metadata": {
    "colab_type": "text",
    "id": "JHLd0Ot2kyaQ"
   },
   "source": [
    "All the text, except the last line that is the output of `c1.solve()` is generated due to the **verbose** setting.\n",
    "\n",
    "You can get the variables in the circuit solutions using the code:"
   ]
  },
  {
   "cell_type": "code",
   "execution_count": null,
   "metadata": {
    "colab": {
     "base_uri": "https://localhost:8080/",
     "height": 35
    },
    "colab_type": "code",
    "id": "TqrtSiSGlBjW",
    "outputId": "f7dc6de7-60a9-4cb7-b84a-4f2af874b770"
   },
   "outputs": [],
   "source": [
    "# Show the list of solution symbols\n",
    "print(list(c1.solution))"
   ]
  },
  {
   "cell_type": "markdown",
   "metadata": {
    "colab_type": "text",
    "id": "MCleYDg2k6C2"
   },
   "source": [
    "As you can see, the **Vo** measurement element is included in the solution. In this circuit, the current in the voltage source **iVs** and node 1 voltage **v1** are also one of the solutions. \n",
    "\n",
    "You can get one of the circuit solutions by its name, both in the **symbolic** and the **numerical** cases:"
   ]
  },
  {
   "cell_type": "code",
   "execution_count": null,
   "metadata": {
    "colab": {
     "base_uri": "https://localhost:8080/",
     "height": 54
    },
    "colab_type": "code",
    "id": "lvBmqlL-ltP4",
    "outputId": "e54a51f6-1f30-4bfd-b5f6-57fa3a5e916a"
   },
   "outputs": [],
   "source": [
    "# Symbolic solution\n",
    "print('Vo =',c1.solution['Vo'],'  (Symbolic)')\n",
    "\n",
    "# Numeric solution\n",
    "print('Vo =',c1.particular['Vo'],'V   (Particular)')"
   ]
  },
  {
   "cell_type": "markdown",
   "metadata": {
    "colab_type": "text",
    "id": "nb-erx6om8lY"
   },
   "source": [
    "## Second simple DC circuit\n",
    "\n",
    "The following circuit includes one voltage source, one current source and two resistors.\n",
    "\n",
    "The output voltage **Vo** will be defined with a voltage measurement component.\n",
    "\n",
    "![Circuit 02](images/circuit/MC_02.png)\n",
    "\n",
    "From now on, we will disable the **verbose** option.\n",
    "\n",
    "The following code describes the circuit and solves it."
   ]
  },
  {
   "cell_type": "code",
   "execution_count": null,
   "metadata": {
    "colab": {
     "base_uri": "https://localhost:8080/",
     "height": 109
    },
    "colab_type": "code",
    "id": "JTBA_quvn1QA",
    "outputId": "e5bfbf80-d006-4de6-f975-b53c848d8987"
   },
   "outputs": [],
   "source": [
    "# Disable the verbose option\n",
    "circuit.setVerbose(False)\n",
    "\n",
    "# Circuit 2 definition\n",
    "c2 = circuit.circuit()\n",
    "c2.addV('Vs',1,0,6)\n",
    "c2.addR('R1',1,2,1000)\n",
    "c2.addR('R2',2,3,1000)\n",
    "c2.addR('R3',3,0,1000)\n",
    "c2.addVM('Vo',2,3)\n",
    "c2.solve()"
   ]
  },
  {
   "cell_type": "markdown",
   "metadata": {
    "colab_type": "text",
    "id": "ir_3xZueoQeg"
   },
   "source": [
    "The last command returns the shown circuit solution. As in the previous circuit you can get the **Vo** value:"
   ]
  },
  {
   "cell_type": "code",
   "execution_count": null,
   "metadata": {
    "colab": {
     "base_uri": "https://localhost:8080/",
     "height": 54
    },
    "colab_type": "code",
    "id": "AbQFxCKtocLg",
    "outputId": "08441d37-6c12-40ef-dcf3-02787de569df"
   },
   "outputs": [],
   "source": [
    "# Symbolic solution\n",
    "print('Vo =',c2.solution['Vo'],'  (Symbolic)')\n",
    "\n",
    "# Numeric solution\n",
    "print('Vo =',c2.particular['Vo'],'V   (Particular)')"
   ]
  },
  {
   "cell_type": "markdown",
   "metadata": {
    "colab_type": "text",
    "id": "aa8Q3knupt0I"
   },
   "source": [
    "If we want, we can see the circuit equations. If **Eq** is present, it identifies the two sides of the equation.  \n",
    "One side equations, **without Eq**, shall equal zero.\n",
    "\n",
    "We can also see the unknowns for which we solve the circuit."
   ]
  },
  {
   "cell_type": "code",
   "execution_count": null,
   "metadata": {
    "colab": {
     "base_uri": "https://localhost:8080/",
     "height": 183
    },
    "colab_type": "code",
    "id": "AdDClsw8p0mO",
    "outputId": "6a1b132a-1bfa-43ac-f037-a31107ca724f"
   },
   "outputs": [],
   "source": [
    "# Equations\n",
    "print('Circuit equations')\n",
    "for eq in c2.equations:\n",
    "    print('   ',eq)\n",
    "print()\n",
    "\n",
    "# Unknowns\n",
    "print('Circuit unknowns for wich we solve')\n",
    "print('   ',c2.unknowns)"
   ]
  },
  {
   "cell_type": "markdown",
   "metadata": {
    "colab_type": "text",
    "id": "EdgPCQP1oiVY"
   },
   "source": [
    "## Current measurement\n",
    "\n",
    "The following circuit includes current measurement elements\n",
    "\n",
    "![Circuit 03](images/circuit/MC_03.png)\n",
    "\n",
    "Note that, although, nodes 2, 3 and 4 are really at the same voltage, we need to use three different numbers to define the currents.\n",
    "\n",
    "The following code defines and solves the circuit."
   ]
  },
  {
   "cell_type": "code",
   "execution_count": null,
   "metadata": {
    "colab": {
     "base_uri": "https://localhost:8080/",
     "height": 109
    },
    "colab_type": "code",
    "id": "5Dl6Ur_7rH2Q",
    "outputId": "94250734-d749-41e8-cf99-7edf62161574"
   },
   "outputs": [],
   "source": [
    "# Circuit 3 definition\n",
    "\n",
    "c3 = circuit.circuit()\n",
    "c3.addV('Vs',1,0,5)\n",
    "c3.addR('R1',1,2,1000)\n",
    "c3.addR('R2',3,0,2000)\n",
    "c3.addR('R3',4,0,2000)\n",
    "c3.addIM('I1',3,2)\n",
    "c3.addIM('I2',4,2)\n",
    "c3.solve()"
   ]
  },
  {
   "cell_type": "markdown",
   "metadata": {
    "colab_type": "text",
    "id": "V2I-35A7nwXu"
   },
   "source": [
    "We can show the two desired solutions:"
   ]
  },
  {
   "cell_type": "code",
   "execution_count": null,
   "metadata": {
    "colab": {
     "base_uri": "https://localhost:8080/",
     "height": 54
    },
    "colab_type": "code",
    "id": "5IgzSL3hrYms",
    "outputId": "568f7cc8-2bf4-43d9-fd7e-9225b8c6cd95"
   },
   "outputs": [],
   "source": [
    "print('I1 =',c3.solution['I1'])\n",
    "print('I2 =',c3.solution['I2'])"
   ]
  },
  {
   "cell_type": "markdown",
   "metadata": {
    "colab_type": "text",
    "id": "hCaNqLjJriuI"
   },
   "source": [
    "We can ask for the unknowns in the circuit:"
   ]
  },
  {
   "cell_type": "code",
   "execution_count": null,
   "metadata": {
    "colab": {
     "base_uri": "https://localhost:8080/",
     "height": 35
    },
    "colab_type": "code",
    "id": "HQhitwdirnEa",
    "outputId": "111eb3bd-2546-4b57-fe30-de380d484829"
   },
   "outputs": [],
   "source": [
    "print('Unknowns:',c3.unknowns)"
   ]
  },
  {
   "cell_type": "markdown",
   "metadata": {
    "colab_type": "text",
    "id": "hM7J1RE3rtQg"
   },
   "source": [
    "You can see that although we defined nodes 1, 2, 3 and 4, only node voltages **v1** and **v2** are present in the list.\n",
    "\n",
    "Nodes 3 and 4 have been substituted by node 2 voltage.\n",
    "\n",
    "This is seen more clearly in the list of equations:"
   ]
  },
  {
   "cell_type": "code",
   "execution_count": null,
   "metadata": {
    "colab": {
     "base_uri": "https://localhost:8080/",
     "height": 146
    },
    "colab_type": "code",
    "id": "S-SzvJYBE4ik",
    "outputId": "a3b9179e-c21a-4a11-e35a-4f9fbed65c1e"
   },
   "outputs": [],
   "source": [
    "# Equations\n",
    "print('Circuit equations')\n",
    "for eq in c3.equations:\n",
    "    print('   ',eq)\n",
    "print()"
   ]
  },
  {
   "cell_type": "markdown",
   "metadata": {
    "colab_type": "text",
    "id": "gtaanGZQst8o"
   },
   "source": [
    "## Controlled voltage source\n",
    "\n",
    "The following circuit includes voltage controlled source\n",
    "\n",
    "![Circuit 04](images/circuit/MC_04.png)\n",
    "\n",
    "The following code defines and solves the circuit."
   ]
  },
  {
   "cell_type": "code",
   "execution_count": null,
   "metadata": {
    "colab": {
     "base_uri": "https://localhost:8080/",
     "height": 109
    },
    "colab_type": "code",
    "id": "Q9RZZdaOs4f6",
    "outputId": "4ac4013f-cf1f-4a46-ad79-7ccf05352415"
   },
   "outputs": [],
   "source": [
    "# Circuit 4 definition\n",
    "c = circuit.circuit()\n",
    "c.addV('Vs',1,0,5)\n",
    "c.addR('R1',1,2,1000)\n",
    "c.addR('R2',2,0,1000)\n",
    "c.addVM('Vm',2,0)\n",
    "c.addCVS('k',3,0,'Vm',10)\n",
    "c.addR('R3',3,0)\n",
    "c.addVM('Vo',3,0)\n",
    "c.solve()"
   ]
  },
  {
   "cell_type": "markdown",
   "metadata": {
    "colab_type": "text",
    "id": "7e5XAvqWuOdo"
   },
   "source": [
    "## Controlled current source\n",
    "\n",
    "The following circuit includes a current controlled source\n",
    "\n",
    "![Circuit 05](images/circuit/MC_05.png)\n",
    "\n",
    "The following code defines and solves the circuit."
   ]
  },
  {
   "cell_type": "code",
   "execution_count": null,
   "metadata": {
    "colab": {
     "base_uri": "https://localhost:8080/",
     "height": 35
    },
    "colab_type": "code",
    "id": "G25JTu2GuTtI",
    "outputId": "edf90489-651b-46f4-b7da-118356425ba4"
   },
   "outputs": [],
   "source": [
    "# Circuit 5 definition\n",
    "c5 = circuit.circuit()\n",
    "c5.addV('Vs',1,0,5)\n",
    "c5.addR('R1',1,2,1000)\n",
    "c5.addIM('Im',0,2)\n",
    "c5.addCIS('beta',3,0,'Im',10)\n",
    "c5.addR('R3',3,0)\n",
    "c5.addVM('Vo',3,0)\n",
    "c5.solve()"
   ]
  },
  {
   "cell_type": "markdown",
   "metadata": {
    "colab_type": "text",
    "id": "lijAyFqw3bAC"
   },
   "source": [
    "## AC Circuit\n",
    "\n",
    "Now we can try an AC circuit\n",
    "\n",
    "![Circuit 02](images/circuit/Circuit02.png)\n",
    "\n",
    "The following code describes and solves the circuit"
   ]
  },
  {
   "cell_type": "code",
   "execution_count": null,
   "metadata": {
    "colab": {
     "base_uri": "https://localhost:8080/",
     "height": 91
    },
    "colab_type": "code",
    "id": "wu6zfzEJ3mSA",
    "outputId": "d45d07a3-d9f6-424d-98be-e4c25c30c3cc"
   },
   "outputs": [],
   "source": [
    "# Circuit 6 definition\n",
    "c6 = circuit.circuit()\n",
    "c6.addV('Vs',1,0,1)\n",
    "c6.addR('R1',1,2,1000)\n",
    "c6.addR('R3',2,3,100)\n",
    "c6.addC('C1',2,0,1e-6)\n",
    "c6.addC('C2',3,0,100e-9)\n",
    "c6.addVM('Vo',3,0)\n",
    "c6.solve()"
   ]
  },
  {
   "cell_type": "markdown",
   "metadata": {
    "colab_type": "text",
    "id": "1dYp3ruf4Jdi"
   },
   "source": [
    "The **Vo** solution both in symbolic and particular form is:"
   ]
  },
  {
   "cell_type": "code",
   "execution_count": null,
   "metadata": {
    "colab": {
     "base_uri": "https://localhost:8080/",
     "height": 54
    },
    "colab_type": "code",
    "id": "yHO607_Q4OcM",
    "outputId": "c665525e-5db9-4f54-dfae-fca30093eda1"
   },
   "outputs": [],
   "source": [
    "print('Vo =',c6.solution['Vo'])\n",
    "print('Vo =',c6.particular['Vo'])"
   ]
  },
  {
   "cell_type": "markdown",
   "metadata": {
    "colab_type": "text",
    "id": "zH_v9JAr4lBK"
   },
   "source": [
    "Now we can also get the **poles** and **zeros** of the circuit using the **sympy** functions"
   ]
  },
  {
   "cell_type": "code",
   "execution_count": null,
   "metadata": {
    "colab": {
     "base_uri": "https://localhost:8080/",
     "height": 128
    },
    "colab_type": "code",
    "id": "4wzN7X6b4pg6",
    "outputId": "1e3c0728-f8eb-4714-fef2-3f0c71d0a66e"
   },
   "outputs": [],
   "source": [
    "import sympy\n",
    "\n",
    "numer,denom =c6.particular['Vo'].as_numer_denom()\n",
    "print('Num =',numer)\n",
    "print('Den =',denom)\n",
    "print()\n",
    "\n",
    "zeros = sympy.roots(numer)\n",
    "poles = sympy.roots(denom)\n",
    "print('Zeros =',zeros)\n",
    "print('Poles =',poles)\n",
    "print()"
   ]
  },
  {
   "cell_type": "markdown",
   "metadata": {
    "colab_type": "text",
    "id": "79OezJ-P_7r6"
   },
   "source": [
    "Now we can use the **linear** module, imported as **lin** to show a bode plot"
   ]
  },
  {
   "cell_type": "code",
   "execution_count": null,
   "metadata": {
    "colab": {
     "base_uri": "https://localhost:8080/",
     "height": 380
    },
    "colab_type": "code",
    "id": "ZLLVnBcwAAHI",
    "outputId": "60d31a64-d95c-4a67-e137-10f890ff9785"
   },
   "outputs": [],
   "source": [
    "# Get the circuit output Vo\n",
    "Vo  = c6.particular['Vo']\n",
    "\n",
    "# Define a frequency vector between 1Hz and 1MHz\n",
    "fv  = lin.frange(1,1e6)\n",
    "\n",
    "# Evaluate Vo at all frequencies\n",
    "res = circuit.evalFreqs(Vo,fv)\n",
    "\n",
    "# Draw the bode plot\n",
    "lin.drawBodeFromComplex(fv,res)"
   ]
  },
  {
   "cell_type": "markdown",
   "metadata": {
    "colab_type": "text",
    "id": "XpZtnA8J5pdW"
   },
   "source": [
    "## AC Resonant Circuit\n",
    "\n",
    "We can also solve an AC resonant circuit with a capacitor and an inductor\n",
    "\n",
    "![Circuit 07](images/circuit/MC_07.png)\n",
    "\n",
    "The following code describes and solves the circuit"
   ]
  },
  {
   "cell_type": "code",
   "execution_count": null,
   "metadata": {
    "colab": {
     "base_uri": "https://localhost:8080/",
     "height": 35
    },
    "colab_type": "code",
    "id": "aZxGWDns598Y",
    "outputId": "fdc56de8-6066-4d98-9f48-0c20659bd935"
   },
   "outputs": [],
   "source": [
    "# Circuit 7 definition\n",
    "c7 = circuit.circuit()\n",
    "c7.addI('Is',1,0,1)\n",
    "c7.addC('C',1,0,1e-6)\n",
    "c7.addL('L',1,0,1e-3)\n",
    "c7.addVM('Vo',1,0)\n",
    "c7.solve()"
   ]
  },
  {
   "cell_type": "markdown",
   "metadata": {
    "colab_type": "text",
    "id": "mxkVDJsk6JH6"
   },
   "source": [
    "We can also find the **poles** and **zeros**\n",
    "\n",
    "The circuit is band pass as it has a zero at 0 and two complex poles\n",
    "\n",
    "Q is infinite as it has no resistive elements"
   ]
  },
  {
   "cell_type": "code",
   "execution_count": null,
   "metadata": {
    "colab": {
     "base_uri": "https://localhost:8080/",
     "height": 109
    },
    "colab_type": "code",
    "id": "LJC0vaW96L-C",
    "outputId": "cb030bdf-79c8-41a2-f7ad-5ec50b0051c1"
   },
   "outputs": [],
   "source": [
    "import sympy\n",
    "\n",
    "numer,denom =c7.particular['Vo'].as_numer_denom()\n",
    "print('Num =',numer)\n",
    "print('Den =',denom)\n",
    "print()\n",
    "\n",
    "zeros = sympy.roots(numer)\n",
    "poles = sympy.roots(denom)\n",
    "print('Zeros =',zeros)\n",
    "print('Poles =',poles)"
   ]
  },
  {
   "cell_type": "markdown",
   "metadata": {
    "colab_type": "text",
    "id": "nyjRvNn76-7q"
   },
   "source": [
    "A more realistic circuit will have also a resistance"
   ]
  },
  {
   "cell_type": "code",
   "execution_count": null,
   "metadata": {
    "colab": {
     "base_uri": "https://localhost:8080/",
     "height": 109
    },
    "colab_type": "code",
    "id": "w9AsYu9M7GS4",
    "outputId": "d5125e0b-e4a8-4192-a0b3-140d97684948"
   },
   "outputs": [],
   "source": [
    "c7.addR('R',1,0,1e6)\n",
    "c7.solve()\n",
    "\n",
    "numer,denom =c7.particular['Vo'].as_numer_denom()\n",
    "print('Num =',numer)\n",
    "print('Den =',denom)\n",
    "print()\n",
    "\n",
    "zeros = sympy.roots(numer)\n",
    "poles = sympy.roots(denom)\n",
    "print('Zeros =',zeros)\n",
    "print('Poles =',poles)"
   ]
  },
  {
   "cell_type": "markdown",
   "metadata": {
    "colab_type": "text",
    "id": "MVAxyhPtA_JA"
   },
   "source": [
    "We can also draw the bode plot for this circuit"
   ]
  },
  {
   "cell_type": "code",
   "execution_count": null,
   "metadata": {
    "colab": {
     "base_uri": "https://localhost:8080/",
     "height": 380
    },
    "colab_type": "code",
    "id": "rJ35dkmRBDOy",
    "outputId": "3db8261f-bf2a-48fd-babd-c0512862bd6e"
   },
   "outputs": [],
   "source": [
    "Vo  = c7.particular['Vo']\n",
    "fv  = lin.frange(1000,10000,ppd=500)\n",
    "res = circuit.evalFreqs(Vo,fv)\n",
    "lin.drawBodeFromComplex(fv,res)"
   ]
  },
  {
   "cell_type": "markdown",
   "metadata": {
    "colab_type": "text",
    "id": "0jnT46WEQY9I"
   },
   "source": [
    "## Thevenin equivalent\n",
    "\n",
    "We can use the module also to obtain a thevenin equivalent\n",
    "\n",
    "![Circuit 08](images/circuit/MC_08.png)\n",
    "\n",
    "As we know, the open circuit **Vo** is the thevenin voltage **Vth**"
   ]
  },
  {
   "cell_type": "code",
   "execution_count": null,
   "metadata": {
    "colab": {
     "base_uri": "https://localhost:8080/",
     "height": 35
    },
    "colab_type": "code",
    "id": "azPfqZyQGMQC",
    "outputId": "9467a004-90de-49c5-b20a-ff3a3293cd6f"
   },
   "outputs": [],
   "source": [
    "# Circuit definition\n",
    "c8 = circuit.circuit()\n",
    "c8.addV('Vs',1,0,5)\n",
    "c8.addR('R',1,2,1000)\n",
    "c8.addIM('I1',3,2)\n",
    "c8.addCIS('beta',3,0,'I1',100)\n",
    "c8.addVM('Vo',3,0)\n",
    "c8.solve()\n",
    "\n",
    "# Thevenin voltage\n",
    "Vth = c8.solution['Vo']\n",
    "print('Vth =',Vth)"
   ]
  },
  {
   "cell_type": "markdown",
   "metadata": {
    "colab_type": "text",
    "id": "zf7hfws1VMh0"
   },
   "source": [
    "The thevenin resistance **Rth** can be calculating adding a **Vx** voltage on the output and obtaining the resistance as:\n",
    "\n",
    "$$R_{th} = \\left. \\frac{Vx}{Ix} \\right|_{V_s = 0}$$\n",
    "\n",
    "Where $Ix$ is the current output in the $Vx$ source.\n",
    "\n",
    "The following **code** calculates **Rth**"
   ]
  },
  {
   "cell_type": "code",
   "execution_count": null,
   "metadata": {
    "colab": {
     "base_uri": "https://localhost:8080/",
     "height": 54
    },
    "colab_type": "code",
    "id": "n6FpaYYTVH_Q",
    "outputId": "d681218e-01cf-447a-d33c-38278395e409"
   },
   "outputs": [],
   "source": [
    "# Thevenin resistance calculation\n",
    "\n",
    "# Add Vx output source \n",
    "# Beware: If you modify this cell\n",
    "# Don't execute this cell two times before executing the previous cell\n",
    "# or you will get several Vx voltage sources in the circuit\n",
    "c8.addV('Vx',3,0)\n",
    "\n",
    "# Solve the circuit\n",
    "c8.solve()\n",
    "\n",
    "# Show the Ix solution that is named iVx\n",
    "Ix = c8.solution['iVx']\n",
    "print('Ix =',Ix)\n",
    "\n",
    "# We get the 'Vx' symbol form the nDic dictionary\n",
    "Vx = c8.symbol['Vx']\n",
    "\n",
    "# We susbtitute Vs for 0 in the Ix solution\n",
    "Ix = Ix.subs('Vs',0)\n",
    "\n",
    "# Calculate and show Rth value\n",
    "Rth = c8.symbol['Vx'] / c8.solution['iVx'].subs('Vs',0)\n",
    "print('Rth =',Rth)"
   ]
  },
  {
   "cell_type": "markdown",
   "metadata": {
    "colab_type": "text",
    "id": "Z3UzOOb8mbVy"
   },
   "source": [
    "## Opamp circuit\n",
    "\n",
    "We can also solve operational amplifier circuits\n",
    "\n",
    "![Circuit 09](images/circuit/MC_09.png)\n",
    "\n",
    "One way is to define the amplifier as a controlled voltage source:\n",
    "\n",
    "\n",
    "$\\qquad V_d = V_{(+)}-V_{(-)} \\qquad V_O = A \\cdot V_d$\n",
    "\n",
    "Once we solve the circuit we can obtain three posible solutions:\n",
    "\n",
    "**Finite gain Opamp**  \n",
    "In this case we just use the default solution with the **A** value for the opamp.\n",
    "\n",
    "**Ideal Opamp**  \n",
    "To obtain the ideal opamp solution we obtain the circuit solution when A tends to infinity.\n",
    "\n",
    "$\\qquad V_O = \\left. V_O \\right|_{A \\rightarrow \\infty}$\n",
    "\n",
    "\n",
    "**Dominant pole Opamp**  \n",
    "In this case we substitute **A** for **A(s)** using the dominant pole model\n",
    "\n",
    "$\\qquad A = A(s) = \\frac{A_O}{1+s/p1}$\n",
    "\n",
    "The following code solves the above circuit considering the finite gain model."
   ]
  },
  {
   "cell_type": "code",
   "execution_count": null,
   "metadata": {
    "colab": {
     "base_uri": "https://localhost:8080/",
     "height": 54
    },
    "colab_type": "code",
    "id": "C4k4VqFcofxI",
    "outputId": "6f4baf72-cc92-45d6-8e9d-04fc87bad6c1"
   },
   "outputs": [],
   "source": [
    "# Circuit definition\n",
    "c9 = circuit.circuit()\n",
    "c9.addV('Vs',1,0,1)       # Vs value is 1 so that Vo gives gain\n",
    "c9.addR('Ri',1,2,1000)\n",
    "c9.addR('Rf',2,3,10000)\n",
    "c9.addVM('Vo',3,0)\n",
    "# Opamp base model\n",
    "c9.addVM('Vd',0,2)\n",
    "c9.addCVS('A',3,0,'Vd')\n",
    "c9.solve()\n",
    "\n",
    "# Base solution with finite gain A\n",
    "Vo_A = c9.solution['Vo']\n",
    "print('Finite gain opamp solution')\n",
    "print('  Vo =',Vo_A)"
   ]
  },
  {
   "cell_type": "markdown",
   "metadata": {
    "colab_type": "text",
    "id": "Ed00PvJeZgLk"
   },
   "source": [
    "If use the **limit** function of the **sympy** module, we can obtain the ideal opamp response"
   ]
  },
  {
   "cell_type": "code",
   "execution_count": null,
   "metadata": {
    "colab": {
     "base_uri": "https://localhost:8080/",
     "height": 54
    },
    "colab_type": "code",
    "id": "FLQdkHsCZWeY",
    "outputId": "f86745fc-820e-4a94-857b-0034e5ce944a"
   },
   "outputs": [],
   "source": [
    "# Import the limit function and the infinite symbol\n",
    "from sympy import oo, limit\n",
    "\n",
    "# Get the circuit 'A' symbol\n",
    "A = c9.symbol['A']\n",
    "\n",
    "# Calculate the limit of the solution when A->oo\n",
    "Vo_i = limit(Vo_A,A,oo)\n",
    "print('Ideal opamp solution')\n",
    "print('  Vo =',Vo_i)"
   ]
  },
  {
   "cell_type": "markdown",
   "metadata": {
    "colab_type": "text",
    "id": "BK4TGGKxZxvk"
   },
   "source": [
    "The solution for an opamp with a **dominant** pole model can be obtained using the **subs** method to substituye the gain **A** for a a single pole model"
   ]
  },
  {
   "cell_type": "code",
   "execution_count": null,
   "metadata": {
    "colab": {
     "base_uri": "https://localhost:8080/",
     "height": 54
    },
    "colab_type": "code",
    "id": "_wFVNm3yZpRC",
    "outputId": "a7f34fcf-e7da-48c3-ac0d-4383a1861452"
   },
   "outputs": [],
   "source": [
    "import sympy\n",
    "\n",
    "# New symbols for s, Ao and p1\n",
    "s,Ao,p1 = sympy.symbols('s,Ao,p1')\n",
    "\n",
    "# Define A(s) and substitute A for A(s) \n",
    "# simplify(), expand() and collect() give a better expression\n",
    "A_s = Ao*p1/(s+p1)\n",
    "Vo_d = (Vo_A.subs(A,A_s)).simplify().expand()\n",
    "Vo_d = sympy.collect(Vo_d,s)\n",
    "\n",
    "print('Dominant pole solution')\n",
    "print('  Vo =',Vo_d)"
   ]
  },
  {
   "cell_type": "markdown",
   "metadata": {
    "colab_type": "text",
    "id": "vHCtwAcpj1Yo"
   },
   "source": [
    "We can use the values of the components to draw the bode plot of the circuit"
   ]
  },
  {
   "cell_type": "code",
   "execution_count": null,
   "metadata": {
    "colab": {
     "base_uri": "https://localhost:8080/",
     "height": 435
    },
    "colab_type": "code",
    "id": "yBLJ3XtaakMC",
    "outputId": "06d9cc74-3b79-4e57-fb78-647aec46d536"
   },
   "outputs": [],
   "source": [
    "# Get the Vo solution with component values\n",
    "Vo_d=c9.particular['Vo']\n",
    "\n",
    "# Define values for the dominant pole model\n",
    "p1 = 16 # rad/s\n",
    "Ao = 100000\n",
    "\n",
    "# Substitute A for the dominant pole model\n",
    "Vo_d = (Vo_d.subs(A,Ao*p1/(s+p1))).simplify()\n",
    "\n",
    "print('Numerical solution in s domain')\n",
    "print('   ',Vo_d)\n",
    "print()\n",
    "\n",
    "# Bode plot\n",
    "fv  = lin.frange(10,100000)\n",
    "res = circuit.evalFreqs(Vo_d,fv)\n",
    "lin.drawBodeFromComplex(fv,res)"
   ]
  },
  {
   "cell_type": "markdown",
   "metadata": {
    "colab_type": "text",
    "id": "_mn0B-h4keNG"
   },
   "source": [
    "The bode plot shows the signal gain because the numeric **value** of the input **Vs** was 1.\n",
    "\n",
    "We cab compute the signal gain in the symbolic solution dividing **Vo** by **Vs**"
   ]
  },
  {
   "cell_type": "code",
   "execution_count": null,
   "metadata": {
    "colab": {
     "base_uri": "https://localhost:8080/",
     "height": 109
    },
    "colab_type": "code",
    "id": "bPCy231WmU7c",
    "outputId": "ed4f4511-2ced-494e-950b-38ec3ea4d74c"
   },
   "outputs": [],
   "source": [
    "# Gain calculation\n",
    "Gain = Vo_A/c9.symbol['Vs']\n",
    "\n",
    "print('Signal gain')\n",
    "print('  ',Gain)\n",
    "print()\n",
    "\n",
    "print('Signal gain for A -> oo')\n",
    "print('  ',limit(Gain,c9.symbol['A'],oo))"
   ]
  },
  {
   "cell_type": "markdown",
   "metadata": {
    "colab_type": "text",
    "id": "1zwpAGEBnM1S"
   },
   "source": [
    "We can also compute the **noise gain $N_G$**\n",
    "\n",
    "This gain is the one associated to the **GBW** product conservation in dominant pole opamp circuits.\n",
    "\n",
    "The noise gain can be calculated as the gain for a **$V_n$** source in series with the **(+)** terminal when the input **$V_s$** is zero.\n",
    "\n",
    "<BR>\n",
    "$\\qquad N_G = \\left. \\frac{V_O}{V_n} \\right|_{Vs = 0}$\n",
    "<BR>\n",
    "\n",
    "We will rewrite the circut to measure this noise gain."
   ]
  },
  {
   "cell_type": "code",
   "execution_count": null,
   "metadata": {
    "colab": {
     "base_uri": "https://localhost:8080/",
     "height": 109
    },
    "colab_type": "code",
    "id": "Lk55hKfvk-ts",
    "outputId": "964ce8a2-6bfe-4fc6-d794-b1e2836fc34f"
   },
   "outputs": [],
   "source": [
    "# Noise gain Circuit definition\n",
    "c9b = circuit.circuit()\n",
    "c9b.addR('Ri',0,2,1000)\n",
    "c9b.addR('Rf',2,3,10000)\n",
    "c9b.addV('Vn',4,0)\n",
    "c9b.addVM('Vo',3,0)\n",
    "# Opamp base model\n",
    "c9b.addVM('Vd',4,2)\n",
    "c9b.addCVS('A',3,0,'Vd')\n",
    "c9b.solve()\n",
    "\n",
    "# The noise gain is calculated\n",
    "Ng = c9b.solution['Vo']/c9b.symbol['Vn']\n",
    "\n",
    "print('Noise gain')\n",
    "print('  ',Ng)\n",
    "print()\n",
    "\n",
    "print('Noise gain for A -> oo')\n",
    "print('  ',limit(Ng,c9b.symbol['A'],oo))"
   ]
  },
  {
   "cell_type": "markdown",
   "metadata": {
    "colab_type": "text",
    "id": "m1LyVZVvZSva"
   },
   "source": [
    "<BR><BR>\n",
    "\n",
    "## Document information\n",
    "\n",
    "Copyright © Vicente Jiménez (2018-2019)\n",
    "\n",
    "Last update: 14/4/2019\n",
    "\n",
    "This work is licensed under a [Creative Common Attribution-ShareAlike 4.0 International license](http://creativecommons.org/licenses/by-sa/4.0/). \n",
    "\n",
    "The **circuit.py** code is licensed under the [MIT License](https://opensource.org/licenses/MIT).\n",
    "\n",
    "<img  src=\"images/cc_sa.png\" width=\"200\">"
   ]
  },
  {
   "cell_type": "code",
   "execution_count": null,
   "metadata": {},
   "outputs": [],
   "source": []
  }
 ],
 "metadata": {
  "colab": {
   "collapsed_sections": [],
   "name": "Module Circuit.ipynb",
   "provenance": [],
   "version": "0.3.2"
  },
  "kernelspec": {
   "display_name": "Python 3",
   "language": "python",
   "name": "python3"
  },
  "language_info": {
   "codemirror_mode": {
    "name": "ipython",
    "version": 3
   },
   "file_extension": ".py",
   "mimetype": "text/x-python",
   "name": "python",
   "nbconvert_exporter": "python",
   "pygments_lexer": "ipython3",
   "version": "3.7.1"
  }
 },
 "nbformat": 4,
 "nbformat_minor": 1
}
