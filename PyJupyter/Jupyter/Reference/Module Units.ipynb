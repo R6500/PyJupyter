{
 "cells": [
  {
   "cell_type": "markdown",
   "metadata": {
    "colab_type": "text",
    "id": "ANM7Ec24HhHd"
   },
   "source": [
    "# <img style=\"float: right;\"  src=\"images/jp.png\" width=\"200\">\n",
    "\n",
    "# Module units\n",
    "\n",
    "This document describes the [units module](http://localhost:8888/edit/Code/units.py)\n",
    "\n",
    "Version 1.1 (12/4/2019)  \n",
    "License information is at the end of the document\n",
    "\n",
    "---\n",
    "\n",
    "You can get this module on [GitHub](https://github.com/R6500/Python-bits/tree/master/Modules).\n",
    "\n",
    "The module defines a **uVar** class that define a variable with its associated units. The variable can hold any Python object that accepts the normal algebraic operators. For instace, integers, floats or **numpy** arrays.\n",
    "\n",
    "The module lets you operate on variables of the **uVar** class or mix them with operation with normal integer and float numbers.\n",
    "\n",
    "It can also check the units when you perform operations on the variables.\n",
    "\n",
    "Units are defined for the International System of units (S.I.) and some other cases, but you can define your own units based on the S.I. units\n",
    "\n",
    "Some special constants are provided and also you can add your own ones\n",
    "\n",
    "The module enforces some basic rules that are typical when operating with magnitudes:\n",
    "\n",
    "* You can only add same magnitude objects\n",
    "\n",
    "* You can only use dimensionless objects as exponents\n",
    "\n",
    "You can find [this module](http://localhost:8888/edit/Code/units.py) on the [Code folder](http://localhost:8888/tree/Code)"
   ]
  },
  {
   "cell_type": "markdown",
   "metadata": {
    "colab_type": "text",
    "id": "pphvYPlbITdu"
   },
   "source": [
    "## Importing the module\n",
    "\n",
    "In order to use the module,you need to **load** and **import** it. \n",
    "\n",
    "The following code imports the **units** module.\n",
    "\n",
    "The **calc** and **mmVars** modules are imported to show their interaction with this module, although none of those modules are really required to use the **units** module.\n",
    "\n",
    "We will also import the **numpy** module. "
   ]
  },
  {
   "cell_type": "code",
   "execution_count": null,
   "metadata": {
    "colab": {
     "autoexec": {
      "startup": false,
      "wait_interval": 0
     },
     "base_uri": "https://localhost:8080/",
     "height": 74
    },
    "colab_type": "code",
    "executionInfo": {
     "elapsed": 213,
     "status": "ok",
     "timestamp": 1528897446884,
     "user": {
      "displayName": "Vicente Jimenez",
      "photoUrl": "//lh4.googleusercontent.com/-l1GS4wWn-mI/AAAAAAAAAAI/AAAAAAAAAZE/i_NQ2m6L6rI/s50-c-k-no/photo.jpg",
      "userId": "104735520205871768811"
     },
     "user_tz": -120
    },
    "id": "zcfNcuGGHejb",
    "outputId": "e4794e65-e959-42f4-c0c8-b43940c4e367"
   },
   "outputs": [],
   "source": [
    "# Import all needed modules\n",
    "import units\n",
    "import calc\n",
    "import mmVars as mm\n",
    "import numpy as np\n",
    "\n",
    "# Check loaded modules\n",
    "try:\n",
    "    print('units version: ',units.version)\n",
    "    print('calc version: ',calc.version)\n",
    "    print('mmVars version: ',mm.version)\n",
    "except:\n",
    "    print('Error loading units modules')\n",
    "    raise"
   ]
  },
  {
   "cell_type": "markdown",
   "metadata": {
    "colab_type": "text",
    "id": "9YC6kEbW3uoc"
   },
   "source": [
    "## General description\n",
    "\n",
    "The **units** module defines a **uVar** class.\n",
    "\n",
    "The class can be used to create objects that include a **value** and an associated **unit**.\n",
    "\n",
    "The value can be a **number** (integer or float) or a **numpy array**.\n",
    "\n",
    "You can operate between different **uVar** objects and the units are mixed as needed."
   ]
  },
  {
   "cell_type": "markdown",
   "metadata": {
    "colab_type": "text",
    "id": "wm1japQ6miiI"
   },
   "source": [
    "## Basic units\n",
    "\n",
    "The **units** module defines the units using **uVar** objects with unity (1.0) value\n",
    "\n",
    "In general you don't need to mess with using the **uVar** constructor. The constructor is only used to create the basic units. All other units and **uVar** objects are created from other **uVar** objects.\n",
    "\n",
    "All units in the module have the same syntax:\n",
    "\n",
    ">u_*name*\n",
    "\n",
    "Where _**name**_ is the name of the unit\n",
    "\n",
    "Unsing an **u_** prefix prevents collisions between the unit names and normal variables\n",
    "\n",
    "The basic units of the module are the ones of the [International System of Units](https://en.wikipedia.org/wiki/International_System_of_Units).\n",
    "\n",
    "There are a total of seven basic units. If you add **unitless** variables you get a total of eight basic units:\n",
    "\n",
    "> u_none : no unit\n",
    "\n",
    "> u_m : meter (length)\n",
    "\n",
    "> u_kg : kilogram (weigth)\n",
    "\n",
    "> u_s : second (time)\n",
    "\n",
    "> u_A : ampere (electrical current)\n",
    "\n",
    "> u_K : kelvin (temperature)\n",
    "\n",
    "> u_mol : mol (quantity of substance)\n",
    "\n",
    "> u_cd : candela (light)\n",
    "\n",
    "The following example shows the **uVar** objects associated to the seven **basic** units:"
   ]
  },
  {
   "cell_type": "code",
   "execution_count": null,
   "metadata": {
    "colab": {
     "autoexec": {
      "startup": false,
      "wait_interval": 0
     },
     "base_uri": "https://localhost:8080/",
     "height": 168
    },
    "colab_type": "code",
    "executionInfo": {
     "elapsed": 524,
     "status": "ok",
     "timestamp": 1523362957390,
     "user": {
      "displayName": "Vicente Jimenez",
      "photoUrl": "//lh4.googleusercontent.com/-l1GS4wWn-mI/AAAAAAAAAAI/AAAAAAAAAZE/i_NQ2m6L6rI/s50-c-k-no/photo.jpg",
      "userId": "104735520205871768811"
     },
     "user_tz": -120
    },
    "id": "41kGV-oKoS_w",
    "outputId": "f98a1c24-d646-482a-84b9-37cfc92f900c"
   },
   "outputs": [],
   "source": [
    "from units import u_none,u_m,u_kg,u_s,u_A,u_K,u_mol,u_cd\n",
    "\n",
    "print('No unit     :',u_none)\n",
    "print('Length      :',u_m)\n",
    "print('Weigth      :',u_kg)\n",
    "print('Time        :',u_s)\n",
    "print('Current     :',u_A)\n",
    "print('Temperature :',u_K)\n",
    "print('Substance   :',u_mol)\n",
    "print('Light       :',u_cd)"
   ]
  },
  {
   "cell_type": "markdown",
   "metadata": {
    "colab_type": "text",
    "id": "t1uEoCopo8ZI"
   },
   "source": [
    "## Basic operations\n",
    "\n",
    "You can operate with the **uVar** objects using normal **+** , **-**, **\\*** and **/** operators\n",
    "\n",
    "You can also operate mixing **uVar** objects with normal numbers and numpy arrays. All normal Python integer and float numbers and numpy arrays are considered as **unitless**.\n",
    "\n",
    "Note that you can only add variables that have the same or **compatible** units, trying to add variables with incompatible units raises an **exception**.\n",
    "\n",
    "Two units are **compatible** if they represent the same magnitude, like length, power,...\n",
    "\n",
    "When you multiply or divide different units you get composed units. Composed units are shown as:\n",
    "\n",
    "$\\qquad numerator/denominator$\n",
    "\n",
    "Where numerator contains the units with **positive** exponents and denominator contains the units with **negative** exponents\n",
    "\n",
    "The following code shows some **examples** of operations between units:"
   ]
  },
  {
   "cell_type": "code",
   "execution_count": null,
   "metadata": {
    "colab": {
     "autoexec": {
      "startup": false,
      "wait_interval": 0
     },
     "base_uri": "https://localhost:8080/",
     "height": 168
    },
    "colab_type": "code",
    "executionInfo": {
     "elapsed": 758,
     "status": "ok",
     "timestamp": 1523362960636,
     "user": {
      "displayName": "Vicente Jimenez",
      "photoUrl": "//lh4.googleusercontent.com/-l1GS4wWn-mI/AAAAAAAAAAI/AAAAAAAAAZE/i_NQ2m6L6rI/s50-c-k-no/photo.jpg",
      "userId": "104735520205871768811"
     },
     "user_tz": -120
    },
    "id": "7zGoEmJrp_wI",
    "outputId": "712b35ee-217d-479a-e6e1-28e3c78719c9"
   },
   "outputs": [],
   "source": [
    "# Add two lenghts\n",
    "l1 = 2.0 * u_m\n",
    "l2 = 3.0 * u_m\n",
    "print('l1+l2 =',l1+l2)\n",
    "\n",
    "# Exception trying to add lenght to unitless number\n",
    "try:\n",
    "    l3 = l1 + 4\n",
    "except:\n",
    "    pass\n",
    "\n",
    "# Division\n",
    "v1 = l1 / (1.0 * u_s)\n",
    "print('v1 =',v1)\n",
    "\n",
    "# Inverse of time\n",
    "T1 = 0.2 * u_s\n",
    "print('1/T1 =',1/T1)\n"
   ]
  },
  {
   "cell_type": "markdown",
   "metadata": {
    "colab_type": "text",
    "id": "YlY6Vyueyc28"
   },
   "source": [
    "## Making new uVar objects\n",
    "\n",
    "As you have seen, you can create new **vVar** objects just operating on previously defined **uVar** objects.\n",
    "\n",
    "For instance, to create a variable that contains 3 in meter units, you can use:\n",
    "\n",
    "> var = u_m * 3\n",
    "\n",
    "> var = 3 * u_m\n",
    "\n",
    "Both constructors are equivalent because the **integer** or **float** types don't define a **\\_\\_rmult\\_\\_** method. If the value associated to an unit is not a basic number, sometimes the second constructor won't succeed.\n",
    "\n",
    "The module provides the **makeVar** function for generating a new **uVar** object from previous ones that always succeeds:\n",
    "\n",
    "> var = makeVar(value,uV)\n",
    "\n",
    "Where **value** is a value to set and **uV** is an **uVar** object.\n",
    "\n",
    "An **example** follows:"
   ]
  },
  {
   "cell_type": "code",
   "execution_count": null,
   "metadata": {
    "colab": {
     "autoexec": {
      "startup": false,
      "wait_interval": 0
     },
     "base_uri": "https://localhost:8080/",
     "height": 36
    },
    "colab_type": "code",
    "executionInfo": {
     "elapsed": 566,
     "status": "ok",
     "timestamp": 1523362963722,
     "user": {
      "displayName": "Vicente Jimenez",
      "photoUrl": "//lh4.googleusercontent.com/-l1GS4wWn-mI/AAAAAAAAAAI/AAAAAAAAAZE/i_NQ2m6L6rI/s50-c-k-no/photo.jpg",
      "userId": "104735520205871768811"
     },
     "user_tz": -120
    },
    "id": "uAMzi4MxycSY",
    "outputId": "a184422b-383a-47d9-f745-49778071afc1"
   },
   "outputs": [],
   "source": [
    "from units import u_m\n",
    "\n",
    "# Create object using makeVar\n",
    "var = units.makeVar(125,u_m)\n",
    "print('var =',var)"
   ]
  },
  {
   "cell_type": "markdown",
   "metadata": {
    "colab_type": "text",
    "id": "i3dkcdaAfvMw"
   },
   "source": [
    "The **makeVar** function also enables us to generate an **uVar** object using a string as the **unit**:\n",
    "\n",
    "> var = makeVar(value,string)\n",
    "\n",
    "In that case, the function will use the **globals** and **locals** on the caller environment to define the units.\n",
    "\n",
    "The following formats will be tried, in the indicated order, if **unit** is a string:\n",
    "\n",
    "* **'p\\_unit'** where **p** is a power of 10 prefix and **unit** is relates to a variable named *'u_unit'*\n",
    "\n",
    "* **'unit'** where **unit** relates to a variable named *'u_unit'*\n",
    "\n",
    "* **'punit'** where **p** is a power of 10 prefix and **unit** relates to a variable named *'u_unit'*\n",
    "\n",
    "That means that the last **'punit'** format that includes a prefix **p** and a unit defined as a variable with name *'u_unit'* will only be tried if the previous formats fail.\n",
    "\n",
    "There are 12 supported power of 10 prefixes that can be used as **p**:\n",
    "\n",
    "$\\quad k = 10^3 \\quad M = 10^6 \\quad G = 10^9 \\quad T = 10^{12} \n",
    "\\quad P = 10^{15} \\quad E = 10^{18}$\n",
    "\n",
    "$\\quad m = 10^{-3} \\quad u = 10^{-6} \\quad n = 10^{-9}\n",
    "\\quad p = 10^{-12} \\quad f = 10^{-15} \\quad a = 10^{-18}$\n",
    "\n",
    "Note that we use **u** instead of **$\\mu$**. This is the only standard prefix defined in greek letters instead of latin letters. \n",
    "\n",
    "If the string cannot be evaluated to a unit, an **exception** will be generated\n",
    "\n",
    "Some **examples** follow:"
   ]
  },
  {
   "cell_type": "code",
   "execution_count": null,
   "metadata": {
    "colab": {
     "autoexec": {
      "startup": false,
      "wait_interval": 0
     },
     "base_uri": "https://localhost:8080/",
     "height": 225
    },
    "colab_type": "code",
    "executionInfo": {
     "elapsed": 724,
     "status": "ok",
     "timestamp": 1523362967012,
     "user": {
      "displayName": "Vicente Jimenez",
      "photoUrl": "//lh4.googleusercontent.com/-l1GS4wWn-mI/AAAAAAAAAAI/AAAAAAAAAZE/i_NQ2m6L6rI/s50-c-k-no/photo.jpg",
      "userId": "104735520205871768811"
     },
     "user_tz": -120
    },
    "id": "fDjrklyOhYv-",
    "outputId": "cd9683b9-470e-420a-a08c-2441a2134ae7"
   },
   "outputs": [],
   "source": [
    "from units import u_m\n",
    "\n",
    "print('Value is 20 in all cases:')\n",
    "print('L =',units.makeVar(20,u_m),\" unit is u_m\")\n",
    "print('L =',units.makeVar(20,'m'),\" unit is 'm'\")\n",
    "print('L =',units.makeVar(20,'m_m'),\" unit is 'm_m'\")\n",
    "print('L =',units.makeVar(20,'u_m'),\" unit is 'u_m'\")\n",
    "print('L =',units.makeVar(20,'mm'),\" unit is 'mm'\")\n",
    "print()\n",
    "\n",
    "# You can also import the makeVar as a new name to ease the writting\n",
    "from units import makeVar as make\n",
    "\n",
    "print('makeVar imported as make:')\n",
    "print('L =',make(20,u_m),\" constructor is make(20,u_m)\")\n",
    "print('L =',make(20,'m'),\" constructor is make(20,'m')\")\n",
    "print('L =',make(20,'um'),\" constructor is make(20,'um')\")"
   ]
  },
  {
   "cell_type": "markdown",
   "metadata": {
    "colab_type": "text",
    "id": "q_eepOjCt8Hw"
   },
   "source": [
    "## Using numpy array values\n",
    "\n",
    "You can operate also with **numpy arrays** as shown in the following example.\n",
    "\n",
    "The normal **numpy** requirements apply. For instance, you can only operate with arrays that have compatible sizes.\n",
    "\n",
    "When creating a new **uVar** object by multiplying a **uVar** object and a **numpy** array the order is important.\n",
    "\n",
    "The following code creates a new **uVar** object with a **numpy** array value:"
   ]
  },
  {
   "cell_type": "code",
   "execution_count": null,
   "metadata": {
    "colab": {
     "autoexec": {
      "startup": false,
      "wait_interval": 0
     },
     "base_uri": "https://localhost:8080/",
     "height": 36
    },
    "colab_type": "code",
    "executionInfo": {
     "elapsed": 522,
     "status": "ok",
     "timestamp": 1523362969814,
     "user": {
      "displayName": "Vicente Jimenez",
      "photoUrl": "//lh4.googleusercontent.com/-l1GS4wWn-mI/AAAAAAAAAAI/AAAAAAAAAZE/i_NQ2m6L6rI/s50-c-k-no/photo.jpg",
      "userId": "104735520205871768811"
     },
     "user_tz": -120
    },
    "id": "oEQJXGhI8DJI",
    "outputId": "0272a5c6-2601-4b91-fe84-30e06bff0ebf"
   },
   "outputs": [],
   "source": [
    "aL = u_m * np.array([1,2,3])\n",
    "print('aL =',aL)"
   ]
  },
  {
   "cell_type": "markdown",
   "metadata": {
    "colab_type": "text",
    "id": "N5ZWZSPB9J9i"
   },
   "source": [
    "The following code creates a **list** of **uVar** objects:"
   ]
  },
  {
   "cell_type": "code",
   "execution_count": null,
   "metadata": {
    "colab": {
     "autoexec": {
      "startup": false,
      "wait_interval": 0
     },
     "base_uri": "https://localhost:8080/",
     "height": 74
    },
    "colab_type": "code",
    "executionInfo": {
     "elapsed": 522,
     "status": "ok",
     "timestamp": 1523362971462,
     "user": {
      "displayName": "Vicente Jimenez",
      "photoUrl": "//lh4.googleusercontent.com/-l1GS4wWn-mI/AAAAAAAAAAI/AAAAAAAAAZE/i_NQ2m6L6rI/s50-c-k-no/photo.jpg",
      "userId": "104735520205871768811"
     },
     "user_tz": -120
    },
    "id": "l6PAcM_d9fS0",
    "outputId": "ee9ddeb9-619a-4d7c-e698-6c258fe4796b"
   },
   "outputs": [],
   "source": [
    "bL = np.array([1,2,3]) * u_m\n",
    "print('bL =',bL)"
   ]
  },
  {
   "cell_type": "markdown",
   "metadata": {
    "colab_type": "text",
    "id": "UnxaGmU49YBq"
   },
   "source": [
    "The above code overloads the multiplication operator from **numpy**, not from the **uVar** class. This is **NOT** what you usually want, so, beware.\n",
    "\n",
    "To ease the generation of **uVar** objects associated to **arrays** you can use the **makeArray** function:\n",
    "\n",
    ">`makeArray(list,unit)`\n",
    "\n",
    "Where **list** is a list, iterable or nump array and **unit** is a proper **uVar** object unit or a **string** that evaluates to a unit in the **global** or **local** name space of the caller.\n",
    "\n",
    "In the case of using a **string** the same formats as in the **makeVar** functions are supported.\n",
    "\n",
    "In fact **unit** does not need to be a proper unit, it can be any **uVar** object and the list elements will be properly multiplied by this object.\n",
    "\n",
    "The following **examples** shows the function in use:"
   ]
  },
  {
   "cell_type": "code",
   "execution_count": null,
   "metadata": {
    "colab": {
     "autoexec": {
      "startup": false,
      "wait_interval": 0
     },
     "base_uri": "https://localhost:8080/",
     "height": 149
    },
    "colab_type": "code",
    "executionInfo": {
     "elapsed": 546,
     "status": "ok",
     "timestamp": 1523362974372,
     "user": {
      "displayName": "Vicente Jimenez",
      "photoUrl": "//lh4.googleusercontent.com/-l1GS4wWn-mI/AAAAAAAAAAI/AAAAAAAAAZE/i_NQ2m6L6rI/s50-c-k-no/photo.jpg",
      "userId": "104735520205871768811"
     },
     "user_tz": -120
    },
    "id": "ni_J3yjYAESU",
    "outputId": "637ae37c-7a3a-404b-bbec-702164ef2637"
   },
   "outputs": [],
   "source": [
    "# Array from list\n",
    "aL = units.makeArray([1,2,3],u_m)\n",
    "print('aL =',aL,' from list')\n",
    "\n",
    "# Array from tuple\n",
    "aL = units.makeArray((1,2,3),u_m)\n",
    "print('aL =',aL,' from tuple')\n",
    "\n",
    "# Array from numpy array\n",
    "aL = units.makeArray(np.array([1,2,3]),u_m)\n",
    "print('aL =',aL,' from numpy array')\n",
    "\n",
    "# Array from range\n",
    "aL = units.makeArray(range(1,4),u_m)\n",
    "print('aL =',aL,' from range')\n",
    "\n",
    "# Array from numpy arange\n",
    "aL = units.makeArray(np.arange(1,4),u_m)\n",
    "print('aL =',aL,' from numpy arange')\n",
    "\n",
    "# Create array using unit defined as string\n",
    "aL = units.makeArray([1,2,3],'m')\n",
    "print('aL =',aL,\" from list using 'm' unit\")\n",
    "\n",
    "# Create array using unit defined as string with pefix\n",
    "aL2 = units.makeArray([1,2,3],'um')\n",
    "print('aL2 =',aL2,\" from list using 'um' unit\")"
   ]
  },
  {
   "cell_type": "markdown",
   "metadata": {
    "colab_type": "text",
    "id": "GEwvMtS4BYmk"
   },
   "source": [
    "The following code shows some operations performed on **numpy** array values:"
   ]
  },
  {
   "cell_type": "code",
   "execution_count": null,
   "metadata": {
    "colab": {
     "autoexec": {
      "startup": false,
      "wait_interval": 0
     },
     "base_uri": "https://localhost:8080/",
     "height": 92
    },
    "colab_type": "code",
    "executionInfo": {
     "elapsed": 580,
     "status": "ok",
     "timestamp": 1523362978834,
     "user": {
      "displayName": "Vicente Jimenez",
      "photoUrl": "//lh4.googleusercontent.com/-l1GS4wWn-mI/AAAAAAAAAAI/AAAAAAAAAZE/i_NQ2m6L6rI/s50-c-k-no/photo.jpg",
      "userId": "104735520205871768811"
     },
     "user_tz": -120
    },
    "id": "2u4bTmfEBd9o",
    "outputId": "22812b43-a767-4b7c-af7d-97ca362cfb99"
   },
   "outputs": [],
   "source": [
    "# Create an array of lengths\n",
    "aL1 = units.makeArray([1,2,3],u_m)\n",
    "print('aL1 =',aL1)\n",
    "\n",
    "# Multiply by 2m to get areas\n",
    "aA1 = aL1 * (2*u_m)\n",
    "print('aA1 =',aA1) \n",
    "\n",
    "# Create another array of lenghth with same size as aL1\n",
    "aL2 = units.makeArray([10,20,30],u_m)\n",
    "print('aL2 =',aL2)\n",
    "\n",
    "# Multiply both arrays to obtain areas\n",
    "aA2 = aL1 * aL2\n",
    "print('aA2 =',aA2)"
   ]
  },
  {
   "cell_type": "markdown",
   "metadata": {
    "colab_type": "text",
    "id": "59VCKtTtXFrJ"
   },
   "source": [
    "## Creating ranges\n",
    "\n",
    "You can also create a variable that holds a range of values with the limits defined by two **uVar** objects using the **makeRange** function\n",
    "\n",
    "> var = makeRange(min,max,number)\n",
    "\n",
    "\n",
    "Where **min** is an **uVar** object that defines the minimum of the range, **max** is an **uVar** object that defines the maximum of the range and **number** is the number of points in the range variable.\n",
    "\n",
    "The function converts both the **min** and **max** values to cannonic standard units, so you can convert to a custom unit afterwards.\n",
    "\n",
    "The following code shows an example:"
   ]
  },
  {
   "cell_type": "code",
   "execution_count": null,
   "metadata": {
    "colab": {
     "autoexec": {
      "startup": false,
      "wait_interval": 0
     },
     "base_uri": "https://localhost:8080/",
     "height": 168
    },
    "colab_type": "code",
    "executionInfo": {
     "elapsed": 528,
     "status": "ok",
     "timestamp": 1528897616810,
     "user": {
      "displayName": "Vicente Jimenez",
      "photoUrl": "//lh4.googleusercontent.com/-l1GS4wWn-mI/AAAAAAAAAAI/AAAAAAAAAZE/i_NQ2m6L6rI/s50-c-k-no/photo.jpg",
      "userId": "104735520205871768811"
     },
     "user_tz": -120
    },
    "id": "lrchaKbzXEXx",
    "outputId": "d30d88b1-f255-4ea7-868a-80830b14a8ec"
   },
   "outputs": [],
   "source": [
    "from units import u_m\n",
    "\n",
    "min = units.makeVar(0.5,'m')\n",
    "max = units.makeVar(4.5,'m')\n",
    "range = units.makeRange(min,max,100)\n",
    "print(range)"
   ]
  },
  {
   "cell_type": "markdown",
   "metadata": {
    "colab_type": "text",
    "id": "GaFF1P46uDOm"
   },
   "source": [
    "## Power operations\n",
    "\n",
    "You can use the normal Python **\\*\\*** operator to raise a base to an exponent\n",
    "\n",
    "$\\qquad a ** b = a^b$\n",
    "\n",
    "The base **a** can be a **uVar** object, but the exponent **b** shall have no units\n",
    "\n",
    "Examples:"
   ]
  },
  {
   "cell_type": "code",
   "execution_count": null,
   "metadata": {
    "colab": {
     "autoexec": {
      "startup": false,
      "wait_interval": 0
     },
     "base_uri": "https://localhost:8080/",
     "height": 225
    },
    "colab_type": "code",
    "executionInfo": {
     "elapsed": 634,
     "status": "ok",
     "timestamp": 1523362982226,
     "user": {
      "displayName": "Vicente Jimenez",
      "photoUrl": "//lh4.googleusercontent.com/-l1GS4wWn-mI/AAAAAAAAAAI/AAAAAAAAAZE/i_NQ2m6L6rI/s50-c-k-no/photo.jpg",
      "userId": "104735520205871768811"
     },
     "user_tz": -120
    },
    "id": "cpfKB5LTugyq",
    "outputId": "7755c636-6ddd-4372-bdad-521196a41f4d"
   },
   "outputs": [],
   "source": [
    "# Square and cube of a length\n",
    "l1 = 2 * u_m\n",
    "print('l1 ** 2 =',l1**2)\n",
    "print('l1 ** 2 =',l1**3)\n",
    "\n",
    "# You cannot raise to a uVar object with units\n",
    "try:\n",
    "    1.0**l1\n",
    "except:\n",
    "    pass\n",
    "  \n",
    "# An uVar object can be exponent if it's unitless  \n",
    "b = l1 / (1 * u_m)\n",
    "print('b =',b)\n",
    "print('l1 ** b =',l1**b)\n",
    "print()\n",
    "\n",
    "# You can use an array on the base\n",
    "aL = units.makeArray([1,2,3],u_m)\n",
    "print('aL ** 2 =',aL**2)"
   ]
  },
  {
   "cell_type": "markdown",
   "metadata": {
    "colab_type": "text",
    "id": "VGYRvCJwwGQU"
   },
   "source": [
    "## Unary functions\n",
    "\n",
    "The module includes also **unary** functions that take only one argument. Some of the unary functions can operate on any unit:\n",
    "\n",
    ">sqrt(x) : Gives the square root of a variable\n",
    "\n",
    "Some unary functions can only operate on **unitless** variables and raise an exceptior if units are used:\n",
    "\n",
    ">sin(x) : Sine function\n",
    "\n",
    ">cos(x) : Cosine function\n",
    "\n",
    ">exp(x) : Exponential function\n",
    "\n",
    ">log(x) : Natural logarithm function\n",
    "\n",
    ">log10(x): Decimal logarithm function\n",
    "\n",
    "The module **unary** function lets you use any other unary function but it will only work on **unitless** values\n",
    "\n",
    ">unary(var,function)\n",
    "\n",
    "Where **var** is a number or an **uVar** object and **function** is a single argument function\n",
    "\n",
    "Examples:"
   ]
  },
  {
   "cell_type": "code",
   "execution_count": null,
   "metadata": {
    "colab": {
     "autoexec": {
      "startup": false,
      "wait_interval": 0
     },
     "base_uri": "https://localhost:8080/",
     "height": 281
    },
    "colab_type": "code",
    "executionInfo": {
     "elapsed": 744,
     "status": "ok",
     "timestamp": 1523362986496,
     "user": {
      "displayName": "Vicente Jimenez",
      "photoUrl": "//lh4.googleusercontent.com/-l1GS4wWn-mI/AAAAAAAAAAI/AAAAAAAAAZE/i_NQ2m6L6rI/s50-c-k-no/photo.jpg",
      "userId": "104735520205871768811"
     },
     "user_tz": -120
    },
    "id": "qRZqwE_wxr3o",
    "outputId": "70e2fdb1-0222-4398-de9e-2ee58195810c"
   },
   "outputs": [],
   "source": [
    "# Square root of distance\n",
    "l1 = 4 * u_m\n",
    "x = units.sqrt(l1)\n",
    "print('x =',x)\n",
    "\n",
    "# Exception trying to obtain the cosine of a distance\n",
    "try:\n",
    "    y = units.cos(l1)\n",
    "except:\n",
    "    pass\n",
    "  \n",
    "# Sine of non dimensinal number\n",
    "a = 2.0 * u_none\n",
    "\n",
    "print('sin(a) =',units.sin(a))\n",
    "print()\n",
    "  \n",
    "# Tangent from the numpy module\n",
    "print('tan(a) =',units.unary(a,np.tan))\n",
    "\n",
    "# Unary raisese exception if we use units\n",
    "try:\n",
    "    print('tan(l1) =',units.unary(l1,np.tan))\n",
    "except:\n",
    "    pass"
   ]
  },
  {
   "cell_type": "markdown",
   "metadata": {
    "colab_type": "text",
    "id": "kRUBucS1y_u0"
   },
   "source": [
    "## Derived S.I. units \n",
    "\n",
    "You can create derived units from the base units.\n",
    "\n",
    "The easiest way to create a new units is to define a **uVar** object that defines this unit and use the **makeUnit** method to set it as a unit.\n",
    "\n",
    "This method is defined as:\n",
    "\n",
    ">`object.makeUnit(name,sci,reg)`\n",
    "\n",
    "Where **name** is the name of the new unit.\n",
    "\n",
    "The optional parameter **sci**, that defaults to **False**, indicates if the powers of ten prefixes can be used on this unit.\n",
    "\n",
    "The also optional parameter **reg**, that defaults to **False**, indicates if the unit shall be registered as the default one for this magnitude.\n",
    "\n",
    "For instance, you can create a new force **N** unit from the basic units:\n",
    "\n",
    ">`u_N = (u_m*u_kg/u_s/u_s).makeUnit('N',True,True)`\n",
    "\n",
    "As we have given a **True** value to the **sci** parameter, a $0.01N$ value will be shown as $10.0mN$\n",
    "\n",
    "As we have given a **True** value to the **reg** parameter, every time a **uVar** objects has units of force, **N** will be used by default.\n",
    "\n",
    "Note that the **makeUnit** method, although returns itself, changes the object that executes it, so, the above code could be generated using two lines:\n",
    "\n",
    ">`u_N = (u_m*u_kg/u_s/u_s)`  \n",
    ">`u_N.makeUnit('N',True,True)`\n",
    "\n",
    "Don't execute the **makeUnit** directly on existing units because you will change them.\n",
    "\n",
    "You can also define a unit as **default** using the **regUnit** function:\n",
    "\n",
    ">`regUnit(unit)`\n",
    "\n",
    "You can only register one default unit for each magnitude.\n",
    "\n",
    "That way, the **N** unit can also be defined with three lines of code:\n",
    "\n",
    ">`u_N = (u_m*u_kg/u_s/u_s)`  \n",
    ">`u_N.makeUnit('N',True)` \n",
    ">`units.regUnit(u_N)`\n",
    "\n",
    "All derived S.I. units are obtained operating base **base** S.I. units without any added non unity numeric constant. Derived S.I. units that have different magnitude that the ones of base units are set as default units except in the **Hz** case.\n",
    "\n",
    "The **units** module has already defined the following derived S.I. units:\n",
    "\n",
    "> u_rad : radian (angle)\n",
    "\n",
    "> u_sr : steradian (solid angle)\n",
    "\n",
    "> u_Hz : hertz (frequency)\n",
    "\n",
    "> u_N : newton (force)\n",
    "\n",
    "> u_Pa : pascal (pressure)\n",
    "\n",
    "> u_J : joule (energy)\n",
    "\n",
    "> u_W : watt (power)\n",
    "\n",
    "> u_C : coulomb (charge)\n",
    "\n",
    "> u_V : volt (voltage)\n",
    "\n",
    "> u_F : farad (capacity)\n",
    "\n",
    "> u_ohm : ohm (resistance)\n",
    "\n",
    "> u_S : siemens (conductance)\n",
    "\n",
    "> u_Wb : weber (magnetic flux)\n",
    "\n",
    "> u_T : tesla (magnetic flux density)\n",
    "\n",
    "> u_H : inductance (henry)\n",
    "\n",
    "> u_dC : celsius (temperature)\n",
    "\n",
    "> u_lm : lumen (luminous flux)\n",
    "\n",
    "> u_lx : lux (iluminance)\n",
    "\n",
    "The following code shows all those units:"
   ]
  },
  {
   "cell_type": "code",
   "execution_count": null,
   "metadata": {
    "colab": {
     "autoexec": {
      "startup": false,
      "wait_interval": 0
     },
     "base_uri": "https://localhost:8080/",
     "height": 357
    },
    "colab_type": "code",
    "executionInfo": {
     "elapsed": 536,
     "status": "ok",
     "timestamp": 1523362992200,
     "user": {
      "displayName": "Vicente Jimenez",
      "photoUrl": "//lh4.googleusercontent.com/-l1GS4wWn-mI/AAAAAAAAAAI/AAAAAAAAAZE/i_NQ2m6L6rI/s50-c-k-no/photo.jpg",
      "userId": "104735520205871768811"
     },
     "user_tz": -120
    },
    "id": "YXeghSWk05T6",
    "outputId": "08a2cdce-79a4-440d-8463-c364dfa418f7"
   },
   "outputs": [],
   "source": [
    "print('1 rad = ',units.u_rad)\n",
    "print('1 sr = ',units.u_sr)\n",
    "print('1 Hz = ',units.u_Hz)\n",
    "print('1 N = ',units.u_N)\n",
    "print('1 Pa = ',units.u_Pa)\n",
    "print('1 J = ',units.u_J)\n",
    "print('1 W = ',units.u_W)\n",
    "print('1 C = ',units.u_C)\n",
    "print('1 V = ',units.u_V)\n",
    "print('1 F = ',units.u_F)\n",
    "print('1 ohm = ',units.u_ohm)\n",
    "print('1 S = ',units.u_S)\n",
    "print('1 Wb = ',units.u_Wb)\n",
    "print('1 T = ',units.u_T)\n",
    "print('1 H = ',units.u_H)\n",
    "print('1 dC = ',units.u_C)\n",
    "print('1 lm = ',units.u_lm)\n",
    "print('1 lx = ',units.u_lx)"
   ]
  },
  {
   "cell_type": "markdown",
   "metadata": {
    "colab_type": "text",
    "id": "m54kUcCq1rUM"
   },
   "source": [
    "If you operate on derived units and get new units, they will be shown on normal print as **base** units unless they define a magnitude with a **default** unit.\n",
    "\n",
    "The following example generates a value with units associated with the default unit **J** for **energy**."
   ]
  },
  {
   "cell_type": "code",
   "execution_count": null,
   "metadata": {
    "colab": {
     "autoexec": {
      "startup": false,
      "wait_interval": 0
     },
     "base_uri": "https://localhost:8080/",
     "height": 74
    },
    "colab_type": "code",
    "executionInfo": {
     "elapsed": 524,
     "status": "ok",
     "timestamp": 1523362996430,
     "user": {
      "displayName": "Vicente Jimenez",
      "photoUrl": "//lh4.googleusercontent.com/-l1GS4wWn-mI/AAAAAAAAAAI/AAAAAAAAAZE/i_NQ2m6L6rI/s50-c-k-no/photo.jpg",
      "userId": "104735520205871768811"
     },
     "user_tz": -120
    },
    "id": "jce2_11810za",
    "outputId": "54d419fd-ac2e-4f69-e880-862e75b43833"
   },
   "outputs": [],
   "source": [
    "from units import u_N\n",
    "\n",
    "F = 2 * u_N\n",
    "print('F =',F)\n",
    "\n",
    "L = 3 * u_m\n",
    "print('L =',L)\n",
    "\n",
    "W = F * L\n",
    "print('W = ',W)"
   ]
  },
  {
   "cell_type": "markdown",
   "metadata": {
    "colab_type": "text",
    "id": "0Bjp-lKFguny"
   },
   "source": [
    "There is no default unit for $m^2/s$ so the following code shows the result using standard S.I. units:"
   ]
  },
  {
   "cell_type": "code",
   "execution_count": null,
   "metadata": {
    "colab": {
     "autoexec": {
      "startup": false,
      "wait_interval": 0
     },
     "base_uri": "https://localhost:8080/",
     "height": 36
    },
    "colab_type": "code",
    "executionInfo": {
     "elapsed": 520,
     "status": "ok",
     "timestamp": 1523363001062,
     "user": {
      "displayName": "Vicente Jimenez",
      "photoUrl": "//lh4.googleusercontent.com/-l1GS4wWn-mI/AAAAAAAAAAI/AAAAAAAAAZE/i_NQ2m6L6rI/s50-c-k-no/photo.jpg",
      "userId": "104735520205871768811"
     },
     "user_tz": -120
    },
    "id": "9xyh-62-g-Xe",
    "outputId": "c0778247-e7f5-4738-9044-7acbc2e6309c"
   },
   "outputs": [],
   "source": [
    "from units import u_Hz,u_m\n",
    "\n",
    "value = 2*u_Hz * (3*u_m)**2\n",
    "print('Value =',value)"
   ]
  },
  {
   "cell_type": "markdown",
   "metadata": {
    "colab_type": "text",
    "id": "hako9boi2ErK"
   },
   "source": [
    "## Unit conversion\n",
    "\n",
    "You can convert between compatible units using the **convert** method:\n",
    "\n",
    "> `object.convert(newUnit)`\n",
    "\n",
    "Note that you can only convert to **compatible** units that represent the same magnitude\n",
    "\n",
    "Examples:"
   ]
  },
  {
   "cell_type": "code",
   "execution_count": null,
   "metadata": {
    "colab": {
     "autoexec": {
      "startup": false,
      "wait_interval": 0
     },
     "base_uri": "https://localhost:8080/",
     "height": 130
    },
    "colab_type": "code",
    "executionInfo": {
     "elapsed": 536,
     "status": "ok",
     "timestamp": 1523363006720,
     "user": {
      "displayName": "Vicente Jimenez",
      "photoUrl": "//lh4.googleusercontent.com/-l1GS4wWn-mI/AAAAAAAAAAI/AAAAAAAAAZE/i_NQ2m6L6rI/s50-c-k-no/photo.jpg",
      "userId": "104735520205871768811"
     },
     "user_tz": -120
    },
    "id": "52ejVsXLEOxE",
    "outputId": "41336dc4-708a-4572-abbb-62d7f01187b9"
   },
   "outputs": [],
   "source": [
    "# Try to convert to a non compatible unit\n",
    "try:\n",
    "    c = W.convert(u_m)\n",
    "except:\n",
    "    print('Exception is generated')"
   ]
  },
  {
   "cell_type": "markdown",
   "metadata": {
    "colab_type": "text",
    "id": "_p4AMvu43GpW"
   },
   "source": [
    "Note that conversions only apply to **proportionality** factors between units, conversions that require additions are not automatic.\n",
    "\n",
    "This is because the **units** module doesn't know if you are using **absolute** or **relative** values.\n",
    "\n",
    "As an example, temperature conversions:"
   ]
  },
  {
   "cell_type": "code",
   "execution_count": null,
   "metadata": {
    "colab": {
     "autoexec": {
      "startup": false,
      "wait_interval": 0
     },
     "base_uri": "https://localhost:8080/",
     "height": 187
    },
    "colab_type": "code",
    "executionInfo": {
     "elapsed": 612,
     "status": "ok",
     "timestamp": 1523363010708,
     "user": {
      "displayName": "Vicente Jimenez",
      "photoUrl": "//lh4.googleusercontent.com/-l1GS4wWn-mI/AAAAAAAAAAI/AAAAAAAAAZE/i_NQ2m6L6rI/s50-c-k-no/photo.jpg",
      "userId": "104735520205871768811"
     },
     "user_tz": -120
    },
    "id": "KcwKieprMcDQ",
    "outputId": "67af7035-3933-4d52-bf48-cc668c64285c"
   },
   "outputs": [],
   "source": [
    "from units import u_dC\n",
    "\n",
    "# Bad absolute conversion\n",
    "print('Bad absolute conversion:')\n",
    "Ta = 300 * u_K\n",
    "Tb = Ta.convert(u_dC)\n",
    "print('Tb =',Tb)\n",
    "print()\n",
    "\n",
    "# Good absolute conversion\n",
    "print('Good absolute conversion:')\n",
    "Tb = Ta.convert(u_dC) - 273*u_dC\n",
    "print('Tb =',Tb)\n",
    "print()\n",
    "\n",
    "# Good relative conversion\n",
    "print('Good relative conversion:')\n",
    "deltaTa = 50 * u_K\n",
    "deltaTb = deltaTa.convert(u_dC)\n",
    "print('deltaTa =',deltaTa)\n",
    "print('deltaTb =',deltaTb)"
   ]
  },
  {
   "cell_type": "markdown",
   "metadata": {
    "colab_type": "text",
    "id": "59PVoJq4kAFa"
   },
   "source": [
    "## Conversion to base units\n",
    "\n",
    "You can convert an **uVar** object to base S.I. units using the **convert2base** method:\n",
    "\n",
    ">`object.convert2base()`\n",
    "\n",
    "Every time you multiply or divide and change units, however, units are recalculated and **default** units are used if appropiate.\n",
    "\n",
    "**Example** of usage:"
   ]
  },
  {
   "cell_type": "code",
   "execution_count": null,
   "metadata": {
    "colab": {
     "autoexec": {
      "startup": false,
      "wait_interval": 0
     },
     "base_uri": "https://localhost:8080/",
     "height": 92
    },
    "colab_type": "code",
    "executionInfo": {
     "elapsed": 544,
     "status": "ok",
     "timestamp": 1523364361984,
     "user": {
      "displayName": "Vicente Jimenez",
      "photoUrl": "//lh4.googleusercontent.com/-l1GS4wWn-mI/AAAAAAAAAAI/AAAAAAAAAZE/i_NQ2m6L6rI/s50-c-k-no/photo.jpg",
      "userId": "104735520205871768811"
     },
     "user_tz": -120
    },
    "id": "HiWCSjhmkTWs",
    "outputId": "58f367b5-e8d8-4173-8f3e-af7920cfc7ed"
   },
   "outputs": [],
   "source": [
    "from units import u_N,u_m\n",
    "\n",
    "F1 = 20*u_N             # F1 Given in N\n",
    "print('F1 =',F)\n",
    "\n",
    "F2 = F1.convert2base()  # F2 is F1 converted to base units\n",
    "print('F2 =',F2)\n",
    "\n",
    "F3 = F2*1               # F3 is F2 multiplied by 1\n",
    "print('F3 =',F3)\n",
    "\n",
    "F4 = F3*u_m/u_m         # F4 is F3 multiplied and divided by 1 meter\n",
    "print('F4 =',F4)"
   ]
  },
  {
   "cell_type": "markdown",
   "metadata": {
    "colab_type": "text",
    "id": "4obtmk4HOBYy"
   },
   "source": [
    "## Non S.I. units\n",
    "\n",
    "You can also use units that are outside of the international system of units.\n",
    "\n",
    "The method to create a new unit is similar to the S.I. units. Just define a **uVar** object that defines this unit with a value of **one** and use the **makeUnit** method to set it as a new unit.\n",
    "\n",
    "The difference respect to the S.I. units is that non S.I. units include **non unity** constants that affect the **scale** of the magnitude respect to the S.I. units.\n",
    "\n",
    "For, instace, you can create an **Inch** unit\n",
    "\n",
    "> `u_in = (25.4e-3*u_m).makeUnit('in')`  \n",
    "\n",
    "\n",
    "Note that we have not set to **True** the **sci** parameter that enables power of 10 prefixed.\n",
    "\n",
    "That way, a value of $0.01 in$ won't be shown as $10.0 min$\n",
    "\n",
    "Follows a list of the curently available non S.I. units in the **units** module:\n",
    "\n",
    "Units that activate the **sci** power of 10 prefix:\n",
    "\n",
    "> u_eV : Electron-Volt (energy)\n",
    "\n",
    "> u_g : gram (mass)\n",
    "\n",
    "Units that **don't** activate the **sci** power of 10 prefix:\n",
    "\n",
    "> u_in : Inches (length)\n",
    "\n",
    "> u_ft : Foot (length)\n",
    "\n",
    "> u_yd : Yard (length)\n",
    "\n",
    "> u_mil : 1/1000 of Inch (length)\n",
    "\n",
    "> u_cm : cm (length)\n",
    "\n",
    "> u_Ang : Angstrom (length)\n",
    "\n",
    "> u_deg : degree (unitless angle)\n",
    "\n",
    "> u_min : minute (time)\n",
    "\n",
    "> u_hour : hour (time)\n",
    "\n",
    "> u_day : days (time)\n",
    "\n",
    "> u_percent : percent (unitless)\n",
    "\n",
    "> u_ppm : parts per million (unitless)\n",
    "\n",
    "You can see some of them here:"
   ]
  },
  {
   "cell_type": "code",
   "execution_count": null,
   "metadata": {
    "colab": {
     "autoexec": {
      "startup": false,
      "wait_interval": 0
     },
     "base_uri": "https://localhost:8080/",
     "height": 130
    },
    "colab_type": "code",
    "executionInfo": {
     "elapsed": 546,
     "status": "ok",
     "timestamp": 1523363017466,
     "user": {
      "displayName": "Vicente Jimenez",
      "photoUrl": "//lh4.googleusercontent.com/-l1GS4wWn-mI/AAAAAAAAAAI/AAAAAAAAAZE/i_NQ2m6L6rI/s50-c-k-no/photo.jpg",
      "userId": "104735520205871768811"
     },
     "user_tz": -120
    },
    "id": "jELmxbf5PQlq",
    "outputId": "d6a22000-5de9-4fdb-b920-cd5e35ad8904"
   },
   "outputs": [],
   "source": [
    "from units import u_J\n",
    "\n",
    "print('1 inch equals ',units.u_in.convert(u_m))\n",
    "print('1 mil equals ',units.u_mil.convert(u_m))\n",
    "print('1 cm equals ',units.u_cm.convert(u_m))\n",
    "print('1 Angstrom equals ',units.u_Ang.convert(u_m))\n",
    "print('1 eV equals ',units.u_eV.convert(u_J))\n",
    "print('1 gram equals ',units.u_g.convert(u_kg))"
   ]
  },
  {
   "cell_type": "markdown",
   "metadata": {
    "colab_type": "text",
    "id": "LkVc-eezQAQI"
   },
   "source": [
    "You can add different units if they use **compatible** units of the same magnitude. When units are different, they are converted to S.I. units.\n",
    "\n",
    "You can always convert to any compatible unit afterwards as shown in the example:"
   ]
  },
  {
   "cell_type": "code",
   "execution_count": null,
   "metadata": {
    "colab": {
     "autoexec": {
      "startup": false,
      "wait_interval": 0
     },
     "base_uri": "https://localhost:8080/",
     "height": 130
    },
    "colab_type": "code",
    "executionInfo": {
     "elapsed": 666,
     "status": "ok",
     "timestamp": 1523363020016,
     "user": {
      "displayName": "Vicente Jimenez",
      "photoUrl": "//lh4.googleusercontent.com/-l1GS4wWn-mI/AAAAAAAAAAI/AAAAAAAAAZE/i_NQ2m6L6rI/s50-c-k-no/photo.jpg",
      "userId": "104735520205871768811"
     },
     "user_tz": -120
    },
    "id": "M69UkAVIOAww",
    "outputId": "2eb876dd-1cfe-43bd-cb63-0b8e0e1184e5"
   },
   "outputs": [],
   "source": [
    "from units import u_in\n",
    "\n",
    "# Operation between units\n",
    "l1 = 1 * u_m\n",
    "l2 = 2 * u_in\n",
    "l3 = 3 * u_in\n",
    "print('l1 + l2 =',l1+l2,' implicit conversion to S.I.')\n",
    "print('l1 + l2 =',(l1+l2).convert(u_in),' explicit conversion to inches')\n",
    "print('l2 + l3 =',l2+l3,' no conversion as both are in inches')\n",
    "print()\n",
    "\n",
    "# Convert a numpy array\n",
    "L = units.makeArray([1,2,3],u_m)\n",
    "print('L =',L)\n",
    "print('L =',L.convert(u_in))"
   ]
  },
  {
   "cell_type": "markdown",
   "metadata": {
    "colab_type": "text",
    "id": "L5ui6oMFHYa-"
   },
   "source": [
    "## uVar object internals\n",
    "\n",
    "You don't need to know the **uVar** object internals to use it, but some knowledge an help the understanding of the module operations.\n",
    "\n",
    "Each **uVar** objects has several internal data elements. To ease the explanation we will consider an object defined as:\n",
    "\n",
    ">`var = 20 * u_N`\n",
    "\n",
    "So, **var** relates to a force of 20 Newtons. The associated **uVar** object contains the following data elements:\n",
    "\n",
    "* **name** of the units : **'N'**\n",
    "\n",
    "* **value** of the object (in units) : **20**\n",
    "\n",
    "* **vector** of the magnitude exponents :  **`[1,1,-2,0,0,0,0]`**\n",
    "\n",
    "* **scale** respect to S.I. units : **1.0**\n",
    "\n",
    "* **flag** to indicate if power of 10 sufixes can be used : **True**\n",
    "\n",
    "The **vector** of the magnitude exponents, uses the format:\n",
    "\n",
    ">`[m,kg,s,A,K,mol,cd]`\n",
    "\n",
    "The **scale** indicates that a factor to multiply to obtain S.I. values.\n",
    "\n",
    "So, in our example for **var** associated to a force of **20N** we have:\n",
    "\n",
    "$\\quad var = 20 \\cdot scale \\cdot \\frac{m \\cdot kg}{s^2} = 20 \\frac{m \\cdot kg}{s^2}$\n",
    "\n",
    "You can see that in the following **example**:"
   ]
  },
  {
   "cell_type": "code",
   "execution_count": null,
   "metadata": {
    "colab": {
     "autoexec": {
      "startup": false,
      "wait_interval": 0
     },
     "base_uri": "https://localhost:8080/",
     "height": 130
    },
    "colab_type": "code",
    "executionInfo": {
     "elapsed": 514,
     "status": "ok",
     "timestamp": 1523363023906,
     "user": {
      "displayName": "Vicente Jimenez",
      "photoUrl": "//lh4.googleusercontent.com/-l1GS4wWn-mI/AAAAAAAAAAI/AAAAAAAAAZE/i_NQ2m6L6rI/s50-c-k-no/photo.jpg",
      "userId": "104735520205871768811"
     },
     "user_tz": -120
    },
    "id": "5bGRFpb4JVx2",
    "outputId": "566f4e36-ea75-4f08-aeae-7a76ec3258f7"
   },
   "outputs": [],
   "source": [
    "from units import u_N\n",
    "\n",
    "var = 20*u_N\n",
    "print('var =',var)\n",
    "\n",
    "print('name   : ',var.name)\n",
    "print('value  : ',var.value)\n",
    "print('vector : ',var.vector)\n",
    "print('scale  : ',var.scale)\n",
    "print('flag   : ',var.complex) # The internal name of the flag is complex"
   ]
  },
  {
   "cell_type": "markdown",
   "metadata": {
    "colab_type": "text",
    "id": "IApe3UxsJI1m"
   },
   "source": [
    "Units in the S.I. system have always an **scale** of **1.0**. Units ouside of the S.I. can have a different **scale** value. For instance, **inches** are defined as:\n",
    "\n",
    ">`u_in = (25.4e-3*u_m).makeUnit('in')`\n",
    "\n",
    "So, in the **u_in** object the exponent vector is the same as in meters, but the **scale**, respect to the **meter** S.I. unit is **0.0254**.\n",
    "\n",
    "The **makeUnit** method takes the **`(25.4e-3*u_m)`** object, and defines the modifies its internal data:\n",
    "\n",
    "$\\quad scale = scale \\cdot value $\n",
    "\n",
    "$\\quad value = 1 $\n",
    "\n",
    "So, the **`(25.4e-3*u_m)`** object has a **value** of **0.0254** and a **scale** of **1** whereas the **u_in** object has a **value** of **1** and a **scale** of **0.0254**.\n",
    "\n",
    "The following **example** ilustrates this explanation:"
   ]
  },
  {
   "cell_type": "code",
   "execution_count": null,
   "metadata": {
    "colab": {
     "autoexec": {
      "startup": false,
      "wait_interval": 0
     },
     "base_uri": "https://localhost:8080/",
     "height": 149
    },
    "colab_type": "code",
    "executionInfo": {
     "elapsed": 528,
     "status": "ok",
     "timestamp": 1523363026722,
     "user": {
      "displayName": "Vicente Jimenez",
      "photoUrl": "//lh4.googleusercontent.com/-l1GS4wWn-mI/AAAAAAAAAAI/AAAAAAAAAZE/i_NQ2m6L6rI/s50-c-k-no/photo.jpg",
      "userId": "104735520205871768811"
     },
     "user_tz": -120
    },
    "id": "hYktoP23IvxU",
    "outputId": "bb22dac0-6f3e-4d7c-d58c-513783ca37e1"
   },
   "outputs": [],
   "source": [
    "from units import u_m,u_in\n",
    "\n",
    "print('m value :',u_m.value)\n",
    "print('m scale :',u_m.scale)\n",
    "print('m vector:',u_m.vector)\n",
    "print()\n",
    "print('in value :',u_in.value)\n",
    "print('in scale :',u_in.scale)\n",
    "print('in vector:',u_in.vector)"
   ]
  },
  {
   "cell_type": "markdown",
   "metadata": {
    "colab_type": "text",
    "id": "vJI6NNU_Id--"
   },
   "source": [
    "When you use the **convert** method to convert an object **A** to **B**, in **unitB** units, you define the following internals for **B**:\n",
    "\n",
    "* **name** set to the same of **unitB**\n",
    "\n",
    "* **value** equal to $value_A \\cdot scale_A / scale_{unitB}$\n",
    "\n",
    "* **vector** don't change or the units would not be compatible\n",
    "\n",
    "* **scale** equals the scale of **unitB**\n",
    "\n",
    "* **flag** equals the one of **unitB**\n",
    "\n",
    "So, the value of the conversion of **2m** to **inches** can be calculated:\n",
    "\n",
    "$\\quad value = \\frac{2 \\cdot 1}{0.0254} = 78.74$\n",
    "\n",
    "As you can see in the following **example**:"
   ]
  },
  {
   "cell_type": "code",
   "execution_count": null,
   "metadata": {
    "colab": {
     "autoexec": {
      "startup": false,
      "wait_interval": 0
     },
     "base_uri": "https://localhost:8080/",
     "height": 36
    },
    "colab_type": "code",
    "executionInfo": {
     "elapsed": 538,
     "status": "ok",
     "timestamp": 1523363032382,
     "user": {
      "displayName": "Vicente Jimenez",
      "photoUrl": "//lh4.googleusercontent.com/-l1GS4wWn-mI/AAAAAAAAAAI/AAAAAAAAAZE/i_NQ2m6L6rI/s50-c-k-no/photo.jpg",
      "userId": "104735520205871768811"
     },
     "user_tz": -120
    },
    "id": "7ElWw1XQIFGO",
    "outputId": "56ce6995-f948-477c-d4a0-1f2f59932a46"
   },
   "outputs": [],
   "source": [
    "from units import u_m,u_in\n",
    "\n",
    "units.printVar('L',(2.0*u_m).convert(u_in))"
   ]
  },
  {
   "cell_type": "markdown",
   "metadata": {
    "colab_type": "text",
    "id": "N0PR4f0qZm0e"
   },
   "source": [
    "## Units check\n",
    "\n",
    "You can check if the units of one **uVar** object is compatible with a given unit using the **check** method:\n",
    "\n",
    ">`object.check(unit)`\n",
    "\n",
    "To guarantee the units consistency you can use **assert** against the **check** method:\n",
    "\n",
    ">`assert object.check(unit)`\n",
    "\n",
    "Two objects are compatible is the are associated to the same magnitude. In practice that means that both objects have the same magnitude exponents vector.\n",
    "\n",
    "Some **examples** follow:"
   ]
  },
  {
   "cell_type": "code",
   "execution_count": null,
   "metadata": {
    "colab": {
     "autoexec": {
      "startup": false,
      "wait_interval": 0
     },
     "base_uri": "https://localhost:8080/",
     "height": 252
    },
    "colab_type": "code",
    "executionInfo": {
     "elapsed": 772,
     "status": "error",
     "timestamp": 1523363527948,
     "user": {
      "displayName": "Vicente Jimenez",
      "photoUrl": "//lh4.googleusercontent.com/-l1GS4wWn-mI/AAAAAAAAAAI/AAAAAAAAAZE/i_NQ2m6L6rI/s50-c-k-no/photo.jpg",
      "userId": "104735520205871768811"
     },
     "user_tz": -120
    },
    "id": "Xwa7sVOFZtKC",
    "outputId": "71a0f73a-8315-4388-92da-5af84c66f82b"
   },
   "outputs": [],
   "source": [
    "from units import u_A,u_ohm,u_V\n",
    "\n",
    "Vx = (0.01*u_A)*(10*u_ohm)\n",
    "print('Vx check against u_V :',Vx.check(u_V))\n",
    "print('Vx check against u_A :',Vx.check(u_A))\n",
    "\n",
    "# Correct assertion is silent\n",
    "assert Vx.check(u_V)\n",
    "\n",
    "# Incorrect assertion raises exception\n",
    "assert Vx.check(u_A)"
   ]
  },
  {
   "cell_type": "markdown",
   "metadata": {
    "colab_type": "text",
    "id": "uJB3YVq--s5I"
   },
   "source": [
    "## Dimensionless units\n",
    "\n",
    "Unitless dimensions are not always equal. For instance, a ratio of two equal magnitudes is always **unitless** but can be indicated in different units like **raw** value, **percent** or **ppm**. In order to be able to convert between those units, they feature different scales. The scale of percent, for instance is 0.01.\n",
    "\n",
    "The following **example** shows ratio conversions:"
   ]
  },
  {
   "cell_type": "code",
   "execution_count": null,
   "metadata": {
    "colab": {
     "autoexec": {
      "startup": false,
      "wait_interval": 0
     },
     "base_uri": "https://localhost:8080/",
     "height": 74
    },
    "colab_type": "code",
    "executionInfo": {
     "elapsed": 770,
     "status": "ok",
     "timestamp": 1523363533548,
     "user": {
      "displayName": "Vicente Jimenez",
      "photoUrl": "//lh4.googleusercontent.com/-l1GS4wWn-mI/AAAAAAAAAAI/AAAAAAAAAZE/i_NQ2m6L6rI/s50-c-k-no/photo.jpg",
      "userId": "104735520205871768811"
     },
     "user_tz": -120
    },
    "id": "xCnyXhDHKl4Y",
    "outputId": "63e31c53-7a74-41bc-d550-5a945c7b0edd"
   },
   "outputs": [],
   "source": [
    "from units import u_none,u_percent,u_ppm\n",
    "\n",
    "ratio = 0.1 * u_none\n",
    "print('ratio =',ratio)\n",
    "print('ratio =',ratio.convert(u_percent))\n",
    "print('ratio =',ratio.convert(u_ppm))"
   ]
  },
  {
   "cell_type": "markdown",
   "metadata": {
    "colab_type": "text",
    "id": "-v5Ldl1lK8Dm"
   },
   "source": [
    "The case for **angles** is more tricky. An angle is defined, in **radians** as the ratio of an **arc** respect to the **radius**. So, it is dimensionless. But the same angle can be given in **degrees**.\n",
    "\n",
    "The **units** module consider **radians** equivalent to unitless:\n",
    "\n",
    ">`u_rad  = (u_none*1.0).makeUnit('rad',True)`\n",
    "\n",
    "And the **degrees** are obtained from the **radians**:\n",
    "\n",
    ">`u_deg = (np.pi*u_rad/180).makeUnit('deg')`\n",
    "\n",
    "That means that the conversions operate as expected:"
   ]
  },
  {
   "cell_type": "code",
   "execution_count": null,
   "metadata": {
    "colab": {
     "autoexec": {
      "startup": false,
      "wait_interval": 0
     },
     "base_uri": "https://localhost:8080/",
     "height": 55
    },
    "colab_type": "code",
    "executionInfo": {
     "elapsed": 544,
     "status": "ok",
     "timestamp": 1523363040460,
     "user": {
      "displayName": "Vicente Jimenez",
      "photoUrl": "//lh4.googleusercontent.com/-l1GS4wWn-mI/AAAAAAAAAAI/AAAAAAAAAZE/i_NQ2m6L6rI/s50-c-k-no/photo.jpg",
      "userId": "104735520205871768811"
     },
     "user_tz": -120
    },
    "id": "AgdRkmGOLwTq",
    "outputId": "1dc30a47-d876-4f90-f220-096f66dc32f6"
   },
   "outputs": [],
   "source": [
    "from units import u_rad,u_deg\n",
    "\n",
    "angle = 180*u_deg\n",
    "print('angle =',angle)\n",
    "print('angle =',angle.convert(u_rad))"
   ]
  },
  {
   "cell_type": "markdown",
   "metadata": {
    "colab_type": "text",
    "id": "ye2G10IuMEPI"
   },
   "source": [
    "Problems arrise with some derived units.\n",
    "\n",
    "For instance you can give the **frequency** magnitude as **Hz** or as **rad/s**.\n",
    "\n",
    "In this case the conversion won't work by default:"
   ]
  },
  {
   "cell_type": "code",
   "execution_count": null,
   "metadata": {
    "colab": {
     "autoexec": {
      "startup": false,
      "wait_interval": 0
     },
     "base_uri": "https://localhost:8080/",
     "height": 55
    },
    "colab_type": "code",
    "executionInfo": {
     "elapsed": 604,
     "status": "ok",
     "timestamp": 1523363044380,
     "user": {
      "displayName": "Vicente Jimenez",
      "photoUrl": "//lh4.googleusercontent.com/-l1GS4wWn-mI/AAAAAAAAAAI/AAAAAAAAAZE/i_NQ2m6L6rI/s50-c-k-no/photo.jpg",
      "userId": "104735520205871768811"
     },
     "user_tz": -120
    },
    "id": "CSJPXRegMfhG",
    "outputId": "f6a39c02-8583-4e1e-b031-fdc6ad4a7900"
   },
   "outputs": [],
   "source": [
    "from units import u_rad,u_s,u_Hz\n",
    "\n",
    "frequency = 10 * u_rad / u_s\n",
    "print('frequency =',frequency)\n",
    "print('frequency =',frequency.convert(u_Hz))"
   ]
  },
  {
   "cell_type": "markdown",
   "metadata": {
    "colab_type": "text",
    "id": "xtsg2ur-UPEq"
   },
   "source": [
    "Note that when you divide **rad** by **s** you get **1/s** not **rad/s**. This is because when you create a new magnitude, the units are recalculated from the S.I. ones.\n",
    "\n",
    "The proper way to operate will be, in this case:"
   ]
  },
  {
   "cell_type": "code",
   "execution_count": null,
   "metadata": {
    "colab": {
     "autoexec": {
      "startup": false,
      "wait_interval": 0
     },
     "base_uri": "https://localhost:8080/",
     "height": 55
    },
    "colab_type": "code",
    "executionInfo": {
     "elapsed": 528,
     "status": "ok",
     "timestamp": 1523363047056,
     "user": {
      "displayName": "Vicente Jimenez",
      "photoUrl": "//lh4.googleusercontent.com/-l1GS4wWn-mI/AAAAAAAAAAI/AAAAAAAAAZE/i_NQ2m6L6rI/s50-c-k-no/photo.jpg",
      "userId": "104735520205871768811"
     },
     "user_tz": -120
    },
    "id": "fcGyBInWUu40",
    "outputId": "9fc92d71-4917-4dc8-8e17-e7f5588e0507"
   },
   "outputs": [],
   "source": [
    "from units import u_rad,u_s,u_Hz\n",
    "\n",
    "frequency = 10 * u_rad / u_s\n",
    "print('frequency =',frequency)\n",
    "print('frequency =',(frequency/2/np.pi).convert(u_Hz))"
   ]
  },
  {
   "cell_type": "markdown",
   "metadata": {
    "colab_type": "text",
    "id": "Pz7VxVsqU9-Q"
   },
   "source": [
    "The problem is tricky because you cannot define **Hz** or **rad** with a scale that takes care of the conversion. Both units need to have a scale of one.\n",
    "\n",
    "* **Hz** needs to have a scale of one to get the proper value of frequency if you operate from a period value\n",
    "\n",
    "* **rad** needs to have a scale of one as it is a ratio between arc and radius distances\n",
    "\n",
    "The partial solution proposed in the **units** module is to define a new special unit **u_rad_s** related to **u_Hz**:\n",
    "\n",
    ">`u_rad_s = (u_Hz/2/np.pi).makeUnit('rad/s')`\n",
    "\n",
    "The following example shows this in operation:"
   ]
  },
  {
   "cell_type": "code",
   "execution_count": null,
   "metadata": {
    "colab": {
     "autoexec": {
      "startup": false,
      "wait_interval": 0
     },
     "base_uri": "https://localhost:8080/",
     "height": 55
    },
    "colab_type": "code",
    "executionInfo": {
     "elapsed": 534,
     "status": "ok",
     "timestamp": 1523363049882,
     "user": {
      "displayName": "Vicente Jimenez",
      "photoUrl": "//lh4.googleusercontent.com/-l1GS4wWn-mI/AAAAAAAAAAI/AAAAAAAAAZE/i_NQ2m6L6rI/s50-c-k-no/photo.jpg",
      "userId": "104735520205871768811"
     },
     "user_tz": -120
    },
    "id": "QGG4nV5NWFVm",
    "outputId": "694aa60e-e226-409f-a36b-cc542061489e"
   },
   "outputs": [],
   "source": [
    "from units import u_Hz,u_rad_s\n",
    "\n",
    "frequency = 10 * u_rad_s\n",
    "print('frequency =',frequency)\n",
    "print('frequency =',frequency.convert(u_Hz))"
   ]
  },
  {
   "cell_type": "markdown",
   "metadata": {
    "colab_type": "text",
    "id": "EfI8_yt8Wa_a"
   },
   "source": [
    "But this is only a partial solution. The problem with **Hz** and **rad/s** is inherent to those units. The above unit eases in the conversion but, every time you use the **u_rad_s** you need to be sure that you are not making any mistake.\n",
    "\n",
    "In general, it is best to stay off on this kind of special units and take special care in calculations that involve **Hz** and **rad/s**"
   ]
  },
  {
   "cell_type": "markdown",
   "metadata": {
    "colab_type": "text",
    "id": "Q4l8DZOeRmg6"
   },
   "source": [
    "## uVar conversion to text\n",
    "\n",
    "We have seen that the **print** function, when used on an **uVar** object, shows both the value and the units.\n",
    "\n",
    "This is related to the use of the internal **\\_\\_str\\_\\_** method of the **uVar** class.\n",
    "\n",
    "There are two additional methods in the **uVar** class that give more control of the presentation of the variables.\n",
    "\n",
    "The **strUnit** method shows a **uVar** object using the proposed compatible unit:\n",
    "\n",
    ">`object.strUnit(unit)`\n",
    "\n",
    "Where **unit** is any compatible unit.\n",
    "\n",
    "For more control on the presentation, the **sci** method shows a **uVar** object using scientific notation.\n",
    "\n",
    ">`object.sci(unit,prefix,sep)`\n",
    "\n",
    "The scientific notation uses powers or ten that are multiples of 3. Also, the most common powers of ten have specific sufixes:\n",
    "\n",
    "$\\quad k = 10^3 \\quad M = 10^6 \\quad G = 10^9 \\quad T = 10^{12} \n",
    "\\quad P = 10^{15} \\quad E = 10^{18}$\n",
    "\n",
    "$\\quad m = 10^{-3} \\quad u = 10^{-6} \\quad n = 10^{-9}\n",
    "\\quad p = 10^{-12} \\quad f = 10^{-15} \\quad a = 10^{-18}$\n",
    "\n",
    "The **sci** method optional parameters are:\n",
    "\n",
    ">**unit** : Use the specified unit (defaults to own unit)\n",
    "\n",
    ">**prefix** : Use power of ten prefixes (defaults to True)\n",
    "\n",
    ">**sep** : Use the indidated separator between the prefix and the unit (defaults to true)\n",
    "\n",
    "The custom **sep** parameter can be useful if a combination of a unit and a prefix can be confused with another unit.\n",
    "\n",
    "The following code shows some examples:"
   ]
  },
  {
   "cell_type": "code",
   "execution_count": null,
   "metadata": {
    "colab": {
     "autoexec": {
      "startup": false,
      "wait_interval": 0
     },
     "base_uri": "https://localhost:8080/",
     "height": 206
    },
    "colab_type": "code",
    "executionInfo": {
     "elapsed": 566,
     "status": "ok",
     "timestamp": 1523363053844,
     "user": {
      "displayName": "Vicente Jimenez",
      "photoUrl": "//lh4.googleusercontent.com/-l1GS4wWn-mI/AAAAAAAAAAI/AAAAAAAAAZE/i_NQ2m6L6rI/s50-c-k-no/photo.jpg",
      "userId": "104735520205871768811"
     },
     "user_tz": -120
    },
    "id": "NRDHuYEcRlnO",
    "outputId": "897f76e1-3c2f-49b4-dc36-11bc3fdd29b7"
   },
   "outputs": [],
   "source": [
    "from units import u_A,u_ohm,u_V,u_g\n",
    "\n",
    "Vx = 0.01 * u_A * u_ohm\n",
    "print('Vx =',Vx,' normal print')\n",
    "print('Vx =',Vx.strUnit(u_V),' using strUnit')\n",
    "print('Vx =',Vx.sci(),' using default sci')\n",
    "print('Vx =',Vx.sci(u_V),' using sci with units')\n",
    "print('Vx =',Vx.sci(u_V,prefix=False),' using sci with units but no prefixes')\n",
    "print('Vx =',Vx.sci(u_V,sep='_'),' using sci with units and custom separator')\n",
    "print()\n",
    "\n",
    "print('0.1 kg equals',(0.1*u_kg).sci(u_g))\n",
    "print('2 kg equals',(2*u_kg).sci(u_g),' without sep')\n",
    "print('2 kg equals',(2*u_kg).sci(u_g,sep='_'),\" with sep='_'\")"
   ]
  },
  {
   "cell_type": "markdown",
   "metadata": {
    "colab_type": "text",
    "id": "Y8ULm4aOVcUU"
   },
   "source": [
    "## The sci function\n",
    "\n",
    "The **sci** method functionality can also be obtained with a function outside of the **uVar** class:\n",
    "\n",
    ">`sci(var,unit,prefix)`\n",
    "\n",
    "Where **var** is a variable to show and **unit** and **prefix** are the same optional parameters of the **sci** member function.\n",
    "\n",
    "The main insterest of this function is that it can be used on normal numbers that are not **uVar** objects. In this case, the selected unit overrides the **unitless** number provided.\n"
   ]
  },
  {
   "cell_type": "code",
   "execution_count": null,
   "metadata": {
    "colab": {
     "autoexec": {
      "startup": false,
      "wait_interval": 0
     },
     "base_uri": "https://localhost:8080/",
     "height": 55
    },
    "colab_type": "code",
    "executionInfo": {
     "elapsed": 536,
     "status": "ok",
     "timestamp": 1523363060286,
     "user": {
      "displayName": "Vicente Jimenez",
      "photoUrl": "//lh4.googleusercontent.com/-l1GS4wWn-mI/AAAAAAAAAAI/AAAAAAAAAZE/i_NQ2m6L6rI/s50-c-k-no/photo.jpg",
      "userId": "104735520205871768811"
     },
     "user_tz": -120
    },
    "id": "qxRSGJ1wV74Y",
    "outputId": "72615a1e-10d7-46e0-b360-489b224b4b5c"
   },
   "outputs": [],
   "source": [
    "print('Vx =',units.sci(Vx,u_V),' using sci with units')\n",
    "print('Vz =',units.sci(10.4,u_V),' using a non uVar number')"
   ]
  },
  {
   "cell_type": "markdown",
   "metadata": {
    "colab_type": "text",
    "id": "TNX5F9XFxduU"
   },
   "source": [
    "## Use of SCI for prints\n",
    "\n",
    "If you like using the sci notation with prefixes, you can use the sci in all prints. For instance, if **value** is a **uVar** object you can use:\n",
    "\n",
    ">`print('The value is',sci(value))`\n",
    "\n",
    "Using **sci** in all prints can be cumbersome, the **setSciForPrint** can set a flag to enable **sci** usage in all prints associated to **uVar** objects.\n",
    "\n",
    ">`setSciForPrint(flag)`\n",
    "\n",
    "Where **flag**, that defaults to **True**, indicates if **sci** shall be used for the **__str__** method used in print operations.\n",
    "\n",
    "You can see it in the following **example**:"
   ]
  },
  {
   "cell_type": "code",
   "execution_count": null,
   "metadata": {
    "colab": {
     "autoexec": {
      "startup": false,
      "wait_interval": 0
     },
     "base_uri": "https://localhost:8080/",
     "height": 55
    },
    "colab_type": "code",
    "executionInfo": {
     "elapsed": 584,
     "status": "ok",
     "timestamp": 1523451651248,
     "user": {
      "displayName": "Vicente Jimenez",
      "photoUrl": "//lh4.googleusercontent.com/-l1GS4wWn-mI/AAAAAAAAAAI/AAAAAAAAAZE/i_NQ2m6L6rI/s50-c-k-no/photo.jpg",
      "userId": "104735520205871768811"
     },
     "user_tz": -120
    },
    "id": "qlJyvWMRyfgM",
    "outputId": "064d4fd0-9557-4a46-9adb-46aecf3c9672"
   },
   "outputs": [],
   "source": [
    "from units import u_m\n",
    "units.setSciForPrint(False) # Normal state on start\n",
    "\n",
    "L = 0.00002*u_m\n",
    "\n",
    "print('L =',L)\n",
    "\n",
    "units.setSciForPrint()\n",
    "\n",
    "print('L =',L)"
   ]
  },
  {
   "cell_type": "markdown",
   "metadata": {
    "colab_type": "text",
    "id": "AlEERoEOWsQs"
   },
   "source": [
    "## The print functions and methods\n",
    "\n",
    "There is an additional printvar function to ease showing calculation results:\n",
    "\n",
    ">`printVar(name,value,unit,sci,prefix,sep)`\n",
    "\n",
    "Where **name** is the name to show for a variable and **value** is a number or a **uVar** object.\n",
    "\n",
    "If **value** is not given, the function will try to load the value by evaluating **name** in the caller **global** and **local** space. \n",
    "\n",
    "Note that the use of **eval** can have security risks if **name** is provided by malicious people.\n",
    "\n",
    "The **unit** optional parameter indicates a compatible unit, in the case of showing a **uVar** object or an override unit if value is a normal **number**.\n",
    "\n",
    "The rest of optinal parameters are the same as in the **sci** method.\n",
    "\n",
    "To ease the use of **printVar** functionalities when **value** is not provided, there is a similar **printUnit** function:\n",
    "\n",
    ">`printUnit(name,unit='',sci=True,prefix=True,sep='')`\n",
    "\n",
    "The syntax is the same as in **printVar** but **value** is never provided.\n",
    "\n",
    "The **uVar** object has a **print** method that also doesn't require the **value** parameter because it is called from the object itself:\n",
    "\n",
    ">`object.print(name,unit,sci,prefix,sep)`\n",
    "\n",
    "As in the previous cases, all parameters, except **name** are optional.\n",
    "\n",
    "Some **examples** follow:"
   ]
  },
  {
   "cell_type": "code",
   "execution_count": null,
   "metadata": {
    "colab": {
     "autoexec": {
      "startup": false,
      "wait_interval": 0
     },
     "base_uri": "https://localhost:8080/",
     "height": 394
    },
    "colab_type": "code",
    "executionInfo": {
     "elapsed": 590,
     "status": "ok",
     "timestamp": 1523363544874,
     "user": {
      "displayName": "Vicente Jimenez",
      "photoUrl": "//lh4.googleusercontent.com/-l1GS4wWn-mI/AAAAAAAAAAI/AAAAAAAAAZE/i_NQ2m6L6rI/s50-c-k-no/photo.jpg",
      "userId": "104735520205871768811"
     },
     "user_tz": -120
    },
    "id": "SVhRUMzzXWO0",
    "outputId": "4e0a7be0-8e17-4bd0-e51e-f9c49a1680a9"
   },
   "outputs": [],
   "source": [
    "print('Use of printVar')\n",
    "print()\n",
    "print('Default use:')\n",
    "units.printVar('Vx',Vx)\n",
    "print(\"We don't provide the value\")\n",
    "print(\"It is obtained from the global or local space:\")\n",
    "units.printVar('Vx')\n",
    "print('Unit is given and value is not:')\n",
    "units.printVar('Vx',unit=u_V)\n",
    "print('Unit is given and prefix=false:')\n",
    "units.printVar('Vx',Vx,u_V,prefix=False)\n",
    "print('Unit is given and sci=False:')\n",
    "units.printVar('Vx',Vx,u_V,sci=False)\n",
    "print()\n",
    "\n",
    "print('Use of printUnit obtaining value from the global or local space:')\n",
    "print()\n",
    "print('Default use:')\n",
    "units.printUnit('Vx')\n",
    "print('Unit is given:')\n",
    "units.printUnit('Vx',u_V)"
   ]
  },
  {
   "cell_type": "markdown",
   "metadata": {
    "colab_type": "text",
    "id": "1ug8vmQBZRm2"
   },
   "source": [
    "More **examples** with legth units and the **print** method:"
   ]
  },
  {
   "cell_type": "code",
   "execution_count": null,
   "metadata": {
    "colab": {
     "autoexec": {
      "startup": false,
      "wait_interval": 0
     },
     "base_uri": "https://localhost:8080/",
     "height": 149
    },
    "colab_type": "code",
    "executionInfo": {
     "elapsed": 588,
     "status": "ok",
     "timestamp": 1523363550318,
     "user": {
      "displayName": "Vicente Jimenez",
      "photoUrl": "//lh4.googleusercontent.com/-l1GS4wWn-mI/AAAAAAAAAAI/AAAAAAAAAZE/i_NQ2m6L6rI/s50-c-k-no/photo.jpg",
      "userId": "104735520205871768811"
     },
     "user_tz": -120
    },
    "id": "GaUcD_hRYn2w",
    "outputId": "51b2b095-6b38-4273-95c3-ec5b3b07031d"
   },
   "outputs": [],
   "source": [
    "from units import u_m,u_in,u_mil,u_cm,u_Ang\n",
    "\n",
    "print('Use of the print method')\n",
    "print()\n",
    "\n",
    "l1 = 4.5 * u_m\n",
    "l1.print('L1')\n",
    "l1.print('L1',u_in)\n",
    "l1.print('L1',u_mil)\n",
    "l1.print('L1',u_cm)\n",
    "l1.print('L1',u_Ang)"
   ]
  },
  {
   "cell_type": "markdown",
   "metadata": {
    "colab_type": "text",
    "id": "x6fLBQIvLdBu"
   },
   "source": [
    "## Module constants\n",
    "\n",
    "Inside the **units** module there are several defined phisical constants\n",
    "\n",
    "All constants have the same syntax:\n",
    "\n",
    ">c_*name*\n",
    "\n",
    "Where _**name**_ is the name of the unit\n",
    "\n",
    "The constants currently implemented are:\n",
    "\n",
    ">c_q : Electron charge\n",
    "\n",
    ">c_e0 : Vacuum permitivity\n",
    "\n",
    ">c_k : Boltzman constant\n",
    "\n",
    ">c_h : Plank constant\n",
    "\n",
    ">c_m0 : Electron mass at rest\n",
    "\n",
    ">c_G : Gravity constant\n",
    "\n",
    ">c_g : Gravital acceleration\n",
    "\n",
    ">c_c : Speed of light\n",
    "\n",
    ">n_Na : Avogadro constant\n",
    "\n",
    "You can easily define your own constants, just operate on **uVar** objects. \n",
    "\n",
    "For instance, the Boltzman constant is defined as:\n",
    "\n",
    ">`c_k = 8.62e-5 * u_eV/u_K`\n",
    "\n",
    "Some constants are shown in the following **code**:"
   ]
  },
  {
   "cell_type": "code",
   "execution_count": null,
   "metadata": {
    "colab": {
     "autoexec": {
      "startup": false,
      "wait_interval": 0
     },
     "base_uri": "https://localhost:8080/",
     "height": 74
    },
    "colab_type": "code",
    "executionInfo": {
     "elapsed": 568,
     "status": "ok",
     "timestamp": 1523363553502,
     "user": {
      "displayName": "Vicente Jimenez",
      "photoUrl": "//lh4.googleusercontent.com/-l1GS4wWn-mI/AAAAAAAAAAI/AAAAAAAAAZE/i_NQ2m6L6rI/s50-c-k-no/photo.jpg",
      "userId": "104735520205871768811"
     },
     "user_tz": -120
    },
    "id": "CyGfaYwyqzqC",
    "outputId": "52184735-eeae-4813-895d-a38825e24b0c"
   },
   "outputs": [],
   "source": [
    "from units import c_q,c_e0,c_k\n",
    "\n",
    "units.printVar('Electron charge',c_q)\n",
    "units.printVar('Vacuum permitivity',c_e0)\n",
    "units.printVar('Boltzman constant',c_k)"
   ]
  },
  {
   "cell_type": "markdown",
   "metadata": {
    "colab_type": "text",
    "id": "fbnciwf9fws2"
   },
   "source": [
    "## The copy method\n",
    "\n",
    "If you want to create a variable of a value of 1.0 of some unit, like **u_m**, you could think to use:\n",
    "\n",
    ">`var = u_m`\n",
    "\n",
    "Beware that now, both the **var** and **u_m** variables point to the same **uVar** object that defines the **meter** unit.\n",
    "\n",
    "In cases like this you can make a copy of a **uVar** object just multiplying it by **1.0** or by using the **copy** method:\n",
    "\n",
    ">`var = 1.0 * u_m`\n",
    "\n",
    ">`var = u_m.copy()`\n"
   ]
  },
  {
   "cell_type": "markdown",
   "metadata": {
    "colab_type": "text",
    "id": "oKSXDPzpgsuE"
   },
   "source": [
    "## Showing results with composite units\n",
    "\n",
    "You can try to print a result using a composite unit like in the following example:"
   ]
  },
  {
   "cell_type": "code",
   "execution_count": null,
   "metadata": {
    "colab": {
     "autoexec": {
      "startup": false,
      "wait_interval": 0
     },
     "base_uri": "https://localhost:8080/",
     "height": 36
    },
    "colab_type": "code",
    "executionInfo": {
     "elapsed": 542,
     "status": "ok",
     "timestamp": 1523363556640,
     "user": {
      "displayName": "Vicente Jimenez",
      "photoUrl": "//lh4.googleusercontent.com/-l1GS4wWn-mI/AAAAAAAAAAI/AAAAAAAAAZE/i_NQ2m6L6rI/s50-c-k-no/photo.jpg",
      "userId": "104735520205871768811"
     },
     "user_tz": -120
    },
    "id": "xybrJS_Ag2B4",
    "outputId": "7ab08c26-90a1-46ac-c528-23bb175477a9"
   },
   "outputs": [],
   "source": [
    "from units import u_m,u_s,u_in\n",
    "\n",
    "speed = 50 * u_m / u_s\n",
    "speed.print('Speed',u_in/u_s)"
   ]
  },
  {
   "cell_type": "markdown",
   "metadata": {
    "colab_type": "text",
    "id": "F-O0cVKkhGBO"
   },
   "source": [
    "Observe that the speed is given in **m/s** although we have indicated **in/s** in the print method.\n",
    "\n",
    "This happens because every time you operate with several units you get a new **uVar** object that is no longer a unit and that defaults to use the standard S.I. units.\n",
    "\n",
    "In order to show a result in a composite unit you need to define a new unit for this kind of result as in the following **example**:"
   ]
  },
  {
   "cell_type": "code",
   "execution_count": null,
   "metadata": {
    "colab": {
     "autoexec": {
      "startup": false,
      "wait_interval": 0
     },
     "base_uri": "https://localhost:8080/",
     "height": 55
    },
    "colab_type": "code",
    "executionInfo": {
     "elapsed": 548,
     "status": "ok",
     "timestamp": 1523363558930,
     "user": {
      "displayName": "Vicente Jimenez",
      "photoUrl": "//lh4.googleusercontent.com/-l1GS4wWn-mI/AAAAAAAAAAI/AAAAAAAAAZE/i_NQ2m6L6rI/s50-c-k-no/photo.jpg",
      "userId": "104735520205871768811"
     },
     "user_tz": -120
    },
    "id": "6ozSl6k4hiOU",
    "outputId": "3a7ee7e6-d3c2-4958-9e56-bb8609cab960"
   },
   "outputs": [],
   "source": [
    "from units import u_m,u_s,u_in\n",
    "\n",
    "# Calculate speed\n",
    "speed = 50 * u_m / u_s\n",
    "\n",
    "# Create a new unit\n",
    "u_in_s = (u_in/u_s).makeUnit('in/s')\n",
    "\n",
    "# Show speed\n",
    "speed.print('Speed',u_in_s)\n",
    "\n",
    "# Use only one complex line\n",
    "# The new unit will be discarded after the execution \n",
    "speed.print('Speed',(u_in/u_s).makeUnit('in/s'))"
   ]
  },
  {
   "cell_type": "markdown",
   "metadata": {
    "colab_type": "text",
    "id": "AyxsjUCUcmLw"
   },
   "source": [
    "## Sympy interaction\n",
    "\n",
    "Using the [sympy](http://www.sympy.org) module you can perform symbolic calculations on variables and then apply the results to variables defined by **uVar** objects.\n",
    "\n",
    "The **sympy** interaction is **optional**, if **sympy** is not available on your system, the related functions just won't be available.\n",
    "\n",
    "The main element in this interaction is the **sympy2var** function:\n",
    "\n",
    ">`sympy2var(expr)`\n",
    "\n",
    "This function takes a **sympy** expression, locates all the contained **symbols** and returns the evaluation of the expression using the variables whose **names** are the same as the **symbols** names.\n",
    "\n",
    "In order to use the **sympy2var** function it is recommended to use **sympy** symbols whose names are different from the variable names associated to them.\n",
    "\n",
    "A typical way to define symbols in sympy is:\n",
    "\n",
    ">`a,b,c = sympy.symbols('a,b,c')`\n",
    "\n",
    "That won't be a good idea in this case. It is best to use variables whose names are **different** from the symbol names. For instance:\n",
    "\n",
    ">`a_,b_,c_ = sympy.symbols('a,b,c')`\n",
    "\n",
    "When **sympy2var** is executed on a expression that contains the **a**, **b** and **c** symbols, the function will evaluate the expression using the contents of the variables whose names **'a'**, **'b'** and **'c'** coindice with the symbol names.\n",
    "\n",
    "As an **example** we can work with the expression that gives the position of an object that moves at constant speed:\n",
    "\n",
    "$\\qquad x = x_0 + v\\cdot t$\n",
    "\n",
    "**Execute** the following code that defines the **sympy** symbols of the above expression, assigns them to variables with names different from the symbols and constructs the expression:"
   ]
  },
  {
   "cell_type": "code",
   "execution_count": null,
   "metadata": {
    "colab": {
     "autoexec": {
      "startup": false,
      "wait_interval": 0
     },
     "base_uri": "https://localhost:8080/",
     "height": 36
    },
    "colab_type": "code",
    "executionInfo": {
     "elapsed": 530,
     "status": "ok",
     "timestamp": 1523363562600,
     "user": {
      "displayName": "Vicente Jimenez",
      "photoUrl": "//lh4.googleusercontent.com/-l1GS4wWn-mI/AAAAAAAAAAI/AAAAAAAAAZE/i_NQ2m6L6rI/s50-c-k-no/photo.jpg",
      "userId": "104735520205871768811"
     },
     "user_tz": -120
    },
    "id": "HL-z6SRXeQHa",
    "outputId": "ff273322-82fa-44cb-dbf3-2479408f9bbc"
   },
   "outputs": [],
   "source": [
    "import sympy\n",
    "\n",
    "x_,x0_,v_,t_ = sympy.symbols('x,x0,v,t')\n",
    "\n",
    "expr=sympy.Eq(x_,x0_+v_*t_) # Eq means equal\n",
    "print('Expr =',expr)"
   ]
  },
  {
   "cell_type": "markdown",
   "metadata": {
    "colab_type": "text",
    "id": "iUyxgT1bealq"
   },
   "source": [
    "You are not required to use underscores '_' on the variable names, any set of names is good as long as they don't are the same as the symbol names.\n",
    "\n",
    "We can now **execute** the code that solves the above equation in order to obtain the time from the other variables.\n",
    "\n",
    "We could store the result in **t_** as we don't need the variable that hold this symbol anymore but note that **t_** is the symbol for time whereas **stime** is the expression that relates time to the other variables.\n",
    "\n",
    "In fact, we don't need any of the **x_**, **x0_**, **v_** and **t_** variables anymore as they are, in this example, only used to construct the **expr** expression."
   ]
  },
  {
   "cell_type": "code",
   "execution_count": null,
   "metadata": {
    "colab": {
     "autoexec": {
      "startup": false,
      "wait_interval": 0
     },
     "base_uri": "https://localhost:8080/",
     "height": 36
    },
    "colab_type": "code",
    "executionInfo": {
     "elapsed": 516,
     "status": "ok",
     "timestamp": 1523363564458,
     "user": {
      "displayName": "Vicente Jimenez",
      "photoUrl": "//lh4.googleusercontent.com/-l1GS4wWn-mI/AAAAAAAAAAI/AAAAAAAAAZE/i_NQ2m6L6rI/s50-c-k-no/photo.jpg",
      "userId": "104735520205871768811"
     },
     "user_tz": -120
    },
    "id": "hf9fFzG6emr6",
    "outputId": "01e0f31c-8e8d-49a2-bc1e-b9e5c908379e"
   },
   "outputs": [],
   "source": [
    "stime = sympy.solve(expr,t_)[0]\n",
    "print('time =',stime)"
   ]
  },
  {
   "cell_type": "markdown",
   "metadata": {
    "colab_type": "text",
    "id": "TB06I6Mnpska"
   },
   "source": [
    "Now we can obtain the time for some given values of the other variables. The following code uses the **sympy2var** function that evaluates the **sympy** expression for the variables whose names are the sames as the **sympy** symbols **names** (not variable names) used in the expression."
   ]
  },
  {
   "cell_type": "code",
   "execution_count": null,
   "metadata": {
    "colab": {
     "autoexec": {
      "startup": false,
      "wait_interval": 0
     },
     "base_uri": "https://localhost:8080/",
     "height": 36
    },
    "colab_type": "code",
    "executionInfo": {
     "elapsed": 534,
     "status": "ok",
     "timestamp": 1523363567566,
     "user": {
      "displayName": "Vicente Jimenez",
      "photoUrl": "//lh4.googleusercontent.com/-l1GS4wWn-mI/AAAAAAAAAAI/AAAAAAAAAZE/i_NQ2m6L6rI/s50-c-k-no/photo.jpg",
      "userId": "104735520205871768811"
     },
     "user_tz": -120
    },
    "id": "CCXdGOxlpxbO",
    "outputId": "8c8aa8fe-aab2-4331-c27e-10ffbf74bf70"
   },
   "outputs": [],
   "source": [
    "# Values for known magnitudes\n",
    "x = 100 * u_m\n",
    "x0 = 20 * u_m\n",
    "v = 5 * u_m/u_s \n",
    "\n",
    "# Value for unknown magnitude\n",
    "t = units.sympy2var(stime)\n",
    "\n",
    "# Show time\n",
    "units.printVar('t')"
   ]
  },
  {
   "cell_type": "markdown",
   "metadata": {
    "colab_type": "text",
    "id": "rueJ_PgeswNM"
   },
   "source": [
    "If you remember, using variable names to hold the symbols different from the symbols themselves was a **recommendation** not a **requirement**. If you use the symbols first and then **reuse** the variables for the expression evaluation, you can use the same variables both for the symbols and the **uVar** objects.\n",
    "\n",
    "The following **example** repeats the previous one using the same variables both for **symbols** and **uVar** objects:"
   ]
  },
  {
   "cell_type": "code",
   "execution_count": null,
   "metadata": {
    "colab": {
     "autoexec": {
      "startup": false,
      "wait_interval": 0
     },
     "base_uri": "https://localhost:8080/",
     "height": 74
    },
    "colab_type": "code",
    "executionInfo": {
     "elapsed": 522,
     "status": "ok",
     "timestamp": 1523363570038,
     "user": {
      "displayName": "Vicente Jimenez",
      "photoUrl": "//lh4.googleusercontent.com/-l1GS4wWn-mI/AAAAAAAAAAI/AAAAAAAAAZE/i_NQ2m6L6rI/s50-c-k-no/photo.jpg",
      "userId": "104735520205871768811"
     },
     "user_tz": -120
    },
    "id": "huaPwHZHtaMI",
    "outputId": "062c4e50-8e64-486d-efd6-49e511ff320c"
   },
   "outputs": [],
   "source": [
    "import sympy\n",
    "\n",
    "# Create variables with same names as the symbols they hold\n",
    "x,x0,v,t = sympy.symbols('x,x0,v,t')\n",
    "\n",
    "# Define and solve the symbolic equation\n",
    "expr=sympy.Eq(x,x0+v*t) \n",
    "print('Expr =',expr)\n",
    "stime = sympy.solve(expr,t)[0]\n",
    "print('time =',stime)\n",
    "\n",
    "# We don't need the variables anymore, we can reuse them\n",
    "# to hold uVar objects instead of symbols\n",
    "# The symbols themselves are not destroyed as there are references\n",
    "# to them in the existing expr and stime variables\n",
    "x = 100 * u_m\n",
    "x0 = 20 * u_m\n",
    "v = 5 * u_m/u_s \n",
    "\n",
    "# Evaluate expression to obtain time\n",
    "t = units.sympy2var(stime)\n",
    "\n",
    "# Show time\n",
    "units.printVar('t')"
   ]
  },
  {
   "cell_type": "markdown",
   "metadata": {
    "colab_type": "text",
    "id": "eoIC_TKJqSpq"
   },
   "source": [
    "The **sympy2var** function, in fact, don't depend on the **uVar** objects. You can use numeric values as long as their variable names has the same names as the symbols used in the **sympy** expression.\n",
    "\n",
    "The **code** below converts the symbolic **stime** expression to a numeric value using normal integer numbers for the **x**, **x0** and **v** variables. Those variables now are not related to any **uVar** object. In fact the **uVar** objects no longer exist and their allocated space will be reclaimed by the Python garbage collector.\n",
    "\n",
    "As expected, the final result has no units as we are not using **uVar** objects although we can add the units afterwards."
   ]
  },
  {
   "cell_type": "code",
   "execution_count": null,
   "metadata": {
    "colab": {
     "autoexec": {
      "startup": false,
      "wait_interval": 0
     },
     "base_uri": "https://localhost:8080/",
     "height": 55
    },
    "colab_type": "code",
    "executionInfo": {
     "elapsed": 574,
     "status": "ok",
     "timestamp": 1523363572504,
     "user": {
      "displayName": "Vicente Jimenez",
      "photoUrl": "//lh4.googleusercontent.com/-l1GS4wWn-mI/AAAAAAAAAAI/AAAAAAAAAZE/i_NQ2m6L6rI/s50-c-k-no/photo.jpg",
      "userId": "104735520205871768811"
     },
     "user_tz": -120
    },
    "id": "o5VPj4e0qOT-",
    "outputId": "134c5c48-130e-4c80-cdb0-89bf94705377"
   },
   "outputs": [],
   "source": [
    "# Variables now hold known magnitudes as integers\n",
    "x = 100\n",
    "x0 = 20\n",
    "v = 5 \n",
    "\n",
    "# Value for unknown magnitude\n",
    "t = units.sympy2var(stime)\n",
    "\n",
    "# Show time\n",
    "units.printVar('t')\n",
    "\n",
    "# You can add the units afterwards, but they are not generated from the data\n",
    "units.printUnit('t',u_s)"
   ]
  },
  {
   "cell_type": "markdown",
   "metadata": {
    "colab_type": "text",
    "id": "3T0kjPX_SQj0"
   },
   "source": [
    "## Calc interaction for plotting\n",
    "\n",
    "The **units** module implements special functions to access the **plot11**, **plot1n** and **plotnn** functions of the **calc** module.\n",
    "\n",
    "The **calc** module is not an standard Python module, you can get it at the [same place](https://github.com/R6500/Python-bits/tree/master/Modules) as the **units** module is available.\n",
    "\n",
    "If the **calc** module cannot be imported, those functions won't be available.\n",
    "\n",
    "The **plot** family of functions of the **calc** module implement easy ways to plot several vectors against others:\n",
    "\n",
    "* **plot11** plots one vector against another vector\n",
    "\n",
    "* **plot1n** plots one vector against a list of vectors\n",
    "\n",
    "* **plotnn** plots a list of vectors against another list of vectors\n",
    "\n",
    "Read the **calc** module documentation for more details because on this documentation only the differences respect the **calc** implementation will be explained.\n",
    "\n",
    "The implementation of those functions in the **units** module enable to automatically show the units and convert between units on the fly.\n",
    "\n",
    "<BR>\n",
    "\n",
    "The **plot11** function plots one variable **x** agains another variable **y**\n",
    "\n",
    ">`plot11(x,y,title,xt,yt,logx,logy,grid,latex)`\n",
    "\n",
    "The only required parameters are **x** and **y** and both should be **names** of variables that point to **uVar** objects.\n",
    "\n",
    "If the x axis label **xt** is not provided, the function will generate it from the **x** name and its associated units. The same applies to the y label **yt**\n",
    "\n",
    "There are two features that are **common** to all plot functions:\n",
    "\n",
    "* If any of the **xt** or **yt** axes labels are provided, any contained **`<unit>`** substring will be substituted with the units for that axis. \n",
    "\n",
    "* The **latex** parameter, that defaults to **False**, if activated, will generate the axes labels using **latex** format.\n",
    "\n",
    "<BR>\n",
    "\n",
    "The **plot1n** function plots one variable **x** agains a list of variables **ylist**\n",
    "\n",
    ">`plot1n(x,ylist,title,xt,yt,labels,location,logx,logy,grid,latex)`\n",
    "\n",
    "The only required parameters are **x** and **ylist**. The parameter **x** should be the **name** of a variable that point to an **uVar** object. The parameter **y** should be a list of **names** of variables that point to **uVar** objects.\n",
    "\n",
    "The function will check that all **ylist** associated **uVar** objects have compatible units and, if necessary, will convert them to the unit of the first **ylist** element.\n",
    "\n",
    "If the x axis label **xt** is not provided, the function will generate it from the **x** name and its associated units. If the y axis label **yt** is not provided, the function will generate it from the units (name won't be shown) of the first element of **ylist**.\n",
    "\n",
    "If the **labels** list is not provided, it will be generated from the names in **ylist**\n",
    "\n",
    "<BR>\n",
    "\n",
    "The **plotnn** function plots a list of variables **xlist** agains an equal sized list of variables **ylist**\n",
    "\n",
    ">`def plotnn(xlist,ylist,title,xt,yt,labels,location,logx,logy,grid,latex)`\n",
    "\n",
    "The only required parameters are **xlist** and **ylist** and both need to have the same size. The parameters **xlist** and **ylist** should be lists of **names** of variables that point to **uVar** objects.\n",
    "\n",
    "Each element on **xlist** with be plot against the elemenet in **ylist** on the same position. Both elements shall contain vectors with the same size.\n",
    "\n",
    "The function will check, in both axes, that all **lists** associated **uVar** objects have compatible units and, if necessary, will convert them to the unit of the first **list** element.\n",
    "\n",
    "If the x axis label **xt** is not provided, the function will generate it from the **x** name and associated units of the first element in the **xlist**. If the y axis label **yt** is not provided, the function will generate it from the units (name won't be shown) of the first element of **ylist**.\n",
    "\n",
    "If the **labels** list is not provided, it will be generated from the names in **ylist** as in the  **plot1n** function\n",
    "\n",
    "<BR>\n",
    "\n",
    "The following **examples** show those functions in operation:"
   ]
  },
  {
   "cell_type": "code",
   "execution_count": null,
   "metadata": {
    "colab": {
     "autoexec": {
      "startup": false,
      "wait_interval": 0
     },
     "base_uri": "https://localhost:8080/",
     "height": 361
    },
    "colab_type": "code",
    "executionInfo": {
     "elapsed": 680,
     "status": "ok",
     "timestamp": 1523363577102,
     "user": {
      "displayName": "Vicente Jimenez",
      "photoUrl": "//lh4.googleusercontent.com/-l1GS4wWn-mI/AAAAAAAAAAI/AAAAAAAAAZE/i_NQ2m6L6rI/s50-c-k-no/photo.jpg",
      "userId": "104735520205871768811"
     },
     "user_tz": -120
    },
    "id": "SkJnrtuuSP5e",
    "outputId": "39964d1b-23bb-4406-dbe0-dda6ff993ac1"
   },
   "outputs": [],
   "source": [
    "# Import the required units\n",
    "from units import u_m,u_in\n",
    "\n",
    "# Plot length against related area\n",
    "Length = units.makeArray(np.arange(0,10,0.1),u_m)\n",
    "Area = Length ** 2\n",
    "units.plot11('Length','Area')"
   ]
  },
  {
   "cell_type": "markdown",
   "metadata": {
    "colab_type": "text",
    "id": "KoRm84U3YoR4"
   },
   "source": [
    "Note how the **x** and **y** objects have been located from their names. Note also how the axes names have been automatically generated from the variable names and their associated units.\n",
    "\n",
    "The folowing code adds a new curve using **plot1n**:"
   ]
  },
  {
   "cell_type": "code",
   "execution_count": null,
   "metadata": {
    "colab": {
     "autoexec": {
      "startup": false,
      "wait_interval": 0
     },
     "base_uri": "https://localhost:8080/",
     "height": 361
    },
    "colab_type": "code",
    "executionInfo": {
     "elapsed": 900,
     "status": "ok",
     "timestamp": 1523363579966,
     "user": {
      "displayName": "Vicente Jimenez",
      "photoUrl": "//lh4.googleusercontent.com/-l1GS4wWn-mI/AAAAAAAAAAI/AAAAAAAAAZE/i_NQ2m6L6rI/s50-c-k-no/photo.jpg",
      "userId": "104735520205871768811"
     },
     "user_tz": -120
    },
    "id": "M-DW6VjuYdAs",
    "outputId": "4d2b8858-4cd3-47fb-bd77-fce814843ef4"
   },
   "outputs": [],
   "source": [
    "# Redefine Area as Area1\n",
    "Area1 = Area\n",
    "\n",
    "# Calculate a new Area2\n",
    "Area2 = (2*Length) ** 2\n",
    "\n",
    "# Plot both Areas together\n",
    "units.plot1n('Length',['Area1','Area2'])"
   ]
  },
  {
   "cell_type": "markdown",
   "metadata": {
    "colab_type": "text",
    "id": "UczngZ3aZads"
   },
   "source": [
    "Note how now the yaxis only shows the units, as the names of variables associates to the curves are shown on the legend box.\n",
    "\n",
    "The following **example** shows the use of the **plotnn** function to show together curves that have different **x** domain:"
   ]
  },
  {
   "cell_type": "code",
   "execution_count": null,
   "metadata": {
    "colab": {
     "autoexec": {
      "startup": false,
      "wait_interval": 0
     },
     "base_uri": "https://localhost:8080/",
     "height": 361
    },
    "colab_type": "code",
    "executionInfo": {
     "elapsed": 960,
     "status": "ok",
     "timestamp": 1523363582866,
     "user": {
      "displayName": "Vicente Jimenez",
      "photoUrl": "//lh4.googleusercontent.com/-l1GS4wWn-mI/AAAAAAAAAAI/AAAAAAAAAZE/i_NQ2m6L6rI/s50-c-k-no/photo.jpg",
      "userId": "104735520205871768811"
     },
     "user_tz": -120
    },
    "id": "-IhIaeXHYkQc",
    "outputId": "5a07653b-7de0-4bd4-d81e-8210be7e3350"
   },
   "outputs": [],
   "source": [
    "# New length\n",
    "L2 = units.makeArray(np.arange(200,400,0.1),u_in)\n",
    "\n",
    "# New area for the L2 domain\n",
    "Area3 = (3*L2) ** 2  \n",
    "units.plotnn(['Length','Length','L2'],['Area1','Area2','Area3'])"
   ]
  },
  {
   "cell_type": "markdown",
   "metadata": {
    "colab_type": "text",
    "id": "UgPBikal5nN-"
   },
   "source": [
    "Note how the function has **converted**, on the fly, from inches to meter on the third curve, both in the x and y axes.\n",
    "\n",
    "Note also that only the name of the first element on the list is shown on the x axis.\n",
    "\n",
    "You can change from **meters** to **foot** just changing the units of the first elements of each list. The rest of curves will change on the fly."
   ]
  },
  {
   "cell_type": "code",
   "execution_count": null,
   "metadata": {
    "colab": {
     "autoexec": {
      "startup": false,
      "wait_interval": 0
     },
     "base_uri": "https://localhost:8080/",
     "height": 361
    },
    "colab_type": "code",
    "executionInfo": {
     "elapsed": 838,
     "status": "ok",
     "timestamp": 1523363607350,
     "user": {
      "displayName": "Vicente Jimenez",
      "photoUrl": "//lh4.googleusercontent.com/-l1GS4wWn-mI/AAAAAAAAAAI/AAAAAAAAAZE/i_NQ2m6L6rI/s50-c-k-no/photo.jpg",
      "userId": "104735520205871768811"
     },
     "user_tz": -120
    },
    "id": "Aa6NwzGk51Uo",
    "outputId": "45c08e4e-0876-4743-8292-c2b86eaf3b28"
   },
   "outputs": [],
   "source": [
    "from units import u_ft\n",
    "\n",
    "# Change Length to foot\n",
    "Length = Length.convert(u_ft)\n",
    "\n",
    "# Change Area1 to foot^2\n",
    "Area1 = Area1.convert((u_ft**2).makeUnit('ft^2'))\n",
    "\n",
    "# Plot the curves\n",
    "units.plotnn(['Length','Length','L2'],['Area1','Area2','Area3'])"
   ]
  },
  {
   "cell_type": "markdown",
   "metadata": {
    "colab_type": "text",
    "id": "TYF4X0X9a2WM"
   },
   "source": [
    "\n",
    "\n",
    "Now you can see, **executing** the code below, the effect of the **latex** parameter:"
   ]
  },
  {
   "cell_type": "code",
   "execution_count": null,
   "metadata": {
    "colab": {
     "autoexec": {
      "startup": false,
      "wait_interval": 0
     },
     "base_uri": "https://localhost:8080/",
     "height": 365
    },
    "colab_type": "code",
    "executionInfo": {
     "elapsed": 1062,
     "status": "ok",
     "timestamp": 1523363626170,
     "user": {
      "displayName": "Vicente Jimenez",
      "photoUrl": "//lh4.googleusercontent.com/-l1GS4wWn-mI/AAAAAAAAAAI/AAAAAAAAAZE/i_NQ2m6L6rI/s50-c-k-no/photo.jpg",
      "userId": "104735520205871768811"
     },
     "user_tz": -120
    },
    "id": "yA8MCW9zzCf-",
    "outputId": "be86dcb3-7e72-430b-95d2-e4a10b8ee30e"
   },
   "outputs": [],
   "source": [
    "# Use latex for autogenerated text\n",
    "units.plotnn(['Length','Length','L2'],['Area1','Area2','Area3'],latex=True)"
   ]
  },
  {
   "cell_type": "markdown",
   "metadata": {
    "colab_type": "text",
    "id": "mWqcKvzNzmKw"
   },
   "source": [
    "You can also override axes labels and add a plot title.\n",
    "\n",
    "In the **example** below we override the **y** axis label with **latex** text using the **(unit)** placeholder.\n",
    "\n",
    "Also we will substitute the legend with **latex** text and set a plot tittle with normal text."
   ]
  },
  {
   "cell_type": "code",
   "execution_count": null,
   "metadata": {
    "colab": {
     "autoexec": {
      "startup": false,
      "wait_interval": 0
     },
     "base_uri": "https://localhost:8080/",
     "height": 380
    },
    "colab_type": "code",
    "executionInfo": {
     "elapsed": 802,
     "status": "ok",
     "timestamp": 1523363628762,
     "user": {
      "displayName": "Vicente Jimenez",
      "photoUrl": "//lh4.googleusercontent.com/-l1GS4wWn-mI/AAAAAAAAAAI/AAAAAAAAAZE/i_NQ2m6L6rI/s50-c-k-no/photo.jpg",
      "userId": "104735520205871768811"
     },
     "user_tz": -120
    },
    "id": "CFHf3xGjzsJM",
    "outputId": "7e97e461-58a6-4278-80f8-b40e3ae99b38"
   },
   "outputs": [],
   "source": [
    "units.plotnn(['Length','Length','L2'],['Area1','Area2','Area3']\n",
    "             ,title='Area comparison graph'        # Normal text title\n",
    "             ,yt='$Areas \\\\quad ( <unit> ) $'      # Latex y axis label with unit placeholder\n",
    "             ,labels=['$A_1$','$A_2$','$A_3$']     # Custom latex labels\n",
    "             ,latex=True)                          # Use latex for autogenerated text"
   ]
  },
  {
   "cell_type": "markdown",
   "metadata": {
    "colab_type": "text",
    "id": "5rfMyyo51Sxi"
   },
   "source": [
    "## Module mmVars interaction\n",
    "\n",
    "The **units** can be used together with the **mmVars** module.\n",
    "\n",
    "The **mmVars** module is not an standard Python module, you can get it at the [same place](https://github.com/R6500/Python-bits/tree/master/Modules) as the **units** module is available.\n",
    "\n",
    "The **mmVars** module implements a **mmVar** object that is defined by maximum and miminum values. Refer for this document documentation for more detais.\n",
    "\n",
    "The **value** asociated to the **uVar** objects of the **units** module can be any normal **integer** and **float** number and, as we have seen previously, can also be other objects like **numpy** arrays.\n",
    "\n",
    "In particular, **values** can be also **mmVar** objects.\n",
    "\n",
    "In a simular way, **values** can be any object for which the used operators and operations are defined.\n",
    "\n",
    "The following code shows an **example** of the join use of the **units** and **mmVar** objects:"
   ]
  },
  {
   "cell_type": "code",
   "execution_count": null,
   "metadata": {
    "colab": {
     "autoexec": {
      "startup": false,
      "wait_interval": 0
     },
     "base_uri": "https://localhost:8080/",
     "height": 55
    },
    "colab_type": "code",
    "executionInfo": {
     "elapsed": 542,
     "status": "ok",
     "timestamp": 1523363632872,
     "user": {
      "displayName": "Vicente Jimenez",
      "photoUrl": "//lh4.googleusercontent.com/-l1GS4wWn-mI/AAAAAAAAAAI/AAAAAAAAAZE/i_NQ2m6L6rI/s50-c-k-no/photo.jpg",
      "userId": "104735520205871768811"
     },
     "user_tz": -120
    },
    "id": "nZ3lcysb2kIa",
    "outputId": "aef90b0d-3d87-4296-b28f-ec4527a63dce"
   },
   "outputs": [],
   "source": [
    "from units import u_m\n",
    "\n",
    "# Define a mmVar object\n",
    "Length = mm.mmVar(4,5,4.5)\n",
    "print('Length =',Length)\n",
    "\n",
    "# Add meter units\n",
    "Length = units.makeVar(Length,u_m)\n",
    "print('Length =',Length)"
   ]
  },
  {
   "cell_type": "markdown",
   "metadata": {
    "colab_type": "text",
    "id": "YqHZkHPO7ZMG"
   },
   "source": [
    "## Acces to **uVar** objects value\n",
    "\n",
    "In general, you should not access to a class internal elements\n",
    "\n",
    "Currently, the **uVar** objects are designed to work properly with values defined with **integer** numbers, **float** numbers, **numpy** arrays and **mmVar** objects. In the case of **mmVar** objects, only overloaded operators and the **__str__** method are supported.\n",
    "\n",
    "If you want, for instance, to apply a the **sin** function defined inside the **mmVars** module to the value of a **uVar** object, you won't obtain it if you apply the **sin** function defined on the **units** module to an **uVar** object.\n",
    "\n",
    "In those cases, you need to get the **value** from the **uVar** object, operate on it, and set again the value.\n",
    "\n",
    "The **units** module offers five methods for that.\n",
    "\n",
    "<BR>\n",
    "\n",
    "Two methods **get** and **set** the value of a **uVar** object:\n",
    "\n",
    "<BR>\n",
    "    \n",
    "The **get_value** method gets the value of an **uVAr** object:\n",
    "\n",
    ">`object.get_value()`\n",
    "\n",
    "The **set_value** method sets the value of an **uVar** object:\n",
    "\n",
    ">`object.set_value(value)`\n",
    "\n",
    "<BR>\n",
    "    \n",
    "Three methods create new **uVar** objects:    \n",
    "    \n",
    "<BR>    \n",
    "    \n",
    "The **newValue** method copies the object and sets a new value on it:\n",
    "\n",
    ">`object.newValue(value)`\n",
    "\n",
    "The **operateValue** method copies the object and operates a function on its value:\n",
    "\n",
    ">`object.operateValue(func)`\n",
    "\n",
    "Observe that, if you use the above function, the result will have the same units as the input\n",
    "\n",
    "The **newUnit** method returns an object with the units on an object (with value equal to one):\n",
    "\n",
    ">`object.newUnit()`\n",
    "\n",
    "The above methods can also be used in cases where you want to keep the units associated with a **uVar** object but you don't want to use the units in all intermediate operations. This can come handy if you need do do a lot of calculations and the **uVar** class overhead slows down them.\n",
    "\n",
    "Some **examples** follow:"
   ]
  },
  {
   "cell_type": "code",
   "execution_count": null,
   "metadata": {
    "colab": {
     "autoexec": {
      "startup": false,
      "wait_interval": 0
     },
     "base_uri": "https://localhost:8080/",
     "height": 130
    },
    "colab_type": "code",
    "executionInfo": {
     "elapsed": 544,
     "status": "ok",
     "timestamp": 1523363636202,
     "user": {
      "displayName": "Vicente Jimenez",
      "photoUrl": "//lh4.googleusercontent.com/-l1GS4wWn-mI/AAAAAAAAAAI/AAAAAAAAAZE/i_NQ2m6L6rI/s50-c-k-no/photo.jpg",
      "userId": "104735520205871768811"
     },
     "user_tz": -120
    },
    "id": "NFlGzqAS-Gcq",
    "outputId": "e7811edb-48e8-449d-e72c-34619f6b593e"
   },
   "outputs": [],
   "source": [
    "from units import u_m\n",
    "L1 = 20 * u_m\n",
    "print('L1 =',L1)\n",
    "\n",
    "# Five ways to duplicate the value\n",
    "\n",
    "# The easiest one, just multiply by 2\n",
    "L2a = 2*L1\n",
    "print('L2a =',L2a)\n",
    "\n",
    "# Duplicate, then use get and set\n",
    "L2b = L1.copy()\n",
    "L2b.set_value(2*L2b.get_value())\n",
    "print('L2b =',L2b)\n",
    "\n",
    "# Use the newValue and get_value methods\n",
    "L2c = L1.newValue(2*L1.get_value())\n",
    "print('L2c =',L2c)\n",
    "\n",
    "# Use the operateValue method\n",
    "def func(x): return 2*x\n",
    "L2d = L1.operateValue(func)\n",
    "print('L2d =',L2d)\n",
    "\n",
    "# Use the operateValue method and a lambda\n",
    "L2e = L1.operateValue(lambda x:2*x)\n",
    "print('L2e =',L2e)"
   ]
  },
  {
   "cell_type": "markdown",
   "metadata": {
    "colab_type": "text",
    "id": "rI0WdG5ERZte"
   },
   "source": [
    "\n",
    "<BR><BR><BR>\n",
    "\n",
    "## Document information\n",
    "\n",
    "Copyright © Vicente Jiménez (2018-2019)\n",
    "\n",
    "This work is licensed under a [Creative Common Attribution-ShareAlike 4.0 International license](http://creativecommons.org/licenses/by-sa/4.0/). \n",
    "\n",
    "The **units.py** code is licensed under the [MIT License](https://opensource.org/licenses/MIT).\n",
    "\n",
    "You can find the module [here](https://github.com/R6500/Python-bits/tree/master/Modules)\n",
    "\n",
    "<img  src=\"images/cc_sa.png\" width=\"200\">"
   ]
  },
  {
   "cell_type": "code",
   "execution_count": null,
   "metadata": {},
   "outputs": [],
   "source": []
  }
 ],
 "metadata": {
  "colab": {
   "collapsed_sections": [],
   "default_view": {},
   "name": "Module units.ipynb",
   "provenance": [],
   "version": "0.3.2",
   "views": {}
  },
  "kernelspec": {
   "display_name": "Python 3",
   "language": "python",
   "name": "python3"
  },
  "language_info": {
   "codemirror_mode": {
    "name": "ipython",
    "version": 3
   },
   "file_extension": ".py",
   "mimetype": "text/x-python",
   "name": "python",
   "nbconvert_exporter": "python",
   "pygments_lexer": "ipython3",
   "version": "3.7.1"
  }
 },
 "nbformat": 4,
 "nbformat_minor": 1
}
