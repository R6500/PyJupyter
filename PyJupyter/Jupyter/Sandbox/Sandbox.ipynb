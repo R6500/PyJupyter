{
 "cells": [
  {
   "cell_type": "markdown",
   "metadata": {},
   "source": [
    "<img style=\"float: right;\"  src=\"images/jp.png\" width=\"200\">\n",
    "\n",
    "# Jupyter Python Sandbox\n",
    "\n",
    "Version 1.0 (13/4/2019)\n",
    "\n",
    "Use this **notebook** for any random experiment\n",
    "\n",
    "\n",
    "## Sandbox configuration\n",
    "\n",
    "First, you will need to import the needed python modules for your code.  \n",
    "Some are shown below, but you can add others if you need them.\n",
    "\n",
    "The **numpy** module is an standard **Python** module."
   ]
  },
  {
   "cell_type": "code",
   "execution_count": null,
   "metadata": {},
   "outputs": [],
   "source": [
    "# numpy module\n",
    "import numpy as np"
   ]
  },
  {
   "cell_type": "markdown",
   "metadata": {},
   "source": [
    "The modules:\n",
    "\n",
    "* calc\n",
    "* mmVars\n",
    "* units\n",
    "* linear\n",
    "* circuit\n",
    "\n",
    "Are non standard **Python** modules. You can find them in the [Code folder](http://localhost:8888/tree/Code)  \n",
    "The documentation for those modules can be found on the [Reference folder](http://localhost:8888/tree/Reference)"
   ]
  },
  {
   "cell_type": "code",
   "execution_count": null,
   "metadata": {},
   "outputs": [],
   "source": [
    "# calc module\n",
    "import calc"
   ]
  },
  {
   "cell_type": "code",
   "execution_count": null,
   "metadata": {},
   "outputs": [],
   "source": [
    "# mmVars module\n",
    "import mmVars as mm"
   ]
  },
  {
   "cell_type": "code",
   "execution_count": null,
   "metadata": {},
   "outputs": [],
   "source": [
    "# units module\n",
    "import units"
   ]
  },
  {
   "cell_type": "code",
   "execution_count": null,
   "metadata": {},
   "outputs": [],
   "source": [
    "# linear module\n",
    "import linear as lin"
   ]
  },
  {
   "cell_type": "code",
   "execution_count": null,
   "metadata": {},
   "outputs": [],
   "source": [
    "# circuit module\n",
    "import circuit"
   ]
  },
  {
   "cell_type": "markdown",
   "metadata": {},
   "source": [
    "## Sandbox Code\n",
    "\n",
    "After the configuration, you can edit the following cell to add your **Python** code.\n",
    "\n",
    "You can add as many cells as you want, although for serious projects, perhaps you'd better create specific **notebooks** for them."
   ]
  },
  {
   "cell_type": "code",
   "execution_count": null,
   "metadata": {},
   "outputs": [],
   "source": [
    "# Your code starts here\n"
   ]
  },
  {
   "cell_type": "code",
   "execution_count": null,
   "metadata": {},
   "outputs": [],
   "source": []
  }
 ],
 "metadata": {
  "kernelspec": {
   "display_name": "Python 3",
   "language": "python",
   "name": "python3"
  },
  "language_info": {
   "codemirror_mode": {
    "name": "ipython",
    "version": 3
   },
   "file_extension": ".py",
   "mimetype": "text/x-python",
   "name": "python",
   "nbconvert_exporter": "python",
   "pygments_lexer": "ipython3",
   "version": "3.7.1"
  }
 },
 "nbformat": 4,
 "nbformat_minor": 2
}
