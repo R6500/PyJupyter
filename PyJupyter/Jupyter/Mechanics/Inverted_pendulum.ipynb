{
 "cells": [
  {
   "cell_type": "markdown",
   "metadata": {
    "colab_type": "text",
    "id": "sis3Dnog4Qe0"
   },
   "source": [
    "# <img style=\"float: right;\"  src=\"images/jp.png\" width=\"200\">\n",
    "\n",
    "# Inverted Pendulum\n",
    "\n",
    "This document describes the control of an inverted pendulum\n",
    "\n",
    "![Inverted pendulum](images/InvertedPendulum.png)\n",
    "\n",
    "We have a pendulum that we want to keep vertical (at angle zero). The pendulum generates a load torque **TL** that can be calculated:\n",
    "\n",
    "$$T_{L}=m \\cdot g \\cdot l \\cdot sin(\\theta)$$\n",
    "\n",
    "We will use a motor to generate a torque **Tm**, that aims to keep the pendulum straight"
   ]
  },
  {
   "cell_type": "markdown",
   "metadata": {},
   "source": [
    "## Load Python modules\n",
    "\n",
    "We will start giving some values to the pendulum properties.\n",
    "\n",
    "The [calc module](http://localhost:8888/edit/Code/calc.py) is a non standard **Python** module that you can find in the [Code folder](http://localhost:8888/tree/Code)\n",
    "\n",
    "**Execute** the following code block to load the needed Python modules."
   ]
  },
  {
   "cell_type": "code",
   "execution_count": null,
   "metadata": {
    "colab": {
     "autoexec": {
      "startup": false,
      "wait_interval": 0
     },
     "base_uri": "https://localhost:8080/",
     "height": 36,
     "output_extras": [
      {
       "item_id": 1
      }
     ]
    },
    "colab_type": "code",
    "executionInfo": {
     "elapsed": 26,
     "status": "ok",
     "timestamp": 1521326560688,
     "user": {
      "displayName": "Vicente Jimenez",
      "photoUrl": "//lh4.googleusercontent.com/-l1GS4wWn-mI/AAAAAAAAAAI/AAAAAAAAAZE/i_NQ2m6L6rI/s50-c-k-no/photo.jpg",
      "userId": "104735520205871768811"
     },
     "user_tz": -60
    },
    "id": "kjKdNLC14rT8",
    "outputId": "35743283-b489-45bd-8da0-96fbe82b16c1"
   },
   "outputs": [],
   "source": [
    "# We import numpy and calc\n",
    "import numpy as np\n",
    "import calc\n",
    "\n",
    "# Check loaded module version\n",
    "try:\n",
    "    print('calc version: ',calc.version)\n",
    "except:\n",
    "    print('Error loading the calc module')"
   ]
  },
  {
   "cell_type": "markdown",
   "metadata": {
    "colab_type": "text",
    "id": "S_P-_Vk546Sf"
   },
   "source": [
    "## Pendulum parameters\n",
    "\n",
    "Now we can give the pendulum some parameters and calculate the torque **TL** as function of the angle.\n",
    "\n",
    "**Execute** the following code block."
   ]
  },
  {
   "cell_type": "code",
   "execution_count": null,
   "metadata": {
    "colab": {
     "autoexec": {
      "startup": false,
      "wait_interval": 0
     },
     "base_uri": "https://localhost:8080/",
     "height": 376,
     "output_extras": [
      {
       "item_id": 1
      }
     ]
    },
    "colab_type": "code",
    "executionInfo": {
     "elapsed": 858,
     "status": "ok",
     "timestamp": 1521326571060,
     "user": {
      "displayName": "Vicente Jimenez",
      "photoUrl": "//lh4.googleusercontent.com/-l1GS4wWn-mI/AAAAAAAAAAI/AAAAAAAAAZE/i_NQ2m6L6rI/s50-c-k-no/photo.jpg",
      "userId": "104735520205871768811"
     },
     "user_tz": -60
    },
    "id": "AikP5gWm4PfA",
    "outputId": "87d29d2d-a508-46ba-c09f-f4acd0bff233"
   },
   "outputs": [],
   "source": [
    "# Data for the pendulum\n",
    "\n",
    "m = 0.1   # [kg]   Mass\n",
    "l = 0.1   # [m]    Length\n",
    "g = 9.81  # [s^-2] Gravity acceleration\n",
    "\n",
    "# Torque vs angle graph\n",
    "\n",
    "vAngle = np.arange(-180.0,180.0,1.0)\n",
    "vTl    = m*g*l*np.sin(np.deg2rad(vAngle))\n",
    "\n",
    "# Torque graph\n",
    "calc.plot11(vAngle,vTl,\"Torque vs Angle\",\"Angle (deg)\",\"Torque (n*m)\")"
   ]
  },
  {
   "cell_type": "markdown",
   "metadata": {
    "colab_type": "text",
    "id": "2zx6RFZA5661"
   },
   "source": [
    "## Motor parameters\n",
    "\n",
    "Now we can define a motor to be used with the pendulum.\n",
    "\n",
    "For this document we will define a motor that has a maximum torque bigger than the maximum torque the pendulum can generate.\n",
    "\n",
    "We will also consider that the only inertial momentum of the motor is the one of the pendulum\n",
    "\n",
    "$$J=m \\cdot l^2$$\n",
    "\n",
    "**Execute** the following code block to generate the motor data."
   ]
  },
  {
   "cell_type": "code",
   "execution_count": null,
   "metadata": {
    "colab": {
     "autoexec": {
      "startup": false,
      "wait_interval": 0
     },
     "base_uri": "https://localhost:8080/",
     "height": 74,
     "output_extras": [
      {
       "item_id": 1
      }
     ]
    },
    "colab_type": "code",
    "executionInfo": {
     "elapsed": 644,
     "status": "ok",
     "timestamp": 1521326580386,
     "user": {
      "displayName": "Vicente Jimenez",
      "photoUrl": "//lh4.googleusercontent.com/-l1GS4wWn-mI/AAAAAAAAAAI/AAAAAAAAAZE/i_NQ2m6L6rI/s50-c-k-no/photo.jpg",
      "userId": "104735520205871768811"
     },
     "user_tz": -60
    },
    "id": "-obUrdCL43D0",
    "outputId": "879393ba-f855-4982-c11e-3ab7ed07bd35"
   },
   "outputs": [],
   "source": [
    "# Motor data\n",
    "\n",
    "# We will calculate the motor parameters from typical motor information\n",
    "# We will only consider the intertial momentum of the pendulum\n",
    "\n",
    "dcVoltage    = 12     # [V]\n",
    "stallCurrent = 85     # [A]\n",
    "stallTorque  = 0.5    # [N*m]\n",
    "unloadedRPM  = 19300  # [min^-1]\n",
    "\n",
    "# Calculations of constants of the motor\n",
    "\n",
    "# Convert unloaded speed from RPM to rad/s\n",
    "unloadedSpeed = 2.0*np.pi*unloadedRPM/60.0\n",
    "\n",
    "# Calculate the winding resistance from the stall current\n",
    "R = dcVoltage/stallCurrent\n",
    "\n",
    "# Calculate the motor constant\n",
    "k = stallTorque/stallCurrent\n",
    "\n",
    "# Inertial momentum\n",
    "J = m*l*l \n",
    "\n",
    "# Show the results\n",
    "calc.printVar(\"R\",R,\"Ohms\")\n",
    "calc.printVar(\"k\",k,\"N*m / A\")\n",
    "calc.printVar(\"J\",J,\"kg*m^2\",sci=False)"
   ]
  },
  {
   "cell_type": "markdown",
   "metadata": {
    "colab_type": "text",
    "id": "qXhbGKSl8_g9"
   },
   "source": [
    "## Open loop\n",
    "\n",
    "We can try to operate the pendulum in open loop\n",
    "\n",
    "The following figure shows the pendulum and stall motor torques for a giving motor voltage as function of the angle\n",
    "\n",
    "**Execute** the code block."
   ]
  },
  {
   "cell_type": "code",
   "execution_count": null,
   "metadata": {
    "colab": {
     "autoexec": {
      "startup": false,
      "wait_interval": 0
     },
     "base_uri": "https://localhost:8080/",
     "height": 376,
     "output_extras": [
      {
       "item_id": 1
      }
     ]
    },
    "colab_type": "code",
    "executionInfo": {
     "elapsed": 910,
     "status": "ok",
     "timestamp": 1521326588810,
     "user": {
      "displayName": "Vicente Jimenez",
      "photoUrl": "//lh4.googleusercontent.com/-l1GS4wWn-mI/AAAAAAAAAAI/AAAAAAAAAZE/i_NQ2m6L6rI/s50-c-k-no/photo.jpg",
      "userId": "104735520205871768811"
     },
     "user_tz": -60
    },
    "id": "2cWZcD1w9Xd1",
    "outputId": "119d41a5-540c-4b3b-de3c-4695353bd815"
   },
   "outputs": [],
   "source": [
    "# Define the motor voltage\n",
    "V = 1.0 #[V]\n",
    "\n",
    "# Stall motor torque\n",
    "Tm = V*k/R\n",
    "vTm=Tm*np.ones(len(vAngle))\n",
    "\n",
    "# Torque graph\n",
    "\n",
    "calc.plot1n(vAngle,[vTl,vTm],\"Torque vs Angle\",\"Angle (deg)\"\n",
    "             ,\"Torque (n*m)\",[\"Pendulum\",\"Motor\"])"
   ]
  },
  {
   "cell_type": "markdown",
   "metadata": {
    "colab_type": "text",
    "id": "HDjvfSieG3VQ"
   },
   "source": [
    "In the above figure positive pendulum torque, in blue, moves the pendulum to the right (towards more positive angles), whereas the motor torque, when it dominates, move the pendulum to the left (towards more negative angles).\n",
    "\n",
    "In the above figure you can see that there is only **one stable equilibrium point** at about 155 deg. If the angle increases, the motor will move to **decrease** the angle and, if the angle decreases, the **pendulum** will dominate and **increase** the angle. As the system tries to compensate **against** the angle change, we have **negative feedback**.\n",
    "\n",
    "Negative feedback gives **static stability**, but does not guarantee **dynamic stability**. \n",
    "\n",
    "Note that there is also one **inestable equilibrium point** at abot 25 deg. If the angle **increases**, the pendulum dominates and **increases** the angle enven more. If the angle **decreases**, the motor torque dominates and it **decreases** the angle even more. As the **system** **increases** any deviation from the **equilibrium** point, we have **positive** feedback that makes the **equilibrium** point inestable even from a static analysis point of view.\n",
    "\n",
    "We can solve the dynamics in open loop by calculating the torque on the pendulum at each time step\n",
    "\n",
    "$$T=m \\cdot g \\cdot l \\cdot sin(\\theta)+\\frac{k}{R}(-V-k\\cdot \\omega)-\\mu\\cdot\\omega$$\n",
    "\n",
    "We have added a friction term (the last one in the above expression) to be a little more realistic on a practical case. It also helps to damp a little the operation of the system.\n",
    "\n",
    "**Execute** the following code block to simulate the system in open loop."
   ]
  },
  {
   "cell_type": "code",
   "execution_count": null,
   "metadata": {
    "colab": {
     "autoexec": {
      "startup": false,
      "wait_interval": 0
     },
     "base_uri": "https://localhost:8080/",
     "height": 376,
     "output_extras": [
      {
       "item_id": 1
      }
     ]
    },
    "colab_type": "code",
    "executionInfo": {
     "elapsed": 782,
     "status": "ok",
     "timestamp": 1521326593838,
     "user": {
      "displayName": "Vicente Jimenez",
      "photoUrl": "//lh4.googleusercontent.com/-l1GS4wWn-mI/AAAAAAAAAAI/AAAAAAAAAZE/i_NQ2m6L6rI/s50-c-k-no/photo.jpg",
      "userId": "104735520205871768811"
     },
     "user_tz": -60
    },
    "id": "yKrhSKrG-xtm",
    "outputId": "1d3b633c-5117-49c6-b8e5-deb6f80f618f"
   },
   "outputs": [],
   "source": [
    "# System dynamics\n",
    "\n",
    "# We will consider a friction value to damp the system\n",
    "mu = 2e-3 # [N*m*s]\n",
    "\n",
    "# Time information\n",
    "tEnd  = 5.0 #[s]\n",
    "tStep = 0.001 #[s]\n",
    "vTime = np.arange(0.0,tEnd,tStep)\n",
    "\n",
    "# Start condition\n",
    "startAngle = 170\n",
    "\n",
    "# State variables\n",
    "angle = np.deg2rad(startAngle) #rad\n",
    "speed = 0 #rad/s\n",
    "\n",
    "# Output vectors\n",
    "vSpeed  = []\n",
    "vAngle  = []\n",
    "vTorque = []\n",
    "\n",
    "# Do the simulation\n",
    "# We solve using the Euler method because is easier to\n",
    "# understand and we only need qualitative results\n",
    "for time in vTime:\n",
    "    # Calculate torque\n",
    "    T = m*g*l*np.sin(angle)+(k/R)*(-V-k*speed)-mu*speed\n",
    "    # Calculate acceleration, speed and angle\n",
    "    alpha = T/J\n",
    "    speedNew = speed + alpha*tStep\n",
    "    angleNew = angle + speed*tStep\n",
    "    # Update output data\n",
    "    vTorque.append(T)\n",
    "    vSpeed.append(speed)\n",
    "    vAngle.append(angle)\n",
    "    # Udate state information\n",
    "    speed = speedNew\n",
    "    angle = angleNew\n",
    "    \n",
    "# Show angle graph\n",
    "calc.plot11(vTime,np.rad2deg(vAngle),\"Angle in open loop\"\n",
    "            ,\"Time (s)\",\"Angle (deg)\")\n"
   ]
  },
  {
   "cell_type": "markdown",
   "metadata": {
    "colab_type": "text",
    "id": "2gv2pAgGfOsq"
   },
   "source": [
    "## PID Closed loop operation\n",
    "\n",
    "Using open loop operation we cannot reach the upward position on the inverted pendulum. Moreover, we have little controlon the dynamics of the system.\n",
    "\n",
    "The best control of the pendulum requires using a controller that generates the motor drive voltage as function of the state of the system.\n",
    "\n",
    "There are several option for the control system. One of them is using a PID controller.\n",
    "\n",
    "![PID controller](images/PID_Motor.png)\n",
    "\n",
    "In a PID contoller we compare the system output with a goal $G$ value and calculate the error between the state and the goal. As, in our case we want to control the angle, the error will be:\n",
    "\n",
    "$$\\varepsilon=\\theta-\\theta_{G}$$\n",
    "\n",
    "Then we generate the input of the system by negative feedback using three elements:\n",
    "\n",
    "1) Value proportional to the error\n",
    "\n",
    "2) Value proportions to the time integral of the error\n",
    "\n",
    "3) Value proportional to the time derivative of the error\n",
    "\n",
    "So, in our case:\n",
    "\n",
    "$$V=-P \\cdot \\varepsilon -I \\cdot \\int \\varepsilon dt -D \\cdot \\frac{d\\varepsilon}{dt}$$\n",
    "\n",
    "The following code simulates the inverted pendulum and the motor dynamics under PID control.\n",
    "\n",
    "You can play changing the goal and the P, I and D values and **executing** the code.\n"
   ]
  },
  {
   "cell_type": "code",
   "execution_count": null,
   "metadata": {
    "colab": {
     "autoexec": {
      "startup": false,
      "wait_interval": 0
     },
     "base_uri": "https://localhost:8080/",
     "height": 376,
     "output_extras": [
      {
       "item_id": 1
      }
     ]
    },
    "colab_type": "code",
    "executionInfo": {
     "elapsed": 906,
     "status": "ok",
     "timestamp": 1521326605712,
     "user": {
      "displayName": "Vicente Jimenez",
      "photoUrl": "//lh4.googleusercontent.com/-l1GS4wWn-mI/AAAAAAAAAAI/AAAAAAAAAZE/i_NQ2m6L6rI/s50-c-k-no/photo.jpg",
      "userId": "104735520205871768811"
     },
     "user_tz": -60
    },
    "id": "X865b2IEH3g4",
    "outputId": "ae906c6c-c10c-4447-fdb1-2283f8e88608"
   },
   "outputs": [],
   "source": [
    "# Closed loop operation\n",
    "\n",
    "# This time we will solve the dynamics using Runge-Kutta\n",
    "# That gives a much more exact solution depending on the \n",
    "# P, I and D settings of the controller\n",
    "\n",
    "# Some interesting cases\n",
    "# P =  5, I =   0, D =  0 Proportional only (Error depends on goal angle)\n",
    "# P = 20, I =   0, D =  0 Less error but more oscillations\n",
    "# P =  5, I = 0.5, D =  0 Less error than P=5 only\n",
    "# P =  5, I = 0.5, D =  5 Reduced oscillations\n",
    "# P = 50, I =  10, D = 20 Fast and damped\n",
    "\n",
    "# Goal angle\n",
    "angleGoal = 20.0\n",
    "\n",
    "# Proportional constant\n",
    "P = 50.0\n",
    "\n",
    "# Integral constant\n",
    "I = 0.0\n",
    "\n",
    "# Derivative constant\n",
    "D = 0.0\n",
    "\n",
    "# We will consider a friction value to damp the system\n",
    "mu = 2e-3 # [N*m*s]\n",
    "\n",
    "# Time information\n",
    "tEnd  = 5.0 #[s]\n",
    "tStep = 0.001 #[s]\n",
    "vTime = np.arange(0.0,tEnd,tStep)\n",
    "\n",
    "# Start condition\n",
    "startAngle = -70\n",
    "\n",
    "# State variables [speed,angle]\n",
    "x = [0.0,np.deg2rad(startAngle)]\n",
    "\n",
    "# Output vector\n",
    "vAngle  = []\n",
    "\n",
    "# Angle goal in rad\n",
    "goal = np.deg2rad(angleGoal)\n",
    "\n",
    "# Initialize integral\n",
    "integ = 0.0\n",
    "\n",
    "# Initialize derivative\n",
    "prevError = 0\n",
    "\n",
    "# Derivative of the state variables (for Runge-Kutta)\n",
    "def fderClose(x,t):\n",
    "    global integ,prevError\n",
    "    error = x[1]-goal\n",
    "    \n",
    "    # Calculate integral term\n",
    "    integ = integ + error*tStep\n",
    "  \n",
    "    # Calculate voltage \n",
    "    V = -(P*error+I*integ+D*(error-prevError)/tStep)\n",
    "    if V > dcVoltage:\n",
    "       V = dcVoltage\n",
    "    if V < -dcVoltage:\n",
    "       V = -dcVoltage\n",
    "        \n",
    "    prevError = error\n",
    "    \n",
    "    # Calculate torque\n",
    "    T = m*g*l*np.sin(x[1])+(k/R)*(V-k*x[0])-mu*x[0]\n",
    "    # Calculate acceleration\n",
    "    alpha = T/J\n",
    "    # Return state derivatives\n",
    "    # [0] d speed / dt = alpha\n",
    "    # [1] d angle / dt = speed\n",
    "    return np.array([alpha,x[0]])\n",
    "\n",
    "# Do the simulation using Runge-Kutta (4th order)\n",
    "for time in vTime:\n",
    "    # Store data\n",
    "    vAngle.append(x[1])\n",
    "    \n",
    "    # Update state using Runge-Kutta\n",
    "    x = calc.rk4(x,time,fderClose,tStep)\n",
    "    \n",
    "# Goal value  \n",
    "vGoal = angleGoal*np.ones(len(vTime))\n",
    "    \n",
    "# Show graphs\n",
    "calc.plot1n(vTime,[np.rad2deg(vAngle),vGoal]\n",
    "             ,\"PID operation\"\n",
    "             ,\"Time (s)\",\"Angle (deg)\")\n",
    "\n",
    "\n"
   ]
  },
  {
   "cell_type": "markdown",
   "metadata": {
    "colab_type": "text",
    "id": "InFwsrX2RZlJ"
   },
   "source": [
    "<BR><BR>\n",
    "\n",
    "## Document information\n",
    "\n",
    "Copyright © Vicente Jiménez (2018-2019)\n",
    "\n",
    "Updated on 14/4/2019\n",
    "\n",
    "This work is licensed under a [Creative Common Attribution-ShareAlike 4.0 International license](http://creativecommons.org/licenses/by-sa/4.0/). \n",
    "\n",
    "<img  src=\"images/cc_sa.png\" width=\"200\">"
   ]
  },
  {
   "cell_type": "code",
   "execution_count": null,
   "metadata": {},
   "outputs": [],
   "source": []
  }
 ],
 "metadata": {
  "colab": {
   "collapsed_sections": [],
   "default_view": {},
   "name": "Inverted pendulum.ipynb",
   "provenance": [],
   "version": "0.3.2",
   "views": {}
  },
  "kernelspec": {
   "display_name": "Python 3",
   "language": "python",
   "name": "python3"
  },
  "language_info": {
   "codemirror_mode": {
    "name": "ipython",
    "version": 3
   },
   "file_extension": ".py",
   "mimetype": "text/x-python",
   "name": "python",
   "nbconvert_exporter": "python",
   "pygments_lexer": "ipython3",
   "version": "3.7.1"
  }
 },
 "nbformat": 4,
 "nbformat_minor": 1
}
