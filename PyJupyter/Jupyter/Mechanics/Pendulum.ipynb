{
 "cells": [
  {
   "cell_type": "markdown",
   "metadata": {
    "colab_type": "text",
    "id": "haQCFeQUKWmA"
   },
   "source": [
    "# <img style=\"float: right;\"  src=\"images/jp.png\" width=\"200\">\n",
    "\n",
    "## Pendulum\n",
    "\n",
    "Calculations related to a pendulum\n",
    "\n",
    "![Pendulum forces](images/Pendulum.png)\n",
    "\n",
    "The operation of the pendulum can be described with a block diagram\n",
    "\n",
    "![Pendulum block diagram](images/PendulumBlocks.png)\n",
    "\n",
    "Equations for the pendulum are:\n",
    "\n",
    "$$J=m\\cdot l^2$$\n",
    "\n",
    "$$T=-m\\cdot g\\cdot l\\cdot sen(\\theta)$$\n",
    "\n",
    "$$\\frac{d^2\\theta}{dt^2} = \\frac{T}{J}$$\n",
    "\n",
    "Where $J$ is the inertial momentum, $g$ is the gravity acceleration and $l$ is the pendulum lenght\n",
    "\n",
    "We will start doing some calculations. In order to do that, we will first load **calc Python** module that will ease the drawing of plots and showing information. Also we will load the **numpy** package.\n",
    "\n",
    "The [calc module](http://localhost:8888/edit/Code/calc.py) is a non standard **Python** module that you can find in the [Code folder](http://localhost:8888/tree/Code)\n",
    "\n",
    "**Execute** the following code region to do that."
   ]
  },
  {
   "cell_type": "code",
   "execution_count": null,
   "metadata": {
    "colab": {
     "autoexec": {
      "startup": false,
      "wait_interval": 0
     },
     "base_uri": "https://localhost:8080/",
     "height": 36,
     "output_extras": [
      {
       "item_id": 1
      }
     ]
    },
    "colab_type": "code",
    "executionInfo": {
     "elapsed": 34,
     "status": "ok",
     "timestamp": 1521309287908,
     "user": {
      "displayName": "Vicente Jimenez",
      "photoUrl": "//lh4.googleusercontent.com/-l1GS4wWn-mI/AAAAAAAAAAI/AAAAAAAAAZE/i_NQ2m6L6rI/s50-c-k-no/photo.jpg",
      "userId": "104735520205871768811"
     },
     "user_tz": -60
    },
    "id": "IbCSAcfJKVqR",
    "outputId": "e51cb356-4a67-4447-d9ac-8e63dec981ba"
   },
   "outputs": [],
   "source": [
    "# We load numpy and calc\n",
    "import numpy as np\n",
    "import calc\n",
    "\n",
    "# Check loaded modules\n",
    "try:\n",
    "    print('calc version: ',calc.version)\n",
    "except:\n",
    "    print('Error loading the calc module')"
   ]
  },
  {
   "cell_type": "markdown",
   "metadata": {
    "colab_type": "text",
    "id": "mx6yjSBGAm6x"
   },
   "source": [
    "Basic pendulum calculations give the angular speed (and frequency)\n",
    "\n",
    "$$\\omega=2\\pi\\cdot f=d\\theta/dt=\\sqrt{g/l}$$\n",
    "\n",
    "The analytical solution of the pendulum is:\n",
    "\n",
    "$$\\theta=\\theta_{0}\\cdot cos(\\omega t)$$\n",
    "\n",
    "The **execution** of the following code calculates the angular speed using the above formula."
   ]
  },
  {
   "cell_type": "code",
   "execution_count": null,
   "metadata": {
    "colab": {
     "autoexec": {
      "startup": false,
      "wait_interval": 0
     },
     "base_uri": "https://localhost:8080/",
     "height": 74,
     "output_extras": [
      {
       "item_id": 1
      }
     ]
    },
    "colab_type": "code",
    "executionInfo": {
     "elapsed": 502,
     "status": "ok",
     "timestamp": 1521309389554,
     "user": {
      "displayName": "Vicente Jimenez",
      "photoUrl": "//lh4.googleusercontent.com/-l1GS4wWn-mI/AAAAAAAAAAI/AAAAAAAAAZE/i_NQ2m6L6rI/s50-c-k-no/photo.jpg",
      "userId": "104735520205871768811"
     },
     "user_tz": -60
    },
    "id": "N-E1uh2NKWTE",
    "outputId": "8563c7e3-540a-4fef-82dd-b9ccbbdd75ea"
   },
   "outputs": [],
   "source": [
    "# Parameters of the pendulum\n",
    "\n",
    "m=0.1    # Kg\n",
    "g=9.81   # m/s^2\n",
    "l=1.0    # m\n",
    "\n",
    "# Friction for the case with friction\n",
    "fric = 0.05 # N/m / s^-1\n",
    "\n",
    "# Movement calculations\n",
    "\n",
    "w = np.sqrt(g/l)\n",
    "f = w/(2.0*np.pi)\n",
    "T=1/f\n",
    "print(\"Calculations:\")\n",
    "calc.printVar(\"f\",f,\"Hz\")\n",
    "calc.printVar(\"T\",T,\"s\")"
   ]
  },
  {
   "cell_type": "markdown",
   "metadata": {
    "colab_type": "text",
    "id": "573-sSvJC0Xd"
   },
   "source": [
    "We can check the analytical solution of the pendulum against one obtained using numerical simulation\n",
    "\n",
    "On the numerical solution we define a timestep **$\\Delta t$** for the simulation and calculate at each time step **i** using the [Euler](https://en.wikipedia.org/wiki/Euler_method) method\n",
    "\n",
    "$$T=-m\\cdot g\\cdot l\\cdot sen(\\theta)$$\n",
    "\n",
    "$$\\alpha_{i-1}=-T/J$$\n",
    "\n",
    "$$\\omega_{i}=\\omega_{i-1}+\\int_t^{t+\\Delta t} \\alpha{} \\cdot d\\xi \\approx \\omega_{i-1} + \\alpha_{i-1} \\cdot \\Delta t$$\n",
    "\n",
    "$$\\theta_{i}=\\theta_{i-1} +\\int_t^{t+\\Delta t} \\omega \\cdot d\\xi \\approx \\theta_{i-1} + \\omega_{i-1} \\cdot \\Delta t$$\n",
    "\n",
    "The **execution** of the following code box compares the **analytical** solution to the **numerical** one.\n"
   ]
  },
  {
   "cell_type": "code",
   "execution_count": null,
   "metadata": {
    "colab": {
     "autoexec": {
      "startup": false,
      "wait_interval": 0
     },
     "base_uri": "https://localhost:8080/",
     "height": 376,
     "output_extras": [
      {
       "item_id": 1
      }
     ]
    },
    "colab_type": "code",
    "executionInfo": {
     "elapsed": 640,
     "status": "ok",
     "timestamp": 1521309500276,
     "user": {
      "displayName": "Vicente Jimenez",
      "photoUrl": "//lh4.googleusercontent.com/-l1GS4wWn-mI/AAAAAAAAAAI/AAAAAAAAAZE/i_NQ2m6L6rI/s50-c-k-no/photo.jpg",
      "userId": "104735520205871768811"
     },
     "user_tz": -60
    },
    "id": "I9pzquYqL5tG",
    "outputId": "6a8ab468-cdd0-401f-c37d-cf14ed828fdc"
   },
   "outputs": [],
   "source": [
    "# Numerical solution of the pendulum\n",
    "\n",
    "# Start angle in degrees\n",
    "# Change to a bigger value to see the error on the analytical soluction\n",
    "# that assumes sin(angle)=angle\n",
    "startAngle = 10.0\n",
    "\n",
    "# Simulation timestep and total time\n",
    "tStep = T/1000.0 # Step\n",
    "tEnd  = 5.0*T    # Total time\n",
    "\n",
    "# Start conditions without friction\n",
    "angle = np.deg2rad(startAngle)\n",
    "speed = 0.0  \n",
    "\n",
    "# Output data vectors\n",
    "tList = np.arange(0.0,tEnd,tStep)  # Time\n",
    "aList = []                         # No friction\n",
    "\n",
    "# Simulate the system\n",
    "# We use the Euler method that is good enough in this case\n",
    "# We only need qualitative results anyway\n",
    "for time in tList:\n",
    "    # Calculate angular acceleration\n",
    "    accel  = - g*np.sin(angle)/l                        # Without friction\n",
    "    # Calculate speed\n",
    "    speed  =  speed +  accel*tStep\n",
    "    # Calculate angle\n",
    "    angleNew  =  angle +  speed*tStep\n",
    "    # Store data\n",
    "    aList.append(np.rad2deg(angle))\n",
    "    # Update angle\n",
    "    angle  =  angleNew \n",
    "    \n",
    "# Analytical solution without friction\n",
    "cList = startAngle*np.cos(w*tList)\n",
    "\n",
    "# Show results without friction\n",
    "calc.plot1n(tList,[aList,cList],\"Analytical vs Numerical solution\"\n",
    "           ,\"Time (s)\",\"Angle (deg)\",[\"Analytical\",\"Numerical\"])"
   ]
  },
  {
   "cell_type": "markdown",
   "metadata": {
    "colab_type": "text",
    "id": "gLaP7M5AEedW"
   },
   "source": [
    "We can also add friction to the nummerical simulation\n",
    "\n",
    "The torque $T$ equation is, in this case:\n",
    "\n",
    "$$T=-m\\cdot g\\cdot l\\cdot sen(\\theta)-\\mu \\cdot \\omega$$\n",
    "\n",
    "The **execution** of the following code box compares the numerical solution of the pendulum **with friction** against the previous solution **without friction**.\n"
   ]
  },
  {
   "cell_type": "code",
   "execution_count": null,
   "metadata": {
    "colab": {
     "autoexec": {
      "startup": false,
      "wait_interval": 0
     },
     "base_uri": "https://localhost:8080/",
     "height": 376,
     "output_extras": [
      {
       "item_id": 1
      }
     ]
    },
    "colab_type": "code",
    "executionInfo": {
     "elapsed": 882,
     "status": "ok",
     "timestamp": 1521309519340,
     "user": {
      "displayName": "Vicente Jimenez",
      "photoUrl": "//lh4.googleusercontent.com/-l1GS4wWn-mI/AAAAAAAAAAI/AAAAAAAAAZE/i_NQ2m6L6rI/s50-c-k-no/photo.jpg",
      "userId": "104735520205871768811"
     },
     "user_tz": -60
    },
    "id": "hU9JW6n9EjNB",
    "outputId": "52103226-7d3f-4075-d59d-3640369d0dc3"
   },
   "outputs": [],
   "source": [
    "# Numerical solution of the pendulum including friction\n",
    "# The solution is compared with the one without friction\n",
    "\n",
    "# Start angle in degrees is the same of the previous simulation\n",
    "\n",
    "# Simulation timestep and total time\n",
    "tStep = T/1000.0 # Step\n",
    "tEnd  = 5.0*T    # Total time\n",
    "\n",
    "# Start conditions with friction\n",
    "anglef = np.deg2rad(startAngle) \n",
    "speedf = 0.0\n",
    "\n",
    "# Output data vector\n",
    "fList = []          \n",
    "\n",
    "\n",
    "# Simulate the system\n",
    "# We use the Euler method as we only need qualitative results\n",
    "for time in tList:\n",
    "    # Calculate angular acceleration\n",
    "    accelf = - g*np.sin(anglef)/l - fric*speedf/(m*l*l) \n",
    "    # Calculate speed\n",
    "    speedf = speedf + accelf*tStep\n",
    "    # Calculate angle\n",
    "    angleNewf = anglef + speedf*tStep\n",
    "    # Store data\n",
    "    fList.append(np.rad2deg(anglef))\n",
    "    # Update angle\n",
    "    anglef = angleNewf \n",
    "    \n",
    "# Show results with friction\n",
    "calc.plot1n(tList,[aList,fList],\"Numerical solutions with and without friction\"\n",
    "           ,\"Time (s)\",\"Angle (deg)\",[\"No friction\",\"Friction\"])"
   ]
  },
  {
   "cell_type": "markdown",
   "metadata": {
    "colab_type": "text",
    "id": "4a7kjbf1QTGo"
   },
   "source": [
    "\n",
    "<BR><BR>\n",
    "\n",
    "## Document information\n",
    "\n",
    "Copyright © Vicente Jiménez (2018-2019)\n",
    "\n",
    "Last update: 14/4/2019\n",
    "\n",
    "This work is licensed under a [Creative Common Attribution-ShareAlike 4.0 International license](http://creativecommons.org/licenses/by-sa/4.0/). \n",
    "\n",
    "<img  src=\"images/cc_sa.png\" width=\"200\">"
   ]
  },
  {
   "cell_type": "code",
   "execution_count": null,
   "metadata": {},
   "outputs": [],
   "source": []
  }
 ],
 "metadata": {
  "colab": {
   "collapsed_sections": [],
   "default_view": {},
   "name": "Pendulum.ipynb",
   "provenance": [],
   "version": "0.3.2",
   "views": {}
  },
  "kernelspec": {
   "display_name": "Python 3",
   "language": "python",
   "name": "python3"
  },
  "language_info": {
   "codemirror_mode": {
    "name": "ipython",
    "version": 3
   },
   "file_extension": ".py",
   "mimetype": "text/x-python",
   "name": "python",
   "nbconvert_exporter": "python",
   "pygments_lexer": "ipython3",
   "version": "3.7.1"
  }
 },
 "nbformat": 4,
 "nbformat_minor": 1
}
