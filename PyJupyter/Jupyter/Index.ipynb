{
 "cells": [
  {
   "cell_type": "markdown",
   "metadata": {},
   "source": [
    "<img style=\"float: right;\"  src=\"Basics/images/jp.png\" width=\"200\">\n",
    "\n",
    "# PyJupyter Main Index\n",
    "\n",
    "This is the **main index** of the PyJupyter notebook distribution\n",
    "\n",
    "**PyJupyter Release version 1.0 (23/5/2019)**\n",
    "\n",
    "Version 1.0 (23/5/2019)  \n",
    "License information is at the end of the document\n",
    "\n",
    "---"
   ]
  },
  {
   "cell_type": "markdown",
   "metadata": {},
   "source": [
    "The **PyJupyter** distribution uses **Jupyter notebooks** to demonstrate the use of **Python** code and **Jupyter** notebooks to perform engineering and scientific calculations. \n",
    "\n",
    "Most notebooks are interactive and combine **Markdown** text with **Python** code.\n",
    "\n",
    "This document is the root of all **PyJupyter** documents.\n",
    "\n",
    "The **PyJupyter** distribution contains several folders that we will describe in this document. Each folder will have a link so that you can open it from this document.\n",
    "\n",
    "---\n",
    "\n",
    "---"
   ]
  },
  {
   "cell_type": "markdown",
   "metadata": {},
   "source": [
    "# Example/Reference Folders\n",
    "\n",
    "The most interesting folders are the **Example folders** they contain several notebook **Examples** about different engineering and scientific subjects."
   ]
  },
  {
   "cell_type": "markdown",
   "metadata": {},
   "source": [
    "---\n",
    "\n",
    "## Basics\n",
    "\n",
    "The [Basics folder](/tree/Basics) contains basic examples about using **Jupyter Notebooks** and **Python** coding."
   ]
  },
  {
   "cell_type": "markdown",
   "metadata": {},
   "source": [
    "---\n",
    "\n",
    "## Audio\n",
    "\n",
    "The [Audio folder](/tree/Audio) contains an example of the use of **numpy** to process audio data and the use of the **Jupyter** functions to play it on the browser."
   ]
  },
  {
   "cell_type": "markdown",
   "metadata": {},
   "source": [
    "---\n",
    "\n",
    "## Circuits\n",
    "\n",
    "The [Circuits folder](/tree/Circuits) contains several examples of the use of **Jupyter** notebooks to solve electrical circuits."
   ]
  },
  {
   "cell_type": "markdown",
   "metadata": {},
   "source": [
    "---\n",
    "\n",
    "## Mechanics\n",
    "\n",
    "The [Mechanics folder](/tree/Mechanics) contains several examples of the use of **Jupyter** notebooks to solve mechanical problems."
   ]
  },
  {
   "cell_type": "markdown",
   "metadata": {},
   "source": [
    "---\n",
    "\n",
    "## Reference\n",
    "\n",
    "The [Reference folder](/tree/Reference) contains several documentation **reference notebooks**. They deal with the **markdown** language used for text cells and the provided non standard **Python modules**."
   ]
  },
  {
   "cell_type": "markdown",
   "metadata": {},
   "source": [
    "---\n",
    "\n",
    "---\n",
    "\n",
    "\n",
    "# Work Folders\n",
    "\n",
    "The work folders are designed to perform personal work using **Python** code."
   ]
  },
  {
   "cell_type": "markdown",
   "metadata": {},
   "source": [
    "---\n",
    "\n",
    "## Sandbox\n",
    "\n",
    "The [Sandbox Notebook](Sandbox/Sandbox.ipynb) included in the [Sandbox Folder](/tree/Sandbox) is a notebook designed for fast tests in a **Jupyter Notebook**.  \n",
    "It contains the code cells needed to import the provided non standard modules and a cell to add your own code.\n",
    "\n",
    "You can add code cells in this notebook to execute **Pyhon** code.  \n",
    "The notebook is intended to play with the **Python code** when what you are doing doesn't require to create an especific notebook."
   ]
  },
  {
   "cell_type": "markdown",
   "metadata": {},
   "source": [
    "---\n",
    "\n",
    "## User\n",
    "\n",
    "The **User** folder is provided empty \n",
    "\n",
    "You can add all your personal **private** notebooks inside [this folder](User)\n",
    "\n",
    "They can be generated from an empty notebook or they can be obtained by copying the provided notebooks. Also you can cut and paste contents from other notebooks."
   ]
  },
  {
   "cell_type": "markdown",
   "metadata": {},
   "source": [
    "---\n",
    "\n",
    "## Extra\n",
    "\n",
    "The **Extra** folder is, like the **User** folder, provided almost empty \n",
    "\n",
    "In [this folder](Extra) you can add donwloadable notebooks provided as **zip** files. Those files should contain a folder with both a notebook document and any required additional files. Using this standarized format it is easy to share notebooks with other SLab users.\n",
    "\n",
    "If you plan to develop a notebook that will be shared later, it is better to develop it inside a specific folder inside the **Extra** folder than developing it inside the **User** folder. That way, sharing will be eased.\n",
    "\n",
    "Inside [this folder](Extra) you can find a **Extra Example.zip** file to give an example of this kind of notebooks. To test it, just uncompress it inside the **Extra** folder. Note that all referenced images or files are inside the notebook folder."
   ]
  },
  {
   "cell_type": "markdown",
   "metadata": {},
   "source": [
    "---\n",
    "\n",
    "---\n",
    "\n",
    "\n",
    "# Support Folders\n",
    "\n",
    "The support folders are needed for the operation of the System but you should not need to directly access them."
   ]
  },
  {
   "cell_type": "markdown",
   "metadata": {},
   "source": [
    "---\n",
    "\n",
    "## Code\n",
    "\n",
    "The [Code folder](/tree/Code) contains some non standard **Python** libraries. You are not supposed to directly access the contents of this folder, but you can navigate its contents if you whant to see the code for those modules."
   ]
  },
  {
   "cell_type": "markdown",
   "metadata": {},
   "source": [
    "## Document license\n",
    "\n",
    "Copyright  ©  Vicente Jiménez (2019)  \n",
    "This work is licensed under a Creative Common Attribution-ShareAlike 4.0 International license.  \n",
    "This license is available at http://creativecommons.org/licenses/by-sa/4.0/\n",
    "\n",
    "<img  src=\"Basics/images/cc_sa.png\" width=\"200\">"
   ]
  },
  {
   "cell_type": "code",
   "execution_count": null,
   "metadata": {},
   "outputs": [],
   "source": []
  }
 ],
 "metadata": {
  "kernelspec": {
   "display_name": "Python 3",
   "language": "python",
   "name": "python3"
  },
  "language_info": {
   "codemirror_mode": {
    "name": "ipython",
    "version": 3
   },
   "file_extension": ".py",
   "mimetype": "text/x-python",
   "name": "python",
   "nbconvert_exporter": "python",
   "pygments_lexer": "ipython3",
   "version": "3.7.1"
  }
 },
 "nbformat": 4,
 "nbformat_minor": 2
}
